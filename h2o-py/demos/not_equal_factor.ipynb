{
 "worksheets": [
  {
   "cells": [
    {
     "cell_type": "code",
     "execution_count": null,
     "metadata": {},
     "outputs": [],
     "input": [
      "#----------------------------------------------------------------------\n",
      "# Try to slice by using != factor_level\n",
      "#----------------------------------------------------------------------"
     ],
     "language": "python",
     "prompt_number": 1
    },
    {
     "cell_type": "code",
     "execution_count": null,
     "metadata": {},
     "outputs": [],
     "input": [
      "import h2o"
     ],
     "language": "python",
     "prompt_number": 2
    },
    {
     "cell_type": "code",
     "execution_count": null,
     "metadata": {},
     "outputs": [
      {
       "output_type": "pyout",
       "html": [
        "<div style=\"overflow:auto\"><table style=\"width:50%\"><tr><td>H2O cluster uptime: </td>\n",
        "<td>4 minutes 78 milliseconds </td></tr>\n",
        "<tr><td>H2O cluster version: </td>\n",
        "<td>3.1.0.99999</td></tr>\n",
        "<tr><td>H2O cluster name: </td>\n",
        "<td>ece</td></tr>\n",
        "<tr><td>H2O cluster total nodes: </td>\n",
        "<td>1</td></tr>\n",
        "<tr><td>H2O cluster total memory: </td>\n",
        "<td>4.44 GB</td></tr>\n",
        "<tr><td>H2O cluster total cores: </td>\n",
        "<td>8</td></tr>\n",
        "<tr><td>H2O cluster allowed cores: </td>\n",
        "<td>8</td></tr>\n",
        "<tr><td>H2O cluster healthy: </td>\n",
        "<td>True</td></tr>\n",
        "<tr><td>H2O Connection ip: </td>\n",
        "<td>127.0.0.1</td></tr>\n",
        "<tr><td>H2O Connection port: </td>\n",
        "<td>54321</td></tr></table></div>"
       ],
       "metadata": {}
      }
     ],
     "input": [
      "h2o.init()"
     ],
     "language": "python",
     "prompt_number": 3
    },
    {
     "cell_type": "code",
     "execution_count": null,
     "metadata": {},
     "outputs": [
      {
       "output_type": "stream",
       "stream": "stdout",
       "text": [
        "\n",
        "\r",
        "Parse Progress: [                                                  ] 00%"
       ]
      },
      {
       "output_type": "stream",
       "stream": "stdout",
       "text": [
        "\r",
        "Parse Progress: [##################################################] 100%"
       ]
      },
      {
       "output_type": "stream",
       "stream": "stdout",
       "text": [
        "\n",
        "Imported  /Users/ece/0xdata/h2o-dev/smalldata/airlines/allyears2k_headers.zip . Parsed 43,978 rows and 31 cols\n"
       ]
      }
     ],
     "input": [
      "air = h2o.import_frame(path=h2o.locate(\"smalldata/airlines/allyears2k_headers.zip\"))"
     ],
     "language": "python",
     "prompt_number": 4
    },
    {
     "cell_type": "code",
     "execution_count": null,
     "metadata": {},
     "outputs": [
      {
       "output_type": "stream",
       "stream": "stdout",
       "text": [
        "[43978, 31]\n"
       ]
      }
     ],
     "input": [
      "rows, cols = air.dim\n",
      "print [rows, cols]"
     ],
     "language": "python",
     "prompt_number": 5
    },
    {
     "cell_type": "code",
     "execution_count": null,
     "metadata": {},
     "outputs": [
      {
       "output_type": "stream",
       "stream": "stdout",
       "text": [
        "no_rows: 42434\n",
        "yes_rows: 1544\n",
        "no_cols: 31\n",
        "yes_cols: 31\n"
       ]
      }
     ],
     "input": [
      "#\n",
      "# Select all flights not departing from SFO\n",
      "#\n",
      "not_sfo = air[air[\"Origin\"] != \"SFO\"]\n",
      "sfo = air[air[\"Origin\"] == \"SFO\"]\n",
      "no_rows, no_cols = not_sfo.dim\n",
      "yes_rows, yes_cols = sfo.dim\n",
      "print \"no_rows: {0}\".format(no_rows)\n",
      "print \"yes_rows: {0}\".format(yes_rows)\n",
      "print \"no_cols: {0}\".format(no_cols)\n",
      "print \"yes_cols: {0}\".format(yes_cols)"
     ],
     "language": "python",
     "prompt_number": 6
    }
   ]
  }
 ],
 "cells": [],
 "metadata": {
  "name": "",
  "signature": "sha256:109d88598aa5e36532209318c51c32c478ef8f1a5437f30df0689546bd206868"
 },
 "nbformat": 3,
 "nbformat_minor": 0
}