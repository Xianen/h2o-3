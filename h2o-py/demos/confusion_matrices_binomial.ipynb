{
 "cells": [
  {
   "cell_type": "code",
   "execution_count": 1,
   "metadata": {
    "collapsed": true
   },
   "outputs": [],
   "source": [
    "import h2o"
   ]
  },
  {
   "cell_type": "code",
   "execution_count": 2,
   "metadata": {
    "collapsed": false
   },
   "outputs": [
    {
     "name": "stdout",
     "output_type": "stream",
     "text": [
      "Warning: Version mismatch. H2O is version 3.7.0.99999, but the python package is version 3.0.0.99999.\n"
     ]
    },
    {
     "data": {
      "text/html": [
       "<div style=\"overflow:auto\"><table style=\"width:50%\"><tr><td>H2O cluster uptime: </td>\n",
       "<td>44 minutes 49 seconds 149 milliseconds </td></tr>\n",
       "<tr><td>H2O cluster version: </td>\n",
       "<td>3.7.0.99999</td></tr>\n",
       "<tr><td>H2O cluster name: </td>\n",
       "<td>wendycwong</td></tr>\n",
       "<tr><td>H2O cluster total nodes: </td>\n",
       "<td>1</td></tr>\n",
       "<tr><td>H2O cluster total memory: </td>\n",
       "<td>3.56 GB</td></tr>\n",
       "<tr><td>H2O cluster total cores: </td>\n",
       "<td>4</td></tr>\n",
       "<tr><td>H2O cluster allowed cores: </td>\n",
       "<td>4</td></tr>\n",
       "<tr><td>H2O cluster healthy: </td>\n",
       "<td>True</td></tr>\n",
       "<tr><td>H2O Connection ip: </td>\n",
       "<td>127.0.0.1</td></tr>\n",
       "<tr><td>H2O Connection port: </td>\n",
       "<td>54321</td></tr></table></div>"
      ],
      "text/plain": [
       "--------------------------  --------------------------------------\n",
       "H2O cluster uptime:         44 minutes 49 seconds 149 milliseconds\n",
       "H2O cluster version:        3.7.0.99999\n",
       "H2O cluster name:           wendycwong\n",
       "H2O cluster total nodes:    1\n",
       "H2O cluster total memory:   3.56 GB\n",
       "H2O cluster total cores:    4\n",
       "H2O cluster allowed cores:  4\n",
       "H2O cluster healthy:        True\n",
       "H2O Connection ip:          127.0.0.1\n",
       "H2O Connection port:        54321\n",
       "--------------------------  --------------------------------------"
      ]
     },
     "metadata": {},
     "output_type": "display_data"
    }
   ],
   "source": [
    "h2o.init()"
   ]
  },
  {
   "cell_type": "code",
   "execution_count": 3,
   "metadata": {
    "collapsed": false
   },
   "outputs": [
    {
     "name": "stdout",
     "output_type": "stream",
     "text": [
      "\n",
      "Parse Progress: [##################################################] 100%\n"
     ]
    }
   ],
   "source": [
    "# Airlines dataset\n",
    "air = h2o.import_frame(path=h2o.locate(\"smalldata/airlines/AirlinesTrain.csv.zip\"))"
   ]
  },
  {
   "cell_type": "code",
   "execution_count": 4,
   "metadata": {
    "collapsed": true
   },
   "outputs": [],
   "source": [
    "# Construct validation and training datasets by sampling (20/80)\n",
    "r = air[0].runif()\n",
    "air_train = air[r < 0.8]\n",
    "air_valid = air[r >= 0.8]\n",
    "\n",
    "myX = [\"Origin\", \"Dest\", \"Distance\", \"UniqueCarrier\", \"fMonth\", \"fDayofMonth\", \"fDayOfWeek\"]\n",
    "myY = \"IsDepDelayed\""
   ]
  },
  {
   "cell_type": "code",
   "execution_count": 5,
   "metadata": {
    "collapsed": false
   },
   "outputs": [
    {
     "name": "stdout",
     "output_type": "stream",
     "text": [
      "\n",
      "gbm Model Build Progress: [##################################################] 100%\n"
     ]
    }
   ],
   "source": [
    "# Build gbm\n",
    "gbm = h2o.gbm(x=air_train[myX], \n",
    "              y=air_train[myY], \n",
    "              validation_x=air_valid[myX],\n",
    "              validation_y=air_valid[myY],\n",
    "              distribution=\"bernoulli\", \n",
    "              ntrees=100, \n",
    "              max_depth=3, \n",
    "              learn_rate=0.01)"
   ]
  },
  {
   "cell_type": "code",
   "execution_count": 6,
   "metadata": {
    "collapsed": false
   },
   "outputs": [
    {
     "name": "stdout",
     "output_type": "stream",
     "text": [
      "\n",
      "Confusion Matrix (Act/Pred) for max f1 @ threshold = 0.431227669022:\n",
      "\n"
     ]
    },
    {
     "data": {
      "text/html": [
       "<div style=\"overflow:auto\"><table style=\"width:50%\"><tr><td></td>\n",
       "<td>NO</td>\n",
       "<td>YES</td>\n",
       "<td>Error</td>\n",
       "<td>Rate</td></tr>\n",
       "<tr><td>NO</td>\n",
       "<td>2241.0</td>\n",
       "<td>6617.0</td>\n",
       "<td>0.747</td>\n",
       "<td> (6617.0/8858.0)</td></tr>\n",
       "<tr><td>YES</td>\n",
       "<td>820.0</td>\n",
       "<td>9769.0</td>\n",
       "<td>0.0774</td>\n",
       "<td> (820.0/10589.0)</td></tr>\n",
       "<tr><td>Total</td>\n",
       "<td>3061.0</td>\n",
       "<td>16386.0</td>\n",
       "<td>0.3824</td>\n",
       "<td> (7437.0/19447.0)</td></tr></table></div>"
      ],
      "text/plain": [
       "       NO    YES    Error    Rate\n",
       "-----  ----  -----  -------  ----------------\n",
       "NO     2241  6617   0.747    (6617.0/8858.0)\n",
       "YES    820   9769   0.0774   (820.0/10589.0)\n",
       "Total  3061  16386  0.3824   (7437.0/19447.0)"
      ]
     },
     "metadata": {},
     "output_type": "display_data"
    },
    {
     "name": "stdout",
     "output_type": "stream",
     "text": [
      "\n",
      "\n",
      "Confusion Matrix (Act/Pred) for max f2 @ threshold = 0.383564166587:\n",
      "\n"
     ]
    },
    {
     "data": {
      "text/html": [
       "<div style=\"overflow:auto\"><table style=\"width:50%\"><tr><td></td>\n",
       "<td>NO</td>\n",
       "<td>YES</td>\n",
       "<td>Error</td>\n",
       "<td>Rate</td></tr>\n",
       "<tr><td>NO</td>\n",
       "<td>222.0</td>\n",
       "<td>8636.0</td>\n",
       "<td>0.9749</td>\n",
       "<td> (8636.0/8858.0)</td></tr>\n",
       "<tr><td>YES</td>\n",
       "<td>36.0</td>\n",
       "<td>10553.0</td>\n",
       "<td>0.0034</td>\n",
       "<td> (36.0/10589.0)</td></tr>\n",
       "<tr><td>Total</td>\n",
       "<td>258.0</td>\n",
       "<td>19189.0</td>\n",
       "<td>0.4459</td>\n",
       "<td> (8672.0/19447.0)</td></tr></table></div>"
      ],
      "text/plain": [
       "       NO    YES    Error    Rate\n",
       "-----  ----  -----  -------  ----------------\n",
       "NO     222   8636   0.9749   (8636.0/8858.0)\n",
       "YES    36    10553  0.0034   (36.0/10589.0)\n",
       "Total  258   19189  0.4459   (8672.0/19447.0)"
      ]
     },
     "metadata": {},
     "output_type": "display_data"
    },
    {
     "name": "stdout",
     "output_type": "stream",
     "text": [
      "\n",
      "\n",
      "Confusion Matrix (Act/Pred) for max precision @ threshold = 0.686994971965:\n",
      "\n"
     ]
    },
    {
     "data": {
      "text/html": [
       "<div style=\"overflow:auto\"><table style=\"width:50%\"><tr><td></td>\n",
       "<td>NO</td>\n",
       "<td>YES</td>\n",
       "<td>Error</td>\n",
       "<td>Rate</td></tr>\n",
       "<tr><td>NO</td>\n",
       "<td>8858.0</td>\n",
       "<td>0.0</td>\n",
       "<td>0.0</td>\n",
       "<td> (0.0/8858.0)</td></tr>\n",
       "<tr><td>YES</td>\n",
       "<td>10583.0</td>\n",
       "<td>6.0</td>\n",
       "<td>0.9994</td>\n",
       "<td> (10583.0/10589.0)</td></tr>\n",
       "<tr><td>Total</td>\n",
       "<td>19441.0</td>\n",
       "<td>6.0</td>\n",
       "<td>0.5442</td>\n",
       "<td> (10583.0/19447.0)</td></tr></table></div>"
      ],
      "text/plain": [
       "       NO     YES    Error    Rate\n",
       "-----  -----  -----  -------  -----------------\n",
       "NO     8858   0      0        (0.0/8858.0)\n",
       "YES    10583  6      0.9994   (10583.0/10589.0)\n",
       "Total  19441  6      0.5442   (10583.0/19447.0)"
      ]
     },
     "metadata": {},
     "output_type": "display_data"
    },
    {
     "name": "stdout",
     "output_type": "stream",
     "text": [
      "\n",
      "\n",
      "Confusion Matrix (Act/Pred) for max accuracy @ threshold = 0.530485784553:\n",
      "\n"
     ]
    },
    {
     "data": {
      "text/html": [
       "<div style=\"overflow:auto\"><table style=\"width:50%\"><tr><td></td>\n",
       "<td>NO</td>\n",
       "<td>YES</td>\n",
       "<td>Error</td>\n",
       "<td>Rate</td></tr>\n",
       "<tr><td>NO</td>\n",
       "<td>5127.0</td>\n",
       "<td>3731.0</td>\n",
       "<td>0.4212</td>\n",
       "<td> (3731.0/8858.0)</td></tr>\n",
       "<tr><td>YES</td>\n",
       "<td>3025.0</td>\n",
       "<td>7564.0</td>\n",
       "<td>0.2857</td>\n",
       "<td> (3025.0/10589.0)</td></tr>\n",
       "<tr><td>Total</td>\n",
       "<td>8152.0</td>\n",
       "<td>11295.0</td>\n",
       "<td>0.3474</td>\n",
       "<td> (6756.0/19447.0)</td></tr></table></div>"
      ],
      "text/plain": [
       "       NO    YES    Error    Rate\n",
       "-----  ----  -----  -------  ----------------\n",
       "NO     5127  3731   0.4212   (3731.0/8858.0)\n",
       "YES    3025  7564   0.2857   (3025.0/10589.0)\n",
       "Total  8152  11295  0.3474   (6756.0/19447.0)"
      ]
     },
     "metadata": {},
     "output_type": "display_data"
    },
    {
     "name": "stdout",
     "output_type": "stream",
     "text": [
      "\n",
      "\n",
      "Confusion Matrix (Act/Pred) for max f0point5 @ threshold = 0.545185232938:\n",
      "\n"
     ]
    },
    {
     "data": {
      "text/html": [
       "<div style=\"overflow:auto\"><table style=\"width:50%\"><tr><td></td>\n",
       "<td>NO</td>\n",
       "<td>YES</td>\n",
       "<td>Error</td>\n",
       "<td>Rate</td></tr>\n",
       "<tr><td>NO</td>\n",
       "<td>5495.0</td>\n",
       "<td>3363.0</td>\n",
       "<td>0.3797</td>\n",
       "<td> (3363.0/8858.0)</td></tr>\n",
       "<tr><td>YES</td>\n",
       "<td>3418.0</td>\n",
       "<td>7171.0</td>\n",
       "<td>0.3228</td>\n",
       "<td> (3418.0/10589.0)</td></tr>\n",
       "<tr><td>Total</td>\n",
       "<td>8913.0</td>\n",
       "<td>10534.0</td>\n",
       "<td>0.3487</td>\n",
       "<td> (6781.0/19447.0)</td></tr></table></div>"
      ],
      "text/plain": [
       "       NO    YES    Error    Rate\n",
       "-----  ----  -----  -------  ----------------\n",
       "NO     5495  3363   0.3797   (3363.0/8858.0)\n",
       "YES    3418  7171   0.3228   (3418.0/10589.0)\n",
       "Total  8913  10534  0.3487   (6781.0/19447.0)"
      ]
     },
     "metadata": {},
     "output_type": "display_data"
    },
    {
     "name": "stdout",
     "output_type": "stream",
     "text": [
      "\n"
     ]
    }
   ],
   "source": [
    "# Show various confusion matrices for training dataset (based on metric(s))\n",
    "print gbm.confusion_matrix() # maximum f1 threshold chosen by default\n",
    "\n",
    "print gbm.confusion_matrix(metrics=\"f2\")\n",
    "\n",
    "print gbm.confusion_matrix(metrics=\"precision\")\n",
    "\n",
    "cms = gbm.confusion_matrix(metrics=[\"accuracy\", \"f0point5\"])\n",
    "print cms[0]\n",
    "print cms[1]"
   ]
  },
  {
   "cell_type": "code",
   "execution_count": 7,
   "metadata": {
    "collapsed": false
   },
   "outputs": [
    {
     "name": "stdout",
     "output_type": "stream",
     "text": [
      "Could not find exact threshold 0.77; using closest threshold found 0.686994971965.\n",
      "\n",
      "Confusion Matrix (Act/Pred) @ threshold = 0.686994971965:\n",
      "\n"
     ]
    },
    {
     "data": {
      "text/html": [
       "<div style=\"overflow:auto\"><table style=\"width:50%\"><tr><td></td>\n",
       "<td>NO</td>\n",
       "<td>YES</td>\n",
       "<td>Error</td>\n",
       "<td>Rate</td></tr>\n",
       "<tr><td>NO</td>\n",
       "<td>8858.0</td>\n",
       "<td>0.0</td>\n",
       "<td>0.0</td>\n",
       "<td> (0.0/8858.0)</td></tr>\n",
       "<tr><td>YES</td>\n",
       "<td>10583.0</td>\n",
       "<td>6.0</td>\n",
       "<td>0.9994</td>\n",
       "<td> (10583.0/10589.0)</td></tr>\n",
       "<tr><td>Total</td>\n",
       "<td>19441.0</td>\n",
       "<td>6.0</td>\n",
       "<td>0.5442</td>\n",
       "<td> (10583.0/19447.0)</td></tr></table></div>"
      ],
      "text/plain": [
       "       NO     YES    Error    Rate\n",
       "-----  -----  -----  -------  -----------------\n",
       "NO     8858   0      0        (0.0/8858.0)\n",
       "YES    10583  6      0.9994   (10583.0/10589.0)\n",
       "Total  19441  6      0.5442   (10583.0/19447.0)"
      ]
     },
     "metadata": {},
     "output_type": "display_data"
    },
    {
     "name": "stdout",
     "output_type": "stream",
     "text": [
      "\n",
      "Could not find exact threshold 0.1; using closest threshold found 0.379467159837.\n",
      "Could not find exact threshold 0.5; using closest threshold found 0.499997150547.\n",
      "Could not find exact threshold 0.99; using closest threshold found 0.686994971965.\n",
      "\n",
      "Confusion Matrix (Act/Pred) @ threshold = 0.379467159837:\n",
      "\n"
     ]
    },
    {
     "data": {
      "text/html": [
       "<div style=\"overflow:auto\"><table style=\"width:50%\"><tr><td></td>\n",
       "<td>NO</td>\n",
       "<td>YES</td>\n",
       "<td>Error</td>\n",
       "<td>Rate</td></tr>\n",
       "<tr><td>NO</td>\n",
       "<td>0.0</td>\n",
       "<td>8858.0</td>\n",
       "<td>1.0</td>\n",
       "<td> (8858.0/8858.0)</td></tr>\n",
       "<tr><td>YES</td>\n",
       "<td>0.0</td>\n",
       "<td>10589.0</td>\n",
       "<td>0.0</td>\n",
       "<td> (0.0/10589.0)</td></tr>\n",
       "<tr><td>Total</td>\n",
       "<td>0.0</td>\n",
       "<td>19447.0</td>\n",
       "<td>0.4555</td>\n",
       "<td> (8858.0/19447.0)</td></tr></table></div>"
      ],
      "text/plain": [
       "       NO    YES    Error    Rate\n",
       "-----  ----  -----  -------  ----------------\n",
       "NO     0     8858   1        (8858.0/8858.0)\n",
       "YES    0     10589  0        (0.0/10589.0)\n",
       "Total  0     19447  0.4555   (8858.0/19447.0)"
      ]
     },
     "metadata": {},
     "output_type": "display_data"
    },
    {
     "name": "stdout",
     "output_type": "stream",
     "text": [
      "\n",
      "\n",
      "Confusion Matrix (Act/Pred) @ threshold = 0.499997150547:\n",
      "\n"
     ]
    },
    {
     "data": {
      "text/html": [
       "<div style=\"overflow:auto\"><table style=\"width:50%\"><tr><td></td>\n",
       "<td>NO</td>\n",
       "<td>YES</td>\n",
       "<td>Error</td>\n",
       "<td>Rate</td></tr>\n",
       "<tr><td>NO</td>\n",
       "<td>4449.0</td>\n",
       "<td>4409.0</td>\n",
       "<td>0.4977</td>\n",
       "<td> (4409.0/8858.0)</td></tr>\n",
       "<tr><td>YES</td>\n",
       "<td>2379.0</td>\n",
       "<td>8210.0</td>\n",
       "<td>0.2247</td>\n",
       "<td> (2379.0/10589.0)</td></tr>\n",
       "<tr><td>Total</td>\n",
       "<td>6828.0</td>\n",
       "<td>12619.0</td>\n",
       "<td>0.3491</td>\n",
       "<td> (6788.0/19447.0)</td></tr></table></div>"
      ],
      "text/plain": [
       "       NO    YES    Error    Rate\n",
       "-----  ----  -----  -------  ----------------\n",
       "NO     4449  4409   0.4977   (4409.0/8858.0)\n",
       "YES    2379  8210   0.2247   (2379.0/10589.0)\n",
       "Total  6828  12619  0.3491   (6788.0/19447.0)"
      ]
     },
     "metadata": {},
     "output_type": "display_data"
    },
    {
     "name": "stdout",
     "output_type": "stream",
     "text": [
      "\n",
      "\n",
      "Confusion Matrix (Act/Pred) @ threshold = 0.686994971965:\n",
      "\n"
     ]
    },
    {
     "data": {
      "text/html": [
       "<div style=\"overflow:auto\"><table style=\"width:50%\"><tr><td></td>\n",
       "<td>NO</td>\n",
       "<td>YES</td>\n",
       "<td>Error</td>\n",
       "<td>Rate</td></tr>\n",
       "<tr><td>NO</td>\n",
       "<td>8858.0</td>\n",
       "<td>0.0</td>\n",
       "<td>0.0</td>\n",
       "<td> (0.0/8858.0)</td></tr>\n",
       "<tr><td>YES</td>\n",
       "<td>10583.0</td>\n",
       "<td>6.0</td>\n",
       "<td>0.9994</td>\n",
       "<td> (10583.0/10589.0)</td></tr>\n",
       "<tr><td>Total</td>\n",
       "<td>19441.0</td>\n",
       "<td>6.0</td>\n",
       "<td>0.5442</td>\n",
       "<td> (10583.0/19447.0)</td></tr></table></div>"
      ],
      "text/plain": [
       "       NO     YES    Error    Rate\n",
       "-----  -----  -----  -------  -----------------\n",
       "NO     8858   0      0        (0.0/8858.0)\n",
       "YES    10583  6      0.9994   (10583.0/10589.0)\n",
       "Total  19441  6      0.5442   (10583.0/19447.0)"
      ]
     },
     "metadata": {},
     "output_type": "display_data"
    },
    {
     "name": "stdout",
     "output_type": "stream",
     "text": [
      "\n"
     ]
    }
   ],
   "source": [
    "# Show various confusion matrices for training dataset (based on threshold(s))\n",
    "print gbm.confusion_matrix(thresholds=0.77) \n",
    "\n",
    "cms = gbm.confusion_matrix(thresholds=[0.1, 0.5, 0.99])\n",
    "print cms[0]\n",
    "print cms[1]\n",
    "print cms[2]"
   ]
  },
  {
   "cell_type": "code",
   "execution_count": 8,
   "metadata": {
    "collapsed": false
   },
   "outputs": [
    {
     "name": "stdout",
     "output_type": "stream",
     "text": [
      "\n",
      "Confusion Matrix (Act/Pred) for max f2 @ threshold = 0.386095698558:\n",
      "\n"
     ]
    },
    {
     "data": {
      "text/html": [
       "<div style=\"overflow:auto\"><table style=\"width:50%\"><tr><td></td>\n",
       "<td>NO</td>\n",
       "<td>YES</td>\n",
       "<td>Error</td>\n",
       "<td>Rate</td></tr>\n",
       "<tr><td>NO</td>\n",
       "<td>87.0</td>\n",
       "<td>2121.0</td>\n",
       "<td>0.9606</td>\n",
       "<td> (2121.0/2208.0)</td></tr>\n",
       "<tr><td>YES</td>\n",
       "<td>13.0</td>\n",
       "<td>2753.0</td>\n",
       "<td>0.0047</td>\n",
       "<td> (13.0/2766.0)</td></tr>\n",
       "<tr><td>Total</td>\n",
       "<td>100.0</td>\n",
       "<td>4874.0</td>\n",
       "<td>0.429</td>\n",
       "<td> (2134.0/4974.0)</td></tr></table></div>"
      ],
      "text/plain": [
       "       NO    YES    Error    Rate\n",
       "-----  ----  -----  -------  ---------------\n",
       "NO     87    2121   0.9606   (2121.0/2208.0)\n",
       "YES    13    2753   0.0047   (13.0/2766.0)\n",
       "Total  100   4874   0.429    (2134.0/4974.0)"
      ]
     },
     "metadata": {},
     "output_type": "display_data"
    },
    {
     "name": "stdout",
     "output_type": "stream",
     "text": [
      "\n",
      "\n",
      "Confusion Matrix (Act/Pred) for max precision @ threshold = 0.686994962601:\n",
      "\n"
     ]
    },
    {
     "data": {
      "text/html": [
       "<div style=\"overflow:auto\"><table style=\"width:50%\"><tr><td></td>\n",
       "<td>NO</td>\n",
       "<td>YES</td>\n",
       "<td>Error</td>\n",
       "<td>Rate</td></tr>\n",
       "<tr><td>NO</td>\n",
       "<td>2208.0</td>\n",
       "<td>0.0</td>\n",
       "<td>0.0</td>\n",
       "<td> (0.0/2208.0)</td></tr>\n",
       "<tr><td>YES</td>\n",
       "<td>2765.0</td>\n",
       "<td>1.0</td>\n",
       "<td>0.9996</td>\n",
       "<td> (2765.0/2766.0)</td></tr>\n",
       "<tr><td>Total</td>\n",
       "<td>4973.0</td>\n",
       "<td>1.0</td>\n",
       "<td>0.5559</td>\n",
       "<td> (2765.0/4974.0)</td></tr></table></div>"
      ],
      "text/plain": [
       "       NO    YES    Error    Rate\n",
       "-----  ----  -----  -------  ---------------\n",
       "NO     2208  0      0        (0.0/2208.0)\n",
       "YES    2765  1      0.9996   (2765.0/2766.0)\n",
       "Total  4973  1      0.5559   (2765.0/4974.0)"
      ]
     },
     "metadata": {},
     "output_type": "display_data"
    },
    {
     "name": "stdout",
     "output_type": "stream",
     "text": [
      "\n",
      "\n",
      "Confusion Matrix (Act/Pred) for max accuracy @ threshold = 0.510841362146:\n",
      "\n"
     ]
    },
    {
     "data": {
      "text/html": [
       "<div style=\"overflow:auto\"><table style=\"width:50%\"><tr><td></td>\n",
       "<td>NO</td>\n",
       "<td>YES</td>\n",
       "<td>Error</td>\n",
       "<td>Rate</td></tr>\n",
       "<tr><td>NO</td>\n",
       "<td>1175.0</td>\n",
       "<td>1033.0</td>\n",
       "<td>0.4678</td>\n",
       "<td> (1033.0/2208.0)</td></tr>\n",
       "<tr><td>YES</td>\n",
       "<td>707.0</td>\n",
       "<td>2059.0</td>\n",
       "<td>0.2556</td>\n",
       "<td> (707.0/2766.0)</td></tr>\n",
       "<tr><td>Total</td>\n",
       "<td>1882.0</td>\n",
       "<td>3092.0</td>\n",
       "<td>0.3498</td>\n",
       "<td> (1740.0/4974.0)</td></tr></table></div>"
      ],
      "text/plain": [
       "       NO    YES    Error    Rate\n",
       "-----  ----  -----  -------  ---------------\n",
       "NO     1175  1033   0.4678   (1033.0/2208.0)\n",
       "YES    707   2059   0.2556   (707.0/2766.0)\n",
       "Total  1882  3092   0.3498   (1740.0/4974.0)"
      ]
     },
     "metadata": {},
     "output_type": "display_data"
    },
    {
     "name": "stdout",
     "output_type": "stream",
     "text": [
      "\n",
      "\n",
      "Confusion Matrix (Act/Pred) for max f0point5 @ threshold = 0.547964648642:\n",
      "\n"
     ]
    },
    {
     "data": {
      "text/html": [
       "<div style=\"overflow:auto\"><table style=\"width:50%\"><tr><td></td>\n",
       "<td>NO</td>\n",
       "<td>YES</td>\n",
       "<td>Error</td>\n",
       "<td>Rate</td></tr>\n",
       "<tr><td>NO</td>\n",
       "<td>1362.0</td>\n",
       "<td>846.0</td>\n",
       "<td>0.3832</td>\n",
       "<td> (846.0/2208.0)</td></tr>\n",
       "<tr><td>YES</td>\n",
       "<td>917.0</td>\n",
       "<td>1849.0</td>\n",
       "<td>0.3315</td>\n",
       "<td> (917.0/2766.0)</td></tr>\n",
       "<tr><td>Total</td>\n",
       "<td>2279.0</td>\n",
       "<td>2695.0</td>\n",
       "<td>0.3544</td>\n",
       "<td> (1763.0/4974.0)</td></tr></table></div>"
      ],
      "text/plain": [
       "       NO    YES    Error    Rate\n",
       "-----  ----  -----  -------  ---------------\n",
       "NO     1362  846    0.3832   (846.0/2208.0)\n",
       "YES    917   1849   0.3315   (917.0/2766.0)\n",
       "Total  2279  2695   0.3544   (1763.0/4974.0)"
      ]
     },
     "metadata": {},
     "output_type": "display_data"
    },
    {
     "name": "stdout",
     "output_type": "stream",
     "text": [
      "\n"
     ]
    }
   ],
   "source": [
    "# Show various confusion matrices for validation dataset (based on metric(s))\n",
    "print gbm.confusion_matrix(metrics=\"f2\", valid=True)\n",
    "\n",
    "print gbm.confusion_matrix(metrics=\"precision\", valid=True)\n",
    "\n",
    "cms = gbm.confusion_matrix(metrics=[\"accuracy\", \"f0point5\"], valid=True)\n",
    "print cms[0]\n",
    "print cms[1]"
   ]
  },
  {
   "cell_type": "code",
   "execution_count": 9,
   "metadata": {
    "collapsed": false
   },
   "outputs": [
    {
     "name": "stdout",
     "output_type": "stream",
     "text": [
      "Could not find exact threshold 0.77; using closest threshold found 0.686994971965.\n",
      "\n",
      "Confusion Matrix (Act/Pred) @ threshold = 0.686994971965:\n",
      "\n"
     ]
    },
    {
     "data": {
      "text/html": [
       "<div style=\"overflow:auto\"><table style=\"width:50%\"><tr><td></td>\n",
       "<td>NO</td>\n",
       "<td>YES</td>\n",
       "<td>Error</td>\n",
       "<td>Rate</td></tr>\n",
       "<tr><td>NO</td>\n",
       "<td>8858.0</td>\n",
       "<td>0.0</td>\n",
       "<td>0.0</td>\n",
       "<td> (0.0/8858.0)</td></tr>\n",
       "<tr><td>YES</td>\n",
       "<td>10583.0</td>\n",
       "<td>6.0</td>\n",
       "<td>0.9994</td>\n",
       "<td> (10583.0/10589.0)</td></tr>\n",
       "<tr><td>Total</td>\n",
       "<td>19441.0</td>\n",
       "<td>6.0</td>\n",
       "<td>0.5442</td>\n",
       "<td> (10583.0/19447.0)</td></tr></table></div>"
      ],
      "text/plain": [
       "       NO     YES    Error    Rate\n",
       "-----  -----  -----  -------  -----------------\n",
       "NO     8858   0      0        (0.0/8858.0)\n",
       "YES    10583  6      0.9994   (10583.0/10589.0)\n",
       "Total  19441  6      0.5442   (10583.0/19447.0)"
      ]
     },
     "metadata": {},
     "output_type": "display_data"
    },
    {
     "name": "stdout",
     "output_type": "stream",
     "text": [
      "\n",
      "Could not find exact threshold 0.25; using closest threshold found 0.379467159837.\n",
      "Could not find exact threshold 0.33; using closest threshold found 0.379467159837.\n",
      "Could not find exact threshold 0.44; using closest threshold found 0.441443306103.\n",
      "\n",
      "Confusion Matrix (Act/Pred) @ threshold = 0.379467159837:\n",
      "\n"
     ]
    },
    {
     "data": {
      "text/html": [
       "<div style=\"overflow:auto\"><table style=\"width:50%\"><tr><td></td>\n",
       "<td>NO</td>\n",
       "<td>YES</td>\n",
       "<td>Error</td>\n",
       "<td>Rate</td></tr>\n",
       "<tr><td>NO</td>\n",
       "<td>0.0</td>\n",
       "<td>8858.0</td>\n",
       "<td>1.0</td>\n",
       "<td> (8858.0/8858.0)</td></tr>\n",
       "<tr><td>YES</td>\n",
       "<td>0.0</td>\n",
       "<td>10589.0</td>\n",
       "<td>0.0</td>\n",
       "<td> (0.0/10589.0)</td></tr>\n",
       "<tr><td>Total</td>\n",
       "<td>0.0</td>\n",
       "<td>19447.0</td>\n",
       "<td>0.4555</td>\n",
       "<td> (8858.0/19447.0)</td></tr></table></div>"
      ],
      "text/plain": [
       "       NO    YES    Error    Rate\n",
       "-----  ----  -----  -------  ----------------\n",
       "NO     0     8858   1        (8858.0/8858.0)\n",
       "YES    0     10589  0        (0.0/10589.0)\n",
       "Total  0     19447  0.4555   (8858.0/19447.0)"
      ]
     },
     "metadata": {},
     "output_type": "display_data"
    },
    {
     "name": "stdout",
     "output_type": "stream",
     "text": [
      "\n",
      "\n",
      "Confusion Matrix (Act/Pred) @ threshold = 0.379467159837:\n",
      "\n"
     ]
    },
    {
     "data": {
      "text/html": [
       "<div style=\"overflow:auto\"><table style=\"width:50%\"><tr><td></td>\n",
       "<td>NO</td>\n",
       "<td>YES</td>\n",
       "<td>Error</td>\n",
       "<td>Rate</td></tr>\n",
       "<tr><td>NO</td>\n",
       "<td>0.0</td>\n",
       "<td>8858.0</td>\n",
       "<td>1.0</td>\n",
       "<td> (8858.0/8858.0)</td></tr>\n",
       "<tr><td>YES</td>\n",
       "<td>0.0</td>\n",
       "<td>10589.0</td>\n",
       "<td>0.0</td>\n",
       "<td> (0.0/10589.0)</td></tr>\n",
       "<tr><td>Total</td>\n",
       "<td>0.0</td>\n",
       "<td>19447.0</td>\n",
       "<td>0.4555</td>\n",
       "<td> (8858.0/19447.0)</td></tr></table></div>"
      ],
      "text/plain": [
       "       NO    YES    Error    Rate\n",
       "-----  ----  -----  -------  ----------------\n",
       "NO     0     8858   1        (8858.0/8858.0)\n",
       "YES    0     10589  0        (0.0/10589.0)\n",
       "Total  0     19447  0.4555   (8858.0/19447.0)"
      ]
     },
     "metadata": {},
     "output_type": "display_data"
    },
    {
     "name": "stdout",
     "output_type": "stream",
     "text": [
      "\n",
      "\n",
      "Confusion Matrix (Act/Pred) @ threshold = 0.441443306103:\n",
      "\n"
     ]
    },
    {
     "data": {
      "text/html": [
       "<div style=\"overflow:auto\"><table style=\"width:50%\"><tr><td></td>\n",
       "<td>NO</td>\n",
       "<td>YES</td>\n",
       "<td>Error</td>\n",
       "<td>Rate</td></tr>\n",
       "<tr><td>NO</td>\n",
       "<td>2555.0</td>\n",
       "<td>6303.0</td>\n",
       "<td>0.7116</td>\n",
       "<td> (6303.0/8858.0)</td></tr>\n",
       "<tr><td>YES</td>\n",
       "<td>1014.0</td>\n",
       "<td>9575.0</td>\n",
       "<td>0.0958</td>\n",
       "<td> (1014.0/10589.0)</td></tr>\n",
       "<tr><td>Total</td>\n",
       "<td>3569.0</td>\n",
       "<td>15878.0</td>\n",
       "<td>0.3763</td>\n",
       "<td> (7317.0/19447.0)</td></tr></table></div>"
      ],
      "text/plain": [
       "       NO    YES    Error    Rate\n",
       "-----  ----  -----  -------  ----------------\n",
       "NO     2555  6303   0.7116   (6303.0/8858.0)\n",
       "YES    1014  9575   0.0958   (1014.0/10589.0)\n",
       "Total  3569  15878  0.3763   (7317.0/19447.0)"
      ]
     },
     "metadata": {},
     "output_type": "display_data"
    },
    {
     "name": "stdout",
     "output_type": "stream",
     "text": [
      "\n"
     ]
    }
   ],
   "source": [
    "# Show various confusion matrices for validation dataset (based on threshold(s))\n",
    "print gbm.confusion_matrix(thresholds=0.77) \n",
    "\n",
    "cms = gbm.confusion_matrix(thresholds=[0.25, 0.33, 0.44])\n",
    "print cms[0]\n",
    "print cms[1]\n",
    "print cms[2]"
   ]
  },
  {
   "cell_type": "code",
   "execution_count": 10,
   "metadata": {
    "collapsed": false
   },
   "outputs": [
    {
     "name": "stdout",
     "output_type": "stream",
     "text": [
      "Could not find exact threshold 0.77; using closest threshold found 0.686994971965.\n",
      "\n",
      "Confusion Matrix (Act/Pred) @ threshold = 0.686994971965:\n",
      "\n"
     ]
    },
    {
     "data": {
      "text/html": [
       "<div style=\"overflow:auto\"><table style=\"width:50%\"><tr><td></td>\n",
       "<td>NO</td>\n",
       "<td>YES</td>\n",
       "<td>Error</td>\n",
       "<td>Rate</td></tr>\n",
       "<tr><td>NO</td>\n",
       "<td>8858.0</td>\n",
       "<td>0.0</td>\n",
       "<td>0.0</td>\n",
       "<td> (0.0/8858.0)</td></tr>\n",
       "<tr><td>YES</td>\n",
       "<td>10583.0</td>\n",
       "<td>6.0</td>\n",
       "<td>0.9994</td>\n",
       "<td> (10583.0/10589.0)</td></tr>\n",
       "<tr><td>Total</td>\n",
       "<td>19441.0</td>\n",
       "<td>6.0</td>\n",
       "<td>0.5442</td>\n",
       "<td> (10583.0/19447.0)</td></tr></table></div>"
      ],
      "text/plain": [
       "       NO     YES    Error    Rate\n",
       "-----  -----  -----  -------  -----------------\n",
       "NO     8858   0      0        (0.0/8858.0)\n",
       "YES    10583  6      0.9994   (10583.0/10589.0)\n",
       "Total  19441  6      0.5442   (10583.0/19447.0)"
      ]
     },
     "metadata": {},
     "output_type": "display_data"
    },
    {
     "name": "stdout",
     "output_type": "stream",
     "text": [
      "\n",
      "\n",
      "Confusion Matrix (Act/Pred) for max f1 @ threshold = 0.431227669022:\n",
      "\n"
     ]
    },
    {
     "data": {
      "text/html": [
       "<div style=\"overflow:auto\"><table style=\"width:50%\"><tr><td></td>\n",
       "<td>NO</td>\n",
       "<td>YES</td>\n",
       "<td>Error</td>\n",
       "<td>Rate</td></tr>\n",
       "<tr><td>NO</td>\n",
       "<td>2241.0</td>\n",
       "<td>6617.0</td>\n",
       "<td>0.747</td>\n",
       "<td> (6617.0/8858.0)</td></tr>\n",
       "<tr><td>YES</td>\n",
       "<td>820.0</td>\n",
       "<td>9769.0</td>\n",
       "<td>0.0774</td>\n",
       "<td> (820.0/10589.0)</td></tr>\n",
       "<tr><td>Total</td>\n",
       "<td>3061.0</td>\n",
       "<td>16386.0</td>\n",
       "<td>0.3824</td>\n",
       "<td> (7437.0/19447.0)</td></tr></table></div>"
      ],
      "text/plain": [
       "       NO    YES    Error    Rate\n",
       "-----  ----  -----  -------  ----------------\n",
       "NO     2241  6617   0.747    (6617.0/8858.0)\n",
       "YES    820   9769   0.0774   (820.0/10589.0)\n",
       "Total  3061  16386  0.3824   (7437.0/19447.0)"
      ]
     },
     "metadata": {},
     "output_type": "display_data"
    },
    {
     "name": "stdout",
     "output_type": "stream",
     "text": [
      "\n",
      "Could not find exact threshold 0.25; using closest threshold found 0.379467159837.\n",
      "Could not find exact threshold 0.33; using closest threshold found 0.379467159837.\n",
      "\n",
      "Confusion Matrix (Act/Pred) @ threshold = 0.379467159837:\n",
      "\n"
     ]
    },
    {
     "data": {
      "text/html": [
       "<div style=\"overflow:auto\"><table style=\"width:50%\"><tr><td></td>\n",
       "<td>NO</td>\n",
       "<td>YES</td>\n",
       "<td>Error</td>\n",
       "<td>Rate</td></tr>\n",
       "<tr><td>NO</td>\n",
       "<td>0.0</td>\n",
       "<td>8858.0</td>\n",
       "<td>1.0</td>\n",
       "<td> (8858.0/8858.0)</td></tr>\n",
       "<tr><td>YES</td>\n",
       "<td>0.0</td>\n",
       "<td>10589.0</td>\n",
       "<td>0.0</td>\n",
       "<td> (0.0/10589.0)</td></tr>\n",
       "<tr><td>Total</td>\n",
       "<td>0.0</td>\n",
       "<td>19447.0</td>\n",
       "<td>0.4555</td>\n",
       "<td> (8858.0/19447.0)</td></tr></table></div>"
      ],
      "text/plain": [
       "       NO    YES    Error    Rate\n",
       "-----  ----  -----  -------  ----------------\n",
       "NO     0     8858   1        (8858.0/8858.0)\n",
       "YES    0     10589  0        (0.0/10589.0)\n",
       "Total  0     19447  0.4555   (8858.0/19447.0)"
      ]
     },
     "metadata": {},
     "output_type": "display_data"
    },
    {
     "name": "stdout",
     "output_type": "stream",
     "text": [
      "\n",
      "\n",
      "Confusion Matrix (Act/Pred) @ threshold = 0.379467159837:\n",
      "\n"
     ]
    },
    {
     "data": {
      "text/html": [
       "<div style=\"overflow:auto\"><table style=\"width:50%\"><tr><td></td>\n",
       "<td>NO</td>\n",
       "<td>YES</td>\n",
       "<td>Error</td>\n",
       "<td>Rate</td></tr>\n",
       "<tr><td>NO</td>\n",
       "<td>0.0</td>\n",
       "<td>8858.0</td>\n",
       "<td>1.0</td>\n",
       "<td> (8858.0/8858.0)</td></tr>\n",
       "<tr><td>YES</td>\n",
       "<td>0.0</td>\n",
       "<td>10589.0</td>\n",
       "<td>0.0</td>\n",
       "<td> (0.0/10589.0)</td></tr>\n",
       "<tr><td>Total</td>\n",
       "<td>0.0</td>\n",
       "<td>19447.0</td>\n",
       "<td>0.4555</td>\n",
       "<td> (8858.0/19447.0)</td></tr></table></div>"
      ],
      "text/plain": [
       "       NO    YES    Error    Rate\n",
       "-----  ----  -----  -------  ----------------\n",
       "NO     0     8858   1        (8858.0/8858.0)\n",
       "YES    0     10589  0        (0.0/10589.0)\n",
       "Total  0     19447  0.4555   (8858.0/19447.0)"
      ]
     },
     "metadata": {},
     "output_type": "display_data"
    },
    {
     "name": "stdout",
     "output_type": "stream",
     "text": [
      "\n",
      "\n",
      "Confusion Matrix (Act/Pred) for max f2 @ threshold = 0.383564166587:\n",
      "\n"
     ]
    },
    {
     "data": {
      "text/html": [
       "<div style=\"overflow:auto\"><table style=\"width:50%\"><tr><td></td>\n",
       "<td>NO</td>\n",
       "<td>YES</td>\n",
       "<td>Error</td>\n",
       "<td>Rate</td></tr>\n",
       "<tr><td>NO</td>\n",
       "<td>222.0</td>\n",
       "<td>8636.0</td>\n",
       "<td>0.9749</td>\n",
       "<td> (8636.0/8858.0)</td></tr>\n",
       "<tr><td>YES</td>\n",
       "<td>36.0</td>\n",
       "<td>10553.0</td>\n",
       "<td>0.0034</td>\n",
       "<td> (36.0/10589.0)</td></tr>\n",
       "<tr><td>Total</td>\n",
       "<td>258.0</td>\n",
       "<td>19189.0</td>\n",
       "<td>0.4459</td>\n",
       "<td> (8672.0/19447.0)</td></tr></table></div>"
      ],
      "text/plain": [
       "       NO    YES    Error    Rate\n",
       "-----  ----  -----  -------  ----------------\n",
       "NO     222   8636   0.9749   (8636.0/8858.0)\n",
       "YES    36    10553  0.0034   (36.0/10589.0)\n",
       "Total  258   19189  0.4459   (8672.0/19447.0)"
      ]
     },
     "metadata": {},
     "output_type": "display_data"
    },
    {
     "name": "stdout",
     "output_type": "stream",
     "text": [
      "\n",
      "\n",
      "Confusion Matrix (Act/Pred) for max f0point5 @ threshold = 0.545185232938:\n",
      "\n"
     ]
    },
    {
     "data": {
      "text/html": [
       "<div style=\"overflow:auto\"><table style=\"width:50%\"><tr><td></td>\n",
       "<td>NO</td>\n",
       "<td>YES</td>\n",
       "<td>Error</td>\n",
       "<td>Rate</td></tr>\n",
       "<tr><td>NO</td>\n",
       "<td>5495.0</td>\n",
       "<td>3363.0</td>\n",
       "<td>0.3797</td>\n",
       "<td> (3363.0/8858.0)</td></tr>\n",
       "<tr><td>YES</td>\n",
       "<td>3418.0</td>\n",
       "<td>7171.0</td>\n",
       "<td>0.3228</td>\n",
       "<td> (3418.0/10589.0)</td></tr>\n",
       "<tr><td>Total</td>\n",
       "<td>8913.0</td>\n",
       "<td>10534.0</td>\n",
       "<td>0.3487</td>\n",
       "<td> (6781.0/19447.0)</td></tr></table></div>"
      ],
      "text/plain": [
       "       NO    YES    Error    Rate\n",
       "-----  ----  -----  -------  ----------------\n",
       "NO     5495  3363   0.3797   (3363.0/8858.0)\n",
       "YES    3418  7171   0.3228   (3418.0/10589.0)\n",
       "Total  8913  10534  0.3487   (6781.0/19447.0)"
      ]
     },
     "metadata": {},
     "output_type": "display_data"
    },
    {
     "name": "stdout",
     "output_type": "stream",
     "text": [
      "\n"
     ]
    }
   ],
   "source": [
    "# Show various confusion matrices for validation dataset (based on metric(s) AND threshold(s))\n",
    "cms = gbm.confusion_matrix(thresholds=0.77, metrics=\"f1\") \n",
    "print cms[0]\n",
    "print cms[1]\n",
    "\n",
    "cms = gbm.confusion_matrix(thresholds=[0.25, 0.33], metrics=[\"f2\", \"f0point5\"])\n",
    "print cms[0]\n",
    "print cms[1]\n",
    "print cms[2]\n",
    "print cms[3]"
   ]
  },
  {
   "cell_type": "code",
   "execution_count": 11,
   "metadata": {
    "collapsed": false
   },
   "outputs": [
    {
     "name": "stdout",
     "output_type": "stream",
     "text": [
      "\n",
      "Parse Progress: [##################################################] 100%\n"
     ]
    }
   ],
   "source": [
    "# Test dataset\n",
    "air_test = h2o.import_frame(path=h2o.locate(\"smalldata/airlines/AirlinesTest.csv.zip\"))\n",
    "\n",
    "# Test performance\n",
    "gbm_perf = gbm.model_performance(air_test)"
   ]
  },
  {
   "cell_type": "code",
   "execution_count": 12,
   "metadata": {
    "collapsed": false
   },
   "outputs": [
    {
     "name": "stdout",
     "output_type": "stream",
     "text": [
      "\n",
      "Confusion Matrix (Act/Pred) for max f0point5 @ threshold = 0.547980890324:\n",
      "\n"
     ]
    },
    {
     "data": {
      "text/html": [
       "<div style=\"overflow:auto\"><table style=\"width:50%\"><tr><td></td>\n",
       "<td>NO</td>\n",
       "<td>YES</td>\n",
       "<td>Error</td>\n",
       "<td>Rate</td></tr>\n",
       "<tr><td>NO</td>\n",
       "<td>780.0</td>\n",
       "<td>437.0</td>\n",
       "<td>0.3591</td>\n",
       "<td> (437.0/1217.0)</td></tr>\n",
       "<tr><td>YES</td>\n",
       "<td>483.0</td>\n",
       "<td>991.0</td>\n",
       "<td>0.3277</td>\n",
       "<td> (483.0/1474.0)</td></tr>\n",
       "<tr><td>Total</td>\n",
       "<td>1263.0</td>\n",
       "<td>1428.0</td>\n",
       "<td>0.3419</td>\n",
       "<td> (920.0/2691.0)</td></tr></table></div>"
      ],
      "text/plain": [
       "       NO    YES    Error    Rate\n",
       "-----  ----  -----  -------  --------------\n",
       "NO     780   437    0.3591   (437.0/1217.0)\n",
       "YES    483   991    0.3277   (483.0/1474.0)\n",
       "Total  1263  1428   0.3419   (920.0/2691.0)"
      ]
     },
     "metadata": {},
     "output_type": "display_data"
    },
    {
     "name": "stdout",
     "output_type": "stream",
     "text": [
      "\n",
      "\n",
      "Confusion Matrix (Act/Pred) for max min_per_class_accuracy @ threshold = 0.548759203974:\n",
      "\n"
     ]
    },
    {
     "data": {
      "text/html": [
       "<div style=\"overflow:auto\"><table style=\"width:50%\"><tr><td></td>\n",
       "<td>NO</td>\n",
       "<td>YES</td>\n",
       "<td>Error</td>\n",
       "<td>Rate</td></tr>\n",
       "<tr><td>NO</td>\n",
       "<td>791.0</td>\n",
       "<td>426.0</td>\n",
       "<td>0.35</td>\n",
       "<td> (426.0/1217.0)</td></tr>\n",
       "<tr><td>YES</td>\n",
       "<td>525.0</td>\n",
       "<td>949.0</td>\n",
       "<td>0.3562</td>\n",
       "<td> (525.0/1474.0)</td></tr>\n",
       "<tr><td>Total</td>\n",
       "<td>1316.0</td>\n",
       "<td>1375.0</td>\n",
       "<td>0.3534</td>\n",
       "<td> (951.0/2691.0)</td></tr></table></div>"
      ],
      "text/plain": [
       "       NO    YES    Error    Rate\n",
       "-----  ----  -----  -------  --------------\n",
       "NO     791   426    0.35     (426.0/1217.0)\n",
       "YES    525   949    0.3562   (525.0/1474.0)\n",
       "Total  1316  1375   0.3534   (951.0/2691.0)"
      ]
     },
     "metadata": {},
     "output_type": "display_data"
    },
    {
     "name": "stdout",
     "output_type": "stream",
     "text": [
      "\n",
      "\n",
      "Confusion Matrix (Act/Pred) for max accuracy @ threshold = 0.547980890324:\n",
      "\n"
     ]
    },
    {
     "data": {
      "text/html": [
       "<div style=\"overflow:auto\"><table style=\"width:50%\"><tr><td></td>\n",
       "<td>NO</td>\n",
       "<td>YES</td>\n",
       "<td>Error</td>\n",
       "<td>Rate</td></tr>\n",
       "<tr><td>NO</td>\n",
       "<td>780.0</td>\n",
       "<td>437.0</td>\n",
       "<td>0.3591</td>\n",
       "<td> (437.0/1217.0)</td></tr>\n",
       "<tr><td>YES</td>\n",
       "<td>483.0</td>\n",
       "<td>991.0</td>\n",
       "<td>0.3277</td>\n",
       "<td> (483.0/1474.0)</td></tr>\n",
       "<tr><td>Total</td>\n",
       "<td>1263.0</td>\n",
       "<td>1428.0</td>\n",
       "<td>0.3419</td>\n",
       "<td> (920.0/2691.0)</td></tr></table></div>"
      ],
      "text/plain": [
       "       NO    YES    Error    Rate\n",
       "-----  ----  -----  -------  --------------\n",
       "NO     780   437    0.3591   (437.0/1217.0)\n",
       "YES    483   991    0.3277   (483.0/1474.0)\n",
       "Total  1263  1428   0.3419   (920.0/2691.0)"
      ]
     },
     "metadata": {},
     "output_type": "display_data"
    },
    {
     "name": "stdout",
     "output_type": "stream",
     "text": [
      "\n",
      "\n",
      "Confusion Matrix (Act/Pred) for max accuracy @ threshold = 0.547980890324:\n",
      "\n"
     ]
    },
    {
     "data": {
      "text/html": [
       "<div style=\"overflow:auto\"><table style=\"width:50%\"><tr><td></td>\n",
       "<td>NO</td>\n",
       "<td>YES</td>\n",
       "<td>Error</td>\n",
       "<td>Rate</td></tr>\n",
       "<tr><td>NO</td>\n",
       "<td>780.0</td>\n",
       "<td>437.0</td>\n",
       "<td>0.3591</td>\n",
       "<td> (437.0/1217.0)</td></tr>\n",
       "<tr><td>YES</td>\n",
       "<td>483.0</td>\n",
       "<td>991.0</td>\n",
       "<td>0.3277</td>\n",
       "<td> (483.0/1474.0)</td></tr>\n",
       "<tr><td>Total</td>\n",
       "<td>1263.0</td>\n",
       "<td>1428.0</td>\n",
       "<td>0.3419</td>\n",
       "<td> (920.0/2691.0)</td></tr></table></div>"
      ],
      "text/plain": [
       "       NO    YES    Error    Rate\n",
       "-----  ----  -----  -------  --------------\n",
       "NO     780   437    0.3591   (437.0/1217.0)\n",
       "YES    483   991    0.3277   (483.0/1474.0)\n",
       "Total  1263  1428   0.3419   (920.0/2691.0)"
      ]
     },
     "metadata": {},
     "output_type": "display_data"
    },
    {
     "name": "stdout",
     "output_type": "stream",
     "text": [
      "\n"
     ]
    }
   ],
   "source": [
    "# Show various confusion matrices for test dataset (based on metric(s))\n",
    "print gbm_perf.confusion_matrix(metrics=\"f0point5\")\n",
    "\n",
    "print gbm_perf.confusion_matrix(metrics=\"min_per_class_accuracy\")\n",
    "\n",
    "cms = gbm_perf.confusion_matrix(metrics=[\"accuracy\", \"f0point5\"])\n",
    "print cms[0]\n",
    "print cms[1]"
   ]
  },
  {
   "cell_type": "code",
   "execution_count": 13,
   "metadata": {
    "collapsed": false
   },
   "outputs": [
    {
     "name": "stdout",
     "output_type": "stream",
     "text": [
      "Could not find exact threshold 0.5; using closest threshold found 0.500038337835.\n",
      "\n",
      "Confusion Matrix (Act/Pred) @ threshold = 0.500038337835:\n",
      "\n"
     ]
    },
    {
     "data": {
      "text/html": [
       "<div style=\"overflow:auto\"><table style=\"width:50%\"><tr><td></td>\n",
       "<td>NO</td>\n",
       "<td>YES</td>\n",
       "<td>Error</td>\n",
       "<td>Rate</td></tr>\n",
       "<tr><td>NO</td>\n",
       "<td>577.0</td>\n",
       "<td>640.0</td>\n",
       "<td>0.5259</td>\n",
       "<td> (640.0/1217.0)</td></tr>\n",
       "<tr><td>YES</td>\n",
       "<td>312.0</td>\n",
       "<td>1162.0</td>\n",
       "<td>0.2117</td>\n",
       "<td> (312.0/1474.0)</td></tr>\n",
       "<tr><td>Total</td>\n",
       "<td>889.0</td>\n",
       "<td>1802.0</td>\n",
       "<td>0.3538</td>\n",
       "<td> (952.0/2691.0)</td></tr></table></div>"
      ],
      "text/plain": [
       "       NO    YES    Error    Rate\n",
       "-----  ----  -----  -------  --------------\n",
       "NO     577   640    0.5259   (640.0/1217.0)\n",
       "YES    312   1162   0.2117   (312.0/1474.0)\n",
       "Total  889   1802   0.3538   (952.0/2691.0)"
      ]
     },
     "metadata": {},
     "output_type": "display_data"
    },
    {
     "name": "stdout",
     "output_type": "stream",
     "text": [
      "\n",
      "Could not find exact threshold 0.01; using closest threshold found 0.379467146787.\n",
      "Could not find exact threshold 0.75; using closest threshold found 0.685667942575.\n",
      "Could not find exact threshold 0.88; using closest threshold found 0.685667942575.\n",
      "\n",
      "Confusion Matrix (Act/Pred) @ threshold = 0.379467146787:\n",
      "\n"
     ]
    },
    {
     "data": {
      "text/html": [
       "<div style=\"overflow:auto\"><table style=\"width:50%\"><tr><td></td>\n",
       "<td>NO</td>\n",
       "<td>YES</td>\n",
       "<td>Error</td>\n",
       "<td>Rate</td></tr>\n",
       "<tr><td>NO</td>\n",
       "<td>0.0</td>\n",
       "<td>1217.0</td>\n",
       "<td>1.0</td>\n",
       "<td> (1217.0/1217.0)</td></tr>\n",
       "<tr><td>YES</td>\n",
       "<td>0.0</td>\n",
       "<td>1474.0</td>\n",
       "<td>0.0</td>\n",
       "<td> (0.0/1474.0)</td></tr>\n",
       "<tr><td>Total</td>\n",
       "<td>0.0</td>\n",
       "<td>2691.0</td>\n",
       "<td>0.4522</td>\n",
       "<td> (1217.0/2691.0)</td></tr></table></div>"
      ],
      "text/plain": [
       "       NO    YES    Error    Rate\n",
       "-----  ----  -----  -------  ---------------\n",
       "NO     0     1217   1        (1217.0/1217.0)\n",
       "YES    0     1474   0        (0.0/1474.0)\n",
       "Total  0     2691   0.4522   (1217.0/2691.0)"
      ]
     },
     "metadata": {},
     "output_type": "display_data"
    },
    {
     "name": "stdout",
     "output_type": "stream",
     "text": [
      "\n",
      "\n",
      "Confusion Matrix (Act/Pred) @ threshold = 0.685667942575:\n",
      "\n"
     ]
    },
    {
     "data": {
      "text/html": [
       "<div style=\"overflow:auto\"><table style=\"width:50%\"><tr><td></td>\n",
       "<td>NO</td>\n",
       "<td>YES</td>\n",
       "<td>Error</td>\n",
       "<td>Rate</td></tr>\n",
       "<tr><td>NO</td>\n",
       "<td>1216.0</td>\n",
       "<td>1.0</td>\n",
       "<td>0.0008</td>\n",
       "<td> (1.0/1217.0)</td></tr>\n",
       "<tr><td>YES</td>\n",
       "<td>1472.0</td>\n",
       "<td>2.0</td>\n",
       "<td>0.9986</td>\n",
       "<td> (1472.0/1474.0)</td></tr>\n",
       "<tr><td>Total</td>\n",
       "<td>2688.0</td>\n",
       "<td>3.0</td>\n",
       "<td>0.5474</td>\n",
       "<td> (1473.0/2691.0)</td></tr></table></div>"
      ],
      "text/plain": [
       "       NO    YES    Error    Rate\n",
       "-----  ----  -----  -------  ---------------\n",
       "NO     1216  1      0.0008   (1.0/1217.0)\n",
       "YES    1472  2      0.9986   (1472.0/1474.0)\n",
       "Total  2688  3      0.5474   (1473.0/2691.0)"
      ]
     },
     "metadata": {},
     "output_type": "display_data"
    },
    {
     "name": "stdout",
     "output_type": "stream",
     "text": [
      "\n",
      "\n",
      "Confusion Matrix (Act/Pred) @ threshold = 0.685667942575:\n",
      "\n"
     ]
    },
    {
     "data": {
      "text/html": [
       "<div style=\"overflow:auto\"><table style=\"width:50%\"><tr><td></td>\n",
       "<td>NO</td>\n",
       "<td>YES</td>\n",
       "<td>Error</td>\n",
       "<td>Rate</td></tr>\n",
       "<tr><td>NO</td>\n",
       "<td>1216.0</td>\n",
       "<td>1.0</td>\n",
       "<td>0.0008</td>\n",
       "<td> (1.0/1217.0)</td></tr>\n",
       "<tr><td>YES</td>\n",
       "<td>1472.0</td>\n",
       "<td>2.0</td>\n",
       "<td>0.9986</td>\n",
       "<td> (1472.0/1474.0)</td></tr>\n",
       "<tr><td>Total</td>\n",
       "<td>2688.0</td>\n",
       "<td>3.0</td>\n",
       "<td>0.5474</td>\n",
       "<td> (1473.0/2691.0)</td></tr></table></div>"
      ],
      "text/plain": [
       "       NO    YES    Error    Rate\n",
       "-----  ----  -----  -------  ---------------\n",
       "NO     1216  1      0.0008   (1.0/1217.0)\n",
       "YES    1472  2      0.9986   (1472.0/1474.0)\n",
       "Total  2688  3      0.5474   (1473.0/2691.0)"
      ]
     },
     "metadata": {},
     "output_type": "display_data"
    },
    {
     "name": "stdout",
     "output_type": "stream",
     "text": [
      "\n"
     ]
    }
   ],
   "source": [
    "# Show various confusion matrices for test dataset (based on threshold(s))\n",
    "print gbm_perf.confusion_matrix(thresholds=0.5) \n",
    "\n",
    "cms = gbm_perf.confusion_matrix(thresholds=[0.01, 0.75, .88])\n",
    "print cms[0]\n",
    "print cms[1]\n",
    "print cms[2]"
   ]
  },
  {
   "cell_type": "code",
   "execution_count": 14,
   "metadata": {
    "collapsed": false
   },
   "outputs": [
    {
     "name": "stdout",
     "output_type": "stream",
     "text": [
      "[[2241, 6617], [820, 9769]]\n",
      "[[296, 921], [114, 1360]]\n"
     ]
    }
   ],
   "source": [
    "# Convert a ConfusionMatrix to a python list of lists: [ [tns,fps], [fns,tps] ]\n",
    "cm = gbm.confusion_matrix()\n",
    "print cm.to_list()\n",
    "\n",
    "cm = gbm_perf.confusion_matrix()\n",
    "print cm.to_list()"
   ]
  }
 ],
 "metadata": {
  "kernelspec": {
   "display_name": "Python 2",
   "language": "python",
   "name": "python2"
  },
  "language_info": {
   "codemirror_mode": {
    "name": "ipython",
    "version": 2
   },
   "file_extension": ".py",
   "mimetype": "text/x-python",
   "name": "python",
   "nbconvert_exporter": "python",
   "pygments_lexer": "ipython2",
   "version": "2.7.10"
  }
 },
 "nbformat": 4,
 "nbformat_minor": 0
}
