{
 "worksheets": [
  {
   "cells": [
    {
     "cell_type": "code",
     "execution_count": null,
     "metadata": {},
     "outputs": [],
     "input": [
      "import h2o"
     ],
     "language": "python",
     "prompt_number": 1
    },
    {
     "cell_type": "code",
     "execution_count": null,
     "metadata": {},
     "outputs": [
      {
       "output_type": "pyout",
       "html": [
        "<div style=\"overflow:auto\"><table style=\"width:50%\"><tr><td>H2O cluster uptime: </td>\n",
        "<td>2 minutes 13 seconds 669 milliseconds </td></tr>\n",
        "<tr><td>H2O cluster version: </td>\n",
        "<td>3.1.0.99999</td></tr>\n",
        "<tr><td>H2O cluster name: </td>\n",
        "<td>ece</td></tr>\n",
        "<tr><td>H2O cluster total nodes: </td>\n",
        "<td>1</td></tr>\n",
        "<tr><td>H2O cluster total memory: </td>\n",
        "<td>4.44 GB</td></tr>\n",
        "<tr><td>H2O cluster total cores: </td>\n",
        "<td>8</td></tr>\n",
        "<tr><td>H2O cluster allowed cores: </td>\n",
        "<td>8</td></tr>\n",
        "<tr><td>H2O cluster healthy: </td>\n",
        "<td>True</td></tr>\n",
        "<tr><td>H2O Connection ip: </td>\n",
        "<td>127.0.0.1</td></tr>\n",
        "<tr><td>H2O Connection port: </td>\n",
        "<td>54321</td></tr></table></div>"
       ],
       "metadata": {}
      }
     ],
     "input": [
      "h2o.init()"
     ],
     "language": "python",
     "prompt_number": 2
    },
    {
     "cell_type": "code",
     "execution_count": null,
     "metadata": {},
     "outputs": [
      {
       "output_type": "stream",
       "stream": "stdout",
       "text": [
        "\n",
        "\r",
        "Parse Progress: [                                                  ] 00%"
       ]
      },
      {
       "output_type": "stream",
       "stream": "stdout",
       "text": [
        "\r",
        "Parse Progress: [##################################################] 100%"
       ]
      },
      {
       "output_type": "stream",
       "stream": "stdout",
       "text": [
        "\n",
        "Imported  /Users/ece/0xdata/h2o-dev/smalldata/airlines/AirlinesTrain.csv.zip . Parsed 24,421 rows and 12 cols\n"
       ]
      }
     ],
     "input": [
      "# Airlines dataset\n",
      "air = h2o.import_frame(path=h2o.locate(\"smalldata/airlines/AirlinesTrain.csv.zip\"))"
     ],
     "language": "python",
     "prompt_number": 3
    },
    {
     "cell_type": "code",
     "execution_count": null,
     "metadata": {},
     "outputs": [],
     "input": [
      "# Construct validation and training datasets by sampling (20/80)\n",
      "r = air[0].runif()\n",
      "air_train = air[r < 0.8]\n",
      "air_valid = air[r >= 0.8]\n",
      "\n",
      "myX = [\"Origin\", \"Dest\", \"Distance\", \"UniqueCarrier\", \"fMonth\", \"fDayofMonth\", \"fDayOfWeek\"]\n",
      "myY = \"IsDepDelayed\""
     ],
     "language": "python",
     "prompt_number": 4
    },
    {
     "cell_type": "code",
     "execution_count": null,
     "metadata": {},
     "outputs": [
      {
       "output_type": "stream",
       "stream": "stdout",
       "text": [
        "\n",
        "\r",
        "gbm Model Build Progress: [                                                  ] 00%"
       ]
      },
      {
       "output_type": "stream",
       "stream": "stdout",
       "text": [
        "\r",
        "gbm Model Build Progress: [###                                               ] 06%"
       ]
      },
      {
       "output_type": "stream",
       "stream": "stdout",
       "text": [
        "\r",
        "gbm Model Build Progress: [########                                          ] 16%"
       ]
      },
      {
       "output_type": "stream",
       "stream": "stdout",
       "text": [
        "\r",
        "gbm Model Build Progress: [#############                                     ] 26%"
       ]
      },
      {
       "output_type": "stream",
       "stream": "stdout",
       "text": [
        "\r",
        "gbm Model Build Progress: [##################                                ] 36%"
       ]
      },
      {
       "output_type": "stream",
       "stream": "stdout",
       "text": [
        "\r",
        "gbm Model Build Progress: [#######################                           ] 46%"
       ]
      },
      {
       "output_type": "stream",
       "stream": "stdout",
       "text": [
        "\r",
        "gbm Model Build Progress: [############################                      ] 56%"
       ]
      },
      {
       "output_type": "stream",
       "stream": "stdout",
       "text": [
        "\r",
        "gbm Model Build Progress: [#################################                 ] 66%"
       ]
      },
      {
       "output_type": "stream",
       "stream": "stdout",
       "text": [
        "\r",
        "gbm Model Build Progress: [######################################            ] 76%"
       ]
      },
      {
       "output_type": "stream",
       "stream": "stdout",
       "text": [
        "\r",
        "gbm Model Build Progress: [##################################################] 100%"
       ]
      },
      {
       "output_type": "stream",
       "stream": "stdout",
       "text": [
        "\n"
       ]
      }
     ],
     "input": [
      "# Build gbm\n",
      "gbm = h2o.gbm(x=air_train[myX], \n",
      "              y=air_train[myY], \n",
      "              validation_x=air_valid[myX],\n",
      "              validation_y=air_valid[myY],\n",
      "              distribution=\"bernoulli\", \n",
      "              ntrees=100, \n",
      "              max_depth=3, \n",
      "              learn_rate=0.01)"
     ],
     "language": "python",
     "prompt_number": 5
    },
    {
     "cell_type": "code",
     "execution_count": null,
     "metadata": {},
     "outputs": [
      {
       "output_type": "stream",
       "stream": "stdout",
       "text": [
        "\n",
        "Confusion Matrix (Act/Pred) for max f1 @ threshold = 0.439860523006:\n",
        "\n"
       ]
      },
      {
       "output_type": "pyout",
       "html": [
        "<div style=\"overflow:auto\"><table style=\"width:50%\"><tr><td></td>\n",
        "<td>NO</td>\n",
        "<td>YES</td>\n",
        "<td>Error</td>\n",
        "<td>Rate</td></tr>\n",
        "<tr><td>NO</td>\n",
        "<td>2473.0</td>\n",
        "<td>6377.0</td>\n",
        "<td>0.7206</td>\n",
        "<td> (6377.0/8850.0)</td></tr>\n",
        "<tr><td>YES</td>\n",
        "<td>964.0</td>\n",
        "<td>9749.0</td>\n",
        "<td>0.09</td>\n",
        "<td> (964.0/10713.0)</td></tr>\n",
        "<tr><td>Total</td>\n",
        "<td>3437.0</td>\n",
        "<td>16126.0</td>\n",
        "<td>0.8106</td>\n",
        "<td> (0.8106/19563.0)</td></tr></table></div>"
       ],
       "metadata": {}
      },
      {
       "output_type": "stream",
       "stream": "stdout",
       "text": [
        "\n",
        "\n",
        "Confusion Matrix (Act/Pred) for max f2 @ threshold = 0.398529984517:\n",
        "\n"
       ]
      },
      {
       "output_type": "pyout",
       "html": [
        "<div style=\"overflow:auto\"><table style=\"width:50%\"><tr><td></td>\n",
        "<td>NO</td>\n",
        "<td>YES</td>\n",
        "<td>Error</td>\n",
        "<td>Rate</td></tr>\n",
        "<tr><td>NO</td>\n",
        "<td>355.0</td>\n",
        "<td>8495.0</td>\n",
        "<td>0.9599</td>\n",
        "<td> (8495.0/8850.0)</td></tr>\n",
        "<tr><td>YES</td>\n",
        "<td>60.0</td>\n",
        "<td>10653.0</td>\n",
        "<td>0.0056</td>\n",
        "<td> (60.0/10713.0)</td></tr>\n",
        "<tr><td>Total</td>\n",
        "<td>415.0</td>\n",
        "<td>19148.0</td>\n",
        "<td>0.9655</td>\n",
        "<td> (0.9655/19563.0)</td></tr></table></div>"
       ],
       "metadata": {}
      },
      {
       "output_type": "stream",
       "stream": "stdout",
       "text": [
        "\n",
        "\n",
        "Confusion Matrix (Act/Pred) for max precision @ threshold = 0.684320673544:\n",
        "\n"
       ]
      },
      {
       "output_type": "pyout",
       "html": [
        "<div style=\"overflow:auto\"><table style=\"width:50%\"><tr><td></td>\n",
        "<td>NO</td>\n",
        "<td>YES</td>\n",
        "<td>Error</td>\n",
        "<td>Rate</td></tr>\n",
        "<tr><td>NO</td>\n",
        "<td>8832.0</td>\n",
        "<td>18.0</td>\n",
        "<td>0.002</td>\n",
        "<td> (18.0/8850.0)</td></tr>\n",
        "<tr><td>YES</td>\n",
        "<td>10562.0</td>\n",
        "<td>151.0</td>\n",
        "<td>0.9859</td>\n",
        "<td> (10562.0/10713.0)</td></tr>\n",
        "<tr><td>Total</td>\n",
        "<td>19394.0</td>\n",
        "<td>169.0</td>\n",
        "<td>0.9879</td>\n",
        "<td> (0.9879/19563.0)</td></tr></table></div>"
       ],
       "metadata": {}
      },
      {
       "output_type": "stream",
       "stream": "stdout",
       "text": [
        "\n",
        "\n",
        "Confusion Matrix (Act/Pred) for max accuracy @ threshold = 0.533140769284:\n",
        "\n"
       ]
      },
      {
       "output_type": "pyout",
       "html": [
        "<div style=\"overflow:auto\"><table style=\"width:50%\"><tr><td></td>\n",
        "<td>NO</td>\n",
        "<td>YES</td>\n",
        "<td>Error</td>\n",
        "<td>Rate</td></tr>\n",
        "<tr><td>NO</td>\n",
        "<td>5093.0</td>\n",
        "<td>3757.0</td>\n",
        "<td>0.4245</td>\n",
        "<td> (3757.0/8850.0)</td></tr>\n",
        "<tr><td>YES</td>\n",
        "<td>3076.0</td>\n",
        "<td>7637.0</td>\n",
        "<td>0.2871</td>\n",
        "<td> (3076.0/10713.0)</td></tr>\n",
        "<tr><td>Total</td>\n",
        "<td>8169.0</td>\n",
        "<td>11394.0</td>\n",
        "<td>0.7116</td>\n",
        "<td> (0.7116/19563.0)</td></tr></table></div>"
       ],
       "metadata": {}
      },
      {
       "output_type": "stream",
       "stream": "stdout",
       "text": [
        "\n",
        "\n",
        "Confusion Matrix (Act/Pred) for max f0point5 @ threshold = 0.535870076134:\n",
        "\n"
       ]
      },
      {
       "output_type": "pyout",
       "html": [
        "<div style=\"overflow:auto\"><table style=\"width:50%\"><tr><td></td>\n",
        "<td>NO</td>\n",
        "<td>YES</td>\n",
        "<td>Error</td>\n",
        "<td>Rate</td></tr>\n",
        "<tr><td>NO</td>\n",
        "<td>5141.0</td>\n",
        "<td>3709.0</td>\n",
        "<td>0.4191</td>\n",
        "<td> (3709.0/8850.0)</td></tr>\n",
        "<tr><td>YES</td>\n",
        "<td>3128.0</td>\n",
        "<td>7585.0</td>\n",
        "<td>0.292</td>\n",
        "<td> (3128.0/10713.0)</td></tr>\n",
        "<tr><td>Total</td>\n",
        "<td>8269.0</td>\n",
        "<td>11294.0</td>\n",
        "<td>0.7111</td>\n",
        "<td> (0.7111/19563.0)</td></tr></table></div>"
       ],
       "metadata": {}
      },
      {
       "output_type": "stream",
       "stream": "stdout",
       "text": [
        "\n"
       ]
      }
     ],
     "input": [
      "# Show various confusion matrices for training dataset (based on metric(s))\n",
      "print gbm.confusion_matrix() # maximum f1 threshold chosen by default\n",
      "\n",
      "print gbm.confusion_matrix(metrics=\"f2\")\n",
      "\n",
      "print gbm.confusion_matrix(metrics=\"precision\")\n",
      "\n",
      "cms = gbm.confusion_matrix(metrics=[\"accuracy\", \"f0point5\"])\n",
      "print cms[0]\n",
      "print cms[1]"
     ],
     "language": "python",
     "prompt_number": 6
    },
    {
     "cell_type": "code",
     "execution_count": null,
     "metadata": {},
     "outputs": [
      {
       "output_type": "stream",
       "stream": "stdout",
       "text": [
        "Could not find exact threshold 0.77; using closest threshold found 0.6869435993.\n",
        "\n",
        "Confusion Matrix (Act/Pred) @ threshold = 0.6869435993:\n",
        "\n"
       ]
      },
      {
       "output_type": "pyout",
       "html": [
        "<div style=\"overflow:auto\"><table style=\"width:50%\"><tr><td></td>\n",
        "<td>NO</td>\n",
        "<td>YES</td>\n",
        "<td>Error</td>\n",
        "<td>Rate</td></tr>\n",
        "<tr><td>NO</td>\n",
        "<td>8836.0</td>\n",
        "<td>14.0</td>\n",
        "<td>0.0016</td>\n",
        "<td> (14.0/8850.0)</td></tr>\n",
        "<tr><td>YES</td>\n",
        "<td>10597.0</td>\n",
        "<td>116.0</td>\n",
        "<td>0.9892</td>\n",
        "<td> (10597.0/10713.0)</td></tr>\n",
        "<tr><td>Total</td>\n",
        "<td>19433.0</td>\n",
        "<td>130.0</td>\n",
        "<td>0.9908</td>\n",
        "<td> (0.9908/19563.0)</td></tr></table></div>"
       ],
       "metadata": {}
      },
      {
       "output_type": "stream",
       "stream": "stdout",
       "text": [
        "\n",
        "Could not find exact threshold 0.1; using closest threshold found 0.383907658296.\n",
        "Could not find exact threshold 0.5; using closest threshold found 0.500172069127.\n",
        "Could not find exact threshold 0.99; using closest threshold found 0.6869435993.\n",
        "\n",
        "Confusion Matrix (Act/Pred) @ threshold = 0.383907658296:\n",
        "\n"
       ]
      },
      {
       "output_type": "pyout",
       "html": [
        "<div style=\"overflow:auto\"><table style=\"width:50%\"><tr><td></td>\n",
        "<td>NO</td>\n",
        "<td>YES</td>\n",
        "<td>Error</td>\n",
        "<td>Rate</td></tr>\n",
        "<tr><td>NO</td>\n",
        "<td>0.0</td>\n",
        "<td>8850.0</td>\n",
        "<td>1.0</td>\n",
        "<td> (8850.0/8850.0)</td></tr>\n",
        "<tr><td>YES</td>\n",
        "<td>0.0</td>\n",
        "<td>10713.0</td>\n",
        "<td>0.0</td>\n",
        "<td> (0.0/10713.0)</td></tr>\n",
        "<tr><td>Total</td>\n",
        "<td>0.0</td>\n",
        "<td>19563.0</td>\n",
        "<td>1.0</td>\n",
        "<td> (1.0/19563.0)</td></tr></table></div>"
       ],
       "metadata": {}
      },
      {
       "output_type": "stream",
       "stream": "stdout",
       "text": [
        "\n",
        "\n",
        "Confusion Matrix (Act/Pred) @ threshold = 0.500172069127:\n",
        "\n"
       ]
      },
      {
       "output_type": "pyout",
       "html": [
        "<div style=\"overflow:auto\"><table style=\"width:50%\"><tr><td></td>\n",
        "<td>NO</td>\n",
        "<td>YES</td>\n",
        "<td>Error</td>\n",
        "<td>Rate</td></tr>\n",
        "<tr><td>NO</td>\n",
        "<td>4223.0</td>\n",
        "<td>4627.0</td>\n",
        "<td>0.5228</td>\n",
        "<td> (4627.0/8850.0)</td></tr>\n",
        "<tr><td>YES</td>\n",
        "<td>2258.0</td>\n",
        "<td>8455.0</td>\n",
        "<td>0.2108</td>\n",
        "<td> (2258.0/10713.0)</td></tr>\n",
        "<tr><td>Total</td>\n",
        "<td>6481.0</td>\n",
        "<td>13082.0</td>\n",
        "<td>0.7336</td>\n",
        "<td> (0.7336/19563.0)</td></tr></table></div>"
       ],
       "metadata": {}
      },
      {
       "output_type": "stream",
       "stream": "stdout",
       "text": [
        "\n",
        "\n",
        "Confusion Matrix (Act/Pred) @ threshold = 0.6869435993:\n",
        "\n"
       ]
      },
      {
       "output_type": "pyout",
       "html": [
        "<div style=\"overflow:auto\"><table style=\"width:50%\"><tr><td></td>\n",
        "<td>NO</td>\n",
        "<td>YES</td>\n",
        "<td>Error</td>\n",
        "<td>Rate</td></tr>\n",
        "<tr><td>NO</td>\n",
        "<td>8836.0</td>\n",
        "<td>14.0</td>\n",
        "<td>0.0016</td>\n",
        "<td> (14.0/8850.0)</td></tr>\n",
        "<tr><td>YES</td>\n",
        "<td>10597.0</td>\n",
        "<td>116.0</td>\n",
        "<td>0.9892</td>\n",
        "<td> (10597.0/10713.0)</td></tr>\n",
        "<tr><td>Total</td>\n",
        "<td>19433.0</td>\n",
        "<td>130.0</td>\n",
        "<td>0.9908</td>\n",
        "<td> (0.9908/19563.0)</td></tr></table></div>"
       ],
       "metadata": {}
      },
      {
       "output_type": "stream",
       "stream": "stdout",
       "text": [
        "\n"
       ]
      }
     ],
     "input": [
      "# Show various confusion matrices for training dataset (based on threshold(s))\n",
      "print gbm.confusion_matrix(thresholds=0.77) \n",
      "\n",
      "cms = gbm.confusion_matrix(thresholds=[0.1, 0.5, 0.99])\n",
      "print cms[0]\n",
      "print cms[1]\n",
      "print cms[2]"
     ],
     "language": "python",
     "prompt_number": 7
    },
    {
     "cell_type": "code",
     "execution_count": null,
     "metadata": {},
     "outputs": [
      {
       "output_type": "stream",
       "stream": "stdout",
       "text": [
        "\n",
        "Confusion Matrix (Act/Pred) for max f2 @ threshold = 0.398134501203:\n",
        "\n"
       ]
      },
      {
       "output_type": "pyout",
       "html": [
        "<div style=\"overflow:auto\"><table style=\"width:50%\"><tr><td></td>\n",
        "<td>NO</td>\n",
        "<td>YES</td>\n",
        "<td>Error</td>\n",
        "<td>Rate</td></tr>\n",
        "<tr><td>NO</td>\n",
        "<td>73.0</td>\n",
        "<td>2143.0</td>\n",
        "<td>0.9671</td>\n",
        "<td> (2143.0/2216.0)</td></tr>\n",
        "<tr><td>YES</td>\n",
        "<td>12.0</td>\n",
        "<td>2630.0</td>\n",
        "<td>0.0045</td>\n",
        "<td> (12.0/2642.0)</td></tr>\n",
        "<tr><td>Total</td>\n",
        "<td>85.0</td>\n",
        "<td>4773.0</td>\n",
        "<td>0.9716</td>\n",
        "<td> (0.9716/4858.0)</td></tr></table></div>"
       ],
       "metadata": {}
      },
      {
       "output_type": "stream",
       "stream": "stdout",
       "text": [
        "\n",
        "\n",
        "Confusion Matrix (Act/Pred) for max precision @ threshold = 0.676912109388:\n",
        "\n"
       ]
      },
      {
       "output_type": "pyout",
       "html": [
        "<div style=\"overflow:auto\"><table style=\"width:50%\"><tr><td></td>\n",
        "<td>NO</td>\n",
        "<td>YES</td>\n",
        "<td>Error</td>\n",
        "<td>Rate</td></tr>\n",
        "<tr><td>NO</td>\n",
        "<td>2192.0</td>\n",
        "<td>24.0</td>\n",
        "<td>0.0108</td>\n",
        "<td> (24.0/2216.0)</td></tr>\n",
        "<tr><td>YES</td>\n",
        "<td>2488.0</td>\n",
        "<td>154.0</td>\n",
        "<td>0.9417</td>\n",
        "<td> (2488.0/2642.0)</td></tr>\n",
        "<tr><td>Total</td>\n",
        "<td>4680.0</td>\n",
        "<td>178.0</td>\n",
        "<td>0.9525</td>\n",
        "<td> (0.9525/4858.0)</td></tr></table></div>"
       ],
       "metadata": {}
      },
      {
       "output_type": "stream",
       "stream": "stdout",
       "text": [
        "\n",
        "\n",
        "Confusion Matrix (Act/Pred) for max accuracy @ threshold = 0.539970628106:\n",
        "\n"
       ]
      },
      {
       "output_type": "pyout",
       "html": [
        "<div style=\"overflow:auto\"><table style=\"width:50%\"><tr><td></td>\n",
        "<td>NO</td>\n",
        "<td>YES</td>\n",
        "<td>Error</td>\n",
        "<td>Rate</td></tr>\n",
        "<tr><td>NO</td>\n",
        "<td>1308.0</td>\n",
        "<td>908.0</td>\n",
        "<td>0.4097</td>\n",
        "<td> (908.0/2216.0)</td></tr>\n",
        "<tr><td>YES</td>\n",
        "<td>803.0</td>\n",
        "<td>1839.0</td>\n",
        "<td>0.3039</td>\n",
        "<td> (803.0/2642.0)</td></tr>\n",
        "<tr><td>Total</td>\n",
        "<td>2111.0</td>\n",
        "<td>2747.0</td>\n",
        "<td>0.7136</td>\n",
        "<td> (0.7136/4858.0)</td></tr></table></div>"
       ],
       "metadata": {}
      },
      {
       "output_type": "stream",
       "stream": "stdout",
       "text": [
        "\n",
        "\n",
        "Confusion Matrix (Act/Pred) for max f0point5 @ threshold = 0.548587112251:\n",
        "\n"
       ]
      },
      {
       "output_type": "pyout",
       "html": [
        "<div style=\"overflow:auto\"><table style=\"width:50%\"><tr><td></td>\n",
        "<td>NO</td>\n",
        "<td>YES</td>\n",
        "<td>Error</td>\n",
        "<td>Rate</td></tr>\n",
        "<tr><td>NO</td>\n",
        "<td>1412.0</td>\n",
        "<td>804.0</td>\n",
        "<td>0.3628</td>\n",
        "<td> (804.0/2216.0)</td></tr>\n",
        "<tr><td>YES</td>\n",
        "<td>919.0</td>\n",
        "<td>1723.0</td>\n",
        "<td>0.3478</td>\n",
        "<td> (919.0/2642.0)</td></tr>\n",
        "<tr><td>Total</td>\n",
        "<td>2331.0</td>\n",
        "<td>2527.0</td>\n",
        "<td>0.7106</td>\n",
        "<td> (0.7106/4858.0)</td></tr></table></div>"
       ],
       "metadata": {}
      },
      {
       "output_type": "stream",
       "stream": "stdout",
       "text": [
        "\n"
       ]
      }
     ],
     "input": [
      "# Show various confusion matrices for validation dataset (based on metric(s))\n",
      "print gbm.confusion_matrix(metrics=\"f2\", valid=True)\n",
      "\n",
      "print gbm.confusion_matrix(metrics=\"precision\", valid=True)\n",
      "\n",
      "cms = gbm.confusion_matrix(metrics=[\"accuracy\", \"f0point5\"], valid=True)\n",
      "print cms[0]\n",
      "print cms[1]"
     ],
     "language": "python",
     "prompt_number": 8
    },
    {
     "cell_type": "code",
     "execution_count": null,
     "metadata": {},
     "outputs": [
      {
       "output_type": "stream",
       "stream": "stdout",
       "text": [
        "Could not find exact threshold 0.77; using closest threshold found 0.6869435993.\n",
        "\n",
        "Confusion Matrix (Act/Pred) @ threshold = 0.6869435993:\n",
        "\n"
       ]
      },
      {
       "output_type": "pyout",
       "html": [
        "<div style=\"overflow:auto\"><table style=\"width:50%\"><tr><td></td>\n",
        "<td>NO</td>\n",
        "<td>YES</td>\n",
        "<td>Error</td>\n",
        "<td>Rate</td></tr>\n",
        "<tr><td>NO</td>\n",
        "<td>8836.0</td>\n",
        "<td>14.0</td>\n",
        "<td>0.0016</td>\n",
        "<td> (14.0/8850.0)</td></tr>\n",
        "<tr><td>YES</td>\n",
        "<td>10597.0</td>\n",
        "<td>116.0</td>\n",
        "<td>0.9892</td>\n",
        "<td> (10597.0/10713.0)</td></tr>\n",
        "<tr><td>Total</td>\n",
        "<td>19433.0</td>\n",
        "<td>130.0</td>\n",
        "<td>0.9908</td>\n",
        "<td> (0.9908/19563.0)</td></tr></table></div>"
       ],
       "metadata": {}
      },
      {
       "output_type": "stream",
       "stream": "stdout",
       "text": [
        "\n",
        "Could not find exact threshold 0.25; using closest threshold found 0.383907658296.\n",
        "Could not find exact threshold 0.33; using closest threshold found 0.383907658296.\n",
        "Could not find exact threshold 0.44; using closest threshold found 0.439860523006.\n",
        "\n",
        "Confusion Matrix (Act/Pred) @ threshold = 0.383907658296:\n",
        "\n"
       ]
      },
      {
       "output_type": "pyout",
       "html": [
        "<div style=\"overflow:auto\"><table style=\"width:50%\"><tr><td></td>\n",
        "<td>NO</td>\n",
        "<td>YES</td>\n",
        "<td>Error</td>\n",
        "<td>Rate</td></tr>\n",
        "<tr><td>NO</td>\n",
        "<td>0.0</td>\n",
        "<td>8850.0</td>\n",
        "<td>1.0</td>\n",
        "<td> (8850.0/8850.0)</td></tr>\n",
        "<tr><td>YES</td>\n",
        "<td>0.0</td>\n",
        "<td>10713.0</td>\n",
        "<td>0.0</td>\n",
        "<td> (0.0/10713.0)</td></tr>\n",
        "<tr><td>Total</td>\n",
        "<td>0.0</td>\n",
        "<td>19563.0</td>\n",
        "<td>1.0</td>\n",
        "<td> (1.0/19563.0)</td></tr></table></div>"
       ],
       "metadata": {}
      },
      {
       "output_type": "stream",
       "stream": "stdout",
       "text": [
        "\n",
        "\n",
        "Confusion Matrix (Act/Pred) @ threshold = 0.383907658296:\n",
        "\n"
       ]
      },
      {
       "output_type": "pyout",
       "html": [
        "<div style=\"overflow:auto\"><table style=\"width:50%\"><tr><td></td>\n",
        "<td>NO</td>\n",
        "<td>YES</td>\n",
        "<td>Error</td>\n",
        "<td>Rate</td></tr>\n",
        "<tr><td>NO</td>\n",
        "<td>0.0</td>\n",
        "<td>8850.0</td>\n",
        "<td>1.0</td>\n",
        "<td> (8850.0/8850.0)</td></tr>\n",
        "<tr><td>YES</td>\n",
        "<td>0.0</td>\n",
        "<td>10713.0</td>\n",
        "<td>0.0</td>\n",
        "<td> (0.0/10713.0)</td></tr>\n",
        "<tr><td>Total</td>\n",
        "<td>0.0</td>\n",
        "<td>19563.0</td>\n",
        "<td>1.0</td>\n",
        "<td> (1.0/19563.0)</td></tr></table></div>"
       ],
       "metadata": {}
      },
      {
       "output_type": "stream",
       "stream": "stdout",
       "text": [
        "\n",
        "\n",
        "Confusion Matrix (Act/Pred) @ threshold = 0.439860523006:\n",
        "\n"
       ]
      },
      {
       "output_type": "pyout",
       "html": [
        "<div style=\"overflow:auto\"><table style=\"width:50%\"><tr><td></td>\n",
        "<td>NO</td>\n",
        "<td>YES</td>\n",
        "<td>Error</td>\n",
        "<td>Rate</td></tr>\n",
        "<tr><td>NO</td>\n",
        "<td>2473.0</td>\n",
        "<td>6377.0</td>\n",
        "<td>0.7206</td>\n",
        "<td> (6377.0/8850.0)</td></tr>\n",
        "<tr><td>YES</td>\n",
        "<td>964.0</td>\n",
        "<td>9749.0</td>\n",
        "<td>0.09</td>\n",
        "<td> (964.0/10713.0)</td></tr>\n",
        "<tr><td>Total</td>\n",
        "<td>3437.0</td>\n",
        "<td>16126.0</td>\n",
        "<td>0.8106</td>\n",
        "<td> (0.8106/19563.0)</td></tr></table></div>"
       ],
       "metadata": {}
      },
      {
       "output_type": "stream",
       "stream": "stdout",
       "text": [
        "\n"
       ]
      }
     ],
     "input": [
      "# Show various confusion matrices for validation dataset (based on threshold(s))\n",
      "print gbm.confusion_matrix(thresholds=0.77) \n",
      "\n",
      "cms = gbm.confusion_matrix(thresholds=[0.25, 0.33, 0.44])\n",
      "print cms[0]\n",
      "print cms[1]\n",
      "print cms[2]"
     ],
     "language": "python",
     "prompt_number": 9
    },
    {
     "cell_type": "code",
     "execution_count": null,
     "metadata": {},
     "outputs": [
      {
       "output_type": "stream",
       "stream": "stdout",
       "text": [
        "Could not find exact threshold 0.77; using closest threshold found 0.6869435993.\n",
        "\n",
        "Confusion Matrix (Act/Pred) @ threshold = 0.6869435993:\n",
        "\n"
       ]
      },
      {
       "output_type": "pyout",
       "html": [
        "<div style=\"overflow:auto\"><table style=\"width:50%\"><tr><td></td>\n",
        "<td>NO</td>\n",
        "<td>YES</td>\n",
        "<td>Error</td>\n",
        "<td>Rate</td></tr>\n",
        "<tr><td>NO</td>\n",
        "<td>8836.0</td>\n",
        "<td>14.0</td>\n",
        "<td>0.0016</td>\n",
        "<td> (14.0/8850.0)</td></tr>\n",
        "<tr><td>YES</td>\n",
        "<td>10597.0</td>\n",
        "<td>116.0</td>\n",
        "<td>0.9892</td>\n",
        "<td> (10597.0/10713.0)</td></tr>\n",
        "<tr><td>Total</td>\n",
        "<td>19433.0</td>\n",
        "<td>130.0</td>\n",
        "<td>0.9908</td>\n",
        "<td> (0.9908/19563.0)</td></tr></table></div>"
       ],
       "metadata": {}
      },
      {
       "output_type": "stream",
       "stream": "stdout",
       "text": [
        "\n",
        "\n",
        "Confusion Matrix (Act/Pred) for max f1 @ threshold = 0.439860523006:\n",
        "\n"
       ]
      },
      {
       "output_type": "pyout",
       "html": [
        "<div style=\"overflow:auto\"><table style=\"width:50%\"><tr><td></td>\n",
        "<td>NO</td>\n",
        "<td>YES</td>\n",
        "<td>Error</td>\n",
        "<td>Rate</td></tr>\n",
        "<tr><td>NO</td>\n",
        "<td>2473.0</td>\n",
        "<td>6377.0</td>\n",
        "<td>0.7206</td>\n",
        "<td> (6377.0/8850.0)</td></tr>\n",
        "<tr><td>YES</td>\n",
        "<td>964.0</td>\n",
        "<td>9749.0</td>\n",
        "<td>0.09</td>\n",
        "<td> (964.0/10713.0)</td></tr>\n",
        "<tr><td>Total</td>\n",
        "<td>3437.0</td>\n",
        "<td>16126.0</td>\n",
        "<td>0.8106</td>\n",
        "<td> (0.8106/19563.0)</td></tr></table></div>"
       ],
       "metadata": {}
      },
      {
       "output_type": "stream",
       "stream": "stdout",
       "text": [
        "\n",
        "Could not find exact threshold 0.25; using closest threshold found 0.383907658296.\n",
        "Could not find exact threshold 0.33; using closest threshold found 0.383907658296.\n",
        "\n",
        "Confusion Matrix (Act/Pred) @ threshold = 0.383907658296:\n",
        "\n"
       ]
      },
      {
       "output_type": "pyout",
       "html": [
        "<div style=\"overflow:auto\"><table style=\"width:50%\"><tr><td></td>\n",
        "<td>NO</td>\n",
        "<td>YES</td>\n",
        "<td>Error</td>\n",
        "<td>Rate</td></tr>\n",
        "<tr><td>NO</td>\n",
        "<td>0.0</td>\n",
        "<td>8850.0</td>\n",
        "<td>1.0</td>\n",
        "<td> (8850.0/8850.0)</td></tr>\n",
        "<tr><td>YES</td>\n",
        "<td>0.0</td>\n",
        "<td>10713.0</td>\n",
        "<td>0.0</td>\n",
        "<td> (0.0/10713.0)</td></tr>\n",
        "<tr><td>Total</td>\n",
        "<td>0.0</td>\n",
        "<td>19563.0</td>\n",
        "<td>1.0</td>\n",
        "<td> (1.0/19563.0)</td></tr></table></div>"
       ],
       "metadata": {}
      },
      {
       "output_type": "stream",
       "stream": "stdout",
       "text": [
        "\n",
        "\n",
        "Confusion Matrix (Act/Pred) @ threshold = 0.383907658296:\n",
        "\n"
       ]
      },
      {
       "output_type": "pyout",
       "html": [
        "<div style=\"overflow:auto\"><table style=\"width:50%\"><tr><td></td>\n",
        "<td>NO</td>\n",
        "<td>YES</td>\n",
        "<td>Error</td>\n",
        "<td>Rate</td></tr>\n",
        "<tr><td>NO</td>\n",
        "<td>0.0</td>\n",
        "<td>8850.0</td>\n",
        "<td>1.0</td>\n",
        "<td> (8850.0/8850.0)</td></tr>\n",
        "<tr><td>YES</td>\n",
        "<td>0.0</td>\n",
        "<td>10713.0</td>\n",
        "<td>0.0</td>\n",
        "<td> (0.0/10713.0)</td></tr>\n",
        "<tr><td>Total</td>\n",
        "<td>0.0</td>\n",
        "<td>19563.0</td>\n",
        "<td>1.0</td>\n",
        "<td> (1.0/19563.0)</td></tr></table></div>"
       ],
       "metadata": {}
      },
      {
       "output_type": "stream",
       "stream": "stdout",
       "text": [
        "\n",
        "\n",
        "Confusion Matrix (Act/Pred) for max f2 @ threshold = 0.398529984517:\n",
        "\n"
       ]
      },
      {
       "output_type": "pyout",
       "html": [
        "<div style=\"overflow:auto\"><table style=\"width:50%\"><tr><td></td>\n",
        "<td>NO</td>\n",
        "<td>YES</td>\n",
        "<td>Error</td>\n",
        "<td>Rate</td></tr>\n",
        "<tr><td>NO</td>\n",
        "<td>355.0</td>\n",
        "<td>8495.0</td>\n",
        "<td>0.9599</td>\n",
        "<td> (8495.0/8850.0)</td></tr>\n",
        "<tr><td>YES</td>\n",
        "<td>60.0</td>\n",
        "<td>10653.0</td>\n",
        "<td>0.0056</td>\n",
        "<td> (60.0/10713.0)</td></tr>\n",
        "<tr><td>Total</td>\n",
        "<td>415.0</td>\n",
        "<td>19148.0</td>\n",
        "<td>0.9655</td>\n",
        "<td> (0.9655/19563.0)</td></tr></table></div>"
       ],
       "metadata": {}
      },
      {
       "output_type": "stream",
       "stream": "stdout",
       "text": [
        "\n",
        "\n",
        "Confusion Matrix (Act/Pred) for max f0point5 @ threshold = 0.535870076134:\n",
        "\n"
       ]
      },
      {
       "output_type": "pyout",
       "html": [
        "<div style=\"overflow:auto\"><table style=\"width:50%\"><tr><td></td>\n",
        "<td>NO</td>\n",
        "<td>YES</td>\n",
        "<td>Error</td>\n",
        "<td>Rate</td></tr>\n",
        "<tr><td>NO</td>\n",
        "<td>5141.0</td>\n",
        "<td>3709.0</td>\n",
        "<td>0.4191</td>\n",
        "<td> (3709.0/8850.0)</td></tr>\n",
        "<tr><td>YES</td>\n",
        "<td>3128.0</td>\n",
        "<td>7585.0</td>\n",
        "<td>0.292</td>\n",
        "<td> (3128.0/10713.0)</td></tr>\n",
        "<tr><td>Total</td>\n",
        "<td>8269.0</td>\n",
        "<td>11294.0</td>\n",
        "<td>0.7111</td>\n",
        "<td> (0.7111/19563.0)</td></tr></table></div>"
       ],
       "metadata": {}
      },
      {
       "output_type": "stream",
       "stream": "stdout",
       "text": [
        "\n"
       ]
      }
     ],
     "input": [
      "# Show various confusion matrices for validation dataset (based on metric(s) AND threshold(s))\n",
      "cms = gbm.confusion_matrix(thresholds=0.77, metrics=\"f1\") \n",
      "print cms[0]\n",
      "print cms[1]\n",
      "\n",
      "cms = gbm.confusion_matrix(thresholds=[0.25, 0.33], metrics=[\"f2\", \"f0point5\"])\n",
      "print cms[0]\n",
      "print cms[1]\n",
      "print cms[2]\n",
      "print cms[3]"
     ],
     "language": "python",
     "prompt_number": 10
    },
    {
     "cell_type": "code",
     "execution_count": null,
     "metadata": {},
     "outputs": [
      {
       "output_type": "stream",
       "stream": "stdout",
       "text": [
        "\n",
        "\r",
        "Parse Progress: [                                                  ] 00%"
       ]
      },
      {
       "output_type": "stream",
       "stream": "stdout",
       "text": [
        "\r",
        "Parse Progress: [##################################################] 100%"
       ]
      },
      {
       "output_type": "stream",
       "stream": "stdout",
       "text": [
        "\n",
        "Imported  /Users/ece/0xdata/h2o-dev/smalldata/airlines/AirlinesTest.csv.zip . Parsed 2,691 rows and 12 cols\n"
       ]
      }
     ],
     "input": [
      "# Test dataset\n",
      "air_test = h2o.import_frame(path=h2o.locate(\"smalldata/airlines/AirlinesTest.csv.zip\"))\n",
      "\n",
      "# Test performance\n",
      "gbm_perf = gbm.model_performance(air_test)"
     ],
     "language": "python",
     "prompt_number": 11
    },
    {
     "cell_type": "code",
     "execution_count": null,
     "metadata": {},
     "outputs": [
      {
       "output_type": "stream",
       "stream": "stdout",
       "text": [
        "\n",
        "Confusion Matrix (Act/Pred) for max f0point5 @ threshold = 0.532779731095:\n",
        "\n"
       ]
      },
      {
       "output_type": "pyout",
       "html": [
        "<div style=\"overflow:auto\"><table style=\"width:50%\"><tr><td></td>\n",
        "<td>NO</td>\n",
        "<td>YES</td>\n",
        "<td>Error</td>\n",
        "<td>Rate</td></tr>\n",
        "<tr><td>NO</td>\n",
        "<td>681.0</td>\n",
        "<td>536.0</td>\n",
        "<td>0.4404</td>\n",
        "<td> (536.0/1217.0)</td></tr>\n",
        "<tr><td>YES</td>\n",
        "<td>400.0</td>\n",
        "<td>1074.0</td>\n",
        "<td>0.2714</td>\n",
        "<td> (400.0/1474.0)</td></tr>\n",
        "<tr><td>Total</td>\n",
        "<td>1081.0</td>\n",
        "<td>1610.0</td>\n",
        "<td>0.7118</td>\n",
        "<td> (0.7118/2691.0)</td></tr></table></div>"
       ],
       "metadata": {}
      },
      {
       "output_type": "stream",
       "stream": "stdout",
       "text": [
        "\n",
        "\n",
        "Confusion Matrix (Act/Pred) for max min_per_class_accuracy @ threshold = 0.554747145173:\n",
        "\n"
       ]
      },
      {
       "output_type": "pyout",
       "html": [
        "<div style=\"overflow:auto\"><table style=\"width:50%\"><tr><td></td>\n",
        "<td>NO</td>\n",
        "<td>YES</td>\n",
        "<td>Error</td>\n",
        "<td>Rate</td></tr>\n",
        "<tr><td>NO</td>\n",
        "<td>776.0</td>\n",
        "<td>441.0</td>\n",
        "<td>0.3624</td>\n",
        "<td> (441.0/1217.0)</td></tr>\n",
        "<tr><td>YES</td>\n",
        "<td>537.0</td>\n",
        "<td>937.0</td>\n",
        "<td>0.3643</td>\n",
        "<td> (537.0/1474.0)</td></tr>\n",
        "<tr><td>Total</td>\n",
        "<td>1313.0</td>\n",
        "<td>1378.0</td>\n",
        "<td>0.7267</td>\n",
        "<td> (0.7267/2691.0)</td></tr></table></div>"
       ],
       "metadata": {}
      },
      {
       "output_type": "stream",
       "stream": "stdout",
       "text": [
        "\n",
        "\n",
        "Confusion Matrix (Act/Pred) for max accuracy @ threshold = 0.523011194769:\n",
        "\n"
       ]
      },
      {
       "output_type": "pyout",
       "html": [
        "<div style=\"overflow:auto\"><table style=\"width:50%\"><tr><td></td>\n",
        "<td>NO</td>\n",
        "<td>YES</td>\n",
        "<td>Error</td>\n",
        "<td>Rate</td></tr>\n",
        "<tr><td>NO</td>\n",
        "<td>648.0</td>\n",
        "<td>569.0</td>\n",
        "<td>0.4675</td>\n",
        "<td> (569.0/1217.0)</td></tr>\n",
        "<tr><td>YES</td>\n",
        "<td>363.0</td>\n",
        "<td>1111.0</td>\n",
        "<td>0.2463</td>\n",
        "<td> (363.0/1474.0)</td></tr>\n",
        "<tr><td>Total</td>\n",
        "<td>1011.0</td>\n",
        "<td>1680.0</td>\n",
        "<td>0.7138</td>\n",
        "<td> (0.7138/2691.0)</td></tr></table></div>"
       ],
       "metadata": {}
      },
      {
       "output_type": "stream",
       "stream": "stdout",
       "text": [
        "\n",
        "\n",
        "Confusion Matrix (Act/Pred) for max f0point5 @ threshold = 0.532779731095:\n",
        "\n"
       ]
      },
      {
       "output_type": "pyout",
       "html": [
        "<div style=\"overflow:auto\"><table style=\"width:50%\"><tr><td></td>\n",
        "<td>NO</td>\n",
        "<td>YES</td>\n",
        "<td>Error</td>\n",
        "<td>Rate</td></tr>\n",
        "<tr><td>NO</td>\n",
        "<td>681.0</td>\n",
        "<td>536.0</td>\n",
        "<td>0.4404</td>\n",
        "<td> (536.0/1217.0)</td></tr>\n",
        "<tr><td>YES</td>\n",
        "<td>400.0</td>\n",
        "<td>1074.0</td>\n",
        "<td>0.2714</td>\n",
        "<td> (400.0/1474.0)</td></tr>\n",
        "<tr><td>Total</td>\n",
        "<td>1081.0</td>\n",
        "<td>1610.0</td>\n",
        "<td>0.7118</td>\n",
        "<td> (0.7118/2691.0)</td></tr></table></div>"
       ],
       "metadata": {}
      },
      {
       "output_type": "stream",
       "stream": "stdout",
       "text": [
        "\n"
       ]
      }
     ],
     "input": [
      "# Show various confusion matrices for test dataset (based on metric(s))\n",
      "print gbm_perf.confusion_matrix(metrics=\"f0point5\")\n",
      "\n",
      "print gbm_perf.confusion_matrix(metrics=\"min_per_class_accuracy\")\n",
      "\n",
      "cms = gbm_perf.confusion_matrix(metrics=[\"accuracy\", \"f0point5\"])\n",
      "print cms[0]\n",
      "print cms[1]"
     ],
     "language": "python",
     "prompt_number": 12
    },
    {
     "cell_type": "code",
     "execution_count": null,
     "metadata": {},
     "outputs": [
      {
       "output_type": "stream",
       "stream": "stdout",
       "text": [
        "Could not find exact threshold 0.5; using closest threshold found 0.500253589848.\n",
        "\n",
        "Confusion Matrix (Act/Pred) @ threshold = 0.500253589848:\n",
        "\n"
       ]
      },
      {
       "output_type": "pyout",
       "html": [
        "<div style=\"overflow:auto\"><table style=\"width:50%\"><tr><td></td>\n",
        "<td>NO</td>\n",
        "<td>YES</td>\n",
        "<td>Error</td>\n",
        "<td>Rate</td></tr>\n",
        "<tr><td>NO</td>\n",
        "<td>563.0</td>\n",
        "<td>654.0</td>\n",
        "<td>0.5374</td>\n",
        "<td> (654.0/1217.0)</td></tr>\n",
        "<tr><td>YES</td>\n",
        "<td>288.0</td>\n",
        "<td>1186.0</td>\n",
        "<td>0.1954</td>\n",
        "<td> (288.0/1474.0)</td></tr>\n",
        "<tr><td>Total</td>\n",
        "<td>851.0</td>\n",
        "<td>1840.0</td>\n",
        "<td>0.7328</td>\n",
        "<td> (0.7328/2691.0)</td></tr></table></div>"
       ],
       "metadata": {}
      },
      {
       "output_type": "stream",
       "stream": "stdout",
       "text": [
        "\n",
        "Could not find exact threshold 0.01; using closest threshold found 0.383989388848.\n",
        "Could not find exact threshold 0.75; using closest threshold found 0.686943579735.\n",
        "Could not find exact threshold 0.88; using closest threshold found 0.686943579735.\n",
        "\n",
        "Confusion Matrix (Act/Pred) @ threshold = 0.383989388848:\n",
        "\n"
       ]
      },
      {
       "output_type": "pyout",
       "html": [
        "<div style=\"overflow:auto\"><table style=\"width:50%\"><tr><td></td>\n",
        "<td>NO</td>\n",
        "<td>YES</td>\n",
        "<td>Error</td>\n",
        "<td>Rate</td></tr>\n",
        "<tr><td>NO</td>\n",
        "<td>0.0</td>\n",
        "<td>1217.0</td>\n",
        "<td>1.0</td>\n",
        "<td> (1217.0/1217.0)</td></tr>\n",
        "<tr><td>YES</td>\n",
        "<td>0.0</td>\n",
        "<td>1474.0</td>\n",
        "<td>0.0</td>\n",
        "<td> (0.0/1474.0)</td></tr>\n",
        "<tr><td>Total</td>\n",
        "<td>0.0</td>\n",
        "<td>2691.0</td>\n",
        "<td>1.0</td>\n",
        "<td> (1.0/2691.0)</td></tr></table></div>"
       ],
       "metadata": {}
      },
      {
       "output_type": "stream",
       "stream": "stdout",
       "text": [
        "\n",
        "\n",
        "Confusion Matrix (Act/Pred) @ threshold = 0.686943579735:\n",
        "\n"
       ]
      },
      {
       "output_type": "pyout",
       "html": [
        "<div style=\"overflow:auto\"><table style=\"width:50%\"><tr><td></td>\n",
        "<td>NO</td>\n",
        "<td>YES</td>\n",
        "<td>Error</td>\n",
        "<td>Rate</td></tr>\n",
        "<tr><td>NO</td>\n",
        "<td>1215.0</td>\n",
        "<td>2.0</td>\n",
        "<td>0.0016</td>\n",
        "<td> (2.0/1217.0)</td></tr>\n",
        "<tr><td>YES</td>\n",
        "<td>1458.0</td>\n",
        "<td>16.0</td>\n",
        "<td>0.9891</td>\n",
        "<td> (1458.0/1474.0)</td></tr>\n",
        "<tr><td>Total</td>\n",
        "<td>2673.0</td>\n",
        "<td>18.0</td>\n",
        "<td>0.9907</td>\n",
        "<td> (0.9907/2691.0)</td></tr></table></div>"
       ],
       "metadata": {}
      },
      {
       "output_type": "stream",
       "stream": "stdout",
       "text": [
        "\n",
        "\n",
        "Confusion Matrix (Act/Pred) @ threshold = 0.686943579735:\n",
        "\n"
       ]
      },
      {
       "output_type": "pyout",
       "html": [
        "<div style=\"overflow:auto\"><table style=\"width:50%\"><tr><td></td>\n",
        "<td>NO</td>\n",
        "<td>YES</td>\n",
        "<td>Error</td>\n",
        "<td>Rate</td></tr>\n",
        "<tr><td>NO</td>\n",
        "<td>1215.0</td>\n",
        "<td>2.0</td>\n",
        "<td>0.0016</td>\n",
        "<td> (2.0/1217.0)</td></tr>\n",
        "<tr><td>YES</td>\n",
        "<td>1458.0</td>\n",
        "<td>16.0</td>\n",
        "<td>0.9891</td>\n",
        "<td> (1458.0/1474.0)</td></tr>\n",
        "<tr><td>Total</td>\n",
        "<td>2673.0</td>\n",
        "<td>18.0</td>\n",
        "<td>0.9907</td>\n",
        "<td> (0.9907/2691.0)</td></tr></table></div>"
       ],
       "metadata": {}
      },
      {
       "output_type": "stream",
       "stream": "stdout",
       "text": [
        "\n"
       ]
      }
     ],
     "input": [
      "# Show various confusion matrices for test dataset (based on threshold(s))\n",
      "print gbm_perf.confusion_matrix(thresholds=0.5) \n",
      "\n",
      "cms = gbm_perf.confusion_matrix(thresholds=[0.01, 0.75, .88])\n",
      "print cms[0]\n",
      "print cms[1]\n",
      "print cms[2]"
     ],
     "language": "python",
     "prompt_number": 13
    },
    {
     "cell_type": "code",
     "execution_count": null,
     "metadata": {},
     "outputs": [
      {
       "output_type": "stream",
       "stream": "stdout",
       "text": [
        "[[2473, 6377], [964, 9749]]\n",
        "[[248, 969], [91, 1383]]\n"
       ]
      }
     ],
     "input": [
      "# Convert a ConfusionMatrix to a python list of lists: [ [tns,fps], [fns,tps] ]\n",
      "cm = gbm.confusion_matrix()\n",
      "print cm.to_list()\n",
      "\n",
      "cm = gbm_perf.confusion_matrix()\n",
      "print cm.to_list()"
     ],
     "language": "python",
     "prompt_number": 14
    }
   ]
  }
 ],
 "cells": [],
 "metadata": {
  "name": "",
  "signature": "sha256:770c3833ca6054180140a2343ec9463713c15a035aae03d41d57a819fd83b394"
 },
 "nbformat": 3,
 "nbformat_minor": 0
}