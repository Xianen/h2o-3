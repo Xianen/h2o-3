{
 "cells": [
  {
   "cell_type": "code",
   "execution_count": 28,
   "metadata": {
    "collapsed": true
   },
   "outputs": [],
   "source": [
    "import h2o\n",
    "import time"
   ]
  },
  {
   "cell_type": "code",
   "execution_count": 29,
   "metadata": {
    "collapsed": false
   },
   "outputs": [
    {
     "name": "stdout",
     "output_type": "stream",
     "text": [
      "Warning: Version mismatch. H2O is version 3.7.0.99999, but the python package is version 3.0.0.99999.\n"
     ]
    },
    {
     "data": {
      "text/html": [
       "<div style=\"overflow:auto\"><table style=\"width:50%\"><tr><td>H2O cluster uptime: </td>\n",
       "<td>17 minutes 58 seconds 967 milliseconds </td></tr>\n",
       "<tr><td>H2O cluster version: </td>\n",
       "<td>3.7.0.99999</td></tr>\n",
       "<tr><td>H2O cluster name: </td>\n",
       "<td>wendycwong</td></tr>\n",
       "<tr><td>H2O cluster total nodes: </td>\n",
       "<td>1</td></tr>\n",
       "<tr><td>H2O cluster total memory: </td>\n",
       "<td>3.56 GB</td></tr>\n",
       "<tr><td>H2O cluster total cores: </td>\n",
       "<td>4</td></tr>\n",
       "<tr><td>H2O cluster allowed cores: </td>\n",
       "<td>4</td></tr>\n",
       "<tr><td>H2O cluster healthy: </td>\n",
       "<td>True</td></tr>\n",
       "<tr><td>H2O Connection ip: </td>\n",
       "<td>127.0.0.1</td></tr>\n",
       "<tr><td>H2O Connection port: </td>\n",
       "<td>54321</td></tr></table></div>"
      ],
      "text/plain": [
       "--------------------------  --------------------------------------\n",
       "H2O cluster uptime:         17 minutes 58 seconds 967 milliseconds\n",
       "H2O cluster version:        3.7.0.99999\n",
       "H2O cluster name:           wendycwong\n",
       "H2O cluster total nodes:    1\n",
       "H2O cluster total memory:   3.56 GB\n",
       "H2O cluster total cores:    4\n",
       "H2O cluster allowed cores:  4\n",
       "H2O cluster healthy:        True\n",
       "H2O Connection ip:          127.0.0.1\n",
       "H2O Connection port:        54321\n",
       "--------------------------  --------------------------------------"
      ]
     },
     "metadata": {},
     "output_type": "display_data"
    }
   ],
   "source": [
    "# Explore a typical Data Science workflow with H2O and Python\n",
    "#\n",
    "# Goal: assist the manager of CitiBike of NYC to load-balance the bicycles\n",
    "# across the CitiBike network of stations, by predicting the number of bike\n",
    "# trips taken from the station every day.  Use 10 million rows of historical\n",
    "# data, and eventually add weather data.\n",
    "\n",
    "\n",
    "# Connect to a cluster\n",
    "h2o.init()"
   ]
  },
  {
   "cell_type": "code",
   "execution_count": 30,
   "metadata": {
    "collapsed": false
   },
   "outputs": [
    {
     "name": "stdout",
     "output_type": "stream",
     "text": [
      "Import and Parse bike data\n",
      "\n",
      "Parse Progress: [##################################################] 100%\n"
     ]
    }
   ],
   "source": [
    "# Pick either the big or the small demo.\n",
    "# Big data is 10M rows\n",
    "small_test = [h2o.locate(\"bigdata/laptop/citibike-nyc/2013-10.csv\")]\n",
    "big_test =   [h2o.locate(\"bigdata/laptop/citibike-nyc/2013-07.csv\"),\n",
    "              h2o.locate(\"bigdata/laptop/citibike-nyc/2013-08.csv\"),\n",
    "              h2o.locate(\"bigdata/laptop/citibike-nyc/2013-09.csv\"),\n",
    "              h2o.locate(\"bigdata/laptop/citibike-nyc/2013-10.csv\"),\n",
    "              h2o.locate(\"bigdata/laptop/citibike-nyc/2013-11.csv\"),\n",
    "              h2o.locate(\"bigdata/laptop/citibike-nyc/2013-12.csv\"),\n",
    "              h2o.locate(\"bigdata/laptop/citibike-nyc/2014-01.csv\"),\n",
    "              h2o.locate(\"bigdata/laptop/citibike-nyc/2014-02.csv\"),\n",
    "              h2o.locate(\"bigdata/laptop/citibike-nyc/2014-03.csv\"),\n",
    "              h2o.locate(\"bigdata/laptop/citibike-nyc/2014-04.csv\"),\n",
    "              h2o.locate(\"bigdata/laptop/citibike-nyc/2014-05.csv\"),\n",
    "              h2o.locate(\"bigdata/laptop/citibike-nyc/2014-06.csv\"),\n",
    "              h2o.locate(\"bigdata/laptop/citibike-nyc/2014-07.csv\"),\n",
    "              h2o.locate(\"bigdata/laptop/citibike-nyc/2014-08.csv\")]\n",
    "\n",
    "# ----------\n",
    "\n",
    "# 1- Load data - 1 row per bicycle trip.  Has columns showing the start and end\n",
    "# station, trip duration and trip start time and day.  The larger dataset\n",
    "# totals about 10 million rows\n",
    "print \"Import and Parse bike data\"\n",
    "data = h2o.import_frame(path=small_test)"
   ]
  },
  {
   "cell_type": "code",
   "execution_count": 31,
   "metadata": {
    "collapsed": false
   },
   "outputs": [
    {
     "name": "stdout",
     "output_type": "stream",
     "text": [
      "Rows:1,037,712 Cols:16\n",
      "\n",
      "Chunk compression summary:\n",
      "\n"
     ]
    },
    {
     "data": {
      "text/html": [
       "<div style=\"overflow:auto\"><table style=\"width:50%\"><tr><td>chunk_type</td>\n",
       "<td>chunk_name</td>\n",
       "<td>count</td>\n",
       "<td>count_percentage</td>\n",
       "<td>size</td>\n",
       "<td>size_percentage</td></tr>\n",
       "<tr><td>C1</td>\n",
       "<td>1-Byte Integers</td>\n",
       "<td>24</td>\n",
       "<td>6.25</td>\n",
       "<td> 1015.0 KB</td>\n",
       "<td>1.6076064</td></tr>\n",
       "<tr><td>C1N</td>\n",
       "<td>1-Byte Integers (w/o NAs)</td>\n",
       "<td>24</td>\n",
       "<td>6.25</td>\n",
       "<td> 1015.0 KB</td>\n",
       "<td>1.6076064</td></tr>\n",
       "<tr><td>C1S</td>\n",
       "<td>1-Byte Fractions</td>\n",
       "<td>48</td>\n",
       "<td>12.5</td>\n",
       "<td>    2.0 MB</td>\n",
       "<td>3.2164009</td></tr>\n",
       "<tr><td>C2</td>\n",
       "<td>2-Byte Integers</td>\n",
       "<td>120</td>\n",
       "<td>31.25</td>\n",
       "<td>    9.9 MB</td>\n",
       "<td>16.063442</td></tr>\n",
       "<tr><td>C2S</td>\n",
       "<td>2-Byte Fractions</td>\n",
       "<td>3</td>\n",
       "<td>0.78125</td>\n",
       "<td>  251.9 KB</td>\n",
       "<td>0.3990092</td></tr>\n",
       "<tr><td>C4</td>\n",
       "<td>4-Byte Integers</td>\n",
       "<td>21</td>\n",
       "<td>5.46875</td>\n",
       "<td>    3.5 MB</td>\n",
       "<td>5.625298</td></tr>\n",
       "<tr><td>C4S</td>\n",
       "<td>4-Byte Fractions</td>\n",
       "<td>21</td>\n",
       "<td>5.46875</td>\n",
       "<td>    3.4 MB</td>\n",
       "<td>5.5816984</td></tr>\n",
       "<tr><td>C8</td>\n",
       "<td>64-bit Integers</td>\n",
       "<td>48</td>\n",
       "<td>12.5</td>\n",
       "<td>   15.8 MB</td>\n",
       "<td>25.686363</td></tr>\n",
       "<tr><td>C8D</td>\n",
       "<td>64-bit Reals</td>\n",
       "<td>75</td>\n",
       "<td>19.53125</td>\n",
       "<td>   24.8 MB</td>\n",
       "<td>40.212574</td></tr></table></div>"
      ],
      "text/plain": [
       "chunk_type    chunk_name                 count    count_percentage    size       size_percentage\n",
       "------------  -------------------------  -------  ------------------  ---------  -----------------\n",
       "C1            1-Byte Integers            24       6.25                1015.0 KB  1.60761\n",
       "C1N           1-Byte Integers (w/o NAs)  24       6.25                1015.0 KB  1.60761\n",
       "C1S           1-Byte Fractions           48       12.5                2.0 MB     3.2164\n",
       "C2            2-Byte Integers            120      31.25               9.9 MB     16.0634\n",
       "C2S           2-Byte Fractions           3        0.78125             251.9 KB   0.399009\n",
       "C4            4-Byte Integers            21       5.46875             3.5 MB     5.6253\n",
       "C4S           4-Byte Fractions           21       5.46875             3.4 MB     5.5817\n",
       "C8            64-bit Integers            48       12.5                15.8 MB    25.6864\n",
       "C8D           64-bit Reals               75       19.5312             24.8 MB    40.2126"
      ]
     },
     "metadata": {},
     "output_type": "display_data"
    },
    {
     "name": "stdout",
     "output_type": "stream",
     "text": [
      "\n",
      "Frame distribution summary:\n",
      "\n"
     ]
    },
    {
     "data": {
      "text/html": [
       "<div style=\"overflow:auto\"><table style=\"width:50%\"><tr><td></td>\n",
       "<td>size</td>\n",
       "<td>number_of_rows</td>\n",
       "<td>number_of_chunks_per_column</td>\n",
       "<td>number_of_chunks</td></tr>\n",
       "<tr><td>172.16.2.28:54321</td>\n",
       "<td>   61.7 MB</td>\n",
       "<td>1037712.0</td>\n",
       "<td>24.0</td>\n",
       "<td>384.0</td></tr>\n",
       "<tr><td>mean</td>\n",
       "<td>   61.7 MB</td>\n",
       "<td>1037712.0</td>\n",
       "<td>24.0</td>\n",
       "<td>384.0</td></tr>\n",
       "<tr><td>min</td>\n",
       "<td>   61.7 MB</td>\n",
       "<td>1037712.0</td>\n",
       "<td>24.0</td>\n",
       "<td>384.0</td></tr>\n",
       "<tr><td>max</td>\n",
       "<td>   61.7 MB</td>\n",
       "<td>1037712.0</td>\n",
       "<td>24.0</td>\n",
       "<td>384.0</td></tr>\n",
       "<tr><td>stddev</td>\n",
       "<td>      0  B</td>\n",
       "<td>0.0</td>\n",
       "<td>0.0</td>\n",
       "<td>0.0</td></tr>\n",
       "<tr><td>total</td>\n",
       "<td>   61.7 MB</td>\n",
       "<td>1037712.0</td>\n",
       "<td>24.0</td>\n",
       "<td>384.0</td></tr></table></div>"
      ],
      "text/plain": [
       "                   size     number_of_rows    number_of_chunks_per_column    number_of_chunks\n",
       "-----------------  -------  ----------------  -----------------------------  ------------------\n",
       "172.16.2.28:54321  61.7 MB  1.03771e+06       24                             384\n",
       "mean               61.7 MB  1.03771e+06       24                             384\n",
       "min                61.7 MB  1.03771e+06       24                             384\n",
       "max                61.7 MB  1.03771e+06       24                             384\n",
       "stddev             0  B     0                 0                              0\n",
       "total              61.7 MB  1.03771e+06       24                             384"
      ]
     },
     "metadata": {},
     "output_type": "display_data"
    },
    {
     "name": "stdout",
     "output_type": "stream",
     "text": [
      "\n",
      "\n"
     ]
    },
    {
     "data": {
      "text/html": [
       "<table>\n",
       "<tr><th>       </th><th>tripduration  </th><th>starttime        </th><th>stoptime         </th><th>start station id  </th><th>start station name      </th><th>start station latitude  </th><th>start station longitude  </th><th>end station id  </th><th>end station name              </th><th>end station latitude  </th><th>end station longitude  </th><th>bikeid       </th><th>usertype      </th><th>birth year   </th><th>gender        </th><th>Days         </th></tr>\n",
       "<tr><td>type   </td><td>int           </td><td>time             </td><td>time             </td><td>int               </td><td>enum                    </td><td>real                    </td><td>real                     </td><td>int             </td><td>enum                          </td><td>real                  </td><td>real                   </td><td>int          </td><td>enum          </td><td>int          </td><td>int           </td><td>int          </td></tr>\n",
       "<tr><td>mins   </td><td>60.0          </td><td>1.380610868e+12  </td><td>1.380611083e+12  </td><td>72.0              </td><td>0.0                     </td><td>40.680342423            </td><td>-74.01713445             </td><td>72.0            </td><td>0.0                           </td><td>40.680342423          </td><td>-74.01713445           </td><td>14529.0      </td><td>0.0           </td><td>1899.0       </td><td>0.0           </td><td>15979.0      </td></tr>\n",
       "<tr><td>mean   </td><td>825.614754383 </td><td>1.38191371692e+12</td><td>1.38191454253e+12</td><td>443.714212614     </td><td>NaN                     </td><td>40.7345188586           </td><td>-73.9911328848           </td><td>443.207421712   </td><td>NaN                           </td><td>40.7342847885         </td><td>-73.9912702982         </td><td>17644.0716451</td><td>0.906095332809</td><td>1975.77839486</td><td>1.12375591686 </td><td>15993.8523906</td></tr>\n",
       "<tr><td>maxs   </td><td>1259480.0     </td><td>1.383289197e+12  </td><td>1.38341851e+12   </td><td>3002.0            </td><td>329.0                   </td><td>40.770513               </td><td>-73.9500479759           </td><td>3002.0          </td><td>329.0                         </td><td>40.770513             </td><td>-73.9500479759         </td><td>20757.0      </td><td>1.0           </td><td>1997.0       </td><td>2.0           </td><td>16010.0      </td></tr>\n",
       "<tr><td>sigma  </td><td>2000.3732323  </td><td>778871729.131    </td><td>778847387.504    </td><td>354.434325075     </td><td>NaN                     </td><td>0.0195734073053         </td><td>0.0123161234106          </td><td>357.398217058   </td><td>NaN                           </td><td>0.0195578458116       </td><td>0.0123855811965        </td><td>1717.68112134</td><td>0.291696182123</td><td>11.1314906238</td><td>0.544380593291</td><td>9.02215033585</td></tr>\n",
       "<tr><td>zeros  </td><td>0             </td><td>0                </td><td>0                </td><td>0                 </td><td>5239                    </td><td>0                       </td><td>0                        </td><td>0               </td><td>5449                          </td><td>0                     </td><td>0                      </td><td>0            </td><td>97446         </td><td>0            </td><td>97498         </td><td>0            </td></tr>\n",
       "<tr><td>missing</td><td>0             </td><td>0                </td><td>0                </td><td>0                 </td><td>0                       </td><td>0                       </td><td>0                        </td><td>0               </td><td>0                             </td><td>0                     </td><td>0                      </td><td>0            </td><td>0             </td><td>97445        </td><td>0             </td><td>0            </td></tr>\n",
       "<tr><td>0      </td><td>326.0         </td><td>1.380610868e+12  </td><td>1.380611194e+12  </td><td>239.0             </td><td>Willoughby St & Fleet St</td><td>40.69196566             </td><td>-73.9813018              </td><td>366.0           </td><td>Clinton Ave & Myrtle Ave      </td><td>40.693261             </td><td>-73.968896             </td><td>16052.0      </td><td>Subscriber    </td><td>1982.0       </td><td>1.0           </td><td>15979.0      </td></tr>\n",
       "<tr><td>1      </td><td>729.0         </td><td>1.380610881e+12  </td><td>1.38061161e+12   </td><td>322.0             </td><td>Clinton St & Tillary St </td><td>40.696192               </td><td>-73.991218               </td><td>398.0           </td><td>Atlantic Ave & Furman St      </td><td>40.69165183           </td><td>-73.9999786            </td><td>19412.0      </td><td>Customer      </td><td>nan          </td><td>0.0           </td><td>15979.0      </td></tr>\n",
       "<tr><td>2      </td><td>520.0         </td><td>1.380610884e+12  </td><td>1.380611404e+12  </td><td>174.0             </td><td>E 25 St & 1 Ave         </td><td>40.7381765              </td><td>-73.97738662             </td><td>403.0           </td><td>E 2 St & 2 Ave                </td><td>40.72502876           </td><td>-73.99069656           </td><td>19645.0      </td><td>Subscriber    </td><td>1984.0       </td><td>1.0           </td><td>15979.0      </td></tr>\n",
       "<tr><td>3      </td><td>281.0         </td><td>1.380610885e+12  </td><td>1.380611166e+12  </td><td>430.0             </td><td>York St & Jay St        </td><td>40.7014851              </td><td>-73.98656928             </td><td>323.0           </td><td>Lawrence St & Willoughby St   </td><td>40.69236178           </td><td>-73.98631746           </td><td>16992.0      </td><td>Subscriber    </td><td>1985.0       </td><td>1.0           </td><td>15979.0      </td></tr>\n",
       "<tr><td>4      </td><td>196.0         </td><td>1.380610887e+12  </td><td>1.380611083e+12  </td><td>403.0             </td><td>E 2 St & 2 Ave          </td><td>40.72502876             </td><td>-73.99069656             </td><td>401.0           </td><td>Allen St & Rivington St       </td><td>40.72019576           </td><td>-73.98997825           </td><td>15690.0      </td><td>Subscriber    </td><td>1986.0       </td><td>1.0           </td><td>15979.0      </td></tr>\n",
       "<tr><td>5      </td><td>1948.0        </td><td>1.380610908e+12  </td><td>1.380612856e+12  </td><td>369.0             </td><td>Washington Pl & 6 Ave   </td><td>40.73224119             </td><td>-74.00026394             </td><td>307.0           </td><td>Canal St & Rutgers St         </td><td>40.71427487           </td><td>-73.98990025           </td><td>19846.0      </td><td>Subscriber    </td><td>1977.0       </td><td>1.0           </td><td>15979.0      </td></tr>\n",
       "<tr><td>6      </td><td>1327.0        </td><td>1.380610908e+12  </td><td>1.380612235e+12  </td><td>254.0             </td><td>W 11 St & 6 Ave         </td><td>40.73532427             </td><td>-73.99800419             </td><td>539.0           </td><td>Metropolitan Ave & Bedford Ave</td><td>40.71534825           </td><td>-73.96024116           </td><td>14563.0      </td><td>Subscriber    </td><td>1986.0       </td><td>2.0           </td><td>15979.0      </td></tr>\n",
       "<tr><td>7      </td><td>1146.0        </td><td>1.380610917e+12  </td><td>1.380612063e+12  </td><td>490.0             </td><td>8 Ave & W 33 St         </td><td>40.751551               </td><td>-73.993934               </td><td>438.0           </td><td>St Marks Pl & 1 Ave           </td><td>40.72779126           </td><td>-73.98564945           </td><td>16793.0      </td><td>Subscriber    </td><td>1959.0       </td><td>1.0           </td><td>15979.0      </td></tr>\n",
       "<tr><td>8      </td><td>380.0         </td><td>1.380610918e+12  </td><td>1.380611298e+12  </td><td>468.0             </td><td>Broadway & W 55 St      </td><td>40.7652654              </td><td>-73.98192338             </td><td>385.0           </td><td>E 55 St & 2 Ave               </td><td>40.75797322           </td><td>-73.96603308           </td><td>16600.0      </td><td>Customer      </td><td>nan          </td><td>0.0           </td><td>15979.0      </td></tr>\n",
       "<tr><td>9      </td><td>682.0         </td><td>1.380610925e+12  </td><td>1.380611607e+12  </td><td>300.0             </td><td>Shevchenko Pl & E 6 St  </td><td>40.728145               </td><td>-73.990214               </td><td>519.0           </td><td>Pershing Square N             </td><td>40.75188406           </td><td>-73.97770164           </td><td>15204.0      </td><td>Subscriber    </td><td>1992.0       </td><td>1.0           </td><td>15979.0      </td></tr>\n",
       "</table>"
      ]
     },
     "metadata": {},
     "output_type": "display_data"
    }
   ],
   "source": [
    "# ----------\n",
    "\n",
    "# 2- light data munging: group the bike starts per-day, converting the 10M rows\n",
    "# of trips to about 140,000 station&day combos - predicting the number of trip\n",
    "# starts per-station-per-day.\n",
    "\n",
    "# Convert start time to: Day since the Epoch\n",
    "startime = data[\"starttime\"]\n",
    "secsPerDay=1000*60*60*24\n",
    "data[\"Days\"] = (startime/secsPerDay).floor()\n",
    "data.describe()"
   ]
  },
  {
   "cell_type": "code",
   "execution_count": 32,
   "metadata": {
    "collapsed": false
   },
   "outputs": [
    {
     "data": {
      "text/html": [
       "<table>\n",
       "<tr><th style=\"text-align: right;\">  Days</th><th>start station name     </th><th style=\"text-align: right;\">  bikes</th></tr>\n",
       "<tr><td style=\"text-align: right;\"> 15979</td><td>1 Ave & E 15 St        </td><td style=\"text-align: right;\">     97</td></tr>\n",
       "<tr><td style=\"text-align: right;\"> 15979</td><td>1 Ave & E 18 St        </td><td style=\"text-align: right;\">     75</td></tr>\n",
       "<tr><td style=\"text-align: right;\"> 15979</td><td>1 Ave & E 30 St        </td><td style=\"text-align: right;\">    113</td></tr>\n",
       "<tr><td style=\"text-align: right;\"> 15979</td><td>10 Ave & W 28 St       </td><td style=\"text-align: right;\">     74</td></tr>\n",
       "<tr><td style=\"text-align: right;\"> 15979</td><td>11 Ave & W 27 St       </td><td style=\"text-align: right;\">    139</td></tr>\n",
       "<tr><td style=\"text-align: right;\"> 15979</td><td>11 Ave & W 41 St       </td><td style=\"text-align: right;\">     60</td></tr>\n",
       "<tr><td style=\"text-align: right;\"> 15979</td><td>12 Ave & W 40 St       </td><td style=\"text-align: right;\">     90</td></tr>\n",
       "<tr><td style=\"text-align: right;\"> 15979</td><td>2 Ave & E 31 St        </td><td style=\"text-align: right;\">     88</td></tr>\n",
       "<tr><td style=\"text-align: right;\"> 15979</td><td>2 Ave & E 58 St        </td><td style=\"text-align: right;\">     55</td></tr>\n",
       "<tr><td style=\"text-align: right;\"> 15979</td><td>3 Ave & Schermerhorn St</td><td style=\"text-align: right;\">      8</td></tr>\n",
       "</table>"
      ]
     },
     "metadata": {},
     "output_type": "display_data"
    },
    {
     "name": "stdout",
     "output_type": "stream",
     "text": [
      "Rows:10,450 Cols:3\n",
      "\n",
      "Chunk compression summary:\n",
      "\n"
     ]
    },
    {
     "data": {
      "text/html": [
       "<div style=\"overflow:auto\"><table style=\"width:50%\"><tr><td>chunk_type</td>\n",
       "<td>chunk_name</td>\n",
       "<td>count</td>\n",
       "<td>count_percentage</td>\n",
       "<td>size</td>\n",
       "<td>size_percentage</td></tr>\n",
       "<tr><td>C1S</td>\n",
       "<td>1-Byte Fractions</td>\n",
       "<td>16</td>\n",
       "<td>33.333336</td>\n",
       "<td>   11.5 KB</td>\n",
       "<td>21.14757</td></tr>\n",
       "<tr><td>C2</td>\n",
       "<td>2-Byte Integers</td>\n",
       "<td>32</td>\n",
       "<td>66.66667</td>\n",
       "<td>   42.9 KB</td>\n",
       "<td>78.852425</td></tr></table></div>"
      ],
      "text/plain": [
       "chunk_type    chunk_name        count    count_percentage    size     size_percentage\n",
       "------------  ----------------  -------  ------------------  -------  -----------------\n",
       "C1S           1-Byte Fractions  16       33.3333             11.5 KB  21.1476\n",
       "C2            2-Byte Integers   32       66.6667             42.9 KB  78.8524"
      ]
     },
     "metadata": {},
     "output_type": "display_data"
    },
    {
     "name": "stdout",
     "output_type": "stream",
     "text": [
      "\n",
      "Frame distribution summary:\n",
      "\n"
     ]
    },
    {
     "data": {
      "text/html": [
       "<div style=\"overflow:auto\"><table style=\"width:50%\"><tr><td></td>\n",
       "<td>size</td>\n",
       "<td>number_of_rows</td>\n",
       "<td>number_of_chunks_per_column</td>\n",
       "<td>number_of_chunks</td></tr>\n",
       "<tr><td>172.16.2.28:54321</td>\n",
       "<td>   54.5 KB</td>\n",
       "<td>10450.0</td>\n",
       "<td>16.0</td>\n",
       "<td>48.0</td></tr>\n",
       "<tr><td>mean</td>\n",
       "<td>   54.5 KB</td>\n",
       "<td>10450.0</td>\n",
       "<td>16.0</td>\n",
       "<td>48.0</td></tr>\n",
       "<tr><td>min</td>\n",
       "<td>   54.5 KB</td>\n",
       "<td>10450.0</td>\n",
       "<td>16.0</td>\n",
       "<td>48.0</td></tr>\n",
       "<tr><td>max</td>\n",
       "<td>   54.5 KB</td>\n",
       "<td>10450.0</td>\n",
       "<td>16.0</td>\n",
       "<td>48.0</td></tr>\n",
       "<tr><td>stddev</td>\n",
       "<td>      0  B</td>\n",
       "<td>0.0</td>\n",
       "<td>0.0</td>\n",
       "<td>0.0</td></tr>\n",
       "<tr><td>total</td>\n",
       "<td>   54.5 KB</td>\n",
       "<td>10450.0</td>\n",
       "<td>16.0</td>\n",
       "<td>48.0</td></tr></table></div>"
      ],
      "text/plain": [
       "                   size     number_of_rows    number_of_chunks_per_column    number_of_chunks\n",
       "-----------------  -------  ----------------  -----------------------------  ------------------\n",
       "172.16.2.28:54321  54.5 KB  10450             16                             48\n",
       "mean               54.5 KB  10450             16                             48\n",
       "min                54.5 KB  10450             16                             48\n",
       "max                54.5 KB  10450             16                             48\n",
       "stddev             0  B     0                 0                              0\n",
       "total              54.5 KB  10450             16                             48"
      ]
     },
     "metadata": {},
     "output_type": "display_data"
    },
    {
     "name": "stdout",
     "output_type": "stream",
     "text": [
      "\n",
      "\n"
     ]
    },
    {
     "data": {
      "text/html": [
       "<table>\n",
       "<tr><th>       </th><th>Days         </th><th>start station name     </th><th>bikes        </th></tr>\n",
       "<tr><td>type   </td><td>int          </td><td>enum                   </td><td>int          </td></tr>\n",
       "<tr><td>mins   </td><td>15979.0      </td><td>0.0                    </td><td>1.0          </td></tr>\n",
       "<tr><td>mean   </td><td>15994.4415311</td><td>NaN                    </td><td>99.3025837321</td></tr>\n",
       "<tr><td>maxs   </td><td>16010.0      </td><td>329.0                  </td><td>553.0        </td></tr>\n",
       "<tr><td>sigma  </td><td>9.23370172444</td><td>NaN                    </td><td>72.9721964301</td></tr>\n",
       "<tr><td>zeros  </td><td>0            </td><td>32                     </td><td>0            </td></tr>\n",
       "<tr><td>missing</td><td>0            </td><td>0                      </td><td>0            </td></tr>\n",
       "<tr><td>0      </td><td>15979.0      </td><td>1 Ave & E 15 St        </td><td>97.0         </td></tr>\n",
       "<tr><td>1      </td><td>15979.0      </td><td>1 Ave & E 18 St        </td><td>75.0         </td></tr>\n",
       "<tr><td>2      </td><td>15979.0      </td><td>1 Ave & E 30 St        </td><td>113.0        </td></tr>\n",
       "<tr><td>3      </td><td>15979.0      </td><td>10 Ave & W 28 St       </td><td>74.0         </td></tr>\n",
       "<tr><td>4      </td><td>15979.0      </td><td>11 Ave & W 27 St       </td><td>139.0        </td></tr>\n",
       "<tr><td>5      </td><td>15979.0      </td><td>11 Ave & W 41 St       </td><td>60.0         </td></tr>\n",
       "<tr><td>6      </td><td>15979.0      </td><td>12 Ave & W 40 St       </td><td>90.0         </td></tr>\n",
       "<tr><td>7      </td><td>15979.0      </td><td>2 Ave & E 31 St        </td><td>88.0         </td></tr>\n",
       "<tr><td>8      </td><td>15979.0      </td><td>2 Ave & E 58 St        </td><td>55.0         </td></tr>\n",
       "<tr><td>9      </td><td>15979.0      </td><td>3 Ave & Schermerhorn St</td><td>8.0          </td></tr>\n",
       "</table>"
      ]
     },
     "metadata": {},
     "output_type": "display_data"
    },
    {
     "data": {
      "text/plain": [
       "[10450, 3]"
      ]
     },
     "execution_count": 32,
     "metadata": {},
     "output_type": "execute_result"
    }
   ],
   "source": [
    "# Now do a monster Group-By.  Count bike starts per-station per-day.  Ends up\n",
    "# with about 340 stations times 400 days (140,000 rows).  This is what we want\n",
    "# to predict.\n",
    "grouped = data.group_by([\"Days\",\"start station name\"])\n",
    "bpd = grouped.count().get_frame() # Compute bikes-per-day\n",
    "bpd.set_name(2,\"bikes\")\n",
    "bpd.show()\n",
    "bpd.describe()\n",
    "bpd.dim"
   ]
  },
  {
   "cell_type": "code",
   "execution_count": 33,
   "metadata": {
    "collapsed": false
   },
   "outputs": [
    {
     "name": "stdout",
     "output_type": "stream",
     "text": [
      "Quantiles of bikes-per-day\n"
     ]
    },
    {
     "data": {
      "text/html": [
       "<table>\n",
       "<tr><th style=\"text-align: right;\">  Probs</th><th style=\"text-align: right;\">  bikesQuantiles</th></tr>\n",
       "<tr><td style=\"text-align: right;\">  0.01 </td><td style=\"text-align: right;\">            4.49</td></tr>\n",
       "<tr><td style=\"text-align: right;\">  0.1  </td><td style=\"text-align: right;\">           19   </td></tr>\n",
       "<tr><td style=\"text-align: right;\">  0.25 </td><td style=\"text-align: right;\">           43   </td></tr>\n",
       "<tr><td style=\"text-align: right;\">  0.333</td><td style=\"text-align: right;\">           57   </td></tr>\n",
       "<tr><td style=\"text-align: right;\">  0.5  </td><td style=\"text-align: right;\">           87   </td></tr>\n",
       "<tr><td style=\"text-align: right;\">  0.667</td><td style=\"text-align: right;\">          118   </td></tr>\n",
       "<tr><td style=\"text-align: right;\">  0.75 </td><td style=\"text-align: right;\">          137   </td></tr>\n",
       "<tr><td style=\"text-align: right;\">  0.9  </td><td style=\"text-align: right;\">          192   </td></tr>\n",
       "<tr><td style=\"text-align: right;\">  0.99 </td><td style=\"text-align: right;\">          334.51</td></tr>\n",
       "</table>"
      ]
     },
     "metadata": {},
     "output_type": "display_data"
    }
   ],
   "source": [
    "# Quantiles: the data is fairly unbalanced; some station/day combos are wildly\n",
    "# more popular than others.\n",
    "print \"Quantiles of bikes-per-day\"\n",
    "bpd[\"bikes\"].quantile().show()"
   ]
  },
  {
   "cell_type": "code",
   "execution_count": 34,
   "metadata": {
    "collapsed": false
   },
   "outputs": [
    {
     "name": "stdout",
     "output_type": "stream",
     "text": [
      "Bikes-Per-Day\n",
      "Rows:10,450 Cols:5\n",
      "\n",
      "Chunk compression summary:\n",
      "\n"
     ]
    },
    {
     "data": {
      "text/html": [
       "<div style=\"overflow:auto\"><table style=\"width:50%\"><tr><td>chunk_type</td>\n",
       "<td>chunk_name</td>\n",
       "<td>count</td>\n",
       "<td>count_percentage</td>\n",
       "<td>size</td>\n",
       "<td>size_percentage</td></tr>\n",
       "<tr><td>C0L</td>\n",
       "<td>Constant Integers</td>\n",
       "<td>15</td>\n",
       "<td>18.75</td>\n",
       "<td>    1.2 KB</td>\n",
       "<td>1.7623475</td></tr>\n",
       "<tr><td>CBS</td>\n",
       "<td>Bits</td>\n",
       "<td>2</td>\n",
       "<td>2.5</td>\n",
       "<td>    304  B</td>\n",
       "<td>0.44646138</td></tr>\n",
       "<tr><td>C1N</td>\n",
       "<td>1-Byte Integers (w/o NAs)</td>\n",
       "<td>15</td>\n",
       "<td>18.75</td>\n",
       "<td>   10.6 KB</td>\n",
       "<td>15.886094</td></tr>\n",
       "<tr><td>C1S</td>\n",
       "<td>1-Byte Fractions</td>\n",
       "<td>16</td>\n",
       "<td>20.0</td>\n",
       "<td>   11.5 KB</td>\n",
       "<td>17.320938</td></tr>\n",
       "<tr><td>C2</td>\n",
       "<td>2-Byte Integers</td>\n",
       "<td>32</td>\n",
       "<td>40.0</td>\n",
       "<td>   42.9 KB</td>\n",
       "<td>64.58416</td></tr></table></div>"
      ],
      "text/plain": [
       "chunk_type    chunk_name                 count    count_percentage    size     size_percentage\n",
       "------------  -------------------------  -------  ------------------  -------  -----------------\n",
       "C0L           Constant Integers          15       18.75               1.2 KB   1.76235\n",
       "CBS           Bits                       2        2.5                 304  B   0.446461\n",
       "C1N           1-Byte Integers (w/o NAs)  15       18.75               10.6 KB  15.8861\n",
       "C1S           1-Byte Fractions           16       20                  11.5 KB  17.3209\n",
       "C2            2-Byte Integers            32       40                  42.9 KB  64.5842"
      ]
     },
     "metadata": {},
     "output_type": "display_data"
    },
    {
     "name": "stdout",
     "output_type": "stream",
     "text": [
      "\n",
      "Frame distribution summary:\n",
      "\n"
     ]
    },
    {
     "data": {
      "text/html": [
       "<div style=\"overflow:auto\"><table style=\"width:50%\"><tr><td></td>\n",
       "<td>size</td>\n",
       "<td>number_of_rows</td>\n",
       "<td>number_of_chunks_per_column</td>\n",
       "<td>number_of_chunks</td></tr>\n",
       "<tr><td>172.16.2.28:54321</td>\n",
       "<td>   66.5 KB</td>\n",
       "<td>10450.0</td>\n",
       "<td>16.0</td>\n",
       "<td>80.0</td></tr>\n",
       "<tr><td>mean</td>\n",
       "<td>   66.5 KB</td>\n",
       "<td>10450.0</td>\n",
       "<td>16.0</td>\n",
       "<td>80.0</td></tr>\n",
       "<tr><td>min</td>\n",
       "<td>   66.5 KB</td>\n",
       "<td>10450.0</td>\n",
       "<td>16.0</td>\n",
       "<td>80.0</td></tr>\n",
       "<tr><td>max</td>\n",
       "<td>   66.5 KB</td>\n",
       "<td>10450.0</td>\n",
       "<td>16.0</td>\n",
       "<td>80.0</td></tr>\n",
       "<tr><td>stddev</td>\n",
       "<td>      0  B</td>\n",
       "<td>0.0</td>\n",
       "<td>0.0</td>\n",
       "<td>0.0</td></tr>\n",
       "<tr><td>total</td>\n",
       "<td>   66.5 KB</td>\n",
       "<td>10450.0</td>\n",
       "<td>16.0</td>\n",
       "<td>80.0</td></tr></table></div>"
      ],
      "text/plain": [
       "                   size     number_of_rows    number_of_chunks_per_column    number_of_chunks\n",
       "-----------------  -------  ----------------  -----------------------------  ------------------\n",
       "172.16.2.28:54321  66.5 KB  10450             16                             80\n",
       "mean               66.5 KB  10450             16                             80\n",
       "min                66.5 KB  10450             16                             80\n",
       "max                66.5 KB  10450             16                             80\n",
       "stddev             0  B     0                 0                              0\n",
       "total              66.5 KB  10450             16                             80"
      ]
     },
     "metadata": {},
     "output_type": "display_data"
    },
    {
     "name": "stdout",
     "output_type": "stream",
     "text": [
      "\n",
      "\n"
     ]
    },
    {
     "data": {
      "text/html": [
       "<table>\n",
       "<tr><th>       </th><th>Days         </th><th>start station name     </th><th>bikes        </th><th>Month         </th><th>DayOfWeek  </th></tr>\n",
       "<tr><td>type   </td><td>int          </td><td>enum                   </td><td>int          </td><td>enum          </td><td>enum       </td></tr>\n",
       "<tr><td>mins   </td><td>15979.0      </td><td>0.0                    </td><td>1.0          </td><td>0.0           </td><td>0.0        </td></tr>\n",
       "<tr><td>mean   </td><td>15994.4415311</td><td>NaN                    </td><td>99.3025837321</td><td>0.968612440191</td><td>NaN        </td></tr>\n",
       "<tr><td>maxs   </td><td>16010.0      </td><td>329.0                  </td><td>553.0        </td><td>1.0           </td><td>6.0        </td></tr>\n",
       "<tr><td>sigma  </td><td>9.23370172444</td><td>NaN                    </td><td>72.9721964301</td><td>0.174371128617</td><td>NaN        </td></tr>\n",
       "<tr><td>zeros  </td><td>0            </td><td>32                     </td><td>0            </td><td>328           </td><td>1635       </td></tr>\n",
       "<tr><td>missing</td><td>0            </td><td>0                      </td><td>0            </td><td>0             </td><td>0          </td></tr>\n",
       "<tr><td>0      </td><td>15979.0      </td><td>1 Ave & E 15 St        </td><td>97.0         </td><td>9             </td><td>Mon        </td></tr>\n",
       "<tr><td>1      </td><td>15979.0      </td><td>1 Ave & E 18 St        </td><td>75.0         </td><td>9             </td><td>Mon        </td></tr>\n",
       "<tr><td>2      </td><td>15979.0      </td><td>1 Ave & E 30 St        </td><td>113.0        </td><td>9             </td><td>Mon        </td></tr>\n",
       "<tr><td>3      </td><td>15979.0      </td><td>10 Ave & W 28 St       </td><td>74.0         </td><td>9             </td><td>Mon        </td></tr>\n",
       "<tr><td>4      </td><td>15979.0      </td><td>11 Ave & W 27 St       </td><td>139.0        </td><td>9             </td><td>Mon        </td></tr>\n",
       "<tr><td>5      </td><td>15979.0      </td><td>11 Ave & W 41 St       </td><td>60.0         </td><td>9             </td><td>Mon        </td></tr>\n",
       "<tr><td>6      </td><td>15979.0      </td><td>12 Ave & W 40 St       </td><td>90.0         </td><td>9             </td><td>Mon        </td></tr>\n",
       "<tr><td>7      </td><td>15979.0      </td><td>2 Ave & E 31 St        </td><td>88.0         </td><td>9             </td><td>Mon        </td></tr>\n",
       "<tr><td>8      </td><td>15979.0      </td><td>2 Ave & E 58 St        </td><td>55.0         </td><td>9             </td><td>Mon        </td></tr>\n",
       "<tr><td>9      </td><td>15979.0      </td><td>3 Ave & Schermerhorn St</td><td>8.0          </td><td>9             </td><td>Mon        </td></tr>\n",
       "</table>"
      ]
     },
     "metadata": {},
     "output_type": "display_data"
    }
   ],
   "source": [
    "# A little feature engineering\n",
    "# Add in month-of-year (seasonality; fewer bike rides in winter than summer)\n",
    "secs = bpd[\"Days\"]*secsPerDay\n",
    "bpd[\"Month\"]     = secs.month().asfactor()\n",
    "# Add in day-of-week (work-week; more bike rides on Sunday than Monday)\n",
    "bpd[\"DayOfWeek\"] = secs.dayOfWeek()\n",
    "print \"Bikes-Per-Day\"\n",
    "bpd.describe()"
   ]
  },
  {
   "cell_type": "code",
   "execution_count": 35,
   "metadata": {
    "collapsed": true
   },
   "outputs": [],
   "source": [
    "# ----------\n",
    "# 3- Fit a model on train; using test as validation\n",
    "\n",
    "# Function for doing class test/train/holdout split\n",
    "def split_fit_predict(data):\n",
    "  global gbm0,drf0,glm0,dl0\n",
    "  # Classic Test/Train split\n",
    "  r = data['Days'].runif()   # Random UNIForm numbers, one per row\n",
    "  train = data[  r  < 0.6]\n",
    "  test  = data[(0.6 <= r) & (r < 0.9)]\n",
    "  hold  = data[ 0.9 <= r ]\n",
    "  print \"Training data has\",train.ncol,\"columns and\",train.nrow,\"rows, test has\",test.nrow,\"rows, holdout has\",hold.nrow\n",
    "  \n",
    "  # Run GBM\n",
    "  s = time.time()\n",
    "  gbm0 = h2o.gbm(x           =train.drop(\"bikes\"),\n",
    "                 y           =train     [\"bikes\"],\n",
    "                 validation_x=test .drop(\"bikes\"),\n",
    "                 validation_y=test      [\"bikes\"],\n",
    "                 ntrees=500, # 500 works well\n",
    "                 max_depth=6,\n",
    "                 learn_rate=0.1)\n",
    "  gbm_elapsed = time.time() - s\n",
    "\n",
    "  # Run DRF\n",
    "  s = time.time()\n",
    "  drf0 = h2o.random_forest(x =train.drop(\"bikes\"),\n",
    "                y           =train     [\"bikes\"],\n",
    "                validation_x=test .drop(\"bikes\"),\n",
    "                validation_y=test      [\"bikes\"],\n",
    "                ntrees=250,\n",
    "                max_depth=30)\n",
    "  drf_elapsed = time.time() - s \n",
    "    \n",
    "    \n",
    "  # Run GLM\n",
    "  s = time.time()\n",
    "  glm0 = h2o.glm(x           =train.drop(\"bikes\"),\n",
    "                 y           =train     [\"bikes\"],\n",
    "                 validation_x=test .drop(\"bikes\"),\n",
    "                 validation_y=test      [\"bikes\"],\n",
    "                 Lambda=[1e-5],\n",
    "                 family=\"poisson\")\n",
    "  glm_elapsed = time.time() - s\n",
    "  \n",
    "  # Run DL\n",
    "  s = time.time()\n",
    "  dl0 = h2o.deeplearning(x  =train.drop(\"bikes\"),\n",
    "                y           =train     [\"bikes\"],\n",
    "                validation_x=test .drop(\"bikes\"),\n",
    "                validation_y=test      [\"bikes\"],\n",
    "                hidden=[50,50,50,50],\n",
    "                epochs=50)\n",
    "  dl_elapsed = time.time() - s\n",
    "  \n",
    "  # ----------\n",
    "  # 4- Score on holdout set & report\n",
    "  train_r2_gbm = gbm0.model_performance(train).r2()\n",
    "  test_r2_gbm  = gbm0.model_performance(test ).r2()\n",
    "  hold_r2_gbm  = gbm0.model_performance(hold ).r2()\n",
    "#   print \"GBM R2 TRAIN=\",train_r2_gbm,\", R2 TEST=\",test_r2_gbm,\", R2 HOLDOUT=\",hold_r2_gbm\n",
    "  \n",
    "  train_r2_drf = drf0.model_performance(train).r2()\n",
    "  test_r2_drf  = drf0.model_performance(test ).r2()\n",
    "  hold_r2_drf  = drf0.model_performance(hold ).r2()\n",
    "#   print \"DRF R2 TRAIN=\",train_r2_drf,\", R2 TEST=\",test_r2_drf,\", R2 HOLDOUT=\",hold_r2_drf\n",
    "  \n",
    "  train_r2_glm = glm0.model_performance(train).r2()\n",
    "  test_r2_glm  = glm0.model_performance(test ).r2()\n",
    "  hold_r2_glm  = glm0.model_performance(hold ).r2()\n",
    "#   print \"GLM R2 TRAIN=\",train_r2_glm,\", R2 TEST=\",test_r2_glm,\", R2 HOLDOUT=\",hold_r2_glm\n",
    "    \n",
    "  train_r2_dl = dl0.model_performance(train).r2()\n",
    "  test_r2_dl  = dl0.model_performance(test ).r2()\n",
    "  hold_r2_dl  = dl0.model_performance(hold ).r2()\n",
    "#   print \" DL R2 TRAIN=\",train_r2_dl,\", R2 TEST=\",test_r2_dl,\", R2 HOLDOUT=\",hold_r2_dl\n",
    "    \n",
    "  # make a pretty HTML table printout of the results\n",
    "\n",
    "  header = [\"Model\", \"R2 TRAIN\", \"R2 TEST\", \"R2 HOLDOUT\", \"Model Training Time (s)\"]\n",
    "  table  = [\n",
    "            [\"GBM\", train_r2_gbm, test_r2_gbm, hold_r2_gbm, round(gbm_elapsed,3)],\n",
    "            [\"DRF\", train_r2_drf, test_r2_drf, hold_r2_drf, round(drf_elapsed,3)],\n",
    "            [\"GLM\", train_r2_glm, test_r2_glm, hold_r2_glm, round(glm_elapsed,3)],\n",
    "            [\"DL \", train_r2_dl,  test_r2_dl,  hold_r2_dl , round(dl_elapsed,3) ],\n",
    "           ]\n",
    "  h2o.H2ODisplay(table,header)\n",
    "  # --------------"
   ]
  },
  {
   "cell_type": "code",
   "execution_count": 36,
   "metadata": {
    "collapsed": false
   },
   "outputs": [
    {
     "name": "stdout",
     "output_type": "stream",
     "text": [
      "Training data has 5 columns and 6221 rows, test has 3208 rows, holdout has 1021\n",
      "\n",
      "gbm Model Build Progress: [##################################################] 100%\n",
      "\n",
      "drf Model Build Progress: [##################################################] 100%\n",
      "\n",
      "glm Model Build Progress: [##################################################] 100%\n",
      "\n",
      "deeplearning Model Build Progress: [##################################################] 100%\n"
     ]
    },
    {
     "data": {
      "text/html": [
       "<div style=\"overflow:auto\"><table style=\"width:50%\"><tr><td>Model</td>\n",
       "<td>R2 TRAIN</td>\n",
       "<td>R2 TEST</td>\n",
       "<td>R2 HOLDOUT</td>\n",
       "<td>Model Training Time (s)</td></tr>\n",
       "<tr><td>GBM</td>\n",
       "<td>0.997540330229</td>\n",
       "<td>0.932696618915</td>\n",
       "<td>0.905513077743</td>\n",
       "<td>55.737</td></tr>\n",
       "<tr><td>DRF</td>\n",
       "<td>0.842563294794</td>\n",
       "<td>0.776867837367</td>\n",
       "<td>0.764223855109</td>\n",
       "<td>21.227</td></tr>\n",
       "<tr><td>GLM</td>\n",
       "<td>0.858232261339</td>\n",
       "<td>0.855440584892</td>\n",
       "<td>0.815918226344</td>\n",
       "<td>1.161</td></tr>\n",
       "<tr><td>DL </td>\n",
       "<td>0.92868248288</td>\n",
       "<td>0.902172036516</td>\n",
       "<td>0.883645383306</td>\n",
       "<td>23.578</td></tr></table></div>"
      ],
      "text/plain": [
       "Model      R2 TRAIN    R2 TEST    R2 HOLDOUT    Model Training Time (s)\n",
       "-------  ----------  ---------  ------------  -------------------------\n",
       "GBM        0.99754    0.932697      0.905513                     55.737\n",
       "DRF        0.842563   0.776868      0.764224                     21.227\n",
       "GLM        0.858232   0.855441      0.815918                      1.161\n",
       "DL         0.928682   0.902172      0.883645                     23.578"
      ]
     },
     "metadata": {},
     "output_type": "display_data"
    }
   ],
   "source": [
    "# Split the data (into test & train), fit some models and predict on the holdout data\n",
    "split_fit_predict(bpd)\n",
    "# Here we see an r^2 of 0.91 for GBM, and 0.71 for GLM.  This means given just\n",
    "# the station, the month, and the day-of-week we can predict 90% of the\n",
    "# variance of the bike-trip-starts."
   ]
  },
  {
   "cell_type": "code",
   "execution_count": 37,
   "metadata": {
    "collapsed": false
   },
   "outputs": [
    {
     "name": "stdout",
     "output_type": "stream",
     "text": [
      "\n",
      "Parse Progress: [##################################################] 100%\n",
      "Rows:17,520 Cols:50\n",
      "\n",
      "Chunk compression summary:\n",
      "\n"
     ]
    },
    {
     "data": {
      "text/html": [
       "<div style=\"overflow:auto\"><table style=\"width:50%\"><tr><td>chunk_type</td>\n",
       "<td>chunk_name</td>\n",
       "<td>count</td>\n",
       "<td>count_percentage</td>\n",
       "<td>size</td>\n",
       "<td>size_percentage</td></tr>\n",
       "<tr><td>C0L</td>\n",
       "<td>Constant Integers</td>\n",
       "<td>33</td>\n",
       "<td>4.125</td>\n",
       "<td>    2.6 KB</td>\n",
       "<td>0.2504865</td></tr>\n",
       "<tr><td>C0D</td>\n",
       "<td>Constant Reals</td>\n",
       "<td>188</td>\n",
       "<td>23.5</td>\n",
       "<td>   14.7 KB</td>\n",
       "<td>1.427014</td></tr>\n",
       "<tr><td>CXI</td>\n",
       "<td>Sparse Integers</td>\n",
       "<td>13</td>\n",
       "<td>1.6249999</td>\n",
       "<td>    1.2 KB</td>\n",
       "<td>0.115944885</td></tr>\n",
       "<tr><td>C1</td>\n",
       "<td>1-Byte Integers</td>\n",
       "<td>180</td>\n",
       "<td>22.5</td>\n",
       "<td>  203.9 KB</td>\n",
       "<td>19.812914</td></tr>\n",
       "<tr><td>C1N</td>\n",
       "<td>1-Byte Integers (w/o NAs)</td>\n",
       "<td>112</td>\n",
       "<td>14.0</td>\n",
       "<td>  127.2 KB</td>\n",
       "<td>12.358852</td></tr>\n",
       "<tr><td>C1S</td>\n",
       "<td>1-Byte Fractions</td>\n",
       "<td>96</td>\n",
       "<td>12.0</td>\n",
       "<td>  110.5 KB</td>\n",
       "<td>10.739703</td></tr>\n",
       "<tr><td>C2S</td>\n",
       "<td>2-Byte Fractions</td>\n",
       "<td>98</td>\n",
       "<td>12.25</td>\n",
       "<td>  220.4 KB</td>\n",
       "<td>21.411093</td></tr>\n",
       "<tr><td>C4S</td>\n",
       "<td>4-Byte Fractions</td>\n",
       "<td>80</td>\n",
       "<td>10.0</td>\n",
       "<td>  348.8 KB</td>\n",
       "<td>33.88399</td></tr></table></div>"
      ],
      "text/plain": [
       "chunk_type    chunk_name                 count    count_percentage    size      size_percentage\n",
       "------------  -------------------------  -------  ------------------  --------  -----------------\n",
       "C0L           Constant Integers          33       4.125               2.6 KB    0.250487\n",
       "C0D           Constant Reals             188      23.5                14.7 KB   1.42701\n",
       "CXI           Sparse Integers            13       1.625               1.2 KB    0.115945\n",
       "C1            1-Byte Integers            180      22.5                203.9 KB  19.8129\n",
       "C1N           1-Byte Integers (w/o NAs)  112      14                  127.2 KB  12.3589\n",
       "C1S           1-Byte Fractions           96       12                  110.5 KB  10.7397\n",
       "C2S           2-Byte Fractions           98       12.25               220.4 KB  21.4111\n",
       "C4S           4-Byte Fractions           80       10                  348.8 KB  33.884"
      ]
     },
     "metadata": {},
     "output_type": "display_data"
    },
    {
     "name": "stdout",
     "output_type": "stream",
     "text": [
      "\n",
      "Frame distribution summary:\n",
      "\n"
     ]
    },
    {
     "data": {
      "text/html": [
       "<div style=\"overflow:auto\"><table style=\"width:50%\"><tr><td></td>\n",
       "<td>size</td>\n",
       "<td>number_of_rows</td>\n",
       "<td>number_of_chunks_per_column</td>\n",
       "<td>number_of_chunks</td></tr>\n",
       "<tr><td>172.16.2.28:54321</td>\n",
       "<td>    1.0 MB</td>\n",
       "<td>17520.0</td>\n",
       "<td>16.0</td>\n",
       "<td>800.0</td></tr>\n",
       "<tr><td>mean</td>\n",
       "<td>    1.0 MB</td>\n",
       "<td>17520.0</td>\n",
       "<td>16.0</td>\n",
       "<td>800.0</td></tr>\n",
       "<tr><td>min</td>\n",
       "<td>    1.0 MB</td>\n",
       "<td>17520.0</td>\n",
       "<td>16.0</td>\n",
       "<td>800.0</td></tr>\n",
       "<tr><td>max</td>\n",
       "<td>    1.0 MB</td>\n",
       "<td>17520.0</td>\n",
       "<td>16.0</td>\n",
       "<td>800.0</td></tr>\n",
       "<tr><td>stddev</td>\n",
       "<td>      0  B</td>\n",
       "<td>0.0</td>\n",
       "<td>0.0</td>\n",
       "<td>0.0</td></tr>\n",
       "<tr><td>total</td>\n",
       "<td>    1.0 MB</td>\n",
       "<td>17520.0</td>\n",
       "<td>16.0</td>\n",
       "<td>800.0</td></tr></table></div>"
      ],
      "text/plain": [
       "                   size    number_of_rows    number_of_chunks_per_column    number_of_chunks\n",
       "-----------------  ------  ----------------  -----------------------------  ------------------\n",
       "172.16.2.28:54321  1.0 MB  17520             16                             800\n",
       "mean               1.0 MB  17520             16                             800\n",
       "min                1.0 MB  17520             16                             800\n",
       "max                1.0 MB  17520             16                             800\n",
       "stddev             0  B    0                 0                              0\n",
       "total              1.0 MB  17520             16                             800"
      ]
     },
     "metadata": {},
     "output_type": "display_data"
    },
    {
     "name": "stdout",
     "output_type": "stream",
     "text": [
      "\n",
      "\n"
     ]
    },
    {
     "data": {
      "text/html": [
       "<table>\n",
       "<tr><th>       </th><th>Year Local    </th><th>Month Local  </th><th>Day Local    </th><th>Hour Local   </th><th>Year UTC      </th><th>Month UTC    </th><th>Day UTC      </th><th>Hour UTC     </th><th>Cavok Reported  </th><th>Cloud Ceiling (m)  </th><th>Cloud Cover Fraction  </th><th>Cloud Cover Fraction 1  </th><th>Cloud Cover Fraction 2  </th><th>Cloud Cover Fraction 3  </th><th>Cloud Cover Fraction 4  </th><th>Cloud Cover Fraction 5  </th><th>Cloud Cover Fraction 6  </th><th>Cloud Height (m) 1  </th><th>Cloud Height (m) 2  </th><th>Cloud Height (m) 3  </th><th>Cloud Height (m) 4  </th><th>Cloud Height (m) 5  </th><th>Cloud Height (m) 6  </th><th>Dew Point (C)  </th><th>Humidity Fraction  </th><th>Precipitation One Hour (mm)  </th><th>Pressure Altimeter (mbar)  </th><th>Pressure Sea Level (mbar)  </th><th>Pressure Station (mbar)  </th><th>Snow Depth (cm)  </th><th>Temperature (C)  </th><th>Visibility (km)  </th><th>Weather Code 1  </th><th>Weather Code 1/ Description  </th><th>Weather Code 2  </th><th>Weather Code 2/ Description  </th><th>Weather Code 3  </th><th>Weather Code 3/ Description  </th><th>Weather Code 4  </th><th>Weather Code 4/ Description  </th><th>Weather Code 5  </th><th>Weather Code 5/ Description  </th><th>Weather Code 6  </th><th>Weather Code 6/ Description  </th><th>Weather Code Most Severe / Icon Code  </th><th>Weather Code Most Severe  </th><th>Weather Code Most Severe / Description  </th><th>Wind Direction (degrees)  </th><th>Wind Gust (m/s)  </th><th>Wind Speed (m/s)  </th></tr>\n",
       "<tr><td>type   </td><td>int           </td><td>int          </td><td>int          </td><td>int          </td><td>int           </td><td>int          </td><td>int          </td><td>int          </td><td>int             </td><td>real               </td><td>real                  </td><td>real                    </td><td>real                    </td><td>real                    </td><td>int                     </td><td>int                     </td><td>int                     </td><td>real                </td><td>real                </td><td>real                </td><td>int                 </td><td>int                 </td><td>int                 </td><td>real           </td><td>real               </td><td>real                         </td><td>real                       </td><td>int                        </td><td>int                      </td><td>int              </td><td>real             </td><td>real             </td><td>int             </td><td>enum                         </td><td>int             </td><td>enum                         </td><td>int             </td><td>enum                         </td><td>int             </td><td>enum                         </td><td>int             </td><td>enum                         </td><td>int             </td><td>enum                         </td><td>int                                   </td><td>int                       </td><td>enum                                    </td><td>int                       </td><td>real             </td><td>real              </td></tr>\n",
       "<tr><td>mins   </td><td>2013.0        </td><td>1.0          </td><td>1.0          </td><td>0.0          </td><td>2013.0        </td><td>1.0          </td><td>1.0          </td><td>0.0          </td><td>0.0             </td><td>61.0               </td><td>0.0                   </td><td>0.0                     </td><td>0.25                    </td><td>0.5                     </td><td>NaN                     </td><td>NaN                     </td><td>NaN                     </td><td>60.96               </td><td>213.36              </td><td>365.76              </td><td>NaN                 </td><td>NaN                 </td><td>NaN                 </td><td>-26.7          </td><td>0.1251             </td><td>0.0                          </td><td>983.2949                   </td><td>NaN                        </td><td>NaN                      </td><td>NaN              </td><td>-15.6            </td><td>0.001            </td><td>1.0             </td><td>0.0                          </td><td>1.0             </td><td>0.0                          </td><td>1.0             </td><td>0.0                          </td><td>1.0             </td><td>0.0                          </td><td>1.0             </td><td>0.0                          </td><td>3.0             </td><td>0.0                          </td><td>0.0                                   </td><td>1.0                       </td><td>0.0                                     </td><td>10.0                      </td><td>7.2              </td><td>0.0               </td></tr>\n",
       "<tr><td>mean   </td><td>2013.5        </td><td>6.52602739726</td><td>15.7205479452</td><td>11.5         </td><td>2013.50057078 </td><td>6.52511415525</td><td>15.721347032 </td><td>11.5001141553</td><td>0.0             </td><td>1306.31195846      </td><td>0.416742490522        </td><td>0.361207349081          </td><td>0.872445384073          </td><td>0.963045685279          </td><td>0.0                     </td><td>0.0                     </td><td>0.0                     </td><td>1293.9822682        </td><td>1643.73900166       </td><td>2084.89386376       </td><td>0.0                 </td><td>0.0                 </td><td>0.0                 </td><td>4.31304646766  </td><td>0.596736389159     </td><td>1.37993010753                </td><td>1017.82581441              </td><td>0.0                        </td><td>0.0                      </td><td>0.0              </td><td>12.5789090701    </td><td>14.3914429682    </td><td>4.84251968504   </td><td>NaN                          </td><td>3.65867689358   </td><td>NaN                          </td><td>2.84660766962   </td><td>NaN                          </td><td>2.01149425287   </td><td>NaN                          </td><td>4.125           </td><td>NaN                          </td><td>3.0             </td><td>0.0                          </td><td>1.37848173516                         </td><td>4.84251968504             </td><td>NaN                                     </td><td>194.69525682              </td><td>9.42216948073    </td><td>2.41032887849     </td></tr>\n",
       "<tr><td>maxs   </td><td>2014.0        </td><td>12.0         </td><td>31.0         </td><td>23.0         </td><td>2015.0        </td><td>12.0         </td><td>31.0         </td><td>23.0         </td><td>0.0             </td><td>3657.6             </td><td>1.0                   </td><td>1.0                     </td><td>1.0                     </td><td>1.0                     </td><td>NaN                     </td><td>NaN                     </td><td>NaN                     </td><td>3657.5999           </td><td>3657.5999           </td><td>3657.5999           </td><td>NaN                 </td><td>NaN                 </td><td>NaN                 </td><td>24.4           </td><td>1.0                </td><td>26.924                       </td><td>1042.2113                  </td><td>NaN                        </td><td>NaN                      </td><td>NaN              </td><td>36.1             </td><td>16.0934          </td><td>60.0            </td><td>11.0                         </td><td>60.0            </td><td>10.0                         </td><td>36.0            </td><td>7.0                          </td><td>27.0            </td><td>4.0                          </td><td>27.0            </td><td>2.0                          </td><td>3.0             </td><td>0.0                          </td><td>16.0                                  </td><td>60.0                      </td><td>11.0                                    </td><td>360.0                     </td><td>20.58            </td><td>10.8              </td></tr>\n",
       "<tr><td>sigma  </td><td>0.500014270017</td><td>3.44794972385</td><td>8.79649804852</td><td>6.92238411188</td><td>0.500584411716</td><td>3.44782405458</td><td>8.79561488868</td><td>6.92230165203</td><td>0.0             </td><td>995.339856966      </td><td>0.462720830993        </td><td>0.42770569708           </td><td>0.197155690367          </td><td>0.0861015598104         </td><td>-0.0                    </td><td>-0.0                    </td><td>-0.0                    </td><td>962.743095854       </td><td>916.73861349        </td><td>887.215847511       </td><td>-0.0                </td><td>-0.0                </td><td>-0.0                </td><td>10.9731282097  </td><td>0.185792011866     </td><td>2.56215129179                </td><td>7.46451697179              </td><td>-0.0                       </td><td>-0.0                     </td><td>-0.0             </td><td>10.0396739531    </td><td>3.69893623033    </td><td>5.70486576983   </td><td>NaN                          </td><td>6.13386253912   </td><td>NaN                          </td><td>5.80553286364   </td><td>NaN                          </td><td>3.12340844261   </td><td>NaN                          </td><td>6.15223536611   </td><td>NaN                          </td><td>0.0             </td><td>0.0                          </td><td>4.07386062702                         </td><td>5.70486576983             </td><td>NaN                                     </td><td>106.350000031             </td><td>1.81511871115    </td><td>1.61469790524     </td></tr>\n",
       "<tr><td>zeros  </td><td>0             </td><td>0            </td><td>0            </td><td>730          </td><td>0             </td><td>0            </td><td>0            </td><td>730          </td><td>17455           </td><td>0                  </td><td>8758                  </td><td>8758                    </td><td>0                       </td><td>0                       </td><td>-17520                  </td><td>-17520                  </td><td>-17520                  </td><td>0                   </td><td>0                   </td><td>0                   </td><td>-17520              </td><td>-17520              </td><td>-17520              </td><td>268            </td><td>0                  </td><td>501                          </td><td>0                          </td><td>-17520                     </td><td>-17520                   </td><td>-17520           </td><td>269              </td><td>0                </td><td>0               </td><td>17                           </td><td>0               </td><td>30                           </td><td>0               </td><td>13                           </td><td>-1046           </td><td>-1026                        </td><td>-6745           </td><td>-6733                        </td><td>-16560          </td><td>-16558                       </td><td>14980                                 </td><td>0                         </td><td>17                                      </td><td>0                         </td><td>0                </td><td>2768              </td></tr>\n",
       "<tr><td>missing</td><td>0             </td><td>0            </td><td>0            </td><td>0            </td><td>0             </td><td>0            </td><td>0            </td><td>0            </td><td>65              </td><td>10780              </td><td>375                   </td><td>375                     </td><td>14682                   </td><td>16535                   </td><td>17520                   </td><td>17520                   </td><td>17520                   </td><td>9103                </td><td>14683               </td><td>16535               </td><td>17520               </td><td>17520               </td><td>17520               </td><td>67             </td><td>67                 </td><td>15660                        </td><td>360                        </td><td>17520                      </td><td>17520                    </td><td>17520            </td><td>67               </td><td>412              </td><td>14980           </td><td>14980                        </td><td>16477           </td><td>16477                        </td><td>17181           </td><td>17181                        </td><td>17433           </td><td>17433                        </td><td>17504           </td><td>17504                        </td><td>17518           </td><td>17518                        </td><td>0                                     </td><td>14980                     </td><td>14980                                   </td><td>9382                      </td><td>14381            </td><td>1283              </td></tr>\n",
       "<tr><td>0      </td><td>2013.0        </td><td>1.0          </td><td>1.0          </td><td>0.0          </td><td>2013.0        </td><td>1.0          </td><td>1.0          </td><td>5.0          </td><td>0.0             </td><td>2895.6             </td><td>1.0                   </td><td>0.9                     </td><td>1.0                     </td><td>nan                     </td><td>nan                     </td><td>nan                     </td><td>nan                     </td><td>2895.5999           </td><td>3352.8              </td><td>nan                 </td><td>nan                 </td><td>nan                 </td><td>nan                 </td><td>-5.0           </td><td>0.5447             </td><td>nan                          </td><td>1013.0917                  </td><td>nan                        </td><td>nan                      </td><td>nan              </td><td>3.3              </td><td>16.0934          </td><td>nan             </td><td>                             </td><td>nan             </td><td>                             </td><td>nan             </td><td>                             </td><td>nan             </td><td>                             </td><td>nan             </td><td>                             </td><td>nan             </td><td>                             </td><td>0.0                                   </td><td>nan                       </td><td>                                        </td><td>nan                       </td><td>nan              </td><td>2.57              </td></tr>\n",
       "<tr><td>1      </td><td>2013.0        </td><td>1.0          </td><td>1.0          </td><td>1.0          </td><td>2013.0        </td><td>1.0          </td><td>1.0          </td><td>6.0          </td><td>0.0             </td><td>3048.0             </td><td>1.0                   </td><td>1.0                     </td><td>nan                     </td><td>nan                     </td><td>nan                     </td><td>nan                     </td><td>nan                     </td><td>3048.0              </td><td>nan                 </td><td>nan                 </td><td>nan                 </td><td>nan                 </td><td>nan                 </td><td>-4.4           </td><td>0.5463             </td><td>nan                          </td><td>1012.0759                  </td><td>nan                        </td><td>nan                      </td><td>nan              </td><td>3.9              </td><td>16.0934          </td><td>nan             </td><td>                             </td><td>nan             </td><td>                             </td><td>nan             </td><td>                             </td><td>nan             </td><td>                             </td><td>nan             </td><td>                             </td><td>nan             </td><td>                             </td><td>0.0                                   </td><td>nan                       </td><td>                                        </td><td>260.0                     </td><td>9.77             </td><td>4.63              </td></tr>\n",
       "<tr><td>2      </td><td>2013.0        </td><td>1.0          </td><td>1.0          </td><td>2.0          </td><td>2013.0        </td><td>1.0          </td><td>1.0          </td><td>7.0          </td><td>0.0             </td><td>1828.8             </td><td>1.0                   </td><td>1.0                     </td><td>nan                     </td><td>nan                     </td><td>nan                     </td><td>nan                     </td><td>nan                     </td><td>1828.7999           </td><td>nan                 </td><td>nan                 </td><td>nan                 </td><td>nan                 </td><td>nan                 </td><td>-3.3           </td><td>0.619              </td><td>nan                          </td><td>1012.4145                  </td><td>nan                        </td><td>nan                      </td><td>nan              </td><td>3.3              </td><td>16.0934          </td><td>nan             </td><td>                             </td><td>nan             </td><td>                             </td><td>nan             </td><td>                             </td><td>nan             </td><td>                             </td><td>nan             </td><td>                             </td><td>nan             </td><td>                             </td><td>0.0                                   </td><td>nan                       </td><td>                                        </td><td>nan                       </td><td>7.72             </td><td>1.54              </td></tr>\n",
       "<tr><td>3      </td><td>2013.0        </td><td>1.0          </td><td>1.0          </td><td>3.0          </td><td>2013.0        </td><td>1.0          </td><td>1.0          </td><td>8.0          </td><td>0.0             </td><td>1463.0             </td><td>1.0                   </td><td>1.0                     </td><td>nan                     </td><td>nan                     </td><td>nan                     </td><td>nan                     </td><td>nan                     </td><td>1463.04             </td><td>nan                 </td><td>nan                 </td><td>nan                 </td><td>nan                 </td><td>nan                 </td><td>-2.8           </td><td>0.6159             </td><td>nan                          </td><td>1012.4145                  </td><td>nan                        </td><td>nan                      </td><td>nan              </td><td>3.9              </td><td>16.0934          </td><td>nan             </td><td>                             </td><td>nan             </td><td>                             </td><td>nan             </td><td>                             </td><td>nan             </td><td>                             </td><td>nan             </td><td>                             </td><td>nan             </td><td>                             </td><td>0.0                                   </td><td>nan                       </td><td>                                        </td><td>nan                       </td><td>nan              </td><td>3.09              </td></tr>\n",
       "<tr><td>4      </td><td>2013.0        </td><td>1.0          </td><td>1.0          </td><td>4.0          </td><td>2013.0        </td><td>1.0          </td><td>1.0          </td><td>9.0          </td><td>0.0             </td><td>1402.1             </td><td>1.0                   </td><td>1.0                     </td><td>nan                     </td><td>nan                     </td><td>nan                     </td><td>nan                     </td><td>nan                     </td><td>1402.08             </td><td>nan                 </td><td>nan                 </td><td>nan                 </td><td>nan                 </td><td>nan                 </td><td>-2.8           </td><td>0.6159             </td><td>nan                          </td><td>1012.7531                  </td><td>nan                        </td><td>nan                      </td><td>nan              </td><td>3.9              </td><td>16.0934          </td><td>nan             </td><td>                             </td><td>nan             </td><td>                             </td><td>nan             </td><td>                             </td><td>nan             </td><td>                             </td><td>nan             </td><td>                             </td><td>nan             </td><td>                             </td><td>0.0                                   </td><td>nan                       </td><td>                                        </td><td>260.0                     </td><td>nan              </td><td>4.12              </td></tr>\n",
       "<tr><td>5      </td><td>2013.0        </td><td>1.0          </td><td>1.0          </td><td>5.0          </td><td>2013.0        </td><td>1.0          </td><td>1.0          </td><td>10.0         </td><td>0.0             </td><td>1524.0             </td><td>1.0                   </td><td>1.0                     </td><td>nan                     </td><td>nan                     </td><td>nan                     </td><td>nan                     </td><td>nan                     </td><td>1524.0              </td><td>nan                 </td><td>nan                 </td><td>nan                 </td><td>nan                 </td><td>nan                 </td><td>-2.8           </td><td>0.6159             </td><td>nan                          </td><td>1012.4145                  </td><td>nan                        </td><td>nan                      </td><td>nan              </td><td>3.9              </td><td>16.0934          </td><td>nan             </td><td>                             </td><td>nan             </td><td>                             </td><td>nan             </td><td>                             </td><td>nan             </td><td>                             </td><td>nan             </td><td>                             </td><td>nan             </td><td>                             </td><td>0.0                                   </td><td>nan                       </td><td>                                        </td><td>nan                       </td><td>nan              </td><td>3.09              </td></tr>\n",
       "<tr><td>6      </td><td>2013.0        </td><td>1.0          </td><td>1.0          </td><td>6.0          </td><td>2013.0        </td><td>1.0          </td><td>1.0          </td><td>11.0         </td><td>0.0             </td><td>1524.0             </td><td>1.0                   </td><td>1.0                     </td><td>nan                     </td><td>nan                     </td><td>nan                     </td><td>nan                     </td><td>nan                     </td><td>1524.0              </td><td>nan                 </td><td>nan                 </td><td>nan                 </td><td>nan                 </td><td>nan                 </td><td>-3.3           </td><td>0.5934             </td><td>nan                          </td><td>1012.0759                  </td><td>nan                        </td><td>nan                      </td><td>nan              </td><td>3.9              </td><td>16.0934          </td><td>nan             </td><td>                             </td><td>nan             </td><td>                             </td><td>nan             </td><td>                             </td><td>nan             </td><td>                             </td><td>nan             </td><td>                             </td><td>nan             </td><td>                             </td><td>0.0                                   </td><td>nan                       </td><td>                                        </td><td>nan                       </td><td>9.26             </td><td>3.09              </td></tr>\n",
       "<tr><td>7      </td><td>2013.0        </td><td>1.0          </td><td>1.0          </td><td>7.0          </td><td>2013.0        </td><td>1.0          </td><td>1.0          </td><td>12.0         </td><td>0.0             </td><td>1524.0             </td><td>1.0                   </td><td>1.0                     </td><td>nan                     </td><td>nan                     </td><td>nan                     </td><td>nan                     </td><td>nan                     </td><td>1524.0              </td><td>nan                 </td><td>nan                 </td><td>nan                 </td><td>nan                 </td><td>nan                 </td><td>-3.3           </td><td>0.5934             </td><td>nan                          </td><td>1012.4145                  </td><td>nan                        </td><td>nan                      </td><td>nan              </td><td>3.9              </td><td>16.0934          </td><td>nan             </td><td>                             </td><td>nan             </td><td>                             </td><td>nan             </td><td>                             </td><td>nan             </td><td>                             </td><td>nan             </td><td>                             </td><td>nan             </td><td>                             </td><td>0.0                                   </td><td>nan                       </td><td>                                        </td><td>260.0                     </td><td>9.26             </td><td>4.63              </td></tr>\n",
       "<tr><td>8      </td><td>2013.0        </td><td>1.0          </td><td>1.0          </td><td>8.0          </td><td>2013.0        </td><td>1.0          </td><td>1.0          </td><td>13.0         </td><td>0.0             </td><td>1524.0             </td><td>1.0                   </td><td>1.0                     </td><td>nan                     </td><td>nan                     </td><td>nan                     </td><td>nan                     </td><td>nan                     </td><td>1524.0              </td><td>nan                 </td><td>nan                 </td><td>nan                 </td><td>nan                 </td><td>nan                 </td><td>-2.8           </td><td>0.6425             </td><td>nan                          </td><td>1012.4145                  </td><td>nan                        </td><td>nan                      </td><td>nan              </td><td>3.3              </td><td>16.0934          </td><td>nan             </td><td>                             </td><td>nan             </td><td>                             </td><td>nan             </td><td>                             </td><td>nan             </td><td>                             </td><td>nan             </td><td>                             </td><td>nan             </td><td>                             </td><td>0.0                                   </td><td>nan                       </td><td>                                        </td><td>260.0                     </td><td>nan              </td><td>3.09              </td></tr>\n",
       "<tr><td>9      </td><td>2013.0        </td><td>1.0          </td><td>1.0          </td><td>9.0          </td><td>2013.0        </td><td>1.0          </td><td>1.0          </td><td>14.0         </td><td>0.0             </td><td>1524.0             </td><td>1.0                   </td><td>0.9                     </td><td>1.0                     </td><td>nan                     </td><td>nan                     </td><td>nan                     </td><td>nan                     </td><td>1524.0              </td><td>3657.5999           </td><td>nan                 </td><td>nan                 </td><td>nan                 </td><td>nan                 </td><td>-2.8           </td><td>0.6159             </td><td>nan                          </td><td>1012.4145                  </td><td>nan                        </td><td>nan                      </td><td>nan              </td><td>3.9              </td><td>16.0934          </td><td>nan             </td><td>                             </td><td>nan             </td><td>                             </td><td>nan             </td><td>                             </td><td>nan             </td><td>                             </td><td>nan             </td><td>                             </td><td>nan             </td><td>                             </td><td>0.0                                   </td><td>nan                       </td><td>                                        </td><td>nan                       </td><td>9.26             </td><td>3.09              </td></tr>\n",
       "</table>"
      ]
     },
     "metadata": {},
     "output_type": "display_data"
    }
   ],
   "source": [
    "# ----------\n",
    "# 5- Now lets add some weather\n",
    "# Load weather data\n",
    "wthr1 = h2o.import_frame(path=[h2o.locate(\"bigdata/laptop/citibike-nyc/31081_New_York_City__Hourly_2013.csv\"),\n",
    "                               h2o.locate(\"bigdata/laptop/citibike-nyc/31081_New_York_City__Hourly_2014.csv\")])\n",
    "# Peek at the data\n",
    "wthr1.describe()"
   ]
  },
  {
   "cell_type": "code",
   "execution_count": 38,
   "metadata": {
    "collapsed": false
   },
   "outputs": [
    {
     "name": "stdout",
     "output_type": "stream",
     "text": [
      "Rows:17,520 Cols:9\n",
      "\n",
      "Chunk compression summary:\n",
      "\n"
     ]
    },
    {
     "data": {
      "text/html": [
       "<div style=\"overflow:auto\"><table style=\"width:50%\"><tr><td>chunk_type</td>\n",
       "<td>chunk_name</td>\n",
       "<td>count</td>\n",
       "<td>count_percentage</td>\n",
       "<td>size</td>\n",
       "<td>size_percentage</td></tr>\n",
       "<tr><td>C0L</td>\n",
       "<td>Constant Integers</td>\n",
       "<td>16</td>\n",
       "<td>11.111112</td>\n",
       "<td>    1.3 KB</td>\n",
       "<td>0.61739415</td></tr>\n",
       "<tr><td>C1</td>\n",
       "<td>1-Byte Integers</td>\n",
       "<td>16</td>\n",
       "<td>11.111112</td>\n",
       "<td>   18.2 KB</td>\n",
       "<td>8.975368</td></tr>\n",
       "<tr><td>C1N</td>\n",
       "<td>1-Byte Integers (w/o NAs)</td>\n",
       "<td>48</td>\n",
       "<td>33.333336</td>\n",
       "<td>   54.5 KB</td>\n",
       "<td>26.9261</td></tr>\n",
       "<tr><td>C1S</td>\n",
       "<td>1-Byte Fractions</td>\n",
       "<td>14</td>\n",
       "<td>9.722222</td>\n",
       "<td>   14.7 KB</td>\n",
       "<td>7.283804</td></tr>\n",
       "<tr><td>C2S</td>\n",
       "<td>2-Byte Fractions</td>\n",
       "<td>50</td>\n",
       "<td>34.72222</td>\n",
       "<td>  113.8 KB</td>\n",
       "<td>56.197334</td></tr></table></div>"
      ],
      "text/plain": [
       "chunk_type    chunk_name                 count    count_percentage    size      size_percentage\n",
       "------------  -------------------------  -------  ------------------  --------  -----------------\n",
       "C0L           Constant Integers          16       11.1111             1.3 KB    0.617394\n",
       "C1            1-Byte Integers            16       11.1111             18.2 KB   8.97537\n",
       "C1N           1-Byte Integers (w/o NAs)  48       33.3333             54.5 KB   26.9261\n",
       "C1S           1-Byte Fractions           14       9.72222             14.7 KB   7.2838\n",
       "C2S           2-Byte Fractions           50       34.7222             113.8 KB  56.1973"
      ]
     },
     "metadata": {},
     "output_type": "display_data"
    },
    {
     "name": "stdout",
     "output_type": "stream",
     "text": [
      "\n",
      "Frame distribution summary:\n",
      "\n"
     ]
    },
    {
     "data": {
      "text/html": [
       "<div style=\"overflow:auto\"><table style=\"width:50%\"><tr><td></td>\n",
       "<td>size</td>\n",
       "<td>number_of_rows</td>\n",
       "<td>number_of_chunks_per_column</td>\n",
       "<td>number_of_chunks</td></tr>\n",
       "<tr><td>172.16.2.28:54321</td>\n",
       "<td>  202.5 KB</td>\n",
       "<td>17520.0</td>\n",
       "<td>16.0</td>\n",
       "<td>144.0</td></tr>\n",
       "<tr><td>mean</td>\n",
       "<td>  202.5 KB</td>\n",
       "<td>17520.0</td>\n",
       "<td>16.0</td>\n",
       "<td>144.0</td></tr>\n",
       "<tr><td>min</td>\n",
       "<td>  202.5 KB</td>\n",
       "<td>17520.0</td>\n",
       "<td>16.0</td>\n",
       "<td>144.0</td></tr>\n",
       "<tr><td>max</td>\n",
       "<td>  202.5 KB</td>\n",
       "<td>17520.0</td>\n",
       "<td>16.0</td>\n",
       "<td>144.0</td></tr>\n",
       "<tr><td>stddev</td>\n",
       "<td>      0  B</td>\n",
       "<td>0.0</td>\n",
       "<td>0.0</td>\n",
       "<td>0.0</td></tr>\n",
       "<tr><td>total</td>\n",
       "<td>  202.5 KB</td>\n",
       "<td>17520.0</td>\n",
       "<td>16.0</td>\n",
       "<td>144.0</td></tr></table></div>"
      ],
      "text/plain": [
       "                   size      number_of_rows    number_of_chunks_per_column    number_of_chunks\n",
       "-----------------  --------  ----------------  -----------------------------  ------------------\n",
       "172.16.2.28:54321  202.5 KB  17520             16                             144\n",
       "mean               202.5 KB  17520             16                             144\n",
       "min                202.5 KB  17520             16                             144\n",
       "max                202.5 KB  17520             16                             144\n",
       "stddev             0  B      0                 0                              0\n",
       "total              202.5 KB  17520             16                             144"
      ]
     },
     "metadata": {},
     "output_type": "display_data"
    },
    {
     "name": "stdout",
     "output_type": "stream",
     "text": [
      "\n",
      "\n"
     ]
    },
    {
     "data": {
      "text/html": [
       "<table>\n",
       "<tr><th>       </th><th>Year Local    </th><th>Month Local  </th><th>Day Local    </th><th>Hour Local   </th><th>Dew Point (C)  </th><th>Humidity Fraction  </th><th>Rain (mm)    </th><th>Temperature (C)  </th><th>WC1  </th></tr>\n",
       "<tr><td>type   </td><td>int           </td><td>int          </td><td>int          </td><td>int          </td><td>real           </td><td>real               </td><td>real         </td><td>real             </td><td>enum </td></tr>\n",
       "<tr><td>mins   </td><td>2013.0        </td><td>1.0          </td><td>1.0          </td><td>0.0          </td><td>-26.7          </td><td>0.1251             </td><td>0.0          </td><td>-15.6            </td><td>0.0  </td></tr>\n",
       "<tr><td>mean   </td><td>2013.5        </td><td>6.52602739726</td><td>15.7205479452</td><td>11.5         </td><td>4.31304646766  </td><td>0.596736389159     </td><td>1.37993010753</td><td>12.5789090701    </td><td>NaN  </td></tr>\n",
       "<tr><td>maxs   </td><td>2014.0        </td><td>12.0         </td><td>31.0         </td><td>23.0         </td><td>24.4           </td><td>1.0                </td><td>26.924       </td><td>36.1             </td><td>11.0 </td></tr>\n",
       "<tr><td>sigma  </td><td>0.500014270017</td><td>3.44794972385</td><td>8.79649804852</td><td>6.92238411188</td><td>10.9731282097  </td><td>0.185792011866     </td><td>2.56215129179</td><td>10.0396739531    </td><td>NaN  </td></tr>\n",
       "<tr><td>zeros  </td><td>0             </td><td>0            </td><td>0            </td><td>730          </td><td>268            </td><td>0                  </td><td>501          </td><td>269              </td><td>17   </td></tr>\n",
       "<tr><td>missing</td><td>0             </td><td>0            </td><td>0            </td><td>0            </td><td>67             </td><td>67                 </td><td>15660        </td><td>67               </td><td>14980</td></tr>\n",
       "<tr><td>0      </td><td>2013.0        </td><td>1.0          </td><td>1.0          </td><td>0.0          </td><td>-5.0           </td><td>0.5447             </td><td>nan          </td><td>3.3              </td><td>     </td></tr>\n",
       "<tr><td>1      </td><td>2013.0        </td><td>1.0          </td><td>1.0          </td><td>1.0          </td><td>-4.4           </td><td>0.5463             </td><td>nan          </td><td>3.9              </td><td>     </td></tr>\n",
       "<tr><td>2      </td><td>2013.0        </td><td>1.0          </td><td>1.0          </td><td>2.0          </td><td>-3.3           </td><td>0.619              </td><td>nan          </td><td>3.3              </td><td>     </td></tr>\n",
       "<tr><td>3      </td><td>2013.0        </td><td>1.0          </td><td>1.0          </td><td>3.0          </td><td>-2.8           </td><td>0.6159             </td><td>nan          </td><td>3.9              </td><td>     </td></tr>\n",
       "<tr><td>4      </td><td>2013.0        </td><td>1.0          </td><td>1.0          </td><td>4.0          </td><td>-2.8           </td><td>0.6159             </td><td>nan          </td><td>3.9              </td><td>     </td></tr>\n",
       "<tr><td>5      </td><td>2013.0        </td><td>1.0          </td><td>1.0          </td><td>5.0          </td><td>-2.8           </td><td>0.6159             </td><td>nan          </td><td>3.9              </td><td>     </td></tr>\n",
       "<tr><td>6      </td><td>2013.0        </td><td>1.0          </td><td>1.0          </td><td>6.0          </td><td>-3.3           </td><td>0.5934             </td><td>nan          </td><td>3.9              </td><td>     </td></tr>\n",
       "<tr><td>7      </td><td>2013.0        </td><td>1.0          </td><td>1.0          </td><td>7.0          </td><td>-3.3           </td><td>0.5934             </td><td>nan          </td><td>3.9              </td><td>     </td></tr>\n",
       "<tr><td>8      </td><td>2013.0        </td><td>1.0          </td><td>1.0          </td><td>8.0          </td><td>-2.8           </td><td>0.6425             </td><td>nan          </td><td>3.3              </td><td>     </td></tr>\n",
       "<tr><td>9      </td><td>2013.0        </td><td>1.0          </td><td>1.0          </td><td>9.0          </td><td>-2.8           </td><td>0.6159             </td><td>nan          </td><td>3.9              </td><td>     </td></tr>\n",
       "</table>"
      ]
     },
     "metadata": {},
     "output_type": "display_data"
    }
   ],
   "source": [
    "# Lots of columns in there!  Lets plan on converting to time-since-epoch to do\n",
    "# a 'join' with the bike data, plus gather weather info that might affect\n",
    "# cyclists - rain, snow, temperature.  Alas, drop the \"snow\" column since it's\n",
    "# all NA's.  Also add in dew point and humidity just in case.  Slice out just\n",
    "# the columns of interest and drop the rest.\n",
    "wthr2 = wthr1[[\"Year Local\",\"Month Local\",\"Day Local\",\"Hour Local\",\"Dew Point (C)\",\"Humidity Fraction\",\"Precipitation One Hour (mm)\",\"Temperature (C)\",\"Weather Code 1/ Description\"]]\n",
    "wthr2.set_name(wthr2.names.index(\"Precipitation One Hour (mm)\"), \"Rain (mm)\")\n",
    "wthr2.set_name(wthr2.names.index(\"Weather Code 1/ Description\"), \"WC1\")\n",
    "wthr2.describe()\n",
    "# Much better!"
   ]
  },
  {
   "cell_type": "code",
   "execution_count": 39,
   "metadata": {
    "collapsed": true
   },
   "outputs": [],
   "source": [
    "# Filter down to the weather at Noon\n",
    "wthr3 = wthr2[ wthr2[\"Hour Local\"]==12 ]"
   ]
  },
  {
   "cell_type": "code",
   "execution_count": 40,
   "metadata": {
    "collapsed": false
   },
   "outputs": [
    {
     "name": "stdout",
     "output_type": "stream",
     "text": [
      "Rows:730 Cols:11\n",
      "\n",
      "Chunk compression summary:\n",
      "\n"
     ]
    },
    {
     "data": {
      "text/html": [
       "<div style=\"overflow:auto\"><table style=\"width:50%\"><tr><td>chunk_type</td>\n",
       "<td>chunk_name</td>\n",
       "<td>count</td>\n",
       "<td>count_percentage</td>\n",
       "<td>size</td>\n",
       "<td>size_percentage</td></tr>\n",
       "<tr><td>C0L</td>\n",
       "<td>Constant Integers</td>\n",
       "<td>32</td>\n",
       "<td>18.181818</td>\n",
       "<td>    2.5 KB</td>\n",
       "<td>7.144452</td></tr>\n",
       "<tr><td>C0D</td>\n",
       "<td>Constant Reals</td>\n",
       "<td>2</td>\n",
       "<td>1.1363636</td>\n",
       "<td>    160  B</td>\n",
       "<td>0.44652826</td></tr>\n",
       "<tr><td>C1</td>\n",
       "<td>1-Byte Integers</td>\n",
       "<td>16</td>\n",
       "<td>9.090909</td>\n",
       "<td>    1.8 KB</td>\n",
       "<td>5.073677</td></tr>\n",
       "<tr><td>C1N</td>\n",
       "<td>1-Byte Integers (w/o NAs)</td>\n",
       "<td>32</td>\n",
       "<td>18.181818</td>\n",
       "<td>    3.6 KB</td>\n",
       "<td>10.147354</td></tr>\n",
       "<tr><td>C1S</td>\n",
       "<td>1-Byte Fractions</td>\n",
       "<td>16</td>\n",
       "<td>9.090909</td>\n",
       "<td>    2.0 KB</td>\n",
       "<td>5.7881227</td></tr>\n",
       "<tr><td>C2S</td>\n",
       "<td>2-Byte Fractions</td>\n",
       "<td>15</td>\n",
       "<td>8.522727</td>\n",
       "<td>    2.5 KB</td>\n",
       "<td>7.155615</td></tr>\n",
       "<tr><td>C8</td>\n",
       "<td>64-bit Integers</td>\n",
       "<td>1</td>\n",
       "<td>0.5681818</td>\n",
       "<td>    692  B</td>\n",
       "<td>1.9312346</td></tr>\n",
       "<tr><td>CUD</td>\n",
       "<td>Unique Reals</td>\n",
       "<td>27</td>\n",
       "<td>15.340909</td>\n",
       "<td>    7.6 KB</td>\n",
       "<td>21.824068</td></tr>\n",
       "<tr><td>C8D</td>\n",
       "<td>64-bit Reals</td>\n",
       "<td>35</td>\n",
       "<td>19.886364</td>\n",
       "<td>   14.2 KB</td>\n",
       "<td>40.48895</td></tr></table></div>"
      ],
      "text/plain": [
       "chunk_type    chunk_name                 count    count_percentage    size     size_percentage\n",
       "------------  -------------------------  -------  ------------------  -------  -----------------\n",
       "C0L           Constant Integers          32       18.1818             2.5 KB   7.14445\n",
       "C0D           Constant Reals             2        1.13636             160  B   0.446528\n",
       "C1            1-Byte Integers            16       9.09091             1.8 KB   5.07368\n",
       "C1N           1-Byte Integers (w/o NAs)  32       18.1818             3.6 KB   10.1474\n",
       "C1S           1-Byte Fractions           16       9.09091             2.0 KB   5.78812\n",
       "C2S           2-Byte Fractions           15       8.52273             2.5 KB   7.15562\n",
       "C8            64-bit Integers            1        0.568182            692  B   1.93123\n",
       "CUD           Unique Reals               27       15.3409             7.6 KB   21.8241\n",
       "C8D           64-bit Reals               35       19.8864             14.2 KB  40.489"
      ]
     },
     "metadata": {},
     "output_type": "display_data"
    },
    {
     "name": "stdout",
     "output_type": "stream",
     "text": [
      "\n",
      "Frame distribution summary:\n",
      "\n"
     ]
    },
    {
     "data": {
      "text/html": [
       "<div style=\"overflow:auto\"><table style=\"width:50%\"><tr><td></td>\n",
       "<td>size</td>\n",
       "<td>number_of_rows</td>\n",
       "<td>number_of_chunks_per_column</td>\n",
       "<td>number_of_chunks</td></tr>\n",
       "<tr><td>172.16.2.28:54321</td>\n",
       "<td>   35.0 KB</td>\n",
       "<td>730.0</td>\n",
       "<td>16.0</td>\n",
       "<td>176.0</td></tr>\n",
       "<tr><td>mean</td>\n",
       "<td>   35.0 KB</td>\n",
       "<td>730.0</td>\n",
       "<td>16.0</td>\n",
       "<td>176.0</td></tr>\n",
       "<tr><td>min</td>\n",
       "<td>   35.0 KB</td>\n",
       "<td>730.0</td>\n",
       "<td>16.0</td>\n",
       "<td>176.0</td></tr>\n",
       "<tr><td>max</td>\n",
       "<td>   35.0 KB</td>\n",
       "<td>730.0</td>\n",
       "<td>16.0</td>\n",
       "<td>176.0</td></tr>\n",
       "<tr><td>stddev</td>\n",
       "<td>      0  B</td>\n",
       "<td>0.0</td>\n",
       "<td>0.0</td>\n",
       "<td>0.0</td></tr>\n",
       "<tr><td>total</td>\n",
       "<td>   35.0 KB</td>\n",
       "<td>730.0</td>\n",
       "<td>16.0</td>\n",
       "<td>176.0</td></tr></table></div>"
      ],
      "text/plain": [
       "                   size     number_of_rows    number_of_chunks_per_column    number_of_chunks\n",
       "-----------------  -------  ----------------  -----------------------------  ------------------\n",
       "172.16.2.28:54321  35.0 KB  730               16                             176\n",
       "mean               35.0 KB  730               16                             176\n",
       "min                35.0 KB  730               16                             176\n",
       "max                35.0 KB  730               16                             176\n",
       "stddev             0  B     0                 0                              0\n",
       "total              35.0 KB  730               16                             176"
      ]
     },
     "metadata": {},
     "output_type": "display_data"
    },
    {
     "name": "stdout",
     "output_type": "stream",
     "text": [
      "\n",
      "\n"
     ]
    },
    {
     "data": {
      "text/html": [
       "<table>\n",
       "<tr><th>       </th><th>Year Local    </th><th>Month Local  </th><th>Day Local    </th><th>Hour Local  </th><th>Dew Point (C)  </th><th>Humidity Fraction  </th><th>Rain (mm)    </th><th>Temperature (C)  </th><th>WC1  </th><th>msec            </th><th>Days         </th></tr>\n",
       "<tr><td>type   </td><td>int           </td><td>int          </td><td>int          </td><td>int         </td><td>real           </td><td>real               </td><td>real         </td><td>real             </td><td>enum </td><td>int             </td><td>int          </td></tr>\n",
       "<tr><td>mins   </td><td>2013.0        </td><td>1.0          </td><td>1.0          </td><td>12.0        </td><td>-26.7          </td><td>0.1723             </td><td>0.0          </td><td>-13.9            </td><td>0.0  </td><td>1.3570704e+12   </td><td>15706.0      </td></tr>\n",
       "<tr><td>mean   </td><td>2013.5        </td><td>6.52602739726</td><td>15.7205479452</td><td>12.0        </td><td>4.23012379642  </td><td>0.539728198074     </td><td>1.53125714286</td><td>14.0687757909    </td><td>NaN  </td><td>1.3885608526e+12</td><td>16070.5      </td></tr>\n",
       "<tr><td>maxs   </td><td>2014.0        </td><td>12.0         </td><td>31.0         </td><td>12.0        </td><td>23.3           </td><td>1.0                </td><td>12.446       </td><td>34.4             </td><td>10.0 </td><td>1.420056e+12    </td><td>16435.0      </td></tr>\n",
       "<tr><td>sigma  </td><td>0.500342818004</td><td>3.45021529307</td><td>8.80227802701</td><td>0.0         </td><td>11.1062964725  </td><td>0.179945027923     </td><td>2.36064248615</td><td>10.3989855149    </td><td>NaN  </td><td>18219740080.4   </td><td>210.877136425</td></tr>\n",
       "<tr><td>zeros  </td><td>0             </td><td>0            </td><td>0            </td><td>0           </td><td>14             </td><td>0                  </td><td>-69          </td><td>7                </td><td>1    </td><td>0               </td><td>0            </td></tr>\n",
       "<tr><td>missing</td><td>0             </td><td>0            </td><td>0            </td><td>0           </td><td>3              </td><td>3                  </td><td>660          </td><td>3                </td><td>620  </td><td>0               </td><td>0            </td></tr>\n",
       "<tr><td>0      </td><td>2013.0        </td><td>1.0          </td><td>1.0          </td><td>12.0        </td><td>-3.3           </td><td>0.5934             </td><td>nan          </td><td>3.9              </td><td>     </td><td>1.3570704e+12   </td><td>15706.0      </td></tr>\n",
       "<tr><td>1      </td><td>2013.0        </td><td>1.0          </td><td>2.0          </td><td>12.0        </td><td>-11.7          </td><td>0.4806             </td><td>nan          </td><td>-2.2             </td><td>     </td><td>1.3571568e+12   </td><td>15707.0      </td></tr>\n",
       "<tr><td>2      </td><td>2013.0        </td><td>1.0          </td><td>3.0          </td><td>12.0        </td><td>-10.6          </td><td>0.5248             </td><td>nan          </td><td>-2.2             </td><td>     </td><td>1.3572432e+12   </td><td>15708.0      </td></tr>\n",
       "<tr><td>3      </td><td>2013.0        </td><td>1.0          </td><td>4.0          </td><td>12.0        </td><td>-7.2           </td><td>0.4976             </td><td>nan          </td><td>2.2              </td><td>     </td><td>1.3573296e+12   </td><td>15709.0      </td></tr>\n",
       "<tr><td>4      </td><td>2013.0        </td><td>1.0          </td><td>5.0          </td><td>12.0        </td><td>-7.2           </td><td>0.426              </td><td>nan          </td><td>4.4              </td><td>     </td><td>1.357416e+12    </td><td>15710.0      </td></tr>\n",
       "<tr><td>5      </td><td>2013.0        </td><td>1.0          </td><td>6.0          </td><td>12.0        </td><td>-1.7           </td><td>0.6451             </td><td>nan          </td><td>4.4              </td><td>haze </td><td>1.3575024e+12   </td><td>15711.0      </td></tr>\n",
       "<tr><td>6      </td><td>2013.0        </td><td>1.0          </td><td>7.0          </td><td>12.0        </td><td>-6.1           </td><td>0.4119             </td><td>nan          </td><td>6.1              </td><td>     </td><td>1.3575888e+12   </td><td>15712.0      </td></tr>\n",
       "<tr><td>7      </td><td>2013.0        </td><td>1.0          </td><td>8.0          </td><td>12.0        </td><td>-1.7           </td><td>0.5314             </td><td>nan          </td><td>7.2              </td><td>     </td><td>1.3576752e+12   </td><td>15713.0      </td></tr>\n",
       "<tr><td>8      </td><td>2013.0        </td><td>1.0          </td><td>9.0          </td><td>12.0        </td><td>0.6            </td><td>0.56               </td><td>nan          </td><td>8.9              </td><td>haze </td><td>1.3577616e+12   </td><td>15714.0      </td></tr>\n",
       "<tr><td>9      </td><td>2013.0        </td><td>1.0          </td><td>10.0         </td><td>12.0        </td><td>-6.1           </td><td>0.3952             </td><td>nan          </td><td>6.7              </td><td>     </td><td>1.357848e+12    </td><td>15715.0      </td></tr>\n",
       "</table>"
      ]
     },
     "metadata": {},
     "output_type": "display_data"
    }
   ],
   "source": [
    "# Lets now get Days since the epoch... we'll convert year/month/day into Epoch\n",
    "# time, and then back to Epoch days.  Need zero-based month and days, but have\n",
    "# 1-based.\n",
    "wthr3[\"msec\"] = h2o.H2OFrame.mktime(year=wthr3[\"Year Local\"], month=wthr3[\"Month Local\"]-1, day=wthr3[\"Day Local\"]-1, hour=wthr3[\"Hour Local\"])\n",
    "secsPerDay=1000*60*60*24\n",
    "wthr3[\"Days\"] = (wthr3[\"msec\"]/secsPerDay).floor()\n",
    "wthr3.describe()\n",
    "# msec looks sane (numbers like 1.3e12 are in the correct range for msec since\n",
    "# 1970).  Epoch Days matches closely with the epoch day numbers from the\n",
    "# CitiBike dataset."
   ]
  },
  {
   "cell_type": "code",
   "execution_count": 41,
   "metadata": {
    "collapsed": true
   },
   "outputs": [],
   "source": [
    "# Lets drop off the extra time columns to make a easy-to-handle dataset.\n",
    "wthr4 = wthr3.drop(\"Year Local\").drop(\"Month Local\").drop(\"Day Local\").drop(\"Hour Local\").drop(\"msec\")"
   ]
  },
  {
   "cell_type": "code",
   "execution_count": 42,
   "metadata": {
    "collapsed": true
   },
   "outputs": [],
   "source": [
    "# Also, most rain numbers are missing - lets assume those are zero rain days\n",
    "rain = wthr4[\"Rain (mm)\"]\n",
    "rain[rain == None ] = 0"
   ]
  },
  {
   "cell_type": "code",
   "execution_count": 43,
   "metadata": {
    "collapsed": false
   },
   "outputs": [
    {
     "name": "stdout",
     "output_type": "stream",
     "text": [
      "Merge Daily Weather with Bikes-Per-Day\n",
      "Rows:10,450 Cols:10\n",
      "\n",
      "Chunk compression summary:\n",
      "\n"
     ]
    },
    {
     "data": {
      "text/html": [
       "<div style=\"overflow:auto\"><table style=\"width:50%\"><tr><td>chunk_type</td>\n",
       "<td>chunk_name</td>\n",
       "<td>count</td>\n",
       "<td>count_percentage</td>\n",
       "<td>size</td>\n",
       "<td>size_percentage</td></tr>\n",
       "<tr><td>C0L</td>\n",
       "<td>Constant Integers</td>\n",
       "<td>15</td>\n",
       "<td>9.375</td>\n",
       "<td>    1.2 KB</td>\n",
       "<td>0.8414557</td></tr>\n",
       "<tr><td>C0D</td>\n",
       "<td>Constant Reals</td>\n",
       "<td>26</td>\n",
       "<td>16.25</td>\n",
       "<td>    2.0 KB</td>\n",
       "<td>1.4585233</td></tr>\n",
       "<tr><td>CBS</td>\n",
       "<td>Bits</td>\n",
       "<td>2</td>\n",
       "<td>1.25</td>\n",
       "<td>    304  B</td>\n",
       "<td>0.21316877</td></tr>\n",
       "<tr><td>C1</td>\n",
       "<td>1-Byte Integers</td>\n",
       "<td>4</td>\n",
       "<td>2.5</td>\n",
       "<td>    2.8 KB</td>\n",
       "<td>2.0222986</td></tr>\n",
       "<tr><td>C1N</td>\n",
       "<td>1-Byte Integers (w/o NAs)</td>\n",
       "<td>16</td>\n",
       "<td>10.0</td>\n",
       "<td>   11.3 KB</td>\n",
       "<td>8.090596</td></tr>\n",
       "<tr><td>C1S</td>\n",
       "<td>1-Byte Fractions</td>\n",
       "<td>16</td>\n",
       "<td>10.0</td>\n",
       "<td>   11.5 KB</td>\n",
       "<td>8.270107</td></tr>\n",
       "<tr><td>C2</td>\n",
       "<td>2-Byte Integers</td>\n",
       "<td>32</td>\n",
       "<td>20.0</td>\n",
       "<td>   42.9 KB</td>\n",
       "<td>30.836546</td></tr>\n",
       "<tr><td>CUD</td>\n",
       "<td>Unique Reals</td>\n",
       "<td>49</td>\n",
       "<td>30.625</td>\n",
       "<td>   67.2 KB</td>\n",
       "<td>48.267303</td></tr></table></div>"
      ],
      "text/plain": [
       "chunk_type    chunk_name                 count    count_percentage    size     size_percentage\n",
       "------------  -------------------------  -------  ------------------  -------  -----------------\n",
       "C0L           Constant Integers          15       9.375               1.2 KB   0.841456\n",
       "C0D           Constant Reals             26       16.25               2.0 KB   1.45852\n",
       "CBS           Bits                       2        1.25                304  B   0.213169\n",
       "C1            1-Byte Integers            4        2.5                 2.8 KB   2.0223\n",
       "C1N           1-Byte Integers (w/o NAs)  16       10                  11.3 KB  8.0906\n",
       "C1S           1-Byte Fractions           16       10                  11.5 KB  8.27011\n",
       "C2            2-Byte Integers            32       20                  42.9 KB  30.8365\n",
       "CUD           Unique Reals               49       30.625              67.2 KB  48.2673"
      ]
     },
     "metadata": {},
     "output_type": "display_data"
    },
    {
     "name": "stdout",
     "output_type": "stream",
     "text": [
      "\n",
      "Frame distribution summary:\n",
      "\n"
     ]
    },
    {
     "data": {
      "text/html": [
       "<div style=\"overflow:auto\"><table style=\"width:50%\"><tr><td></td>\n",
       "<td>size</td>\n",
       "<td>number_of_rows</td>\n",
       "<td>number_of_chunks_per_column</td>\n",
       "<td>number_of_chunks</td></tr>\n",
       "<tr><td>172.16.2.28:54321</td>\n",
       "<td>  139.3 KB</td>\n",
       "<td>10450.0</td>\n",
       "<td>16.0</td>\n",
       "<td>160.0</td></tr>\n",
       "<tr><td>mean</td>\n",
       "<td>  139.3 KB</td>\n",
       "<td>10450.0</td>\n",
       "<td>16.0</td>\n",
       "<td>160.0</td></tr>\n",
       "<tr><td>min</td>\n",
       "<td>  139.3 KB</td>\n",
       "<td>10450.0</td>\n",
       "<td>16.0</td>\n",
       "<td>160.0</td></tr>\n",
       "<tr><td>max</td>\n",
       "<td>  139.3 KB</td>\n",
       "<td>10450.0</td>\n",
       "<td>16.0</td>\n",
       "<td>160.0</td></tr>\n",
       "<tr><td>stddev</td>\n",
       "<td>      0  B</td>\n",
       "<td>0.0</td>\n",
       "<td>0.0</td>\n",
       "<td>0.0</td></tr>\n",
       "<tr><td>total</td>\n",
       "<td>  139.3 KB</td>\n",
       "<td>10450.0</td>\n",
       "<td>16.0</td>\n",
       "<td>160.0</td></tr></table></div>"
      ],
      "text/plain": [
       "                   size      number_of_rows    number_of_chunks_per_column    number_of_chunks\n",
       "-----------------  --------  ----------------  -----------------------------  ------------------\n",
       "172.16.2.28:54321  139.3 KB  10450             16                             160\n",
       "mean               139.3 KB  10450             16                             160\n",
       "min                139.3 KB  10450             16                             160\n",
       "max                139.3 KB  10450             16                             160\n",
       "stddev             0  B      0                 0                              0\n",
       "total              139.3 KB  10450             16                             160"
      ]
     },
     "metadata": {},
     "output_type": "display_data"
    },
    {
     "name": "stdout",
     "output_type": "stream",
     "text": [
      "\n",
      "\n"
     ]
    },
    {
     "data": {
      "text/html": [
       "<table>\n",
       "<tr><th>       </th><th>Days         </th><th>start station name     </th><th>bikes        </th><th>Month         </th><th>DayOfWeek  </th><th>Humidity Fraction  </th><th>Rain (mm)     </th><th>Temperature (C)  </th><th>WC1  </th><th>Dew Point (C)  </th></tr>\n",
       "<tr><td>type   </td><td>int          </td><td>enum                   </td><td>int          </td><td>enum          </td><td>enum       </td><td>real               </td><td>real          </td><td>real             </td><td>enum </td><td>real           </td></tr>\n",
       "<tr><td>mins   </td><td>15979.0      </td><td>0.0                    </td><td>1.0          </td><td>0.0           </td><td>0.0        </td><td>0.3485             </td><td>0.0           </td><td>9.4              </td><td>2.0  </td><td>-2.2           </td></tr>\n",
       "<tr><td>mean   </td><td>15994.4415311</td><td>NaN                    </td><td>99.3025837321</td><td>0.968612440191</td><td>NaN        </td><td>0.562374191388     </td><td>0.126420091324</td><td>16.9630717703    </td><td>NaN  </td><td>7.77999043062  </td></tr>\n",
       "<tr><td>maxs   </td><td>16010.0      </td><td>329.0                  </td><td>553.0        </td><td>1.0           </td><td>6.0        </td><td>0.8718             </td><td>0.254         </td><td>26.1             </td><td>8.0  </td><td>19.4           </td></tr>\n",
       "<tr><td>sigma  </td><td>9.23370172444</td><td>NaN                    </td><td>72.9721964301</td><td>0.174371128617</td><td>NaN        </td><td>0.149631413472     </td><td>0.127095436911</td><td>4.29746634617    </td><td>NaN  </td><td>6.49151146664  </td></tr>\n",
       "<tr><td>zeros  </td><td>0            </td><td>32                     </td><td>0            </td><td>328           </td><td>1635       </td><td>0                  </td><td>-8814         </td><td>0                </td><td>-7838</td><td>0              </td></tr>\n",
       "<tr><td>missing</td><td>0            </td><td>0                      </td><td>0            </td><td>0             </td><td>0          </td><td>0                  </td><td>9793          </td><td>0                </td><td>9134 </td><td>0              </td></tr>\n",
       "<tr><td>0      </td><td>15979.0      </td><td>1 Ave & E 15 St        </td><td>97.0         </td><td>9             </td><td>Mon        </td><td>0.4315             </td><td>nan           </td><td>23.9             </td><td>     </td><td>10.6           </td></tr>\n",
       "<tr><td>1      </td><td>15979.0      </td><td>1 Ave & E 18 St        </td><td>75.0         </td><td>9             </td><td>Mon        </td><td>0.4315             </td><td>nan           </td><td>23.9             </td><td>     </td><td>10.6           </td></tr>\n",
       "<tr><td>2      </td><td>15979.0      </td><td>1 Ave & E 30 St        </td><td>113.0        </td><td>9             </td><td>Mon        </td><td>0.4315             </td><td>nan           </td><td>23.9             </td><td>     </td><td>10.6           </td></tr>\n",
       "<tr><td>3      </td><td>15979.0      </td><td>10 Ave & W 28 St       </td><td>74.0         </td><td>9             </td><td>Mon        </td><td>0.4315             </td><td>nan           </td><td>23.9             </td><td>     </td><td>10.6           </td></tr>\n",
       "<tr><td>4      </td><td>15979.0      </td><td>11 Ave & W 27 St       </td><td>139.0        </td><td>9             </td><td>Mon        </td><td>0.4315             </td><td>nan           </td><td>23.9             </td><td>     </td><td>10.6           </td></tr>\n",
       "<tr><td>5      </td><td>15979.0      </td><td>11 Ave & W 41 St       </td><td>60.0         </td><td>9             </td><td>Mon        </td><td>0.4315             </td><td>nan           </td><td>23.9             </td><td>     </td><td>10.6           </td></tr>\n",
       "<tr><td>6      </td><td>15979.0      </td><td>12 Ave & W 40 St       </td><td>90.0         </td><td>9             </td><td>Mon        </td><td>0.4315             </td><td>nan           </td><td>23.9             </td><td>     </td><td>10.6           </td></tr>\n",
       "<tr><td>7      </td><td>15979.0      </td><td>2 Ave & E 31 St        </td><td>88.0         </td><td>9             </td><td>Mon        </td><td>0.4315             </td><td>nan           </td><td>23.9             </td><td>     </td><td>10.6           </td></tr>\n",
       "<tr><td>8      </td><td>15979.0      </td><td>2 Ave & E 58 St        </td><td>55.0         </td><td>9             </td><td>Mon        </td><td>0.4315             </td><td>nan           </td><td>23.9             </td><td>     </td><td>10.6           </td></tr>\n",
       "<tr><td>9      </td><td>15979.0      </td><td>3 Ave & Schermerhorn St</td><td>8.0          </td><td>9             </td><td>Mon        </td><td>0.4315             </td><td>nan           </td><td>23.9             </td><td>     </td><td>10.6           </td></tr>\n",
       "</table>"
      ]
     },
     "metadata": {},
     "output_type": "display_data"
    },
    {
     "data": {
      "text/html": [
       "<table>\n",
       "<tr><th style=\"text-align: right;\">  Days</th><th>start station name     </th><th style=\"text-align: right;\">  bikes</th><th style=\"text-align: right;\">  Month</th><th>DayOfWeek  </th><th style=\"text-align: right;\">  Humidity Fraction</th><th style=\"text-align: right;\">  Rain (mm)</th><th style=\"text-align: right;\">  Temperature (C)</th><th>WC1  </th><th style=\"text-align: right;\">  Dew Point (C)</th></tr>\n",
       "<tr><td style=\"text-align: right;\"> 15979</td><td>1 Ave & E 15 St        </td><td style=\"text-align: right;\">     97</td><td style=\"text-align: right;\">      9</td><td>Mon        </td><td style=\"text-align: right;\">             0.4315</td><td style=\"text-align: right;\">        nan</td><td style=\"text-align: right;\">             23.9</td><td>     </td><td style=\"text-align: right;\">           10.6</td></tr>\n",
       "<tr><td style=\"text-align: right;\"> 15979</td><td>1 Ave & E 18 St        </td><td style=\"text-align: right;\">     75</td><td style=\"text-align: right;\">      9</td><td>Mon        </td><td style=\"text-align: right;\">             0.4315</td><td style=\"text-align: right;\">        nan</td><td style=\"text-align: right;\">             23.9</td><td>     </td><td style=\"text-align: right;\">           10.6</td></tr>\n",
       "<tr><td style=\"text-align: right;\"> 15979</td><td>1 Ave & E 30 St        </td><td style=\"text-align: right;\">    113</td><td style=\"text-align: right;\">      9</td><td>Mon        </td><td style=\"text-align: right;\">             0.4315</td><td style=\"text-align: right;\">        nan</td><td style=\"text-align: right;\">             23.9</td><td>     </td><td style=\"text-align: right;\">           10.6</td></tr>\n",
       "<tr><td style=\"text-align: right;\"> 15979</td><td>10 Ave & W 28 St       </td><td style=\"text-align: right;\">     74</td><td style=\"text-align: right;\">      9</td><td>Mon        </td><td style=\"text-align: right;\">             0.4315</td><td style=\"text-align: right;\">        nan</td><td style=\"text-align: right;\">             23.9</td><td>     </td><td style=\"text-align: right;\">           10.6</td></tr>\n",
       "<tr><td style=\"text-align: right;\"> 15979</td><td>11 Ave & W 27 St       </td><td style=\"text-align: right;\">    139</td><td style=\"text-align: right;\">      9</td><td>Mon        </td><td style=\"text-align: right;\">             0.4315</td><td style=\"text-align: right;\">        nan</td><td style=\"text-align: right;\">             23.9</td><td>     </td><td style=\"text-align: right;\">           10.6</td></tr>\n",
       "<tr><td style=\"text-align: right;\"> 15979</td><td>11 Ave & W 41 St       </td><td style=\"text-align: right;\">     60</td><td style=\"text-align: right;\">      9</td><td>Mon        </td><td style=\"text-align: right;\">             0.4315</td><td style=\"text-align: right;\">        nan</td><td style=\"text-align: right;\">             23.9</td><td>     </td><td style=\"text-align: right;\">           10.6</td></tr>\n",
       "<tr><td style=\"text-align: right;\"> 15979</td><td>12 Ave & W 40 St       </td><td style=\"text-align: right;\">     90</td><td style=\"text-align: right;\">      9</td><td>Mon        </td><td style=\"text-align: right;\">             0.4315</td><td style=\"text-align: right;\">        nan</td><td style=\"text-align: right;\">             23.9</td><td>     </td><td style=\"text-align: right;\">           10.6</td></tr>\n",
       "<tr><td style=\"text-align: right;\"> 15979</td><td>2 Ave & E 31 St        </td><td style=\"text-align: right;\">     88</td><td style=\"text-align: right;\">      9</td><td>Mon        </td><td style=\"text-align: right;\">             0.4315</td><td style=\"text-align: right;\">        nan</td><td style=\"text-align: right;\">             23.9</td><td>     </td><td style=\"text-align: right;\">           10.6</td></tr>\n",
       "<tr><td style=\"text-align: right;\"> 15979</td><td>2 Ave & E 58 St        </td><td style=\"text-align: right;\">     55</td><td style=\"text-align: right;\">      9</td><td>Mon        </td><td style=\"text-align: right;\">             0.4315</td><td style=\"text-align: right;\">        nan</td><td style=\"text-align: right;\">             23.9</td><td>     </td><td style=\"text-align: right;\">           10.6</td></tr>\n",
       "<tr><td style=\"text-align: right;\"> 15979</td><td>3 Ave & Schermerhorn St</td><td style=\"text-align: right;\">      8</td><td style=\"text-align: right;\">      9</td><td>Mon        </td><td style=\"text-align: right;\">             0.4315</td><td style=\"text-align: right;\">        nan</td><td style=\"text-align: right;\">             23.9</td><td>     </td><td style=\"text-align: right;\">           10.6</td></tr>\n",
       "</table>"
      ]
     },
     "metadata": {},
     "output_type": "display_data"
    }
   ],
   "source": [
    "# ----------\n",
    "# 6 - Join the weather data-per-day to the bike-starts-per-day\n",
    "print \"Merge Daily Weather with Bikes-Per-Day\"\n",
    "bpd_with_weather = bpd.merge(wthr4,all_x=True,all_y=False)\n",
    "bpd_with_weather.describe()\n",
    "bpd_with_weather.show()"
   ]
  },
  {
   "cell_type": "code",
   "execution_count": 44,
   "metadata": {
    "collapsed": false
   },
   "outputs": [
    {
     "name": "stdout",
     "output_type": "stream",
     "text": [
      "Training data has 10 columns and 6309 rows, test has 3098 rows, holdout has 1043\n",
      "\n",
      "gbm Model Build Progress: [##################################################] 100%\n",
      "\n",
      "drf Model Build Progress: [##################################################] 100%\n",
      "\n",
      "glm Model Build Progress: [##################################################] 100%\n",
      "\n",
      "deeplearning Model Build Progress: [##################################################] 100%\n"
     ]
    },
    {
     "data": {
      "text/html": [
       "<div style=\"overflow:auto\"><table style=\"width:50%\"><tr><td>Model</td>\n",
       "<td>R2 TRAIN</td>\n",
       "<td>R2 TEST</td>\n",
       "<td>R2 HOLDOUT</td>\n",
       "<td>Model Training Time (s)</td></tr>\n",
       "<tr><td>GBM</td>\n",
       "<td>0.998097415715</td>\n",
       "<td>0.919080021291</td>\n",
       "<td>0.931672141701</td>\n",
       "<td>21.302</td></tr>\n",
       "<tr><td>DRF</td>\n",
       "<td>0.882856614241</td>\n",
       "<td>0.762913157191</td>\n",
       "<td>0.767993893471</td>\n",
       "<td>27.909</td></tr>\n",
       "<tr><td>GLM</td>\n",
       "<td>0.999999999461</td>\n",
       "<td>-0.059639304441</td>\n",
       "<td>-0.063230242629</td>\n",
       "<td>0.187</td></tr>\n",
       "<tr><td>DL </td>\n",
       "<td>0.96387855185</td>\n",
       "<td>0.904758424224</td>\n",
       "<td>0.921580061614</td>\n",
       "<td>11.232</td></tr></table></div>"
      ],
      "text/plain": [
       "Model      R2 TRAIN     R2 TEST    R2 HOLDOUT    Model Training Time (s)\n",
       "-------  ----------  ----------  ------------  -------------------------\n",
       "GBM        0.998097   0.91908       0.931672                      21.302\n",
       "DRF        0.882857   0.762913      0.767994                      27.909\n",
       "GLM        1         -0.0596393    -0.0632302                      0.187\n",
       "DL         0.963879   0.904758      0.92158                       11.232"
      ]
     },
     "metadata": {},
     "output_type": "display_data"
    }
   ],
   "source": [
    "# 7 - Test/Train split again, model build again, this time with weather\n",
    "split_fit_predict(bpd_with_weather)"
   ]
  }
 ],
 "metadata": {
  "kernelspec": {
   "display_name": "Python 2",
   "language": "python",
   "name": "python2"
  },
  "language_info": {
   "codemirror_mode": {
    "name": "ipython",
    "version": 2
   },
   "file_extension": ".py",
   "mimetype": "text/x-python",
   "name": "python",
   "nbconvert_exporter": "python",
   "pygments_lexer": "ipython2",
   "version": "2.7.10"
  }
 },
 "nbformat": 4,
 "nbformat_minor": 0
}
