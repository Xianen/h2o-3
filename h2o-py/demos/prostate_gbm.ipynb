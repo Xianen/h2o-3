{
 "worksheets": [
  {
   "cells": [
    {
     "cell_type": "code",
     "execution_count": null,
     "metadata": {},
     "outputs": [],
     "input": [
      "import h2o"
     ],
     "language": "python",
     "prompt_number": 1
    },
    {
     "cell_type": "code",
     "execution_count": null,
     "metadata": {},
     "outputs": [
      {
       "output_type": "pyout",
       "html": [
        "<div style=\"overflow:auto\"><table style=\"width:50%\"><tr><td>H2O cluster uptime: </td>\n",
        "<td>4 minutes 56 seconds 274 milliseconds </td></tr>\n",
        "<tr><td>H2O cluster version: </td>\n",
        "<td>3.1.0.99999</td></tr>\n",
        "<tr><td>H2O cluster name: </td>\n",
        "<td>ece</td></tr>\n",
        "<tr><td>H2O cluster total nodes: </td>\n",
        "<td>1</td></tr>\n",
        "<tr><td>H2O cluster total memory: </td>\n",
        "<td>4.44 GB</td></tr>\n",
        "<tr><td>H2O cluster total cores: </td>\n",
        "<td>8</td></tr>\n",
        "<tr><td>H2O cluster allowed cores: </td>\n",
        "<td>8</td></tr>\n",
        "<tr><td>H2O cluster healthy: </td>\n",
        "<td>True</td></tr>\n",
        "<tr><td>H2O Connection ip: </td>\n",
        "<td>127.0.0.1</td></tr>\n",
        "<tr><td>H2O Connection port: </td>\n",
        "<td>54321</td></tr></table></div>"
       ],
       "metadata": {}
      }
     ],
     "input": [
      "# Connect to a pre-existing cluster\n",
      "h2o.init()"
     ],
     "language": "python",
     "prompt_number": 2
    },
    {
     "cell_type": "code",
     "execution_count": null,
     "metadata": {},
     "outputs": [
      {
       "output_type": "stream",
       "stream": "stdout",
       "text": [
        "\n",
        "\r",
        "Parse Progress: [                                                  ] 00%"
       ]
      },
      {
       "output_type": "stream",
       "stream": "stdout",
       "text": [
        "\r",
        "Parse Progress: [##################################################] 100%"
       ]
      },
      {
       "output_type": "stream",
       "stream": "stdout",
       "text": [
        "\n",
        "Imported  /Users/ece/0xdata/h2o-dev/smalldata/logreg/prostate.csv . Parsed 380 rows and 9 cols\n"
       ]
      }
     ],
     "input": [
      "df = h2o.import_frame(path=h2o.locate(\"smalldata/logreg/prostate.csv\"))"
     ],
     "language": "python",
     "prompt_number": 3
    },
    {
     "cell_type": "code",
     "execution_count": null,
     "metadata": {},
     "outputs": [
      {
       "output_type": "stream",
       "stream": "stdout",
       "text": [
        "Rows: 380 Cols: 9\n",
        "\n"
       ]
      },
      {
       "output_type": "stream",
       "stream": "stdout",
       "text": [
        "Chunk compression summary:\n",
        "\n"
       ]
      },
      {
       "output_type": "pyout",
       "html": [
        "<div style=\"overflow:auto\"><table style=\"width:50%\"><tr><td>chunk_type</td>\n",
        "<td>chunk_name</td>\n",
        "<td>count</td>\n",
        "<td>count_percentage</td>\n",
        "<td>size</td>\n",
        "<td>size_percentage</td></tr>\n",
        "<tr><td>CBS</td>\n",
        "<td>Bits</td>\n",
        "<td>1</td>\n",
        "<td>11.111112</td>\n",
        "<td>    118  B</td>\n",
        "<td>2.4210093</td></tr>\n",
        "<tr><td>C1N</td>\n",
        "<td>1-Byte Integers (w/o NAs)</td>\n",
        "<td>5</td>\n",
        "<td>55.555557</td>\n",
        "<td>    2.2 KB</td>\n",
        "<td>45.958145</td></tr>\n",
        "<tr><td>C2</td>\n",
        "<td>2-Byte Integers</td>\n",
        "<td>1</td>\n",
        "<td>11.111112</td>\n",
        "<td>    828  B</td>\n",
        "<td>16.9881</td></tr>\n",
        "<tr><td>C2S</td>\n",
        "<td>2-Byte Fractions</td>\n",
        "<td>2</td>\n",
        "<td>22.222223</td>\n",
        "<td>    1.6 KB</td>\n",
        "<td>34.632744</td></tr></table></div>"
       ],
       "metadata": {}
      },
      {
       "output_type": "stream",
       "stream": "stdout",
       "text": [
        "\n",
        "Frame distribution summary:\n",
        "\n"
       ]
      },
      {
       "output_type": "pyout",
       "html": [
        "<div style=\"overflow:auto\"><table style=\"width:50%\"><tr><td></td>\n",
        "<td>size</td>\n",
        "<td>number_of_rows</td>\n",
        "<td>number_of_chunks_per_column</td>\n",
        "<td>number_of_chunks</td></tr>\n",
        "<tr><td>172.16.2.41:54321</td>\n",
        "<td>    4.8 KB</td>\n",
        "<td>380.0</td>\n",
        "<td>1.0</td>\n",
        "<td>9.0</td></tr>\n",
        "<tr><td>mean</td>\n",
        "<td>    4.8 KB</td>\n",
        "<td>380.0</td>\n",
        "<td>1.0</td>\n",
        "<td>9.0</td></tr>\n",
        "<tr><td>min</td>\n",
        "<td>    4.8 KB</td>\n",
        "<td>380.0</td>\n",
        "<td>1.0</td>\n",
        "<td>9.0</td></tr>\n",
        "<tr><td>max</td>\n",
        "<td>    4.8 KB</td>\n",
        "<td>380.0</td>\n",
        "<td>1.0</td>\n",
        "<td>9.0</td></tr>\n",
        "<tr><td>stddev</td>\n",
        "<td>      0  B</td>\n",
        "<td>0.0</td>\n",
        "<td>0.0</td>\n",
        "<td>0.0</td></tr>\n",
        "<tr><td>total</td>\n",
        "<td>    4.8 KB</td>\n",
        "<td>380.0</td>\n",
        "<td>1.0</td>\n",
        "<td>9.0</td></tr></table></div>"
       ],
       "metadata": {}
      },
      {
       "output_type": "stream",
       "stream": "stdout",
       "text": [
        "\n",
        "Column-by-Column Summary:\n",
        "\n"
       ]
      },
      {
       "output_type": "pyout",
       "html": [
        "<div style=\"overflow:auto\"><table style=\"width:50%\"><tr><td></td>\n",
        "<td>ID</td>\n",
        "<td>CAPSULE</td>\n",
        "<td>AGE</td>\n",
        "<td>RACE</td>\n",
        "<td>DPROS</td>\n",
        "<td>DCAPS</td>\n",
        "<td>PSA</td>\n",
        "<td>VOL</td>\n",
        "<td>GLEASON</td></tr>\n",
        "<tr><td>type</td>\n",
        "<td>int</td>\n",
        "<td>int</td>\n",
        "<td>int</td>\n",
        "<td>int</td>\n",
        "<td>int</td>\n",
        "<td>int</td>\n",
        "<td>real</td>\n",
        "<td>real</td>\n",
        "<td>int</td></tr>\n",
        "<tr><td>mins</td>\n",
        "<td>1.0</td>\n",
        "<td>0.0</td>\n",
        "<td>43.0</td>\n",
        "<td>0.0</td>\n",
        "<td>1.0</td>\n",
        "<td>1.0</td>\n",
        "<td>0.3</td>\n",
        "<td>0.0</td>\n",
        "<td>0.0</td></tr>\n",
        "<tr><td>mean</td>\n",
        "<td>190.5</td>\n",
        "<td>0.402631578947</td>\n",
        "<td>66.0394736842</td>\n",
        "<td>1.08684210526</td>\n",
        "<td>2.27105263158</td>\n",
        "<td>1.10789473684</td>\n",
        "<td>15.4086315789</td>\n",
        "<td>15.8129210526</td>\n",
        "<td>6.38421052632</td></tr>\n",
        "<tr><td>maxs</td>\n",
        "<td>380.0</td>\n",
        "<td>1.0</td>\n",
        "<td>79.0</td>\n",
        "<td>2.0</td>\n",
        "<td>4.0</td>\n",
        "<td>2.0</td>\n",
        "<td>139.7</td>\n",
        "<td>97.6</td>\n",
        "<td>9.0</td></tr>\n",
        "<tr><td>sigma</td>\n",
        "<td>109.840793879</td>\n",
        "<td>0.491074338963</td>\n",
        "<td>6.52707126917</td>\n",
        "<td>0.308773258025</td>\n",
        "<td>1.00010761815</td>\n",
        "<td>0.310656449351</td>\n",
        "<td>19.9975726686</td>\n",
        "<td>18.3476199673</td>\n",
        "<td>1.09195337443</td></tr>\n",
        "<tr><td>zero_count</td>\n",
        "<td>0</td>\n",
        "<td>227</td>\n",
        "<td>0</td>\n",
        "<td>3</td>\n",
        "<td>0</td>\n",
        "<td>0</td>\n",
        "<td>0</td>\n",
        "<td>167</td>\n",
        "<td>2</td></tr>\n",
        "<tr><td>missing_count</td>\n",
        "<td>0</td>\n",
        "<td>0</td>\n",
        "<td>0</td>\n",
        "<td>0</td>\n",
        "<td>0</td>\n",
        "<td>0</td>\n",
        "<td>0</td>\n",
        "<td>0</td>\n",
        "<td>0</td></tr></table></div>"
       ],
       "metadata": {}
      }
     ],
     "input": [
      "df.describe()"
     ],
     "language": "python",
     "prompt_number": 4
    },
    {
     "cell_type": "code",
     "execution_count": null,
     "metadata": {},
     "outputs": [],
     "input": [
      "# Remove ID from training frame\n",
      "train = df.drop(\"ID\")"
     ],
     "language": "python",
     "prompt_number": 5
    },
    {
     "cell_type": "code",
     "execution_count": null,
     "metadata": {},
     "outputs": [],
     "input": [
      "# For VOL & GLEASON, a zero really means \"missing\"\n",
      "vol = train['VOL']\n",
      "vol[vol == 0] = None\n",
      "gle = train['GLEASON']\n",
      "gle[gle == 0] = None"
     ],
     "language": "python",
     "prompt_number": 6
    },
    {
     "cell_type": "code",
     "execution_count": null,
     "metadata": {},
     "outputs": [],
     "input": [
      "# Convert CAPSULE to a logical factor\n",
      "train['CAPSULE'] = train['CAPSULE'].asfactor()"
     ],
     "language": "python",
     "prompt_number": 7
    },
    {
     "cell_type": "code",
     "execution_count": null,
     "metadata": {},
     "outputs": [
      {
       "output_type": "stream",
       "stream": "stdout",
       "text": [
        "Rows: 380 Cols: 8\n",
        "\n",
        "Chunk compression summary:\n",
        "\n"
       ]
      },
      {
       "output_type": "pyout",
       "html": [
        "<div style=\"overflow:auto\"><table style=\"width:50%\"><tr><td>chunk_type</td>\n",
        "<td>chunk_name</td>\n",
        "<td>count</td>\n",
        "<td>count_percentage</td>\n",
        "<td>size</td>\n",
        "<td>size_percentage</td></tr>\n",
        "<tr><td>CBS</td>\n",
        "<td>Bits</td>\n",
        "<td>1</td>\n",
        "<td>12.5</td>\n",
        "<td>    118  B</td>\n",
        "<td>2.9164608</td></tr>\n",
        "<tr><td>C1</td>\n",
        "<td>1-Byte Integers</td>\n",
        "<td>1</td>\n",
        "<td>12.5</td>\n",
        "<td>    448  B</td>\n",
        "<td>11.072664</td></tr>\n",
        "<tr><td>C1N</td>\n",
        "<td>1-Byte Integers (w/o NAs)</td>\n",
        "<td>4</td>\n",
        "<td>50.0</td>\n",
        "<td>    1.8 KB</td>\n",
        "<td>44.290657</td></tr>\n",
        "<tr><td>C2S</td>\n",
        "<td>2-Byte Fractions</td>\n",
        "<td>2</td>\n",
        "<td>25.0</td>\n",
        "<td>    1.6 KB</td>\n",
        "<td>41.72022</td></tr></table></div>"
       ],
       "metadata": {}
      },
      {
       "output_type": "stream",
       "stream": "stdout",
       "text": [
        "\n",
        "Frame distribution summary:\n",
        "\n"
       ]
      },
      {
       "output_type": "pyout",
       "html": [
        "<div style=\"overflow:auto\"><table style=\"width:50%\"><tr><td></td>\n",
        "<td>size</td>\n",
        "<td>number_of_rows</td>\n",
        "<td>number_of_chunks_per_column</td>\n",
        "<td>number_of_chunks</td></tr>\n",
        "<tr><td>172.16.2.41:54321</td>\n",
        "<td>    4.0 KB</td>\n",
        "<td>380.0</td>\n",
        "<td>1.0</td>\n",
        "<td>8.0</td></tr>\n",
        "<tr><td>mean</td>\n",
        "<td>    4.0 KB</td>\n",
        "<td>380.0</td>\n",
        "<td>1.0</td>\n",
        "<td>8.0</td></tr>\n",
        "<tr><td>min</td>\n",
        "<td>    4.0 KB</td>\n",
        "<td>380.0</td>\n",
        "<td>1.0</td>\n",
        "<td>8.0</td></tr>\n",
        "<tr><td>max</td>\n",
        "<td>    4.0 KB</td>\n",
        "<td>380.0</td>\n",
        "<td>1.0</td>\n",
        "<td>8.0</td></tr>\n",
        "<tr><td>stddev</td>\n",
        "<td>      0  B</td>\n",
        "<td>0.0</td>\n",
        "<td>0.0</td>\n",
        "<td>0.0</td></tr>\n",
        "<tr><td>total</td>\n",
        "<td>    4.0 KB</td>\n",
        "<td>380.0</td>\n",
        "<td>1.0</td>\n",
        "<td>8.0</td></tr></table></div>"
       ],
       "metadata": {}
      },
      {
       "output_type": "stream",
       "stream": "stdout",
       "text": [
        "\n",
        "Column-by-Column Summary:\n",
        "\n"
       ]
      },
      {
       "output_type": "pyout",
       "html": [
        "<div style=\"overflow:auto\"><table style=\"width:50%\"><tr><td></td>\n",
        "<td>CAPSULE</td>\n",
        "<td>AGE</td>\n",
        "<td>RACE</td>\n",
        "<td>DPROS</td>\n",
        "<td>DCAPS</td>\n",
        "<td>PSA</td>\n",
        "<td>VOL</td>\n",
        "<td>GLEASON</td></tr>\n",
        "<tr><td>type</td>\n",
        "<td>enum</td>\n",
        "<td>int</td>\n",
        "<td>int</td>\n",
        "<td>int</td>\n",
        "<td>int</td>\n",
        "<td>real</td>\n",
        "<td>real</td>\n",
        "<td>int</td></tr>\n",
        "<tr><td>mins</td>\n",
        "<td>0.0</td>\n",
        "<td>43.0</td>\n",
        "<td>0.0</td>\n",
        "<td>1.0</td>\n",
        "<td>1.0</td>\n",
        "<td>0.3</td>\n",
        "<td>1.92</td>\n",
        "<td>4.0</td></tr>\n",
        "<tr><td>mean</td>\n",
        "<td>0.402631578947</td>\n",
        "<td>66.0394736842</td>\n",
        "<td>1.08684210526</td>\n",
        "<td>2.27105263158</td>\n",
        "<td>1.10789473684</td>\n",
        "<td>15.4086315789</td>\n",
        "<td>28.2108450704</td>\n",
        "<td>6.41798941799</td></tr>\n",
        "<tr><td>maxs</td>\n",
        "<td>1.0</td>\n",
        "<td>79.0</td>\n",
        "<td>2.0</td>\n",
        "<td>4.0</td>\n",
        "<td>2.0</td>\n",
        "<td>139.7</td>\n",
        "<td>97.6</td>\n",
        "<td>9.0</td></tr>\n",
        "<tr><td>sigma</td>\n",
        "<td>0.491074338963</td>\n",
        "<td>6.52707126917</td>\n",
        "<td>0.308773258025</td>\n",
        "<td>1.00010761815</td>\n",
        "<td>0.310656449351</td>\n",
        "<td>19.9975726686</td>\n",
        "<td>15.824317841</td>\n",
        "<td>0.990616012776</td></tr>\n",
        "<tr><td>zero_count</td>\n",
        "<td>227</td>\n",
        "<td>0</td>\n",
        "<td>3</td>\n",
        "<td>0</td>\n",
        "<td>0</td>\n",
        "<td>0</td>\n",
        "<td>0</td>\n",
        "<td>0</td></tr>\n",
        "<tr><td>missing_count</td>\n",
        "<td>0</td>\n",
        "<td>0</td>\n",
        "<td>0</td>\n",
        "<td>0</td>\n",
        "<td>0</td>\n",
        "<td>0</td>\n",
        "<td>167</td>\n",
        "<td>2</td></tr></table></div>"
       ],
       "metadata": {}
      }
     ],
     "input": [
      "# See that the data is ready\n",
      "train.describe()"
     ],
     "language": "python",
     "prompt_number": 8
    },
    {
     "cell_type": "code",
     "execution_count": null,
     "metadata": {},
     "outputs": [
      {
       "output_type": "stream",
       "stream": "stdout",
       "text": [
        "\n",
        "\r",
        "gbm Model Build Progress: [                                                  ] 00%"
       ]
      },
      {
       "output_type": "stream",
       "stream": "stdout",
       "text": [
        "\r",
        "gbm Model Build Progress: [#################                                 ] 34%"
       ]
      },
      {
       "output_type": "stream",
       "stream": "stdout",
       "text": [
        "\r",
        "gbm Model Build Progress: [##################################################] 100%"
       ]
      },
      {
       "output_type": "stream",
       "stream": "stdout",
       "text": [
        "\n"
       ]
      }
     ],
     "input": [
      "# Run GBM\n",
      "my_gbm = h2o.gbm(           y=train[\"CAPSULE\"],\n",
      "                 validation_y=train[\"CAPSULE\"],\n",
      "                            x=train[1:],\n",
      "                 validation_x=train[1:],\n",
      "                 distribution = \"bernoulli\",\n",
      "                 ntrees=50,\n",
      "                 learn_rate=0.1)"
     ],
     "language": "python",
     "prompt_number": 9
    },
    {
     "cell_type": "code",
     "execution_count": null,
     "metadata": {},
     "outputs": [
      {
       "output_type": "stream",
       "stream": "stdout",
       "text": [
        "\n",
        "ModelMetricsBinomial: gbm\n",
        "** Reported on test data. **\n",
        "\n",
        "MSE: 0.0744435128035\n",
        "R^2: 0.691303022834\n",
        "LogLoss: 0.270431302856\n",
        "AUC: 0.980550516829\n",
        "Gini: 0.961101033659\n",
        "\n",
        "Confusion Matrix (Act/Pred) for max f1 @ threshold = 0.452447834853:\n",
        "\n"
       ]
      },
      {
       "output_type": "pyout",
       "html": [
        "<div style=\"overflow:auto\"><table style=\"width:50%\"><tr><td></td>\n",
        "<td>0</td>\n",
        "<td>1</td>\n",
        "<td>Error</td>\n",
        "<td>Rate</td></tr>\n",
        "<tr><td>0</td>\n",
        "<td>214.0</td>\n",
        "<td>13.0</td>\n",
        "<td>0.0573</td>\n",
        "<td> (13.0/227.0)</td></tr>\n",
        "<tr><td>1</td>\n",
        "<td>14.0</td>\n",
        "<td>139.0</td>\n",
        "<td>0.0915</td>\n",
        "<td> (14.0/153.0)</td></tr>\n",
        "<tr><td>Total</td>\n",
        "<td>228.0</td>\n",
        "<td>152.0</td>\n",
        "<td>0.1488</td>\n",
        "<td> (0.1488/380.0)</td></tr></table></div>"
       ],
       "metadata": {}
      },
      {
       "output_type": "stream",
       "stream": "stdout",
       "text": [
        "\n",
        "Maximum Metrics:\n",
        "\n"
       ]
      },
      {
       "output_type": "pyout",
       "html": [
        "<div style=\"overflow:auto\"><table style=\"width:50%\"><tr><td>metric</td>\n",
        "<td>threshold</td>\n",
        "<td>value</td>\n",
        "<td>idx</td></tr>\n",
        "<tr><td>f1</td>\n",
        "<td>0.452447834853</td>\n",
        "<td>0.911475409836</td>\n",
        "<td>151.0</td></tr>\n",
        "<tr><td>f2</td>\n",
        "<td>0.316330050777</td>\n",
        "<td>0.942928039702</td>\n",
        "<td>192.0</td></tr>\n",
        "<tr><td>f0point5</td>\n",
        "<td>0.561811969917</td>\n",
        "<td>0.926756352765</td>\n",
        "<td>128.0</td></tr>\n",
        "<tr><td>accuracy</td>\n",
        "<td>0.452447834853</td>\n",
        "<td>0.928947368421</td>\n",
        "<td>151.0</td></tr>\n",
        "<tr><td>precision</td>\n",
        "<td>0.984119707771</td>\n",
        "<td>1.0</td>\n",
        "<td>0.0</td></tr>\n",
        "<tr><td>absolute_MCC</td>\n",
        "<td>0.452447834853</td>\n",
        "<td>0.852148594702</td>\n",
        "<td>151.0</td></tr>\n",
        "<tr><td>min_per_class_accuracy</td>\n",
        "<td>0.433436616032</td>\n",
        "<td>0.921568627451</td>\n",
        "<td>157.0</td></tr>\n",
        "<tr><td>tns</td>\n",
        "<td>0.984119707771</td>\n",
        "<td>227.0</td>\n",
        "<td>0.0</td></tr>\n",
        "<tr><td>fns</td>\n",
        "<td>0.984119707771</td>\n",
        "<td>152.0</td>\n",
        "<td>0.0</td></tr>\n",
        "<tr><td>fps</td>\n",
        "<td>0.012063597474</td>\n",
        "<td>227.0</td>\n",
        "<td>378.0</td></tr>\n",
        "<tr><td>tps</td>\n",
        "<td>0.197563211765</td>\n",
        "<td>153.0</td>\n",
        "<td>229.0</td></tr>\n",
        "<tr><td>tnr</td>\n",
        "<td>0.984119707771</td>\n",
        "<td>1.0</td>\n",
        "<td>0.0</td></tr>\n",
        "<tr><td>fnr</td>\n",
        "<td>0.984119707771</td>\n",
        "<td>0.993464052288</td>\n",
        "<td>0.0</td></tr>\n",
        "<tr><td>fpr</td>\n",
        "<td>0.012063597474</td>\n",
        "<td>1.0</td>\n",
        "<td>378.0</td></tr>\n",
        "<tr><td>tpr</td>\n",
        "<td>0.197563211765</td>\n",
        "<td>1.0</td>\n",
        "<td>229.0</td></tr></table></div>"
       ],
       "metadata": {}
      }
     ],
     "input": [
      "my_gbm_metrics = my_gbm.model_performance(train)\n",
      "my_gbm_metrics.show()"
     ],
     "language": "python",
     "prompt_number": 10
    }
   ]
  }
 ],
 "cells": [],
 "metadata": {
  "kernelspec": {
   "display_name": "Python 2",
   "language": "python",
   "name": "python2"
  },
  "language_info": {
   "codemirror_mode": {
    "name": "ipython",
    "version": 2.0
   },
   "file_extension": ".py",
   "mimetype": "text/x-python",
   "name": "python",
   "nbconvert_exporter": "python",
   "pygments_lexer": "ipython2",
   "version": "2.7.6"
  },
  "name": "",
  "signature": "sha256:166b73cafdd4456d8604795a65ee4a1577d495c9f245d23c1b6fa9aaec434dfe"
 },
 "nbformat": 3,
 "nbformat_minor": 0
}