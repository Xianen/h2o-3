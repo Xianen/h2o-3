{
 "cells": [
  {
   "cell_type": "code",
   "execution_count": 1,
   "metadata": {
    "collapsed": false
   },
   "outputs": [],
   "source": [
    "import sys\n",
    "sys.path.insert(1, '/Users/rpeck/Source/h2o-3/h2o-py')\n",
    "import h2o\n",
    "import time"
   ]
  },
  {
   "cell_type": "code",
   "execution_count": 2,
   "metadata": {
    "collapsed": false
   },
   "outputs": [
    {
     "name": "stdout",
     "output_type": "stream",
     "text": [
      "H2O PYTHON PACKAGE VERSION: 3.0.0.99999\n"
     ]
    }
   ],
   "source": [
    "import pkg_resources\n",
    "ver = pkg_resources.get_distribution(\"h2o\").version\n",
    "print \"H2O PYTHON PACKAGE VERSION: \" + str(ver)"
   ]
  },
  {
   "cell_type": "code",
   "execution_count": 3,
   "metadata": {
    "collapsed": false
   },
   "outputs": [
    {
     "name": "stdout",
     "output_type": "stream",
     "text": [
      "Warning: Version mismatch. H2O is version 3.7.0.3300, but the python package is version 3.0.0.99999.\n"
     ]
    },
    {
     "data": {
      "text/html": [
       "<div style=\"overflow:auto\"><table style=\"width:50%\"><tr><td>H2O cluster uptime: </td>\n",
       "<td>35 seconds 77 milliseconds </td></tr>\n",
       "<tr><td>H2O cluster version: </td>\n",
       "<td>3.7.0.3300</td></tr>\n",
       "<tr><td>H2O cluster name: </td>\n",
       "<td>rpeck</td></tr>\n",
       "<tr><td>H2O cluster total nodes: </td>\n",
       "<td>1</td></tr>\n",
       "<tr><td>H2O cluster total memory: </td>\n",
       "<td>3.56 GB</td></tr>\n",
       "<tr><td>H2O cluster total cores: </td>\n",
       "<td>8</td></tr>\n",
       "<tr><td>H2O cluster allowed cores: </td>\n",
       "<td>8</td></tr>\n",
       "<tr><td>H2O cluster healthy: </td>\n",
       "<td>True</td></tr>\n",
       "<tr><td>H2O Connection ip: </td>\n",
       "<td>127.0.0.1</td></tr>\n",
       "<tr><td>H2O Connection port: </td>\n",
       "<td>54321</td></tr></table></div>"
      ],
      "text/plain": [
       "--------------------------  --------------------------\n",
       "H2O cluster uptime:         35 seconds 77 milliseconds\n",
       "H2O cluster version:        3.7.0.3300\n",
       "H2O cluster name:           rpeck\n",
       "H2O cluster total nodes:    1\n",
       "H2O cluster total memory:   3.56 GB\n",
       "H2O cluster total cores:    8\n",
       "H2O cluster allowed cores:  8\n",
       "H2O cluster healthy:        True\n",
       "H2O Connection ip:          127.0.0.1\n",
       "H2O Connection port:        54321\n",
       "--------------------------  --------------------------"
      ]
     },
     "metadata": {},
     "output_type": "display_data"
    }
   ],
   "source": [
    "# Explore a typical Data Science workflow with H2O and Python\n",
    "#\n",
    "# Goal: assist the manager of CitiBike of NYC to load-balance the bicycles\n",
    "# across the CitiBike network of stations, by predicting the number of bike\n",
    "# trips taken from the station every day.  Use 10 million rows of historical\n",
    "# data, and eventually add weather data.\n",
    "\n",
    "\n",
    "# Connect to a cluster\n",
    "h2o.init(ip=\"127.0.0.1\", port=54321, strict_version_check=False)"
   ]
  },
  {
   "cell_type": "code",
   "execution_count": 4,
   "metadata": {
    "collapsed": true
   },
   "outputs": [],
   "source": [
    "# Set this to True if you want to fetch the data directly from S3.\n",
    "# This is useful if your cluster is running in EC2.\n",
    "data_source_is_s3 = False\n",
    "\n",
    "def mylocate(s):\n",
    "    if data_source_is_s3:\n",
    "        return \"s3n://h2o-public-test-data/\" + s\n",
    "    else:\n",
    "        return h2o.locate(s)"
   ]
  },
  {
   "cell_type": "code",
   "execution_count": 5,
   "metadata": {
    "collapsed": false
   },
   "outputs": [
    {
     "name": "stdout",
     "output_type": "stream",
     "text": [
      "Import and Parse bike data\n",
      "\n",
      "Parse Progress: [##################################################] 100%\n"
     ]
    }
   ],
   "source": [
    "# Pick either the big or the small demo.\n",
    "# Big data is 10M rows\n",
    "small_test = [mylocate(\"bigdata/laptop/citibike-nyc/2013-10.csv\")]\n",
    "big_test =   [mylocate(\"bigdata/laptop/citibike-nyc/2013-07.csv\"),\n",
    "              mylocate(\"bigdata/laptop/citibike-nyc/2013-08.csv\"),\n",
    "              mylocate(\"bigdata/laptop/citibike-nyc/2013-09.csv\"),\n",
    "              mylocate(\"bigdata/laptop/citibike-nyc/2013-10.csv\"),\n",
    "              mylocate(\"bigdata/laptop/citibike-nyc/2013-11.csv\"),\n",
    "              mylocate(\"bigdata/laptop/citibike-nyc/2013-12.csv\"),\n",
    "              mylocate(\"bigdata/laptop/citibike-nyc/2014-01.csv\"),\n",
    "              mylocate(\"bigdata/laptop/citibike-nyc/2014-02.csv\"),\n",
    "              mylocate(\"bigdata/laptop/citibike-nyc/2014-03.csv\"),\n",
    "              mylocate(\"bigdata/laptop/citibike-nyc/2014-04.csv\"),\n",
    "              mylocate(\"bigdata/laptop/citibike-nyc/2014-05.csv\"),\n",
    "              mylocate(\"bigdata/laptop/citibike-nyc/2014-06.csv\"),\n",
    "              mylocate(\"bigdata/laptop/citibike-nyc/2014-07.csv\"),\n",
    "              mylocate(\"bigdata/laptop/citibike-nyc/2014-08.csv\")]\n",
    "\n",
    "# ----------\n",
    "\n",
    "# 1- Load data - 1 row per bicycle trip.  Has columns showing the start and end\n",
    "# station, trip duration and trip start time and day.  The larger dataset\n",
    "# totals about 10 million rows\n",
    "print \"Import and Parse bike data\"\n",
    "data = h2o.import_frame(path=big_test)"
   ]
  },
  {
   "cell_type": "code",
   "execution_count": 6,
   "metadata": {
    "collapsed": false
   },
   "outputs": [
    {
     "name": "stdout",
     "output_type": "stream",
     "text": [
      "Rows:10,407,546 Cols:16\n",
      "\n",
      "Chunk compression summary:\n",
      "\n"
     ]
    },
    {
     "data": {
      "text/html": [
       "<div style=\"overflow:auto\"><table style=\"width:50%\"><tr><td>chunk_type</td>\n",
       "<td>chunk_name</td>\n",
       "<td>count</td>\n",
       "<td>count_percentage</td>\n",
       "<td>size</td>\n",
       "<td>size_percentage</td></tr>\n",
       "<tr><td>C1</td>\n",
       "<td>1-Byte Integers</td>\n",
       "<td>53</td>\n",
       "<td>6.25</td>\n",
       "<td>    9.9 MB</td>\n",
       "<td>1.6125029</td></tr>\n",
       "<tr><td>C1N</td>\n",
       "<td>1-Byte Integers (w/o NAs)</td>\n",
       "<td>53</td>\n",
       "<td>6.25</td>\n",
       "<td>    9.9 MB</td>\n",
       "<td>1.6125029</td></tr>\n",
       "<tr><td>C1S</td>\n",
       "<td>1-Byte Fractions</td>\n",
       "<td>106</td>\n",
       "<td>12.5</td>\n",
       "<td>   19.9 MB</td>\n",
       "<td>3.2252688</td></tr>\n",
       "<tr><td>C2</td>\n",
       "<td>2-Byte Integers</td>\n",
       "<td>290</td>\n",
       "<td>34.198112</td>\n",
       "<td>  108.5 MB</td>\n",
       "<td>17.62338</td></tr>\n",
       "<tr><td>C4</td>\n",
       "<td>4-Byte Integers</td>\n",
       "<td>28</td>\n",
       "<td>3.3018868</td>\n",
       "<td>   21.2 MB</td>\n",
       "<td>3.4463155</td></tr>\n",
       "<tr><td>C4S</td>\n",
       "<td>4-Byte Fractions</td>\n",
       "<td>39</td>\n",
       "<td>4.5990567</td>\n",
       "<td>   30.2 MB</td>\n",
       "<td>4.8972745</td></tr>\n",
       "<tr><td>C8</td>\n",
       "<td>64-bit Integers</td>\n",
       "<td>106</td>\n",
       "<td>12.5</td>\n",
       "<td>  158.8 MB</td>\n",
       "<td>25.792233</td></tr>\n",
       "<tr><td>C8D</td>\n",
       "<td>64-bit Reals</td>\n",
       "<td>173</td>\n",
       "<td>20.400944</td>\n",
       "<td>  257.3 MB</td>\n",
       "<td>41.79052</td></tr></table></div>"
      ],
      "text/plain": [
       "chunk_type    chunk_name                 count    count_percentage    size      size_percentage\n",
       "------------  -------------------------  -------  ------------------  --------  -----------------\n",
       "C1            1-Byte Integers            53       6.25                9.9 MB    1.6125\n",
       "C1N           1-Byte Integers (w/o NAs)  53       6.25                9.9 MB    1.6125\n",
       "C1S           1-Byte Fractions           106      12.5                19.9 MB   3.22527\n",
       "C2            2-Byte Integers            290      34.1981             108.5 MB  17.6234\n",
       "C4            4-Byte Integers            28       3.30189             21.2 MB   3.44632\n",
       "C4S           4-Byte Fractions           39       4.59906             30.2 MB   4.89727\n",
       "C8            64-bit Integers            106      12.5                158.8 MB  25.7922\n",
       "C8D           64-bit Reals               173      20.4009             257.3 MB  41.7905"
      ]
     },
     "metadata": {},
     "output_type": "display_data"
    },
    {
     "name": "stdout",
     "output_type": "stream",
     "text": [
      "\n",
      "Frame distribution summary:\n",
      "\n"
     ]
    },
    {
     "data": {
      "text/html": [
       "<div style=\"overflow:auto\"><table style=\"width:50%\"><tr><td></td>\n",
       "<td>size</td>\n",
       "<td>number_of_rows</td>\n",
       "<td>number_of_chunks_per_column</td>\n",
       "<td>number_of_chunks</td></tr>\n",
       "<tr><td>172.16.2.58:54321</td>\n",
       "<td>  615.7 MB</td>\n",
       "<td>10407546.0</td>\n",
       "<td>53.0</td>\n",
       "<td>848.0</td></tr>\n",
       "<tr><td>mean</td>\n",
       "<td>  615.7 MB</td>\n",
       "<td>10407546.0</td>\n",
       "<td>53.0</td>\n",
       "<td>848.0</td></tr>\n",
       "<tr><td>min</td>\n",
       "<td>  615.7 MB</td>\n",
       "<td>10407546.0</td>\n",
       "<td>53.0</td>\n",
       "<td>848.0</td></tr>\n",
       "<tr><td>max</td>\n",
       "<td>  615.7 MB</td>\n",
       "<td>10407546.0</td>\n",
       "<td>53.0</td>\n",
       "<td>848.0</td></tr>\n",
       "<tr><td>stddev</td>\n",
       "<td>      0  B</td>\n",
       "<td>0.0</td>\n",
       "<td>0.0</td>\n",
       "<td>0.0</td></tr>\n",
       "<tr><td>total</td>\n",
       "<td>  615.7 MB</td>\n",
       "<td>10407546.0</td>\n",
       "<td>53.0</td>\n",
       "<td>848.0</td></tr></table></div>"
      ],
      "text/plain": [
       "                   size      number_of_rows    number_of_chunks_per_column    number_of_chunks\n",
       "-----------------  --------  ----------------  -----------------------------  ------------------\n",
       "172.16.2.58:54321  615.7 MB  1.04075e+07       53                             848\n",
       "mean               615.7 MB  1.04075e+07       53                             848\n",
       "min                615.7 MB  1.04075e+07       53                             848\n",
       "max                615.7 MB  1.04075e+07       53                             848\n",
       "stddev             0  B      0                 0                              0\n",
       "total              615.7 MB  1.04075e+07       53                             848"
      ]
     },
     "metadata": {},
     "output_type": "display_data"
    },
    {
     "name": "stdout",
     "output_type": "stream",
     "text": [
      "\n",
      "\n"
     ]
    },
    {
     "data": {
      "text/html": [
       "         tripduration    starttime          stoptime           start station id    start station name       start station latitude    start station longitude    end station id    end station name             end station latitude    end station longitude    bikeid         usertype        birth year     gender          Days\n",
       "-------  --------------  -----------------  -----------------  ------------------  -----------------------  ------------------------  -------------------------  ----------------  ---------------------------  ----------------------  -----------------------  -------------  --------------  -------------  --------------  -------------\n",
       "type     int             time               time               int                 enum                     real                      real                       int               enum                         real                    real                     int            enum            int            int             int\n",
       "mins     60.0            1.372662e+12       1.372662242e+12    72.0                0.0                      40.680342423              -74.01713445               72.0              0.0                          40.680342423            -74.01713445             14529.0        0.0             1899.0         0.0             15887.0\n",
       "mean     868.968726057   1.39099985823e+12  1.39100072718e+12  444.858835407       NaN                      40.7343819823             -73.9910570182             445.259785544     NaN                          40.7340868895           -73.9911707799           17895.6618358  0.880131781306  1975.79892394  1.08414654137   16099.0245177\n",
       "maxs     6250750.0       1.409554787e+12    1.409563605e+12    3002.0              339.0                    40.771522                 -73.9500479759             3002.0            339.0                        40.771522               -73.9500479759           21689.0        1.0             1998.0         2.0             16314.0\n",
       "sigma    2985.10540532   11806578171.7      11806555707.8      355.755989765       NaN                      0.0197100508736           0.0123453320185            360.070380844     NaN                          0.0197309578633         0.0124311861598          1938.80517884  0.324807387506  11.132784905   0.563019777794  136.647269305\n",
       "zeros    0               0                  0                  0                   56836                    0                         0                          0                 55167                        0                       0                        0              1247534         0              1248517         0\n",
       "missing  0               0                  0                  0                   0                        0                         0                          0                 0                            0                       0                        0              0               1247644        0               0\n",
       "0        634.0           1.372662e+12       1.372662634e+12    164.0               E 47 St & 2 Ave          40.75323098               -73.97032517               504.0             1 Ave & E 15 St              40.73221853             -73.98165557             16950.0        Customer        nan            0.0             15887.0\n",
       "1        1547.0          1.372662002e+12    1.372663549e+12    388.0               W 26 St & 10 Ave         40.749717753              -74.002950346              459.0             W 20 St & 11 Ave             40.746745               -74.007756               19816.0        Customer        nan            0.0             15887.0\n",
       "2        178.0           1.372662064e+12    1.372662242e+12    293.0               Lafayette St & E 8 St    40.73028666               -73.9907647                237.0             E 11 St & 2 Ave              40.73047309             -73.98672378             14548.0        Subscriber      1980.0         2.0             15887.0\n",
       "3        1580.0          1.372662066e+12    1.372663646e+12    531.0               Forsyth St & Broome St   40.71893904               -73.99266288               499.0             Broadway & W 60 St           40.76915505             -73.98191841             16063.0        Customer        nan            0.0             15887.0\n",
       "4        757.0           1.37266207e+12     1.372662827e+12    382.0               University Pl & E 14 St  40.73492695               -73.99200509               410.0             Suffolk St & Stanton St      40.72066442             -73.98517977             19213.0        Subscriber      1986.0         1.0             15887.0\n",
       "5        861.0           1.372662083e+12    1.372662944e+12    511.0               E 14 St & Avenue B       40.72938685               -73.97772429               454.0             E 51 St & 1 Ave              40.75455731             -73.96592976             16223.0        Subscriber      1988.0         1.0             15887.0\n",
       "6        550.0           1.372662119e+12    1.372662669e+12    293.0               Lafayette St & E 8 St    40.73028666               -73.9907647                394.0             E 9 St & Avenue C            40.72521311             -73.97768752             16746.0        Customer        nan            0.0             15887.0\n",
       "7        288.0           1.372662136e+12    1.372662424e+12    224.0               Spruce St & Nassau St    40.71146364               -74.00552427               376.0             John St & William St         40.70862144             -74.00722156             16062.0        Subscriber      1985.0         2.0             15887.0\n",
       "8        766.0           1.372662136e+12    1.372662902e+12    432.0               E 7 St & Avenue A        40.72621788               -73.98379855               336.0             Sullivan St & Washington Sq  40.73047747             -73.99906065             17963.0        Subscriber      1980.0         2.0             15887.0\n",
       "9        773.0           1.372662143e+12    1.372662916e+12    173.0               Broadway & W 49 St       40.76064679               -73.98442659               479.0             9 Ave & W 45 St              40.76019252             -73.9912551              19365.0        Subscriber      1989.0         1.0             15887.0"
      ]
     },
     "metadata": {},
     "output_type": "display_data"
    }
   ],
   "source": [
    "# ----------\n",
    "\n",
    "# 2- light data munging: group the bike starts per-day, converting the 10M rows\n",
    "# of trips to about 140,000 station&day combos - predicting the number of trip\n",
    "# starts per-station-per-day.\n",
    "\n",
    "# Convert start time to: Day since the Epoch\n",
    "startime = data[\"starttime\"]\n",
    "secsPerDay=1000*60*60*24\n",
    "data[\"Days\"] = (startime/secsPerDay).floor()\n",
    "data.describe()"
   ]
  },
  {
   "cell_type": "code",
   "execution_count": 7,
   "metadata": {
    "collapsed": false
   },
   "outputs": [
    {
     "ename": "TypeError",
     "evalue": "group_by() got an unexpected keyword argument 'cols'",
     "output_type": "error",
     "traceback": [
      "\u001b[0;31m---------------------------------------------------------------------------\u001b[0m",
      "\u001b[0;31mTypeError\u001b[0m                                 Traceback (most recent call last)",
      "\u001b[0;32m<ipython-input-7-d847bea8c4d1>\u001b[0m in \u001b[0;36m<module>\u001b[0;34m()\u001b[0m\n\u001b[1;32m      4\u001b[0m \u001b[0mgroup_by_cols\u001b[0m \u001b[0;34m=\u001b[0m \u001b[0;34m[\u001b[0m\u001b[0;34m\"Days\"\u001b[0m\u001b[0;34m,\u001b[0m\u001b[0;34m\"start station name\"\u001b[0m\u001b[0;34m]\u001b[0m\u001b[0;34m\u001b[0m\u001b[0m\n\u001b[1;32m      5\u001b[0m \u001b[0maggregates\u001b[0m \u001b[0;34m=\u001b[0m \u001b[0;34m{\u001b[0m\u001b[0;34m\"bikes\"\u001b[0m\u001b[0;34m:\u001b[0m \u001b[0;34m[\u001b[0m\u001b[0;34m\"count\"\u001b[0m\u001b[0;34m,\u001b[0m \u001b[0;36m0\u001b[0m\u001b[0;34m,\u001b[0m \u001b[0;34m\"all\"\u001b[0m\u001b[0;34m]\u001b[0m\u001b[0;34m}\u001b[0m\u001b[0;34m\u001b[0m\u001b[0m\n\u001b[0;32m----> 6\u001b[0;31m \u001b[0mbpd\u001b[0m \u001b[0;34m=\u001b[0m \u001b[0mdata\u001b[0m\u001b[0;34m.\u001b[0m\u001b[0mgroup_by\u001b[0m\u001b[0;34m(\u001b[0m\u001b[0mcols\u001b[0m\u001b[0;34m=\u001b[0m\u001b[0mgroup_by_cols\u001b[0m\u001b[0;34m,\u001b[0m \u001b[0maggregates\u001b[0m\u001b[0;34m=\u001b[0m\u001b[0maggregates\u001b[0m\u001b[0;34m)\u001b[0m \u001b[0;31m# Compute bikes-per-day\u001b[0m\u001b[0;34m\u001b[0m\u001b[0m\n\u001b[0m\u001b[1;32m      7\u001b[0m \u001b[0mbpd\u001b[0m\u001b[0;34m.\u001b[0m\u001b[0mshow\u001b[0m\u001b[0;34m(\u001b[0m\u001b[0;34m)\u001b[0m\u001b[0;34m\u001b[0m\u001b[0m\n\u001b[1;32m      8\u001b[0m \u001b[0mbpd\u001b[0m\u001b[0;34m.\u001b[0m\u001b[0mdescribe\u001b[0m\u001b[0;34m(\u001b[0m\u001b[0;34m)\u001b[0m\u001b[0;34m\u001b[0m\u001b[0m\n",
      "\u001b[0;31mTypeError\u001b[0m: group_by() got an unexpected keyword argument 'cols'"
     ]
    }
   ],
   "source": [
    "# Now do a monster Group-By.  Count bike starts per-station per-day.  Ends up\n",
    "# with about 340 stations times 400 days (140,000 rows).  This is what we want\n",
    "# to predict.\n",
    "group_by_cols = [\"Days\",\"start station name\"]\n",
    "aggregates = {\"bikes\": [\"count\", 0, \"all\"]}\n",
    "bpd = data.group_by(cols=group_by_cols, aggregates=aggregates) # Compute bikes-per-day\n",
    "bpd.show()\n",
    "bpd.describe()\n",
    "bpd.dim()"
   ]
  },
  {
   "cell_type": "code",
   "execution_count": null,
   "metadata": {
    "collapsed": false,
    "scrolled": true
   },
   "outputs": [],
   "source": [
    "# Quantiles: the data is fairly unbalanced; some station/day combos are wildly\n",
    "# more popular than others.\n",
    "print \"Quantiles of bikes-per-day\"\n",
    "bpd[\"bikes\"].quantile().show()"
   ]
  },
  {
   "cell_type": "code",
   "execution_count": null,
   "metadata": {
    "collapsed": false
   },
   "outputs": [],
   "source": [
    "# A little feature engineering\n",
    "# Add in month-of-year (seasonality; fewer bike rides in winter than summer)\n",
    "secs = bpd[\"Days\"]*secsPerDay\n",
    "bpd[\"Month\"]     = secs.month().asfactor()\n",
    "# Add in day-of-week (work-week; more bike rides on Sunday than Monday)\n",
    "bpd[\"DayOfWeek\"] = secs.dayOfWeek()\n",
    "print \"Bikes-Per-Day\"\n",
    "bpd.describe()"
   ]
  },
  {
   "cell_type": "code",
   "execution_count": null,
   "metadata": {
    "collapsed": false
   },
   "outputs": [],
   "source": [
    "# ----------\n",
    "# 3- Fit a model on train; using test as validation\n",
    "\n",
    "# Function for doing class test/train/holdout split\n",
    "def split_fit_predict(data):\n",
    "  global gbm0,drf0,glm0,dl0\n",
    "  # Classic Test/Train split\n",
    "  r = data['Days'].runif()   # Random UNIForm numbers, one per row\n",
    "  train = data[  r  < 0.6]\n",
    "  test  = data[(0.6 <= r) & (r < 0.9)]\n",
    "  hold  = data[ 0.9 <= r ]\n",
    "  print \"Training data has\",train.ncol(),\"columns and\",train.nrow(),\"rows, test has\",test.nrow(),\"rows, holdout has\",hold.nrow()\n",
    "  \n",
    "  # Run GBM\n",
    "  s = time.time()\n",
    "  gbm0 = h2o.gbm(x           =train.drop(\"bikes\"),\n",
    "                 y           =train     [\"bikes\"],\n",
    "                 validation_x=test .drop(\"bikes\"),\n",
    "                 validation_y=test      [\"bikes\"],\n",
    "                 ntrees=500, # 500 works well\n",
    "                 max_depth=6,\n",
    "                 learn_rate=0.1)\n",
    "  gbm_elapsed = time.time() - s\n",
    "\n",
    "  # Run DRF\n",
    "  s = time.time()\n",
    "  drf0 = h2o.random_forest(x =train.drop(\"bikes\"),\n",
    "                y           =train     [\"bikes\"],\n",
    "                validation_x=test .drop(\"bikes\"),\n",
    "                validation_y=test      [\"bikes\"],\n",
    "                ntrees=250,\n",
    "                max_depth=30)\n",
    "  drf_elapsed = time.time() - s \n",
    "    \n",
    "    \n",
    "  # Run GLM\n",
    "  s = time.time()\n",
    "  glm0 = h2o.glm(x           =train.drop(\"bikes\"),\n",
    "                 y           =train     [\"bikes\"],\n",
    "                 validation_x=test .drop(\"bikes\"),\n",
    "                 validation_y=test      [\"bikes\"],\n",
    "                 Lambda=[1e-5],\n",
    "                 family=\"poisson\")\n",
    "  glm_elapsed = time.time() - s\n",
    "  \n",
    "  # Run DL\n",
    "  s = time.time()\n",
    "  dl0 = h2o.deeplearning(x  =train.drop(\"bikes\"),\n",
    "                y           =train     [\"bikes\"],\n",
    "                validation_x=test .drop(\"bikes\"),\n",
    "                validation_y=test      [\"bikes\"],\n",
    "                hidden=[50,50,50,50],\n",
    "                epochs=50)\n",
    "  dl_elapsed = time.time() - s\n",
    "  \n",
    "  # ----------\n",
    "  # 4- Score on holdout set & report\n",
    "  train_r2_gbm = gbm0.model_performance(train).r2()\n",
    "  test_r2_gbm  = gbm0.model_performance(test ).r2()\n",
    "  hold_r2_gbm  = gbm0.model_performance(hold ).r2()\n",
    "#   print \"GBM R2 TRAIN=\",train_r2_gbm,\", R2 TEST=\",test_r2_gbm,\", R2 HOLDOUT=\",hold_r2_gbm\n",
    "  \n",
    "  train_r2_drf = drf0.model_performance(train).r2()\n",
    "  test_r2_drf  = drf0.model_performance(test ).r2()\n",
    "  hold_r2_drf  = drf0.model_performance(hold ).r2()\n",
    "#   print \"DRF R2 TRAIN=\",train_r2_drf,\", R2 TEST=\",test_r2_drf,\", R2 HOLDOUT=\",hold_r2_drf\n",
    "  \n",
    "  train_r2_glm = glm0.model_performance(train).r2()\n",
    "  test_r2_glm  = glm0.model_performance(test ).r2()\n",
    "  hold_r2_glm  = glm0.model_performance(hold ).r2()\n",
    "#   print \"GLM R2 TRAIN=\",train_r2_glm,\", R2 TEST=\",test_r2_glm,\", R2 HOLDOUT=\",hold_r2_glm\n",
    "    \n",
    "  train_r2_dl = dl0.model_performance(train).r2()\n",
    "  test_r2_dl  = dl0.model_performance(test ).r2()\n",
    "  hold_r2_dl  = dl0.model_performance(hold ).r2()\n",
    "#   print \" DL R2 TRAIN=\",train_r2_dl,\", R2 TEST=\",test_r2_dl,\", R2 HOLDOUT=\",hold_r2_dl\n",
    "    \n",
    "  # make a pretty HTML table printout of the results\n",
    "\n",
    "  header = [\"Model\", \"R2 TRAIN\", \"R2 TEST\", \"R2 HOLDOUT\", \"Model Training Time (s)\"]\n",
    "  table  = [\n",
    "            [\"GBM\", train_r2_gbm, test_r2_gbm, hold_r2_gbm, round(gbm_elapsed,3)],\n",
    "            [\"DRF\", train_r2_drf, test_r2_drf, hold_r2_drf, round(drf_elapsed,3)],\n",
    "            [\"GLM\", train_r2_glm, test_r2_glm, hold_r2_glm, round(glm_elapsed,3)],\n",
    "            [\"DL \", train_r2_dl,  test_r2_dl,  hold_r2_dl , round(dl_elapsed,3) ],\n",
    "           ]\n",
    "  h2o.H2ODisplay(table,header)\n",
    "  # --------------"
   ]
  },
  {
   "cell_type": "code",
   "execution_count": null,
   "metadata": {
    "collapsed": false
   },
   "outputs": [],
   "source": [
    "# Split the data (into test & train), fit some models and predict on the holdout data\n",
    "split_fit_predict(bpd)\n",
    "# Here we see an r^2 of 0.91 for GBM, and 0.71 for GLM.  This means given just\n",
    "# the station, the month, and the day-of-week we can predict 90% of the\n",
    "# variance of the bike-trip-starts."
   ]
  },
  {
   "cell_type": "code",
   "execution_count": null,
   "metadata": {
    "collapsed": false
   },
   "outputs": [],
   "source": [
    "# ----------\n",
    "# 5- Now lets add some weather\n",
    "# Load weather data\n",
    "wthr1 = h2o.import_frame(path=[mylocate(\"bigdata/laptop/citibike-nyc/31081_New_York_City__Hourly_2013.csv\"),\n",
    "                               mylocate(\"bigdata/laptop/citibike-nyc/31081_New_York_City__Hourly_2014.csv\")])\n",
    "# Peek at the data\n",
    "wthr1.describe()"
   ]
  },
  {
   "cell_type": "code",
   "execution_count": null,
   "metadata": {
    "collapsed": false
   },
   "outputs": [],
   "source": [
    "# Lots of columns in there!  Lets plan on converting to time-since-epoch to do\n",
    "# a 'join' with the bike data, plus gather weather info that might affect\n",
    "# cyclists - rain, snow, temperature.  Alas, drop the \"snow\" column since it's\n",
    "# all NA's.  Also add in dew point and humidity just in case.  Slice out just\n",
    "# the columns of interest and drop the rest.\n",
    "wthr2 = wthr1[[\"Year Local\",\"Month Local\",\"Day Local\",\"Hour Local\",\"Dew Point (C)\",\"Humidity Fraction\",\"Precipitation One Hour (mm)\",\"Temperature (C)\",\"Weather Code 1/ Description\"]]\n",
    "\n",
    "wthr2.setName(wthr2.index(\"Precipitation One Hour (mm)\"), \"Rain (mm)\")\n",
    "wthr2.setName(wthr2.index(\"Weather Code 1/ Description\"), \"WC1\")\n",
    "wthr2.describe()\n",
    "# Much better!  "
   ]
  },
  {
   "cell_type": "code",
   "execution_count": null,
   "metadata": {
    "collapsed": false
   },
   "outputs": [],
   "source": [
    "# Filter down to the weather at Noon\n",
    "wthr3 = wthr2[ wthr2[\"Hour Local\"]==12 ]"
   ]
  },
  {
   "cell_type": "code",
   "execution_count": null,
   "metadata": {
    "collapsed": false
   },
   "outputs": [],
   "source": [
    "# Lets now get Days since the epoch... we'll convert year/month/day into Epoch\n",
    "# time, and then back to Epoch days.  Need zero-based month and days, but have\n",
    "# 1-based.\n",
    "wthr3[\"msec\"] = h2o.H2OFrame.mktime(year=wthr3[\"Year Local\"], month=wthr3[\"Month Local\"]-1, day=wthr3[\"Day Local\"]-1, hour=wthr3[\"Hour Local\"])\n",
    "secsPerDay=1000*60*60*24\n",
    "wthr3[\"Days\"] = (wthr3[\"msec\"]/secsPerDay).floor()\n",
    "wthr3.describe()\n",
    "# msec looks sane (numbers like 1.3e12 are in the correct range for msec since\n",
    "# 1970).  Epoch Days matches closely with the epoch day numbers from the\n",
    "# CitiBike dataset.  "
   ]
  },
  {
   "cell_type": "code",
   "execution_count": null,
   "metadata": {
    "collapsed": false
   },
   "outputs": [],
   "source": [
    "# Lets drop off the extra time columns to make a easy-to-handle dataset.\n",
    "wthr4 = wthr3.drop(\"Year Local\").drop(\"Month Local\").drop(\"Day Local\").drop(\"Hour Local\").drop(\"msec\")"
   ]
  },
  {
   "cell_type": "code",
   "execution_count": null,
   "metadata": {
    "collapsed": false
   },
   "outputs": [],
   "source": [
    "# Also, most rain numbers are missing - lets assume those are zero rain days\n",
    "rain = wthr4[\"Rain (mm)\"]\n",
    "rain[ rain.isna() ] = 0"
   ]
  },
  {
   "cell_type": "code",
   "execution_count": null,
   "metadata": {
    "collapsed": false
   },
   "outputs": [],
   "source": [
    "# ----------\n",
    "# 6 - Join the weather data-per-day to the bike-starts-per-day\n",
    "print \"Merge Daily Weather with Bikes-Per-Day\"\n",
    "bpd_with_weather = bpd.merge(wthr4,allLeft=True,allRite=False)\n",
    "bpd_with_weather.describe()\n",
    "bpd_with_weather.show()"
   ]
  },
  {
   "cell_type": "code",
   "execution_count": null,
   "metadata": {
    "collapsed": false
   },
   "outputs": [],
   "source": [
    "# 7 - Test/Train split again, model build again, this time with weather\n",
    "split_fit_predict(bpd_with_weather)"
   ]
  }
 ],
 "metadata": {
  "kernelspec": {
   "display_name": "Python 2",
   "language": "python",
   "name": "python2"
  },
  "language_info": {
   "codemirror_mode": {
    "name": "ipython",
    "version": 2
   },
   "file_extension": ".py",
   "mimetype": "text/x-python",
   "name": "python",
   "nbconvert_exporter": "python",
   "pygments_lexer": "ipython2",
   "version": "2.7.9"
  }
 },
 "nbformat": 4,
 "nbformat_minor": 0
}
