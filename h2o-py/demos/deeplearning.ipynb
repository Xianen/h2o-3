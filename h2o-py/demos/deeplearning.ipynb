{
 "worksheets": [
  {
   "cells": [
    {
     "cell_type": "code",
     "execution_count": null,
     "metadata": {},
     "outputs": [],
     "input": [
      "import h2o"
     ],
     "language": "python",
     "prompt_number": 13
    },
    {
     "cell_type": "code",
     "execution_count": null,
     "metadata": {},
     "outputs": [
      {
       "output_type": "pyout",
       "html": [
        "<div style=\"overflow:auto\"><table style=\"width:50%\"><tr><td>H2O cluster uptime: </td>\n",
        "<td>1 minutes 47 seconds 826 milliseconds </td></tr>\n",
        "<tr><td>H2O cluster version: </td>\n",
        "<td>3.1.0.99999</td></tr>\n",
        "<tr><td>H2O cluster name: </td>\n",
        "<td>ece</td></tr>\n",
        "<tr><td>H2O cluster total nodes: </td>\n",
        "<td>1</td></tr>\n",
        "<tr><td>H2O cluster total memory: </td>\n",
        "<td>4.44 GB</td></tr>\n",
        "<tr><td>H2O cluster total cores: </td>\n",
        "<td>8</td></tr>\n",
        "<tr><td>H2O cluster allowed cores: </td>\n",
        "<td>8</td></tr>\n",
        "<tr><td>H2O cluster healthy: </td>\n",
        "<td>True</td></tr>\n",
        "<tr><td>H2O Connection ip: </td>\n",
        "<td>127.0.0.1</td></tr>\n",
        "<tr><td>H2O Connection port: </td>\n",
        "<td>54321</td></tr></table></div>"
       ],
       "metadata": {}
      }
     ],
     "input": [
      "h2o.init()"
     ],
     "language": "python",
     "prompt_number": 14
    },
    {
     "cell_type": "code",
     "execution_count": null,
     "metadata": {},
     "outputs": [
      {
       "output_type": "stream",
       "stream": "stdout",
       "text": [
        "\n",
        "\r",
        "Parse Progress: [                                                  ] 00%"
       ]
      },
      {
       "output_type": "stream",
       "stream": "stdout",
       "text": [
        "\r",
        "Parse Progress: [##################################################] 100%"
       ]
      },
      {
       "output_type": "stream",
       "stream": "stdout",
       "text": [
        "\n",
        "Uploaded py9485de29-6e44-4cde-bd77-b480bdc9d6cb into cluster with 380 rows and 9 cols\n",
        "Rows: 380 Cols: 9\n",
        "\n"
       ]
      },
      {
       "output_type": "stream",
       "stream": "stdout",
       "text": [
        "Chunk compression summary:\n",
        "\n"
       ]
      },
      {
       "output_type": "pyout",
       "html": [
        "<div style=\"overflow:auto\"><table style=\"width:50%\"><tr><td>chunk_type</td>\n",
        "<td>chunk_name</td>\n",
        "<td>count</td>\n",
        "<td>count_percentage</td>\n",
        "<td>size</td>\n",
        "<td>size_percentage</td></tr>\n",
        "<tr><td>CBS</td>\n",
        "<td>Bits</td>\n",
        "<td>1</td>\n",
        "<td>11.111112</td>\n",
        "<td>    118  B</td>\n",
        "<td>2.4210093</td></tr>\n",
        "<tr><td>C1N</td>\n",
        "<td>1-Byte Integers (w/o NAs)</td>\n",
        "<td>5</td>\n",
        "<td>55.555557</td>\n",
        "<td>    2.2 KB</td>\n",
        "<td>45.958145</td></tr>\n",
        "<tr><td>C2</td>\n",
        "<td>2-Byte Integers</td>\n",
        "<td>1</td>\n",
        "<td>11.111112</td>\n",
        "<td>    828  B</td>\n",
        "<td>16.9881</td></tr>\n",
        "<tr><td>C2S</td>\n",
        "<td>2-Byte Fractions</td>\n",
        "<td>2</td>\n",
        "<td>22.222223</td>\n",
        "<td>    1.6 KB</td>\n",
        "<td>34.632744</td></tr></table></div>"
       ],
       "metadata": {}
      },
      {
       "output_type": "stream",
       "stream": "stdout",
       "text": [
        "\n",
        "Frame distribution summary:\n",
        "\n"
       ]
      },
      {
       "output_type": "pyout",
       "html": [
        "<div style=\"overflow:auto\"><table style=\"width:50%\"><tr><td></td>\n",
        "<td>size</td>\n",
        "<td>number_of_rows</td>\n",
        "<td>number_of_chunks_per_column</td>\n",
        "<td>number_of_chunks</td></tr>\n",
        "<tr><td>172.16.2.41:54321</td>\n",
        "<td>    4.8 KB</td>\n",
        "<td>380.0</td>\n",
        "<td>1.0</td>\n",
        "<td>9.0</td></tr>\n",
        "<tr><td>mean</td>\n",
        "<td>    4.8 KB</td>\n",
        "<td>380.0</td>\n",
        "<td>1.0</td>\n",
        "<td>9.0</td></tr>\n",
        "<tr><td>min</td>\n",
        "<td>    4.8 KB</td>\n",
        "<td>380.0</td>\n",
        "<td>1.0</td>\n",
        "<td>9.0</td></tr>\n",
        "<tr><td>max</td>\n",
        "<td>    4.8 KB</td>\n",
        "<td>380.0</td>\n",
        "<td>1.0</td>\n",
        "<td>9.0</td></tr>\n",
        "<tr><td>stddev</td>\n",
        "<td>      0  B</td>\n",
        "<td>0.0</td>\n",
        "<td>0.0</td>\n",
        "<td>0.0</td></tr>\n",
        "<tr><td>total</td>\n",
        "<td>    4.8 KB</td>\n",
        "<td>380.0</td>\n",
        "<td>1.0</td>\n",
        "<td>9.0</td></tr></table></div>"
       ],
       "metadata": {}
      },
      {
       "output_type": "stream",
       "stream": "stdout",
       "text": [
        "\n",
        "Column-by-Column Summary:\n",
        "\n"
       ]
      },
      {
       "output_type": "pyout",
       "html": [
        "<div style=\"overflow:auto\"><table style=\"width:50%\"><tr><td></td>\n",
        "<td>ID</td>\n",
        "<td>CAPSULE</td>\n",
        "<td>AGE</td>\n",
        "<td>RACE</td>\n",
        "<td>DPROS</td>\n",
        "<td>DCAPS</td>\n",
        "<td>PSA</td>\n",
        "<td>VOL</td>\n",
        "<td>GLEASON</td></tr>\n",
        "<tr><td>type</td>\n",
        "<td>int</td>\n",
        "<td>int</td>\n",
        "<td>int</td>\n",
        "<td>int</td>\n",
        "<td>int</td>\n",
        "<td>int</td>\n",
        "<td>real</td>\n",
        "<td>real</td>\n",
        "<td>int</td></tr>\n",
        "<tr><td>mins</td>\n",
        "<td>1.0</td>\n",
        "<td>0.0</td>\n",
        "<td>43.0</td>\n",
        "<td>0.0</td>\n",
        "<td>1.0</td>\n",
        "<td>1.0</td>\n",
        "<td>0.3</td>\n",
        "<td>0.0</td>\n",
        "<td>0.0</td></tr>\n",
        "<tr><td>mean</td>\n",
        "<td>190.5</td>\n",
        "<td>0.402631578947</td>\n",
        "<td>66.0394736842</td>\n",
        "<td>1.08684210526</td>\n",
        "<td>2.27105263158</td>\n",
        "<td>1.10789473684</td>\n",
        "<td>15.4086315789</td>\n",
        "<td>15.8129210526</td>\n",
        "<td>6.38421052632</td></tr>\n",
        "<tr><td>maxs</td>\n",
        "<td>380.0</td>\n",
        "<td>1.0</td>\n",
        "<td>79.0</td>\n",
        "<td>2.0</td>\n",
        "<td>4.0</td>\n",
        "<td>2.0</td>\n",
        "<td>139.7</td>\n",
        "<td>97.6</td>\n",
        "<td>9.0</td></tr>\n",
        "<tr><td>sigma</td>\n",
        "<td>109.840793879</td>\n",
        "<td>0.491074338963</td>\n",
        "<td>6.52707126917</td>\n",
        "<td>0.308773258025</td>\n",
        "<td>1.00010761815</td>\n",
        "<td>0.310656449351</td>\n",
        "<td>19.9975726686</td>\n",
        "<td>18.3476199673</td>\n",
        "<td>1.09195337443</td></tr>\n",
        "<tr><td>zero_count</td>\n",
        "<td>0</td>\n",
        "<td>227</td>\n",
        "<td>0</td>\n",
        "<td>3</td>\n",
        "<td>0</td>\n",
        "<td>0</td>\n",
        "<td>0</td>\n",
        "<td>167</td>\n",
        "<td>2</td></tr>\n",
        "<tr><td>missing_count</td>\n",
        "<td>0</td>\n",
        "<td>0</td>\n",
        "<td>0</td>\n",
        "<td>0</td>\n",
        "<td>0</td>\n",
        "<td>0</td>\n",
        "<td>0</td>\n",
        "<td>0</td>\n",
        "<td>0</td></tr></table></div>"
       ],
       "metadata": {}
      }
     ],
     "input": [
      "prostate = h2o.upload_file(path=h2o.locate(\"smalldata/logreg/prostate.csv\"))\n",
      "prostate.describe()"
     ],
     "language": "python",
     "prompt_number": 15
    },
    {
     "cell_type": "code",
     "execution_count": null,
     "metadata": {},
     "outputs": [
      {
       "output_type": "stream",
       "stream": "stdout",
       "text": [
        "\n",
        "\r",
        "deeplearning Model Build Progress: [                                                  ] 00%"
       ]
      },
      {
       "output_type": "stream",
       "stream": "stdout",
       "text": [
        "\r",
        "deeplearning Model Build Progress: [                                                  ] 00%"
       ]
      },
      {
       "output_type": "stream",
       "stream": "stdout",
       "text": [
        "\r",
        "deeplearning Model Build Progress: [                                                  ] 00%"
       ]
      },
      {
       "output_type": "stream",
       "stream": "stdout",
       "text": [
        "\r",
        "deeplearning Model Build Progress: [                                                  ] 00%"
       ]
      },
      {
       "output_type": "stream",
       "stream": "stdout",
       "text": [
        "\r",
        "deeplearning Model Build Progress: [                                                  ] 00%"
       ]
      },
      {
       "output_type": "stream",
       "stream": "stdout",
       "text": [
        "\r",
        "deeplearning Model Build Progress: [##                                                ] 05%"
       ]
      },
      {
       "output_type": "stream",
       "stream": "stdout",
       "text": [
        "\r",
        "deeplearning Model Build Progress: [#####                                             ] 11%"
       ]
      },
      {
       "output_type": "stream",
       "stream": "stdout",
       "text": [
        "\r",
        "deeplearning Model Build Progress: [#########                                         ] 18%"
       ]
      },
      {
       "output_type": "stream",
       "stream": "stdout",
       "text": [
        "\r",
        "deeplearning Model Build Progress: [#############                                     ] 27%"
       ]
      },
      {
       "output_type": "stream",
       "stream": "stdout",
       "text": [
        "\r",
        "deeplearning Model Build Progress: [##################                                ] 36%"
       ]
      },
      {
       "output_type": "stream",
       "stream": "stdout",
       "text": [
        "\r",
        "deeplearning Model Build Progress: [######################                            ] 45%"
       ]
      },
      {
       "output_type": "stream",
       "stream": "stdout",
       "text": [
        "\r",
        "deeplearning Model Build Progress: [###########################                       ] 55%"
       ]
      },
      {
       "output_type": "stream",
       "stream": "stdout",
       "text": [
        "\r",
        "deeplearning Model Build Progress: [################################                  ] 65%"
       ]
      },
      {
       "output_type": "stream",
       "stream": "stdout",
       "text": [
        "\r",
        "deeplearning Model Build Progress: [#####################################             ] 75%"
       ]
      },
      {
       "output_type": "stream",
       "stream": "stdout",
       "text": [
        "\r",
        "deeplearning Model Build Progress: [##########################################        ] 85%"
       ]
      },
      {
       "output_type": "stream",
       "stream": "stdout",
       "text": [
        "\r",
        "deeplearning Model Build Progress: [###############################################   ] 94%"
       ]
      },
      {
       "output_type": "stream",
       "stream": "stdout",
       "text": [
        "\r",
        "deeplearning Model Build Progress: [##################################################] 100%"
       ]
      },
      {
       "output_type": "stream",
       "stream": "stdout",
       "text": [
        "\n",
        "Model Details\n",
        "=============\n",
        "H2OBinomialModel :  Deep Learning\n",
        "Model Key:  DeepLearningModel__bd863374e41fb02662d41e05ea504f7e\n",
        "\n",
        "Status of Neuron Layers:\n",
        "\n"
       ]
      },
      {
       "output_type": "pyout",
       "html": [
        "<div style=\"overflow:auto\"><table style=\"width:50%\"><tr><td></td>\n",
        "<td>layer</td>\n",
        "<td>units</td>\n",
        "<td>type</td>\n",
        "<td>dropout</td>\n",
        "<td>l1</td>\n",
        "<td>l2</td>\n",
        "<td>mean_rate</td>\n",
        "<td>rate_RMS</td>\n",
        "<td>momentum</td>\n",
        "<td>mean_weight</td>\n",
        "<td>weight_RMS</td>\n",
        "<td>mean_bias</td>\n",
        "<td>bias_RMS</td></tr>\n",
        "<tr><td></td>\n",
        "<td>1</td>\n",
        "<td>7</td>\n",
        "<td>Input</td>\n",
        "<td>0.0</td>\n",
        "<td></td>\n",
        "<td></td>\n",
        "<td></td>\n",
        "<td></td>\n",
        "<td></td>\n",
        "<td></td>\n",
        "<td></td>\n",
        "<td></td>\n",
        "<td></td></tr>\n",
        "<tr><td></td>\n",
        "<td>2</td>\n",
        "<td>10</td>\n",
        "<td>Tanh</td>\n",
        "<td>0.0</td>\n",
        "<td>0.0</td>\n",
        "<td>0.0</td>\n",
        "<td>0.0053118872</td>\n",
        "<td>0.0064453385</td>\n",
        "<td>0.0</td>\n",
        "<td>-0.052273955</td>\n",
        "<td>1.2920758</td>\n",
        "<td>-0.015679162</td>\n",
        "<td>0.6260032</td></tr>\n",
        "<tr><td></td>\n",
        "<td>3</td>\n",
        "<td>10</td>\n",
        "<td>Tanh</td>\n",
        "<td>0.0</td>\n",
        "<td>0.0</td>\n",
        "<td>0.0</td>\n",
        "<td>0.04846302</td>\n",
        "<td>0.12402522</td>\n",
        "<td>0.0</td>\n",
        "<td>-0.18807818</td>\n",
        "<td>1.5033592</td>\n",
        "<td>-0.11971774</td>\n",
        "<td>1.2407272</td></tr>\n",
        "<tr><td></td>\n",
        "<td>4</td>\n",
        "<td>10</td>\n",
        "<td>Tanh</td>\n",
        "<td>0.0</td>\n",
        "<td>0.0</td>\n",
        "<td>0.0</td>\n",
        "<td>0.022704514</td>\n",
        "<td>0.043265637</td>\n",
        "<td>0.0</td>\n",
        "<td>-0.06319846</td>\n",
        "<td>1.7067846</td>\n",
        "<td>0.33969718</td>\n",
        "<td>0.96845585</td></tr>\n",
        "<tr><td></td>\n",
        "<td>5</td>\n",
        "<td>2</td>\n",
        "<td>Softmax</td>\n",
        "<td></td>\n",
        "<td>0.0</td>\n",
        "<td>0.0</td>\n",
        "<td>0.0053924634</td>\n",
        "<td>0.000767734</td>\n",
        "<td>0.0</td>\n",
        "<td>-0.3149048</td>\n",
        "<td>4.5431895</td>\n",
        "<td>-0.00843814</td>\n",
        "<td>0.7755003</td></tr></table></div>"
       ],
       "metadata": {}
      },
      {
       "output_type": "stream",
       "stream": "stdout",
       "text": [
        "\n",
        "\n",
        "ModelMetricsBinomial: deeplearning\n",
        "** Reported on train data. **\n",
        "\n",
        "MSE: 0.00515095678079\n",
        "R^2: 0.978640384798\n",
        "LogLoss: 0.0189778247313\n",
        "AUC: 0.999740865509\n",
        "Gini: 0.999481731018\n",
        "\n",
        "Confusion Matrix (Act/Pred) for max f1 @ threshold = 0.558165788651:\n",
        "\n"
       ]
      },
      {
       "output_type": "pyout",
       "html": [
        "<div style=\"overflow:auto\"><table style=\"width:50%\"><tr><td></td>\n",
        "<td>0</td>\n",
        "<td>1</td>\n",
        "<td>Error</td>\n",
        "<td>Rate</td></tr>\n",
        "<tr><td>0</td>\n",
        "<td>226.0</td>\n",
        "<td>1.0</td>\n",
        "<td>0.0044</td>\n",
        "<td> (1.0/227.0)</td></tr>\n",
        "<tr><td>1</td>\n",
        "<td>1.0</td>\n",
        "<td>152.0</td>\n",
        "<td>0.0065</td>\n",
        "<td> (1.0/153.0)</td></tr>\n",
        "<tr><td>Total</td>\n",
        "<td>227.0</td>\n",
        "<td>153.0</td>\n",
        "<td>0.0109</td>\n",
        "<td> (0.0109/380.0)</td></tr></table></div>"
       ],
       "metadata": {}
      },
      {
       "output_type": "stream",
       "stream": "stdout",
       "text": [
        "\n",
        "Maximum Metrics:\n",
        "\n"
       ]
      },
      {
       "output_type": "pyout",
       "html": [
        "<div style=\"overflow:auto\"><table style=\"width:50%\"><tr><td>metric</td>\n",
        "<td>threshold</td>\n",
        "<td>value</td>\n",
        "<td>idx</td></tr>\n",
        "<tr><td>f1</td>\n",
        "<td>0.558165788651</td>\n",
        "<td>0.993464052288</td>\n",
        "<td>95.0</td></tr>\n",
        "<tr><td>f2</td>\n",
        "<td>0.558165788651</td>\n",
        "<td>0.993464052288</td>\n",
        "<td>95.0</td></tr>\n",
        "<tr><td>f0point5</td>\n",
        "<td>0.784003376961</td>\n",
        "<td>0.997357992074</td>\n",
        "<td>93.0</td></tr>\n",
        "<tr><td>accuracy</td>\n",
        "<td>0.784003376961</td>\n",
        "<td>0.994736842105</td>\n",
        "<td>93.0</td></tr>\n",
        "<tr><td>precision</td>\n",
        "<td>1.0</td>\n",
        "<td>1.0</td>\n",
        "<td>0.0</td></tr>\n",
        "<tr><td>absolute_MCC</td>\n",
        "<td>0.784003376961</td>\n",
        "<td>0.989094861551</td>\n",
        "<td>93.0</td></tr>\n",
        "<tr><td>min_per_class_accuracy</td>\n",
        "<td>0.558165788651</td>\n",
        "<td>0.993464052288</td>\n",
        "<td>95.0</td></tr>\n",
        "<tr><td>tns</td>\n",
        "<td>1.0</td>\n",
        "<td>227.0</td>\n",
        "<td>0.0</td></tr>\n",
        "<tr><td>fns</td>\n",
        "<td>1.0</td>\n",
        "<td>102.0</td>\n",
        "<td>0.0</td></tr>\n",
        "<tr><td>fps</td>\n",
        "<td>1.6900796636e-24</td>\n",
        "<td>227.0</td>\n",
        "<td>322.0</td></tr>\n",
        "<tr><td>tps</td>\n",
        "<td>0.0501889586449</td>\n",
        "<td>153.0</td>\n",
        "<td>103.0</td></tr>\n",
        "<tr><td>tnr</td>\n",
        "<td>1.0</td>\n",
        "<td>1.0</td>\n",
        "<td>0.0</td></tr>\n",
        "<tr><td>fnr</td>\n",
        "<td>1.0</td>\n",
        "<td>0.666666666667</td>\n",
        "<td>0.0</td></tr>\n",
        "<tr><td>fpr</td>\n",
        "<td>1.6900796636e-24</td>\n",
        "<td>1.0</td>\n",
        "<td>322.0</td></tr>\n",
        "<tr><td>tpr</td>\n",
        "<td>0.0501889586449</td>\n",
        "<td>1.0</td>\n",
        "<td>103.0</td></tr></table></div>"
       ],
       "metadata": {}
      },
      {
       "output_type": "stream",
       "stream": "stdout",
       "text": [
        "\n",
        "Scoring History:\n",
        "\n"
       ]
      },
      {
       "output_type": "pyout",
       "html": [
        "<div style=\"overflow:auto\"><table style=\"width:50%\"><tr><td></td>\n",
        "<td>timestamp</td>\n",
        "<td>duration</td>\n",
        "<td>training_speed</td>\n",
        "<td>epochs</td>\n",
        "<td>samples</td>\n",
        "<td>training_MSE</td>\n",
        "<td>training_r2</td>\n",
        "<td>training_logloss</td>\n",
        "<td>training_AUC</td>\n",
        "<td>training_classification_error</td></tr>\n",
        "<tr><td></td>\n",
        "<td>2015-05-22 13:22:58</td>\n",
        "<td> 0.000 sec</td>\n",
        "<td>None</td>\n",
        "<td>0.0</td>\n",
        "<td>0.0</td>\n",
        "<td>nan</td>\n",
        "<td>nan</td>\n",
        "<td>nan</td>\n",
        "<td>nan</td>\n",
        "<td>nan</td></tr>\n",
        "<tr><td></td>\n",
        "<td>2015-05-22 13:22:58</td>\n",
        "<td> 0.012 sec</td>\n",
        "<td>316666.667 rows/sec</td>\n",
        "<td>10.0</td>\n",
        "<td>3800.0</td>\n",
        "<td>0.204413234872</td>\n",
        "<td>0.15235397523</td>\n",
        "<td>0.597336218462</td>\n",
        "<td>nan</td>\n",
        "<td>0.313157894737</td></tr>\n",
        "<tr><td></td>\n",
        "<td>2015-05-22 13:23:03</td>\n",
        "<td> 5.020 sec</td>\n",
        "<td>372430.279 rows/sec</td>\n",
        "<td>4920.0</td>\n",
        "<td>1869600.0</td>\n",
        "<td>0.0165889609441</td>\n",
        "<td>0.931210096019</td>\n",
        "<td>0.0492657643152</td>\n",
        "<td>nan</td>\n",
        "<td>0.0184210526316</td></tr>\n",
        "<tr><td></td>\n",
        "<td>2015-05-22 13:23:08</td>\n",
        "<td>10.028 sec</td>\n",
        "<td>355444.755 rows/sec</td>\n",
        "<td>9380.0</td>\n",
        "<td>3564400.0</td>\n",
        "<td>0.00753752319028</td>\n",
        "<td>0.968743943743</td>\n",
        "<td>0.0230601929024</td>\n",
        "<td>nan</td>\n",
        "<td>0.00789473684211</td></tr>\n",
        "<tr><td></td>\n",
        "<td>2015-05-22 13:23:09</td>\n",
        "<td>10.754 sec</td>\n",
        "<td>353356.890 rows/sec</td>\n",
        "<td>10000.0</td>\n",
        "<td>3800000.0</td>\n",
        "<td>0.00515095678079</td>\n",
        "<td>0.978640384798</td>\n",
        "<td>0.0189778247313</td>\n",
        "<td>nan</td>\n",
        "<td>0.00526315789474</td></tr></table></div>"
       ],
       "metadata": {}
      }
     ],
     "input": [
      "prostate[\"CAPSULE\"] = prostate[\"CAPSULE\"].asfactor()\n",
      "model = h2o.deeplearning(x = prostate[list(set(prostate.col_names) - set([\"ID\",\"CAPSULE\"]))], y = prostate[\"CAPSULE\"], training_frame = prostate, activation = \"Tanh\", hidden = [10, 10, 10], epochs = 10000)\n",
      "model.show()"
     ],
     "language": "python",
     "prompt_number": 16
    },
    {
     "cell_type": "code",
     "execution_count": null,
     "metadata": {},
     "outputs": [
      {
       "output_type": "stream",
       "stream": "stdout",
       "text": [
        "Displaying 10 row(s):\n"
       ]
      },
      {
       "output_type": "pyout",
       "html": [
        "<div style=\"overflow:auto\"><table style=\"width:50%\"><tr><td>Row ID</td>\n",
        "<td>predict</td>\n",
        "<td>p0</td>\n",
        "<td>p1</td></tr>\n",
        "<tr><td>1</td>\n",
        "<td>[u'0']</td>\n",
        "<td>[0.9999997615814209]</td>\n",
        "<td>[2.7966822813141334e-07]</td></tr>\n",
        "<tr><td>2</td>\n",
        "<td>[u'0']</td>\n",
        "<td>[0.9999793767929077]</td>\n",
        "<td>[2.0565463273669593e-05]</td></tr>\n",
        "<tr><td>3</td>\n",
        "<td>[u'0']</td>\n",
        "<td>[0.9999675750732422]</td>\n",
        "<td>[3.237894270569086e-05]</td></tr>\n",
        "<tr><td>4</td>\n",
        "<td>[u'0']</td>\n",
        "<td>[0.9999769926071167]</td>\n",
        "<td>[2.2972568331169896e-05]</td></tr>\n",
        "<tr><td>5</td>\n",
        "<td>[u'0']</td>\n",
        "<td>[1.0]</td>\n",
        "<td>[2.3572571168249332e-14]</td></tr>\n",
        "<tr><td>6</td>\n",
        "<td>[u'1']</td>\n",
        "<td>[5.477976405821039e-10]</td>\n",
        "<td>[1.0]</td></tr>\n",
        "<tr><td>7</td>\n",
        "<td>[u'0']</td>\n",
        "<td>[0.9999896287918091]</td>\n",
        "<td>[1.033373519021552e-05]</td></tr>\n",
        "<tr><td>8</td>\n",
        "<td>[u'0']</td>\n",
        "<td>[0.9994649291038513]</td>\n",
        "<td>[0.0005351081490516663]</td></tr>\n",
        "<tr><td>9</td>\n",
        "<td>[u'0']</td>\n",
        "<td>[0.9906359314918518]</td>\n",
        "<td>[0.009364110417664051]</td></tr>\n",
        "<tr><td>10</td>\n",
        "<td>[u'0']</td>\n",
        "<td>[1.0]</td>\n",
        "<td>[3.102281764810755e-10]</td></tr></table></div>"
       ],
       "metadata": {}
      }
     ],
     "input": [
      "predictions = model.predict(prostate)\n",
      "predictions.show()"
     ],
     "language": "python",
     "prompt_number": 17
    },
    {
     "cell_type": "code",
     "execution_count": null,
     "metadata": {},
     "outputs": [
      {
       "output_type": "stream",
       "stream": "stdout",
       "text": [
        "\n",
        "ModelMetricsBinomial: deeplearning\n",
        "** Reported on test data. **\n",
        "\n",
        "MSE: 0.00515095678079\n",
        "R^2: 0.978640384798\n",
        "LogLoss: 0.0189778247313\n",
        "AUC: 0.999740865509\n",
        "Gini: 0.999481731018\n",
        "\n",
        "Confusion Matrix (Act/Pred) for max f1 @ threshold = 0.558165788651:\n",
        "\n"
       ]
      },
      {
       "output_type": "pyout",
       "html": [
        "<div style=\"overflow:auto\"><table style=\"width:50%\"><tr><td></td>\n",
        "<td>0</td>\n",
        "<td>1</td>\n",
        "<td>Error</td>\n",
        "<td>Rate</td></tr>\n",
        "<tr><td>0</td>\n",
        "<td>226.0</td>\n",
        "<td>1.0</td>\n",
        "<td>0.0044</td>\n",
        "<td> (1.0/227.0)</td></tr>\n",
        "<tr><td>1</td>\n",
        "<td>1.0</td>\n",
        "<td>152.0</td>\n",
        "<td>0.0065</td>\n",
        "<td> (1.0/153.0)</td></tr>\n",
        "<tr><td>Total</td>\n",
        "<td>227.0</td>\n",
        "<td>153.0</td>\n",
        "<td>0.0109</td>\n",
        "<td> (0.0109/380.0)</td></tr></table></div>"
       ],
       "metadata": {}
      },
      {
       "output_type": "stream",
       "stream": "stdout",
       "text": [
        "\n",
        "Maximum Metrics:\n",
        "\n"
       ]
      },
      {
       "output_type": "pyout",
       "html": [
        "<div style=\"overflow:auto\"><table style=\"width:50%\"><tr><td>metric</td>\n",
        "<td>threshold</td>\n",
        "<td>value</td>\n",
        "<td>idx</td></tr>\n",
        "<tr><td>f1</td>\n",
        "<td>0.558165788651</td>\n",
        "<td>0.993464052288</td>\n",
        "<td>95.0</td></tr>\n",
        "<tr><td>f2</td>\n",
        "<td>0.558165788651</td>\n",
        "<td>0.993464052288</td>\n",
        "<td>95.0</td></tr>\n",
        "<tr><td>f0point5</td>\n",
        "<td>0.784003376961</td>\n",
        "<td>0.997357992074</td>\n",
        "<td>93.0</td></tr>\n",
        "<tr><td>accuracy</td>\n",
        "<td>0.784003376961</td>\n",
        "<td>0.994736842105</td>\n",
        "<td>93.0</td></tr>\n",
        "<tr><td>precision</td>\n",
        "<td>1.0</td>\n",
        "<td>1.0</td>\n",
        "<td>0.0</td></tr>\n",
        "<tr><td>absolute_MCC</td>\n",
        "<td>0.784003376961</td>\n",
        "<td>0.989094861551</td>\n",
        "<td>93.0</td></tr>\n",
        "<tr><td>min_per_class_accuracy</td>\n",
        "<td>0.558165788651</td>\n",
        "<td>0.993464052288</td>\n",
        "<td>95.0</td></tr>\n",
        "<tr><td>tns</td>\n",
        "<td>1.0</td>\n",
        "<td>227.0</td>\n",
        "<td>0.0</td></tr>\n",
        "<tr><td>fns</td>\n",
        "<td>1.0</td>\n",
        "<td>102.0</td>\n",
        "<td>0.0</td></tr>\n",
        "<tr><td>fps</td>\n",
        "<td>1.6900796636e-24</td>\n",
        "<td>227.0</td>\n",
        "<td>322.0</td></tr>\n",
        "<tr><td>tps</td>\n",
        "<td>0.0501889586449</td>\n",
        "<td>153.0</td>\n",
        "<td>103.0</td></tr>\n",
        "<tr><td>tnr</td>\n",
        "<td>1.0</td>\n",
        "<td>1.0</td>\n",
        "<td>0.0</td></tr>\n",
        "<tr><td>fnr</td>\n",
        "<td>1.0</td>\n",
        "<td>0.666666666667</td>\n",
        "<td>0.0</td></tr>\n",
        "<tr><td>fpr</td>\n",
        "<td>1.6900796636e-24</td>\n",
        "<td>1.0</td>\n",
        "<td>322.0</td></tr>\n",
        "<tr><td>tpr</td>\n",
        "<td>0.0501889586449</td>\n",
        "<td>1.0</td>\n",
        "<td>103.0</td></tr></table></div>"
       ],
       "metadata": {}
      }
     ],
     "input": [
      "performance = model.model_performance(prostate)\n",
      "performance.show()"
     ],
     "language": "python",
     "prompt_number": 18
    }
   ]
  }
 ],
 "cells": [],
 "metadata": {
  "name": "",
  "signature": "sha256:b230696dc1d650182178fdbab4ae2285e42653a957ec09ad7fa75d48d5f5f13c"
 },
 "nbformat": 3,
 "nbformat_minor": 0
}