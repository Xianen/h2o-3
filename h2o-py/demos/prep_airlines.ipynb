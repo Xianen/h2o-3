{
 "cells": [
  {
   "cell_type": "code",
   "execution_count": 1,
   "metadata": {
    "collapsed": true
   },
   "outputs": [],
   "source": [
    "#----------------------------------------------------------------------\n",
    "# Purpose:  Condition an Airline dataset by filtering out NAs where the\n",
    "#           departure delay in the input dataset is unknown.\n",
    "#\n",
    "#           Then treat anything longer than minutesOfDelayWeTolerate\n",
    "#           as delayed.\n",
    "#----------------------------------------------------------------------"
   ]
  },
  {
   "cell_type": "code",
   "execution_count": 2,
   "metadata": {
    "collapsed": true
   },
   "outputs": [],
   "source": [
    "import sys\n",
    "sys.path.insert(1, '/Users/rpeck/Source/h2o-3/h2o-py')\n",
    "import h2o"
   ]
  },
  {
   "cell_type": "code",
   "execution_count": 4,
   "metadata": {},
   "outputs": [
    {
     "name": "stdout",
     "output_type": "stream",
     "text": [
      "Warning: Version mismatch. H2O is version 3.7.0.99999, but the python package is version 3.0.0.99999.\n"
     ]
    },
    {
     "data": {
      "text/html": [
       "<div style=\"overflow:auto\"><table style=\"width:50%\"><tr><td>H2O cluster uptime: </td>\n",
       "<td>48 minutes 55 seconds 95 milliseconds </td></tr>\n",
       "<tr><td>H2O cluster version: </td>\n",
       "<td>3.7.0.99999</td></tr>\n",
       "<tr><td>H2O cluster name: </td>\n",
       "<td>wendycwong</td></tr>\n",
       "<tr><td>H2O cluster total nodes: </td>\n",
       "<td>1</td></tr>\n",
       "<tr><td>H2O cluster total memory: </td>\n",
       "<td>3.56 GB</td></tr>\n",
       "<tr><td>H2O cluster total cores: </td>\n",
       "<td>4</td></tr>\n",
       "<tr><td>H2O cluster allowed cores: </td>\n",
       "<td>4</td></tr>\n",
       "<tr><td>H2O cluster healthy: </td>\n",
       "<td>True</td></tr>\n",
       "<tr><td>H2O Connection ip: </td>\n",
       "<td>127.0.0.1</td></tr>\n",
       "<tr><td>H2O Connection port: </td>\n",
       "<td>54321</td></tr></table></div>"
      ],
      "text/plain": [
       "--------------------------  -------------------------------------\n",
       "H2O cluster uptime:         48 minutes 55 seconds 95 milliseconds\n",
       "H2O cluster version:        3.7.0.99999\n",
       "H2O cluster name:           wendycwong\n",
       "H2O cluster total nodes:    1\n",
       "H2O cluster total memory:   3.56 GB\n",
       "H2O cluster total cores:    4\n",
       "H2O cluster allowed cores:  4\n",
       "H2O cluster healthy:        True\n",
       "H2O Connection ip:          127.0.0.1\n",
       "H2O Connection port:        54321\n",
       "--------------------------  -------------------------------------"
      ]
     },
     "output_type": "execute_result",
     "metadata": {}
    }
   ],
   "source": [
    "h2o.init(ip=\"127.0.0.1\", port=54321, strict_version_check=False)"
   ]
  },
  {
   "cell_type": "code",
   "execution_count": 5,
   "metadata": {
    "collapsed": false
   },
   "outputs": [
    {
     "name": "stdout",
     "output_type": "stream",
     "text": [
      "\n",
      "Parse Progress: [##################################################] 100%\n"
     ]
    }
   ],
   "source": [
    "air = h2o.import_frame(h2o.locate(\"/Users/wendycwong/h2o-3/smalldata/airlines/allyears2k_headers.zip\"))"
   ]
  },
  {
   "cell_type": "code",
   "execution_count": 6,
   "metadata": {
    "collapsed": false
   },
   "outputs": [
    {
     "ename": "NameError",
     "evalue": "name 'air' is not defined",
     "output_type": "error",
     "traceback": [
      "\u001b[0;31m---------------------------------------------------------------------------\u001b[0m",
      "\u001b[0;31mNameError\u001b[0m                                 Traceback (most recent call last)",
      "\u001b[0;32m<ipython-input-5-375fd118a536>\u001b[0m in \u001b[0;36m<module>\u001b[0;34m()\u001b[0m\n\u001b[0;32m----> 1\u001b[0;31m \u001b[0mnumRows\u001b[0m\u001b[0;34m,\u001b[0m \u001b[0mnumCols\u001b[0m \u001b[0;34m=\u001b[0m \u001b[0mair\u001b[0m\u001b[0;34m.\u001b[0m\u001b[0mdim\u001b[0m\u001b[0;34m\u001b[0m\u001b[0m\n\u001b[0m\u001b[1;32m      2\u001b[0m \u001b[0;32mprint\u001b[0m \u001b[0;34m\"Original dataset rows: {0}, columns: {1}\"\u001b[0m\u001b[0;34m.\u001b[0m\u001b[0mformat\u001b[0m\u001b[0;34m(\u001b[0m\u001b[0mnumRows\u001b[0m\u001b[0;34m,\u001b[0m \u001b[0mnumCols\u001b[0m\u001b[0;34m)\u001b[0m\u001b[0;34m\u001b[0m\u001b[0m\n\u001b[1;32m      3\u001b[0m \u001b[0;34m\u001b[0m\u001b[0m\n\u001b[1;32m      4\u001b[0m \u001b[0mx_cols\u001b[0m \u001b[0;34m=\u001b[0m \u001b[0;34m[\u001b[0m\u001b[0;34m\"Month\"\u001b[0m\u001b[0;34m,\u001b[0m \u001b[0;34m\"DayofMonth\"\u001b[0m\u001b[0;34m,\u001b[0m \u001b[0;34m\"DayOfWeek\"\u001b[0m\u001b[0;34m,\u001b[0m \u001b[0;34m\"CRSDepTime\"\u001b[0m\u001b[0;34m,\u001b[0m \u001b[0;34m\"CRSArrTime\"\u001b[0m\u001b[0;34m,\u001b[0m \u001b[0;34m\"UniqueCarrier\"\u001b[0m\u001b[0;34m,\u001b[0m \u001b[0;34m\"CRSElapsedTime\"\u001b[0m\u001b[0;34m,\u001b[0m \u001b[0;34m\"Origin\"\u001b[0m\u001b[0;34m,\u001b[0m \u001b[0;34m\"Dest\"\u001b[0m\u001b[0;34m,\u001b[0m \u001b[0;34m\"Distance\"\u001b[0m\u001b[0;34m]\u001b[0m\u001b[0;34m\u001b[0m\u001b[0m\n\u001b[1;32m      5\u001b[0m \u001b[0my_col\u001b[0m \u001b[0;34m=\u001b[0m \u001b[0;34m\"SynthDepDelayed\"\u001b[0m\u001b[0;34m\u001b[0m\u001b[0m\n",
      "\u001b[0;31mNameError\u001b[0m: name 'air' is not defined"
     ]
    }
   ],
   "source": [
    "numRows, numCols = air.dim\n",
    "print \"Original dataset rows: {0}, columns: {1}\".format(numRows, numCols)\n",
    "\n",
    "x_cols = [\"Month\", \"DayofMonth\", \"DayOfWeek\", \"CRSDepTime\", \"CRSArrTime\", \"UniqueCarrier\", \"CRSElapsedTime\", \"Origin\", \"Dest\", \"Distance\"]\n",
    "y_col = \"SynthDepDelayed\"\n",
    "\n",
    "noDepDelayedNAs = air[air[\"DepDelay\"].isna() == 0]\n",
    "rows, cols = noDepDelayedNAs.dim\n",
    "print \"New dataset rows: {0}, columns: {1}\".format(rows, cols)"
   ]
  },
  {
   "cell_type": "code",
   "execution_count": 7,
   "metadata": {
    "collapsed": false
   },
   "outputs": [],
   "source": [
    "minutesOfDelayWeTolerate = 15\n",
    "noDepDelayedNAs = noDepDelayedNAs.cbind(noDepDelayedNAs[\"DepDelay\"] > minutesOfDelayWeTolerate)\n",
    "noDepDelayedNAs[numCols] = noDepDelayedNAs[numCols-1].asfactor()\n",
    "noDepDelayedNAs.set_name(numCols,y_col)"
   ]
  },
  {
   "cell_type": "code",
   "execution_count": 8,
   "metadata": {
    "collapsed": false
   },
   "outputs": [
    {
     "name": "stdout",
     "output_type": "stream",
     "text": [
      "\n",
      "gbm Model Build Progress: [##################################################] 100%\n",
      "Model Details\n",
      "=============\n",
      "H2OBinomialModel :  Gradient Boosting Machine\n",
      "Model Key:  GBM_model_python_1451948539188_362\n",
      "\n",
      "Model Summary:\n",
      "\n"
     ]
    },
    {
     "data": {
      "text/html": [
       "<div style=\"overflow:auto\"><table style=\"width:50%\"><tr><td></td>\n",
       "<td>number_of_trees</td>\n",
       "<td>model_size_in_bytes</td>\n",
       "<td>min_depth</td>\n",
       "<td>max_depth</td>\n",
       "<td>mean_depth</td>\n",
       "<td>min_leaves</td>\n",
       "<td>max_leaves</td>\n",
       "<td>mean_leaves</td></tr>\n",
       "<tr><td></td>\n",
       "<td>50.0</td>\n",
       "<td>34360.0</td>\n",
       "<td>5.0</td>\n",
       "<td>5.0</td>\n",
       "<td>5.0</td>\n",
       "<td>18.0</td>\n",
       "<td>32.0</td>\n",
       "<td>28.72</td></tr></table></div>"
      ],
      "text/plain": [
       "    number_of_trees    model_size_in_bytes    min_depth    max_depth    mean_depth    min_leaves    max_leaves    mean_leaves\n",
       "--  -----------------  ---------------------  -----------  -----------  ------------  ------------  ------------  -------------\n",
       "    50                 34360                  5            5            5             18            32            28.72"
      ]
     },
     "output_type": "execute_result",
     "metadata": {}
    },
    {
     "name": "stdout",
     "output_type": "stream",
     "text": [
      "\n",
      "\n",
      "ModelMetricsBinomial: gbm\n",
      "** Reported on train data. **\n",
      "\n",
      "MSE: 0.190998228325\n",
      "R^2: 0.235487670482\n",
      "LogLoss: 0.56424502622\n",
      "AUC: 0.78729159221\n",
      "Gini: 0.574583184419\n",
      "\n",
      "Confusion Matrix (Act/Pred) for max f1 @ threshold = 0.416705112919:\n",
      "\n"
     ]
    },
    {
     "data": {
      "text/html": [
       "<div style=\"overflow:auto\"><table style=\"width:50%\"><tr><td></td>\n",
       "<td>NO</td>\n",
       "<td>YES</td>\n",
       "<td>Error</td>\n",
       "<td>Rate</td></tr>\n",
       "<tr><td>NO</td>\n",
       "<td>11468.0</td>\n",
       "<td>9419.0</td>\n",
       "<td>0.451</td>\n",
       "<td> (9419.0/20887.0)</td></tr>\n",
       "<tr><td>YES</td>\n",
       "<td>3510.0</td>\n",
       "<td>18495.0</td>\n",
       "<td>0.1595</td>\n",
       "<td> (3510.0/22005.0)</td></tr>\n",
       "<tr><td>Total</td>\n",
       "<td>14978.0</td>\n",
       "<td>27914.0</td>\n",
       "<td>0.3014</td>\n",
       "<td> (12929.0/42892.0)</td></tr></table></div>"
      ],
      "text/plain": [
       "       NO     YES    Error    Rate\n",
       "-----  -----  -----  -------  -----------------\n",
       "NO     11468  9419   0.451    (9419.0/20887.0)\n",
       "YES    3510   18495  0.1595   (3510.0/22005.0)\n",
       "Total  14978  27914  0.3014   (12929.0/42892.0)"
      ]
     },
     "output_type": "execute_result",
     "metadata": {}
    },
    {
     "name": "stdout",
     "output_type": "stream",
     "text": [
      "\n",
      "Maximum Metrics:\n",
      "\n"
     ]
    },
    {
     "data": {
      "text/html": [
       "<div style=\"overflow:auto\"><table style=\"width:50%\"><tr><td>metric</td>\n",
       "<td>threshold</td>\n",
       "<td>value</td>\n",
       "<td>idx</td></tr>\n",
       "<tr><td>max f1</td>\n",
       "<td>0.416705112919</td>\n",
       "<td>0.741000420682</td>\n",
       "<td>257.0</td></tr>\n",
       "<tr><td>max f2</td>\n",
       "<td>0.250036790849</td>\n",
       "<td>0.847992818558</td>\n",
       "<td>344.0</td></tr>\n",
       "<tr><td>max f0point5</td>\n",
       "<td>0.558092215426</td>\n",
       "<td>0.728772266577</td>\n",
       "<td>181.0</td></tr>\n",
       "<tr><td>max accuracy</td>\n",
       "<td>0.50917905367</td>\n",
       "<td>0.713816096242</td>\n",
       "<td>207.0</td></tr>\n",
       "<tr><td>max precision</td>\n",
       "<td>0.95217991806</td>\n",
       "<td>1.0</td>\n",
       "<td>0.0</td></tr>\n",
       "<tr><td>max absolute_MCC</td>\n",
       "<td>0.513158744745</td>\n",
       "<td>0.427623630147</td>\n",
       "<td>205.0</td></tr>\n",
       "<tr><td>max min_per_class_accuracy</td>\n",
       "<td>0.50917905367</td>\n",
       "<td>0.712656214497</td>\n",
       "<td>207.0</td></tr></table></div>"
      ],
      "text/plain": [
       "metric                      threshold    value     idx\n",
       "--------------------------  -----------  --------  -----\n",
       "max f1                      0.416705     0.741     257\n",
       "max f2                      0.250037     0.847993  344\n",
       "max f0point5                0.558092     0.728772  181\n",
       "max accuracy                0.509179     0.713816  207\n",
       "max precision               0.95218      1         0\n",
       "max absolute_MCC            0.513159     0.427624  205\n",
       "max min_per_class_accuracy  0.509179     0.712656  207"
      ]
     },
     "output_type": "execute_result",
     "metadata": {}
    },
    {
     "name": "stdout",
     "output_type": "stream",
     "text": [
      "\n",
      "Scoring History:\n",
      "\n"
     ]
    },
    {
     "data": {
      "text/html": [
       "<div style=\"overflow:auto\"><table style=\"width:50%\"><tr><td></td>\n",
       "<td>timestamp</td>\n",
       "<td>duration</td>\n",
       "<td>number_of_trees</td>\n",
       "<td>training_MSE</td>\n",
       "<td>training_logloss</td>\n",
       "<td>training_AUC</td>\n",
       "<td>training_lift</td>\n",
       "<td>training_classification_error</td></tr>\n",
       "<tr><td></td>\n",
       "<td>2016-01-04 15:51:49</td>\n",
       "<td> 0.106 sec</td>\n",
       "<td>0.0</td>\n",
       "<td>0.249830147861</td>\n",
       "<td>0.692807437805</td>\n",
       "<td>0.5</td>\n",
       "<td>1.0</td>\n",
       "<td>0.486967266623</td></tr>\n",
       "<tr><td></td>\n",
       "<td>2016-01-04 15:51:49</td>\n",
       "<td> 0.192 sec</td>\n",
       "<td>1.0</td>\n",
       "<td>0.244362718818</td>\n",
       "<td>0.681856365041</td>\n",
       "<td>0.692503203228</td>\n",
       "<td>1.58804520775</td>\n",
       "<td>0.413433740558</td></tr>\n",
       "<tr><td></td>\n",
       "<td>2016-01-04 15:51:49</td>\n",
       "<td> 0.301 sec</td>\n",
       "<td>2.0</td>\n",
       "<td>0.239916651379</td>\n",
       "<td>0.672915590687</td>\n",
       "<td>0.700446640048</td>\n",
       "<td>1.65506176274</td>\n",
       "<td>0.410845845379</td></tr>\n",
       "<tr><td></td>\n",
       "<td>2016-01-04 15:51:49</td>\n",
       "<td> 0.429 sec</td>\n",
       "<td>3.0</td>\n",
       "<td>0.235500532513</td>\n",
       "<td>0.663968419721</td>\n",
       "<td>0.712157526928</td>\n",
       "<td>1.84660424066</td>\n",
       "<td>0.391051944419</td></tr>\n",
       "<tr><td></td>\n",
       "<td>2016-01-04 15:51:49</td>\n",
       "<td> 0.597 sec</td>\n",
       "<td>4.0</td>\n",
       "<td>0.231804609029</td>\n",
       "<td>0.656396477796</td>\n",
       "<td>0.717631801475</td>\n",
       "<td>1.83993364737</td>\n",
       "<td>0.387158444465</td></tr>\n",
       "<tr><td></td>\n",
       "<td>2016-01-04 15:51:50</td>\n",
       "<td> 0.859 sec</td>\n",
       "<td>5.0</td>\n",
       "<td>0.228800636002</td>\n",
       "<td>0.650232244088</td>\n",
       "<td>0.725320553124</td>\n",
       "<td>1.84541686654</td>\n",
       "<td>0.377040007461</td></tr>\n",
       "<tr><td></td>\n",
       "<td>2016-01-04 15:51:50</td>\n",
       "<td> 1.233 sec</td>\n",
       "<td>6.0</td>\n",
       "<td>0.225982520547</td>\n",
       "<td>0.644333673011</td>\n",
       "<td>0.727329858951</td>\n",
       "<td>1.88213396038</td>\n",
       "<td>0.380700363704</td></tr>\n",
       "<tr><td></td>\n",
       "<td>2016-01-04 15:51:50</td>\n",
       "<td> 1.606 sec</td>\n",
       "<td>7.0</td>\n",
       "<td>0.22319866086</td>\n",
       "<td>0.638455845729</td>\n",
       "<td>0.7311981024</td>\n",
       "<td>1.9165024911</td>\n",
       "<td>0.37153781591</td></tr>\n",
       "<tr><td></td>\n",
       "<td>2016-01-04 15:51:51</td>\n",
       "<td> 2.182 sec</td>\n",
       "<td>8.0</td>\n",
       "<td>0.220966984293</td>\n",
       "<td>0.633646321473</td>\n",
       "<td>0.732429446613</td>\n",
       "<td>1.91636484531</td>\n",
       "<td>0.36797071715</td></tr>\n",
       "<tr><td></td>\n",
       "<td>2016-01-04 15:51:51</td>\n",
       "<td> 2.482 sec</td>\n",
       "<td>9.0</td>\n",
       "<td>0.21921730536</td>\n",
       "<td>0.629926197946</td>\n",
       "<td>0.735551823547</td>\n",
       "<td>1.89921404809</td>\n",
       "<td>0.357222792129</td></tr>\n",
       "<tr><td></td>\n",
       "<td>2016-01-04 15:51:52</td>\n",
       "<td> 2.846 sec</td>\n",
       "<td>10.0</td>\n",
       "<td>0.217477908317</td>\n",
       "<td>0.626117640199</td>\n",
       "<td>0.736691553723</td>\n",
       "<td>1.8949331644</td>\n",
       "<td>0.358878112469</td></tr>\n",
       "<tr><td></td>\n",
       "<td>2016-01-04 15:51:52</td>\n",
       "<td> 3.419 sec</td>\n",
       "<td>11.0</td>\n",
       "<td>0.215930213472</td>\n",
       "<td>0.622681848191</td>\n",
       "<td>0.738762371444</td>\n",
       "<td>1.90438432227</td>\n",
       "<td>0.350228480836</td></tr>\n",
       "<tr><td></td>\n",
       "<td>2016-01-04 15:51:53</td>\n",
       "<td> 3.758 sec</td>\n",
       "<td>12.0</td>\n",
       "<td>0.214326188122</td>\n",
       "<td>0.619108932441</td>\n",
       "<td>0.740857439715</td>\n",
       "<td>1.89186414852</td>\n",
       "<td>0.342115079735</td></tr>\n",
       "<tr><td></td>\n",
       "<td>2016-01-04 15:51:55</td>\n",
       "<td> 5.883 sec</td>\n",
       "<td>50.0</td>\n",
       "<td>0.190998228325</td>\n",
       "<td>0.56424502622</td>\n",
       "<td>0.78729159221</td>\n",
       "<td>1.94919336514</td>\n",
       "<td>0.301431502378</td></tr></table></div>"
      ],
      "text/plain": [
       "    timestamp            duration    number_of_trees    training_MSE    training_logloss    training_AUC    training_lift    training_classification_error\n",
       "--  -------------------  ----------  -----------------  --------------  ------------------  --------------  ---------------  -------------------------------\n",
       "    2016-01-04 15:51:49  0.106 sec   0                  0.24983         0.692807            0.5             1                0.486967\n",
       "    2016-01-04 15:51:49  0.192 sec   1                  0.244363        0.681856            0.692503        1.58805          0.413434\n",
       "    2016-01-04 15:51:49  0.301 sec   2                  0.239917        0.672916            0.700447        1.65506          0.410846\n",
       "    2016-01-04 15:51:49  0.429 sec   3                  0.235501        0.663968            0.712158        1.8466           0.391052\n",
       "    2016-01-04 15:51:49  0.597 sec   4                  0.231805        0.656396            0.717632        1.83993          0.387158\n",
       "    2016-01-04 15:51:50  0.859 sec   5                  0.228801        0.650232            0.725321        1.84542          0.37704\n",
       "    2016-01-04 15:51:50  1.233 sec   6                  0.225983        0.644334            0.72733         1.88213          0.3807\n",
       "    2016-01-04 15:51:50  1.606 sec   7                  0.223199        0.638456            0.731198        1.9165           0.371538\n",
       "    2016-01-04 15:51:51  2.182 sec   8                  0.220967        0.633646            0.732429        1.91636          0.367971\n",
       "    2016-01-04 15:51:51  2.482 sec   9                  0.219217        0.629926            0.735552        1.89921          0.357223\n",
       "    2016-01-04 15:51:52  2.846 sec   10                 0.217478        0.626118            0.736692        1.89493          0.358878\n",
       "    2016-01-04 15:51:52  3.419 sec   11                 0.21593         0.622682            0.738762        1.90438          0.350228\n",
       "    2016-01-04 15:51:53  3.758 sec   12                 0.214326        0.619109            0.740857        1.89186          0.342115\n",
       "    2016-01-04 15:51:55  5.883 sec   50                 0.190998        0.564245            0.787292        1.94919          0.301432"
      ]
     },
     "output_type": "execute_result",
     "metadata": {}
    },
    {
     "name": "stdout",
     "output_type": "stream",
     "text": [
      "\n",
      "Variable Importances:\n",
      "\n"
     ]
    },
    {
     "data": {
      "text/html": [
       "<div style=\"overflow:auto\"><table style=\"width:50%\"><tr><td>variable</td>\n",
       "<td>relative_importance</td>\n",
       "<td>scaled_importance</td>\n",
       "<td>percentage</td></tr>\n",
       "<tr><td>Origin</td>\n",
       "<td>6802.29199219</td>\n",
       "<td>1.0</td>\n",
       "<td>0.408473570412</td></tr>\n",
       "<tr><td>Dest</td>\n",
       "<td>4523.11962891</td>\n",
       "<td>0.664940528002</td>\n",
       "<td>0.271610631585</td></tr>\n",
       "<tr><td>DayofMonth</td>\n",
       "<td>2025.07678223</td>\n",
       "<td>0.297705065374</td>\n",
       "<td>0.121604650983</td></tr>\n",
       "<tr><td>UniqueCarrier</td>\n",
       "<td>1249.49365234</td>\n",
       "<td>0.183687153356</td>\n",
       "<td>0.0750313473703</td></tr>\n",
       "<tr><td>CRSArrTime</td>\n",
       "<td>741.27154541</td>\n",
       "<td>0.108973790931</td>\n",
       "<td>0.0445129134631</td></tr>\n",
       "<tr><td>CRSDepTime</td>\n",
       "<td>640.993835449</td>\n",
       "<td>0.0942320376993</td>\n",
       "<td>0.0384912968862</td></tr>\n",
       "<tr><td>DayOfWeek</td>\n",
       "<td>422.001037598</td>\n",
       "<td>0.0620380657111</td>\n",
       "<td>0.0253409102025</td></tr>\n",
       "<tr><td>CRSElapsedTime</td>\n",
       "<td>138.01210022</td>\n",
       "<td>0.0202890585083</td>\n",
       "<td>0.00828754416917</td></tr>\n",
       "<tr><td>Month</td>\n",
       "<td>69.5189666748</td>\n",
       "<td>0.0102199327454</td>\n",
       "<td>0.00417457241789</td></tr>\n",
       "<tr><td>Distance</td>\n",
       "<td>41.1754722595</td>\n",
       "<td>0.00605317623925</td>\n",
       "<td>0.00247256251078</td></tr></table></div>"
      ],
      "text/plain": [
       "variable        relative_importance    scaled_importance    percentage\n",
       "--------------  ---------------------  -------------------  ------------\n",
       "Origin          6802.29                1                    0.408474\n",
       "Dest            4523.12                0.664941             0.271611\n",
       "DayofMonth      2025.08                0.297705             0.121605\n",
       "UniqueCarrier   1249.49                0.183687             0.0750313\n",
       "CRSArrTime      741.272                0.108974             0.0445129\n",
       "CRSDepTime      640.994                0.094232             0.0384913\n",
       "DayOfWeek       422.001                0.0620381            0.0253409\n",
       "CRSElapsedTime  138.012                0.0202891            0.00828754\n",
       "Month           69.519                 0.0102199            0.00417457\n",
       "Distance        41.1755                0.00605318           0.00247256"
      ]
     },
     "output_type": "execute_result",
     "metadata": {}
    }
   ],
   "source": [
    "gbm = h2o.gbm(x=noDepDelayedNAs[x_cols], y=noDepDelayedNAs[y_col], distribution=\"bernoulli\")\n",
    "gbm.show()"
   ]
  },
  {
   "cell_type": "code",
   "execution_count": null,
   "metadata": {},
   "outputs": [],
   "source": [
    ""
   ]
  }
 ],
 "metadata": {
  "kernelspec": {
   "display_name": "Python 2",
   "language": "python",
   "name": "python2"
  },
  "language_info": {
   "codemirror_mode": {
    "name": "ipython",
    "version": 2.0
   },
   "file_extension": ".py",
   "mimetype": "text/x-python",
   "name": "python",
   "nbconvert_exporter": "python",
   "pygments_lexer": "ipython2",
   "version": "2.7.10"
  }
 },
 "nbformat": 4,
 "nbformat_minor": 0
}
