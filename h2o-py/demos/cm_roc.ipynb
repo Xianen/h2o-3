{
 "cells": [
  {
   "cell_type": "code",
   "execution_count": 1,
   "metadata": {
    "collapsed": true
   },
   "outputs": [],
   "source": [
    "import h2o"
   ]
  },
  {
   "cell_type": "code",
   "execution_count": 2,
   "metadata": {
    "collapsed": false
   },
   "outputs": [
    {
     "name": "stdout",
     "output_type": "stream",
     "text": [
      "Warning: Version mismatch. H2O is version 3.7.0.99999, but the python package is version 3.0.0.99999.\n"
     ]
    },
    {
     "data": {
      "text/html": [
       "<div style=\"overflow:auto\"><table style=\"width:50%\"><tr><td>H2O cluster uptime: </td>\n",
       "<td>34 minutes 15 seconds 113 milliseconds </td></tr>\n",
       "<tr><td>H2O cluster version: </td>\n",
       "<td>3.7.0.99999</td></tr>\n",
       "<tr><td>H2O cluster name: </td>\n",
       "<td>wendycwong</td></tr>\n",
       "<tr><td>H2O cluster total nodes: </td>\n",
       "<td>1</td></tr>\n",
       "<tr><td>H2O cluster total memory: </td>\n",
       "<td>3.56 GB</td></tr>\n",
       "<tr><td>H2O cluster total cores: </td>\n",
       "<td>4</td></tr>\n",
       "<tr><td>H2O cluster allowed cores: </td>\n",
       "<td>4</td></tr>\n",
       "<tr><td>H2O cluster healthy: </td>\n",
       "<td>True</td></tr>\n",
       "<tr><td>H2O Connection ip: </td>\n",
       "<td>127.0.0.1</td></tr>\n",
       "<tr><td>H2O Connection port: </td>\n",
       "<td>54321</td></tr></table></div>"
      ],
      "text/plain": [
       "--------------------------  --------------------------------------\n",
       "H2O cluster uptime:         34 minutes 15 seconds 113 milliseconds\n",
       "H2O cluster version:        3.7.0.99999\n",
       "H2O cluster name:           wendycwong\n",
       "H2O cluster total nodes:    1\n",
       "H2O cluster total memory:   3.56 GB\n",
       "H2O cluster total cores:    4\n",
       "H2O cluster allowed cores:  4\n",
       "H2O cluster healthy:        True\n",
       "H2O Connection ip:          127.0.0.1\n",
       "H2O Connection port:        54321\n",
       "--------------------------  --------------------------------------"
      ]
     },
     "metadata": {},
     "output_type": "display_data"
    }
   ],
   "source": [
    "h2o.init()"
   ]
  },
  {
   "cell_type": "code",
   "execution_count": 3,
   "metadata": {
    "collapsed": false
   },
   "outputs": [
    {
     "name": "stdout",
     "output_type": "stream",
     "text": [
      "\n",
      "Parse Progress: [##################################################] 100%\n"
     ]
    }
   ],
   "source": [
    "#uploading data file to h2o\n",
    "air = h2o.import_frame(path=h2o.locate(\"smalldata/airlines/AirlinesTrain.csv.zip\"))"
   ]
  },
  {
   "cell_type": "code",
   "execution_count": 4,
   "metadata": {
    "collapsed": true
   },
   "outputs": [],
   "source": [
    "# Constructing validation and train sets by sampling (20/80)\n",
    "# creating a column as tall as air.nrow()\n",
    "r = air[0].runif()\n",
    "air_train = air[r < 0.8]\n",
    "air_valid = air[r >= 0.8]\n",
    "\n",
    "myX = [\"Origin\", \"Dest\", \"Distance\", \"UniqueCarrier\", \"fMonth\", \"fDayofMonth\", \"fDayOfWeek\"]\n",
    "myY = \"IsDepDelayed\""
   ]
  },
  {
   "cell_type": "code",
   "execution_count": 5,
   "metadata": {
    "collapsed": false
   },
   "outputs": [
    {
     "name": "stdout",
     "output_type": "stream",
     "text": [
      "\n",
      "gbm Model Build Progress: [##################################################] 100%\n",
      "Model Details\n",
      "=============\n",
      "H2OBinomialModel :  Gradient Boosting Machine\n",
      "Model Key:  GBM_model_python_1451948539188_109\n",
      "\n",
      "Model Summary:\n",
      "\n"
     ]
    },
    {
     "data": {
      "text/html": [
       "<div style=\"overflow:auto\"><table style=\"width:50%\"><tr><td></td>\n",
       "<td>number_of_trees</td>\n",
       "<td>model_size_in_bytes</td>\n",
       "<td>min_depth</td>\n",
       "<td>max_depth</td>\n",
       "<td>mean_depth</td>\n",
       "<td>min_leaves</td>\n",
       "<td>max_leaves</td>\n",
       "<td>mean_leaves</td></tr>\n",
       "<tr><td></td>\n",
       "<td>100.0</td>\n",
       "<td>21684.0</td>\n",
       "<td>3.0</td>\n",
       "<td>3.0</td>\n",
       "<td>3.0</td>\n",
       "<td>8.0</td>\n",
       "<td>8.0</td>\n",
       "<td>8.0</td></tr></table></div>"
      ],
      "text/plain": [
       "    number_of_trees    model_size_in_bytes    min_depth    max_depth    mean_depth    min_leaves    max_leaves    mean_leaves\n",
       "--  -----------------  ---------------------  -----------  -----------  ------------  ------------  ------------  -------------\n",
       "    100                21684                  3            3            3             8             8             8"
      ]
     },
     "metadata": {},
     "output_type": "display_data"
    },
    {
     "name": "stdout",
     "output_type": "stream",
     "text": [
      "\n",
      "\n",
      "ModelMetricsBinomial: gbm\n",
      "** Reported on train data. **\n",
      "\n",
      "MSE: 0.22562460971\n",
      "R^2: 0.0889396609808\n",
      "LogLoss: 0.643247930945\n",
      "AUC: 0.698165187426\n",
      "Gini: 0.396330374853\n",
      "\n",
      "Confusion Matrix (Act/Pred) for max f1 @ threshold = 0.444918709811:\n",
      "\n"
     ]
    },
    {
     "data": {
      "text/html": [
       "<div style=\"overflow:auto\"><table style=\"width:50%\"><tr><td></td>\n",
       "<td>NO</td>\n",
       "<td>YES</td>\n",
       "<td>Error</td>\n",
       "<td>Rate</td></tr>\n",
       "<tr><td>NO</td>\n",
       "<td>2397.0</td>\n",
       "<td>6462.0</td>\n",
       "<td>0.7294</td>\n",
       "<td> (6462.0/8859.0)</td></tr>\n",
       "<tr><td>YES</td>\n",
       "<td>947.0</td>\n",
       "<td>9814.0</td>\n",
       "<td>0.088</td>\n",
       "<td> (947.0/10761.0)</td></tr>\n",
       "<tr><td>Total</td>\n",
       "<td>3344.0</td>\n",
       "<td>16276.0</td>\n",
       "<td>0.3776</td>\n",
       "<td> (7409.0/19620.0)</td></tr></table></div>"
      ],
      "text/plain": [
       "       NO    YES    Error    Rate\n",
       "-----  ----  -----  -------  ----------------\n",
       "NO     2397  6462   0.7294   (6462.0/8859.0)\n",
       "YES    947   9814   0.088    (947.0/10761.0)\n",
       "Total  3344  16276  0.3776   (7409.0/19620.0)"
      ]
     },
     "metadata": {},
     "output_type": "display_data"
    },
    {
     "name": "stdout",
     "output_type": "stream",
     "text": [
      "\n",
      "Maximum Metrics:\n",
      "\n"
     ]
    },
    {
     "data": {
      "text/html": [
       "<div style=\"overflow:auto\"><table style=\"width:50%\"><tr><td>metric</td>\n",
       "<td>threshold</td>\n",
       "<td>value</td>\n",
       "<td>idx</td></tr>\n",
       "<tr><td>max f1</td>\n",
       "<td>0.444918709811</td>\n",
       "<td>0.725968117765</td>\n",
       "<td>341.0</td></tr>\n",
       "<tr><td>max f2</td>\n",
       "<td>0.382124474642</td>\n",
       "<td>0.859187589957</td>\n",
       "<td>397.0</td></tr>\n",
       "<tr><td>max f0point5</td>\n",
       "<td>0.544945195549</td>\n",
       "<td>0.681234666515</td>\n",
       "<td>207.0</td></tr>\n",
       "<tr><td>max accuracy</td>\n",
       "<td>0.523300828289</td>\n",
       "<td>0.650152905199</td>\n",
       "<td>237.0</td></tr>\n",
       "<tr><td>max precision</td>\n",
       "<td>0.691129109697</td>\n",
       "<td>0.902985074627</td>\n",
       "<td>0.0</td></tr>\n",
       "<tr><td>max absolute_MCC</td>\n",
       "<td>0.543788214437</td>\n",
       "<td>0.293546939368</td>\n",
       "<td>209.0</td></tr>\n",
       "<tr><td>max min_per_class_accuracy</td>\n",
       "<td>0.546793405075</td>\n",
       "<td>0.64250534337</td>\n",
       "<td>205.0</td></tr></table></div>"
      ],
      "text/plain": [
       "metric                      threshold    value     idx\n",
       "--------------------------  -----------  --------  -----\n",
       "max f1                      0.444919     0.725968  341\n",
       "max f2                      0.382124     0.859188  397\n",
       "max f0point5                0.544945     0.681235  207\n",
       "max accuracy                0.523301     0.650153  237\n",
       "max precision               0.691129     0.902985  0\n",
       "max absolute_MCC            0.543788     0.293547  209\n",
       "max min_per_class_accuracy  0.546793     0.642505  205"
      ]
     },
     "metadata": {},
     "output_type": "display_data"
    },
    {
     "name": "stdout",
     "output_type": "stream",
     "text": [
      "\n",
      "ModelMetricsBinomial: gbm\n",
      "** Reported on validation data. **\n",
      "\n",
      "MSE: 0.227343296977\n",
      "R^2: 0.0846793486779\n",
      "LogLoss: 0.646862883823\n",
      "AUC: 0.691843154133\n",
      "Gini: 0.383686308266\n",
      "\n",
      "Confusion Matrix (Act/Pred) for max f1 @ threshold = 0.442709936332:\n",
      "\n"
     ]
    },
    {
     "data": {
      "text/html": [
       "<div style=\"overflow:auto\"><table style=\"width:50%\"><tr><td></td>\n",
       "<td>NO</td>\n",
       "<td>YES</td>\n",
       "<td>Error</td>\n",
       "<td>Rate</td></tr>\n",
       "<tr><td>NO</td>\n",
       "<td>558.0</td>\n",
       "<td>1649.0</td>\n",
       "<td>0.7472</td>\n",
       "<td> (1649.0/2207.0)</td></tr>\n",
       "<tr><td>YES</td>\n",
       "<td>200.0</td>\n",
       "<td>2394.0</td>\n",
       "<td>0.0771</td>\n",
       "<td> (200.0/2594.0)</td></tr>\n",
       "<tr><td>Total</td>\n",
       "<td>758.0</td>\n",
       "<td>4043.0</td>\n",
       "<td>0.3851</td>\n",
       "<td> (1849.0/4801.0)</td></tr></table></div>"
      ],
      "text/plain": [
       "       NO    YES    Error    Rate\n",
       "-----  ----  -----  -------  ---------------\n",
       "NO     558   1649   0.7472   (1649.0/2207.0)\n",
       "YES    200   2394   0.0771   (200.0/2594.0)\n",
       "Total  758   4043   0.3851   (1849.0/4801.0)"
      ]
     },
     "metadata": {},
     "output_type": "display_data"
    },
    {
     "name": "stdout",
     "output_type": "stream",
     "text": [
      "\n",
      "Maximum Metrics:\n",
      "\n"
     ]
    },
    {
     "data": {
      "text/html": [
       "<div style=\"overflow:auto\"><table style=\"width:50%\"><tr><td>metric</td>\n",
       "<td>threshold</td>\n",
       "<td>value</td>\n",
       "<td>idx</td></tr>\n",
       "<tr><td>max f1</td>\n",
       "<td>0.442709936332</td>\n",
       "<td>0.721410275727</td>\n",
       "<td>347.0</td></tr>\n",
       "<tr><td>max f2</td>\n",
       "<td>0.384349825463</td>\n",
       "<td>0.855867768595</td>\n",
       "<td>395.0</td></tr>\n",
       "<tr><td>max f0point5</td>\n",
       "<td>0.545145070536</td>\n",
       "<td>0.678077938208</td>\n",
       "<td>212.0</td></tr>\n",
       "<tr><td>max accuracy</td>\n",
       "<td>0.509842743916</td>\n",
       "<td>0.653197250573</td>\n",
       "<td>262.0</td></tr>\n",
       "<tr><td>max precision</td>\n",
       "<td>0.689206183283</td>\n",
       "<td>0.892857142857</td>\n",
       "<td>1.0</td></tr>\n",
       "<tr><td>max absolute_MCC</td>\n",
       "<td>0.545145070536</td>\n",
       "<td>0.299456712627</td>\n",
       "<td>212.0</td></tr>\n",
       "<tr><td>max min_per_class_accuracy</td>\n",
       "<td>0.546481855962</td>\n",
       "<td>0.645672859085</td>\n",
       "<td>210.0</td></tr></table></div>"
      ],
      "text/plain": [
       "metric                      threshold    value     idx\n",
       "--------------------------  -----------  --------  -----\n",
       "max f1                      0.44271      0.72141   347\n",
       "max f2                      0.38435      0.855868  395\n",
       "max f0point5                0.545145     0.678078  212\n",
       "max accuracy                0.509843     0.653197  262\n",
       "max precision               0.689206     0.892857  1\n",
       "max absolute_MCC            0.545145     0.299457  212\n",
       "max min_per_class_accuracy  0.546482     0.645673  210"
      ]
     },
     "metadata": {},
     "output_type": "display_data"
    },
    {
     "name": "stdout",
     "output_type": "stream",
     "text": [
      "\n",
      "Scoring History:\n",
      "\n"
     ]
    },
    {
     "data": {
      "text/html": [
       "<div style=\"overflow:auto\"><table style=\"width:50%\"><tr><td></td>\n",
       "<td>timestamp</td>\n",
       "<td>duration</td>\n",
       "<td>number_of_trees</td>\n",
       "<td>training_MSE</td>\n",
       "<td>training_logloss</td>\n",
       "<td>training_AUC</td>\n",
       "<td>training_lift</td>\n",
       "<td>training_classification_error</td>\n",
       "<td>validation_MSE</td>\n",
       "<td>validation_logloss</td>\n",
       "<td>validation_AUC</td>\n",
       "<td>validation_lift</td>\n",
       "<td>validation_classification_error</td></tr>\n",
       "<tr><td></td>\n",
       "<td>2016-01-04 15:36:35</td>\n",
       "<td> 0.050 sec</td>\n",
       "<td>0.0</td>\n",
       "<td>0.247650567199</td>\n",
       "<td>0.688440927372</td>\n",
       "<td>0.5</td>\n",
       "<td>1.0</td>\n",
       "<td>0.451529051988</td>\n",
       "<td>0.248442276609</td>\n",
       "<td>0.690029334531</td>\n",
       "<td>0.5</td>\n",
       "<td>1.0</td>\n",
       "<td>0.459695896688</td></tr>\n",
       "<tr><td></td>\n",
       "<td>2016-01-04 15:36:35</td>\n",
       "<td> 0.174 sec</td>\n",
       "<td>1.0</td>\n",
       "<td>0.247222183337</td>\n",
       "<td>0.687576052907</td>\n",
       "<td>0.66504576825</td>\n",
       "<td>1.33995438591</td>\n",
       "<td>0.390723751274</td>\n",
       "<td>0.248030618521</td>\n",
       "<td>0.68919825012</td>\n",
       "<td>0.657226480963</td>\n",
       "<td>1.28970439964</td>\n",
       "<td>0.399708394085</td></tr>\n",
       "<tr><td></td>\n",
       "<td>2016-01-04 15:36:35</td>\n",
       "<td> 0.270 sec</td>\n",
       "<td>2.0</td>\n",
       "<td>0.24680233115</td>\n",
       "<td>0.686728427649</td>\n",
       "<td>0.66504576825</td>\n",
       "<td>1.33995438591</td>\n",
       "<td>0.390723751274</td>\n",
       "<td>0.247627359109</td>\n",
       "<td>0.688384188806</td>\n",
       "<td>0.657226480963</td>\n",
       "<td>1.28970439964</td>\n",
       "<td>0.399708394085</td></tr>\n",
       "<tr><td></td>\n",
       "<td>2016-01-04 15:36:35</td>\n",
       "<td> 0.376 sec</td>\n",
       "<td>3.0</td>\n",
       "<td>0.246389691432</td>\n",
       "<td>0.685895369491</td>\n",
       "<td>0.665701206059</td>\n",
       "<td>1.33912195603</td>\n",
       "<td>0.390723751274</td>\n",
       "<td>0.247228024329</td>\n",
       "<td>0.687578089873</td>\n",
       "<td>0.658898108947</td>\n",
       "<td>1.32397997347</td>\n",
       "<td>0.399708394085</td></tr>\n",
       "<tr><td></td>\n",
       "<td>2016-01-04 15:36:35</td>\n",
       "<td> 0.458 sec</td>\n",
       "<td>4.0</td>\n",
       "<td>0.245990003417</td>\n",
       "<td>0.685088447043</td>\n",
       "<td>0.665671237014</td>\n",
       "<td>1.33738716371</td>\n",
       "<td>0.390723751274</td>\n",
       "<td>0.246841513923</td>\n",
       "<td>0.686797899264</td>\n",
       "<td>0.658773217201</td>\n",
       "<td>1.32257421385</td>\n",
       "<td>0.399708394085</td></tr>\n",
       "<tr><td>---</td>\n",
       "<td>---</td>\n",
       "<td>---</td>\n",
       "<td>---</td>\n",
       "<td>---</td>\n",
       "<td>---</td>\n",
       "<td>---</td>\n",
       "<td>---</td>\n",
       "<td>---</td>\n",
       "<td>---</td>\n",
       "<td>---</td>\n",
       "<td>---</td>\n",
       "<td>---</td>\n",
       "<td>---</td></tr>\n",
       "<tr><td></td>\n",
       "<td>2016-01-04 15:36:38</td>\n",
       "<td> 3.310 sec</td>\n",
       "<td>27.0</td>\n",
       "<td>0.238666850221</td>\n",
       "<td>0.670275801069</td>\n",
       "<td>0.679733060249</td>\n",
       "<td>1.40708194591</td>\n",
       "<td>0.402395514781</td>\n",
       "<td>0.239699303566</td>\n",
       "<td>0.672360662446</td>\n",
       "<td>0.674351410089</td>\n",
       "<td>1.3963831481</td>\n",
       "<td>0.410539470944</td></tr>\n",
       "<tr><td></td>\n",
       "<td>2016-01-04 15:36:38</td>\n",
       "<td> 3.491 sec</td>\n",
       "<td>28.0</td>\n",
       "<td>0.238419348988</td>\n",
       "<td>0.669772496488</td>\n",
       "<td>0.679893111944</td>\n",
       "<td>1.40708194591</td>\n",
       "<td>0.402395514781</td>\n",
       "<td>0.239465752172</td>\n",
       "<td>0.671886184961</td>\n",
       "<td>0.674661718042</td>\n",
       "<td>1.3963831481</td>\n",
       "<td>0.410539470944</td></tr>\n",
       "<tr><td></td>\n",
       "<td>2016-01-04 15:36:38</td>\n",
       "<td> 3.676 sec</td>\n",
       "<td>29.0</td>\n",
       "<td>0.238172617787</td>\n",
       "<td>0.669269943874</td>\n",
       "<td>0.680038252544</td>\n",
       "<td>1.411886241</td>\n",
       "<td>0.402395514781</td>\n",
       "<td>0.239238002833</td>\n",
       "<td>0.671423010086</td>\n",
       "<td>0.674503376269</td>\n",
       "<td>1.38722917724</td>\n",
       "<td>0.410539470944</td></tr>\n",
       "<tr><td></td>\n",
       "<td>2016-01-04 15:36:39</td>\n",
       "<td> 3.873 sec</td>\n",
       "<td>30.0</td>\n",
       "<td>0.237883646396</td>\n",
       "<td>0.668683191476</td>\n",
       "<td>0.680104730956</td>\n",
       "<td>1.411886241</td>\n",
       "<td>0.402395514781</td>\n",
       "<td>0.238949233368</td>\n",
       "<td>0.670837759449</td>\n",
       "<td>0.674756129215</td>\n",
       "<td>1.38722917724</td>\n",
       "<td>0.410539470944</td></tr>\n",
       "<tr><td></td>\n",
       "<td>2016-01-04 15:36:39</td>\n",
       "<td> 4.566 sec</td>\n",
       "<td>100.0</td>\n",
       "<td>0.22562460971</td>\n",
       "<td>0.643247930945</td>\n",
       "<td>0.698165187426</td>\n",
       "<td>1.61442015894</td>\n",
       "<td>0.377624872579</td>\n",
       "<td>0.227343296977</td>\n",
       "<td>0.646862883823</td>\n",
       "<td>0.691843154133</td>\n",
       "<td>1.57144207969</td>\n",
       "<td>0.385128098313</td></tr></table></div>"
      ],
      "text/plain": [
       "     timestamp            duration    number_of_trees    training_MSE    training_logloss    training_AUC    training_lift    training_classification_error    validation_MSE    validation_logloss    validation_AUC    validation_lift    validation_classification_error\n",
       "---  -------------------  ----------  -----------------  --------------  ------------------  --------------  ---------------  -------------------------------  ----------------  --------------------  ----------------  -----------------  ---------------------------------\n",
       "     2016-01-04 15:36:35  0.050 sec   0.0                0.247650567199  0.688440927372      0.5             1.0              0.451529051988                   0.248442276609    0.690029334531        0.5               1.0                0.459695896688\n",
       "     2016-01-04 15:36:35  0.174 sec   1.0                0.247222183337  0.687576052907      0.66504576825   1.33995438591    0.390723751274                   0.248030618521    0.68919825012         0.657226480963    1.28970439964      0.399708394085\n",
       "     2016-01-04 15:36:35  0.270 sec   2.0                0.24680233115   0.686728427649      0.66504576825   1.33995438591    0.390723751274                   0.247627359109    0.688384188806        0.657226480963    1.28970439964      0.399708394085\n",
       "     2016-01-04 15:36:35  0.376 sec   3.0                0.246389691432  0.685895369491      0.665701206059  1.33912195603    0.390723751274                   0.247228024329    0.687578089873        0.658898108947    1.32397997347      0.399708394085\n",
       "     2016-01-04 15:36:35  0.458 sec   4.0                0.245990003417  0.685088447043      0.665671237014  1.33738716371    0.390723751274                   0.246841513923    0.686797899264        0.658773217201    1.32257421385      0.399708394085\n",
       "---  ---                  ---         ---                ---             ---                 ---             ---              ---                              ---               ---                   ---               ---                ---\n",
       "     2016-01-04 15:36:38  3.310 sec   27.0               0.238666850221  0.670275801069      0.679733060249  1.40708194591    0.402395514781                   0.239699303566    0.672360662446        0.674351410089    1.3963831481       0.410539470944\n",
       "     2016-01-04 15:36:38  3.491 sec   28.0               0.238419348988  0.669772496488      0.679893111944  1.40708194591    0.402395514781                   0.239465752172    0.671886184961        0.674661718042    1.3963831481       0.410539470944\n",
       "     2016-01-04 15:36:38  3.676 sec   29.0               0.238172617787  0.669269943874      0.680038252544  1.411886241      0.402395514781                   0.239238002833    0.671423010086        0.674503376269    1.38722917724      0.410539470944\n",
       "     2016-01-04 15:36:39  3.873 sec   30.0               0.237883646396  0.668683191476      0.680104730956  1.411886241      0.402395514781                   0.238949233368    0.670837759449        0.674756129215    1.38722917724      0.410539470944\n",
       "     2016-01-04 15:36:39  4.566 sec   100.0              0.22562460971   0.643247930945      0.698165187426  1.61442015894    0.377624872579                   0.227343296977    0.646862883823        0.691843154133    1.57144207969      0.385128098313"
      ]
     },
     "metadata": {},
     "output_type": "display_data"
    },
    {
     "name": "stdout",
     "output_type": "stream",
     "text": [
      "\n",
      "Variable Importances:\n",
      "\n"
     ]
    },
    {
     "data": {
      "text/html": [
       "<div style=\"overflow:auto\"><table style=\"width:50%\"><tr><td>variable</td>\n",
       "<td>relative_importance</td>\n",
       "<td>scaled_importance</td>\n",
       "<td>percentage</td></tr>\n",
       "<tr><td>Origin</td>\n",
       "<td>17192.9804688</td>\n",
       "<td>1.0</td>\n",
       "<td>0.691145920774</td></tr>\n",
       "<tr><td>Dest</td>\n",
       "<td>4786.88574219</td>\n",
       "<td>0.278420937596</td>\n",
       "<td>0.192429495278</td></tr>\n",
       "<tr><td>UniqueCarrier</td>\n",
       "<td>1496.90466309</td>\n",
       "<td>0.0870648731211</td>\n",
       "<td>0.0601745319003</td></tr>\n",
       "<tr><td>fDayofMonth</td>\n",
       "<td>1325.37927246</td>\n",
       "<td>0.0770883951663</td>\n",
       "<td>0.0532793298581</td></tr>\n",
       "<tr><td>fDayOfWeek</td>\n",
       "<td>73.8998336792</td>\n",
       "<td>0.00429825612921</td>\n",
       "<td>0.00297072219014</td></tr>\n",
       "<tr><td>Distance</td>\n",
       "<td>0.0</td>\n",
       "<td>0.0</td>\n",
       "<td>0.0</td></tr>\n",
       "<tr><td>fMonth</td>\n",
       "<td>0.0</td>\n",
       "<td>0.0</td>\n",
       "<td>0.0</td></tr></table></div>"
      ],
      "text/plain": [
       "variable       relative_importance    scaled_importance    percentage\n",
       "-------------  ---------------------  -------------------  ------------\n",
       "Origin         17193                  1                    0.691146\n",
       "Dest           4786.89                0.278421             0.192429\n",
       "UniqueCarrier  1496.9                 0.0870649            0.0601745\n",
       "fDayofMonth    1325.38                0.0770884            0.0532793\n",
       "fDayOfWeek     73.8998                0.00429826           0.00297072\n",
       "Distance       0                      0                    0\n",
       "fMonth         0                      0                    0"
      ]
     },
     "metadata": {},
     "output_type": "display_data"
    }
   ],
   "source": [
    "#gbm\n",
    "gbm = h2o.gbm(x=air_train[myX], \n",
    "              y=air_train[myY], \n",
    "              validation_x=air_valid[myX],\n",
    "              validation_y=air_valid[myY],\n",
    "              distribution=\"bernoulli\", \n",
    "              ntrees=100, \n",
    "              max_depth=3, \n",
    "              learn_rate=0.01)\n",
    "gbm.show()"
   ]
  },
  {
   "cell_type": "code",
   "execution_count": 6,
   "metadata": {
    "collapsed": false
   },
   "outputs": [
    {
     "name": "stdout",
     "output_type": "stream",
     "text": [
      "\n",
      "glm Model Build Progress: [##################################################] 100%\n",
      "\n",
      "Coefficients:\n",
      "\n"
     ]
    },
    {
     "data": {
      "text/html": [
       "<div style=\"overflow:auto\"><table style=\"width:50%\"><tr><td>names</td>\n",
       "<td>coefficients</td>\n",
       "<td>standardized_coefficients</td></tr>\n",
       "<tr><td>Intercept</td>\n",
       "<td>0.0677308840348</td>\n",
       "<td>0.232473947575</td></tr>\n",
       "<tr><td>Origin.ABE</td>\n",
       "<td>-0.00719751541125</td>\n",
       "<td>-0.00719751541125</td></tr>\n",
       "<tr><td>Origin.ABQ</td>\n",
       "<td>-0.0480592849117</td>\n",
       "<td>-0.0480592849117</td></tr>\n",
       "<tr><td>Origin.ACY</td>\n",
       "<td>-0.0113458449003</td>\n",
       "<td>-0.0113458449003</td></tr>\n",
       "<tr><td>Origin.ALB</td>\n",
       "<td>0.00792903490861</td>\n",
       "<td>0.00792903490861</td></tr>\n",
       "<tr><td>---</td>\n",
       "<td>---</td>\n",
       "<td>---</td></tr>\n",
       "<tr><td>fDayOfWeek.f6</td>\n",
       "<td>-0.102987233142</td>\n",
       "<td>-0.102987233142</td></tr>\n",
       "<tr><td>fDayOfWeek.f7</td>\n",
       "<td>0.00649983100123</td>\n",
       "<td>0.00649983100123</td></tr>\n",
       "<tr><td>fMonth.f1</td>\n",
       "<td>-0.0966509773908</td>\n",
       "<td>-0.0966509773908</td></tr>\n",
       "<tr><td>fMonth.f10</td>\n",
       "<td>0.101238014717</td>\n",
       "<td>0.101238014717</td></tr>\n",
       "<tr><td>Distance</td>\n",
       "<td>0.000217593510703</td>\n",
       "<td>0.137765548229</td></tr></table></div>"
      ],
      "text/plain": [
       "names          coefficients       standardized_coefficients\n",
       "-------------  -----------------  ---------------------------\n",
       "Intercept      0.0677308840348    0.232473947575\n",
       "Origin.ABE     -0.00719751541125  -0.00719751541125\n",
       "Origin.ABQ     -0.0480592849117   -0.0480592849117\n",
       "Origin.ACY     -0.0113458449003   -0.0113458449003\n",
       "Origin.ALB     0.00792903490861   0.00792903490861\n",
       "---            ---                ---\n",
       "fDayOfWeek.f6  -0.102987233142    -0.102987233142\n",
       "fDayOfWeek.f7  0.00649983100123   0.00649983100123\n",
       "fMonth.f1      -0.0966509773908   -0.0966509773908\n",
       "fMonth.f10     0.101238014717     0.101238014717\n",
       "Distance       0.000217593510703  0.137765548229"
      ]
     },
     "metadata": {},
     "output_type": "display_data"
    },
    {
     "name": "stdout",
     "output_type": "stream",
     "text": [
      "\n"
     ]
    }
   ],
   "source": [
    "#glm\n",
    "glm = h2o.glm(x=air_train[myX], \n",
    "              y=air_train[myY],\n",
    "              validation_x=air_valid[myX],\n",
    "              validation_y=air_valid[myY],\n",
    "              family = \"binomial\", \n",
    "              solver=\"L_BFGS\")\n",
    "glm.pprint_coef()"
   ]
  },
  {
   "cell_type": "code",
   "execution_count": 7,
   "metadata": {
    "collapsed": false
   },
   "outputs": [
    {
     "name": "stdout",
     "output_type": "stream",
     "text": [
      "\n",
      "Parse Progress: [##################################################] 100%\n"
     ]
    }
   ],
   "source": [
    "#uploading test file to h2o\n",
    "air_test = h2o.import_frame(path=h2o.locate(\"smalldata/airlines/AirlinesTest.csv.zip\"))"
   ]
  },
  {
   "cell_type": "code",
   "execution_count": 8,
   "metadata": {
    "collapsed": false
   },
   "outputs": [
    {
     "name": "stdout",
     "output_type": "stream",
     "text": [
      "GBM predictions: \n",
      "GBM performance: \n",
      "\n",
      "ModelMetricsBinomial: gbm\n",
      "** Reported on test data. **\n",
      "\n",
      "MSE: 0.226747820346\n",
      "R^2: 0.0846599715114\n",
      "LogLoss: 0.645592129008\n",
      "AUC: 0.692410157326\n",
      "Gini: 0.384820314651\n",
      "\n",
      "Confusion Matrix (Act/Pred) for max f1 @ threshold = 0.445644277154:\n",
      "\n"
     ]
    },
    {
     "data": {
      "text/html": [
       "<div style=\"overflow:auto\"><table style=\"width:50%\"><tr><td></td>\n",
       "<td>NO</td>\n",
       "<td>YES</td>\n",
       "<td>Error</td>\n",
       "<td>Rate</td></tr>\n",
       "<tr><td>NO</td>\n",
       "<td>312.0</td>\n",
       "<td>905.0</td>\n",
       "<td>0.7436</td>\n",
       "<td> (905.0/1217.0)</td></tr>\n",
       "<tr><td>YES</td>\n",
       "<td>126.0</td>\n",
       "<td>1348.0</td>\n",
       "<td>0.0855</td>\n",
       "<td> (126.0/1474.0)</td></tr>\n",
       "<tr><td>Total</td>\n",
       "<td>438.0</td>\n",
       "<td>2253.0</td>\n",
       "<td>0.3831</td>\n",
       "<td> (1031.0/2691.0)</td></tr></table></div>"
      ],
      "text/plain": [
       "       NO    YES    Error    Rate\n",
       "-----  ----  -----  -------  ---------------\n",
       "NO     312   905    0.7436   (905.0/1217.0)\n",
       "YES    126   1348   0.0855   (126.0/1474.0)\n",
       "Total  438   2253   0.3831   (1031.0/2691.0)"
      ]
     },
     "metadata": {},
     "output_type": "display_data"
    },
    {
     "name": "stdout",
     "output_type": "stream",
     "text": [
      "\n",
      "Maximum Metrics:\n",
      "\n"
     ]
    },
    {
     "data": {
      "text/html": [
       "<div style=\"overflow:auto\"><table style=\"width:50%\"><tr><td>metric</td>\n",
       "<td>threshold</td>\n",
       "<td>value</td>\n",
       "<td>idx</td></tr>\n",
       "<tr><td>max f1</td>\n",
       "<td>0.445644277154</td>\n",
       "<td>0.723370002683</td>\n",
       "<td>340.0</td></tr>\n",
       "<tr><td>max f2</td>\n",
       "<td>0.387906868704</td>\n",
       "<td>0.85970464135</td>\n",
       "<td>392.0</td></tr>\n",
       "<tr><td>max f0point5</td>\n",
       "<td>0.545182839646</td>\n",
       "<td>0.68231292517</td>\n",
       "<td>210.0</td></tr>\n",
       "<tr><td>max accuracy</td>\n",
       "<td>0.527507011905</td>\n",
       "<td>0.653288740245</td>\n",
       "<td>239.0</td></tr>\n",
       "<tr><td>max precision</td>\n",
       "<td>0.691129154089</td>\n",
       "<td>1.0</td>\n",
       "<td>0.0</td></tr>\n",
       "<tr><td>max absolute_MCC</td>\n",
       "<td>0.545182839646</td>\n",
       "<td>0.297448092656</td>\n",
       "<td>210.0</td></tr>\n",
       "<tr><td>max min_per_class_accuracy</td>\n",
       "<td>0.546836020245</td>\n",
       "<td>0.640920295809</td>\n",
       "<td>206.0</td></tr></table></div>"
      ],
      "text/plain": [
       "metric                      threshold    value     idx\n",
       "--------------------------  -----------  --------  -----\n",
       "max f1                      0.445644     0.72337   340\n",
       "max f2                      0.387907     0.859705  392\n",
       "max f0point5                0.545183     0.682313  210\n",
       "max accuracy                0.527507     0.653289  239\n",
       "max precision               0.691129     1         0\n",
       "max absolute_MCC            0.545183     0.297448  210\n",
       "max min_per_class_accuracy  0.546836     0.64092   206"
      ]
     },
     "metadata": {},
     "output_type": "display_data"
    },
    {
     "name": "stdout",
     "output_type": "stream",
     "text": [
      "GLM predictions: \n",
      "GLM performance: \n",
      "\n",
      "ModelMetricsBinomialGLM: glm\n",
      "** Reported on test data. **\n",
      "\n",
      "MSE: 0.232338528712\n",
      "R^2: 0.0620912908189\n",
      "LogLoss: 0.657078440917\n",
      "Null degrees of freedom: 2690\n",
      "Residual degrees of freedom: 2439\n",
      "Null deviance: 3705.94189011\n",
      "Residual deviance: 3536.39616901\n",
      "AIC: 4040.39616901\n",
      "AUC: 0.655014220747\n",
      "Gini: 0.310028441493\n",
      "\n",
      "Confusion Matrix (Act/Pred) for max f1 @ threshold = 0.427810549334:\n",
      "\n"
     ]
    },
    {
     "data": {
      "text/html": [
       "<div style=\"overflow:auto\"><table style=\"width:50%\"><tr><td></td>\n",
       "<td>NO</td>\n",
       "<td>YES</td>\n",
       "<td>Error</td>\n",
       "<td>Rate</td></tr>\n",
       "<tr><td>NO</td>\n",
       "<td>185.0</td>\n",
       "<td>1032.0</td>\n",
       "<td>0.848</td>\n",
       "<td> (1032.0/1217.0)</td></tr>\n",
       "<tr><td>YES</td>\n",
       "<td>51.0</td>\n",
       "<td>1423.0</td>\n",
       "<td>0.0346</td>\n",
       "<td> (51.0/1474.0)</td></tr>\n",
       "<tr><td>Total</td>\n",
       "<td>236.0</td>\n",
       "<td>2455.0</td>\n",
       "<td>0.4025</td>\n",
       "<td> (1083.0/2691.0)</td></tr></table></div>"
      ],
      "text/plain": [
       "       NO    YES    Error    Rate\n",
       "-----  ----  -----  -------  ---------------\n",
       "NO     185   1032   0.848    (1032.0/1217.0)\n",
       "YES    51    1423   0.0346   (51.0/1474.0)\n",
       "Total  236   2455   0.4025   (1083.0/2691.0)"
      ]
     },
     "metadata": {},
     "output_type": "display_data"
    },
    {
     "name": "stdout",
     "output_type": "stream",
     "text": [
      "\n",
      "Maximum Metrics:\n",
      "\n"
     ]
    },
    {
     "data": {
      "text/html": [
       "<div style=\"overflow:auto\"><table style=\"width:50%\"><tr><td>metric</td>\n",
       "<td>threshold</td>\n",
       "<td>value</td>\n",
       "<td>idx</td></tr>\n",
       "<tr><td>max f1</td>\n",
       "<td>0.427810549334</td>\n",
       "<td>0.724357342835</td>\n",
       "<td>343.0</td></tr>\n",
       "<tr><td>max f2</td>\n",
       "<td>0.361056405318</td>\n",
       "<td>0.859210833528</td>\n",
       "<td>391.0</td></tr>\n",
       "<tr><td>max f0point5</td>\n",
       "<td>0.512797333131</td>\n",
       "<td>0.653950953678</td>\n",
       "<td>263.0</td></tr>\n",
       "<tr><td>max accuracy</td>\n",
       "<td>0.512797333131</td>\n",
       "<td>0.630248978075</td>\n",
       "<td>263.0</td></tr>\n",
       "<tr><td>max precision</td>\n",
       "<td>0.768592690004</td>\n",
       "<td>1.0</td>\n",
       "<td>0.0</td></tr>\n",
       "<tr><td>max absolute_MCC</td>\n",
       "<td>0.512797333131</td>\n",
       "<td>0.246736472906</td>\n",
       "<td>263.0</td></tr>\n",
       "<tr><td>max min_per_class_accuracy</td>\n",
       "<td>0.558704498418</td>\n",
       "<td>0.603944124897</td>\n",
       "<td>194.0</td></tr></table></div>"
      ],
      "text/plain": [
       "metric                      threshold    value     idx\n",
       "--------------------------  -----------  --------  -----\n",
       "max f1                      0.427811     0.724357  343\n",
       "max f2                      0.361056     0.859211  391\n",
       "max f0point5                0.512797     0.653951  263\n",
       "max accuracy                0.512797     0.630249  263\n",
       "max precision               0.768593     1         0\n",
       "max absolute_MCC            0.512797     0.246736  263\n",
       "max min_per_class_accuracy  0.558704     0.603944  194"
      ]
     },
     "metadata": {},
     "output_type": "display_data"
    }
   ],
   "source": [
    "# predicting & performance on test file\n",
    "gbm_pred = gbm.predict(air_test)\n",
    "print \"GBM predictions: \"\n",
    "gbm_pred.head()\n",
    "\n",
    "gbm_perf = gbm.model_performance(air_test)\n",
    "print \"GBM performance: \"\n",
    "gbm_perf.show()\n",
    "\n",
    "glm_pred = glm.predict(air_test)\n",
    "print \"GLM predictions: \"\n",
    "glm_pred.head()\n",
    "\n",
    "glm_perf = glm.model_performance(air_test)\n",
    "print \"GLM performance: \"\n",
    "glm_perf.show()"
   ]
  },
  {
   "cell_type": "code",
   "execution_count": 9,
   "metadata": {
    "collapsed": false
   },
   "outputs": [
    {
     "name": "stdout",
     "output_type": "stream",
     "text": [
      "\n",
      "Confusion Matrix (Act/Pred) for max f1 @ threshold = 0.445644277154:\n",
      "\n"
     ]
    },
    {
     "data": {
      "text/html": [
       "<div style=\"overflow:auto\"><table style=\"width:50%\"><tr><td></td>\n",
       "<td>NO</td>\n",
       "<td>YES</td>\n",
       "<td>Error</td>\n",
       "<td>Rate</td></tr>\n",
       "<tr><td>NO</td>\n",
       "<td>312.0</td>\n",
       "<td>905.0</td>\n",
       "<td>0.7436</td>\n",
       "<td> (905.0/1217.0)</td></tr>\n",
       "<tr><td>YES</td>\n",
       "<td>126.0</td>\n",
       "<td>1348.0</td>\n",
       "<td>0.0855</td>\n",
       "<td> (126.0/1474.0)</td></tr>\n",
       "<tr><td>Total</td>\n",
       "<td>438.0</td>\n",
       "<td>2253.0</td>\n",
       "<td>0.3831</td>\n",
       "<td> (1031.0/2691.0)</td></tr></table></div>"
      ],
      "text/plain": [
       "       NO    YES    Error    Rate\n",
       "-----  ----  -----  -------  ---------------\n",
       "NO     312   905    0.7436   (905.0/1217.0)\n",
       "YES    126   1348   0.0855   (126.0/1474.0)\n",
       "Total  438   2253   0.3831   (1031.0/2691.0)"
      ]
     },
     "metadata": {},
     "output_type": "display_data"
    },
    {
     "name": "stdout",
     "output_type": "stream",
     "text": [
      "\n",
      "\n",
      "\n",
      "Confusion Matrix (Act/Pred) for max f1 @ threshold = 0.427810549334:\n",
      "\n"
     ]
    },
    {
     "data": {
      "text/html": [
       "<div style=\"overflow:auto\"><table style=\"width:50%\"><tr><td></td>\n",
       "<td>NO</td>\n",
       "<td>YES</td>\n",
       "<td>Error</td>\n",
       "<td>Rate</td></tr>\n",
       "<tr><td>NO</td>\n",
       "<td>185.0</td>\n",
       "<td>1032.0</td>\n",
       "<td>0.848</td>\n",
       "<td> (1032.0/1217.0)</td></tr>\n",
       "<tr><td>YES</td>\n",
       "<td>51.0</td>\n",
       "<td>1423.0</td>\n",
       "<td>0.0346</td>\n",
       "<td> (51.0/1474.0)</td></tr>\n",
       "<tr><td>Total</td>\n",
       "<td>236.0</td>\n",
       "<td>2455.0</td>\n",
       "<td>0.4025</td>\n",
       "<td> (1083.0/2691.0)</td></tr></table></div>"
      ],
      "text/plain": [
       "       NO    YES    Error    Rate\n",
       "-----  ----  -----  -------  ---------------\n",
       "NO     185   1032   0.848    (1032.0/1217.0)\n",
       "YES    51    1423   0.0346   (51.0/1474.0)\n",
       "Total  236   2455   0.4025   (1083.0/2691.0)"
      ]
     },
     "metadata": {},
     "output_type": "display_data"
    },
    {
     "name": "stdout",
     "output_type": "stream",
     "text": [
      "\n"
     ]
    }
   ],
   "source": [
    "# Building confusion matrix for test set\n",
    "gbm_CM = gbm_perf.confusion_matrix()\n",
    "print(gbm_CM)\n",
    "print\n",
    "\n",
    "glm_CM = glm_perf.confusion_matrix()\n",
    "print(glm_CM)"
   ]
  },
  {
   "cell_type": "code",
   "execution_count": 10,
   "metadata": {
    "collapsed": false
   },
   "outputs": [
    {
     "name": "stdout",
     "output_type": "stream",
     "text": [
      "GBM Precision: [[0.6911291540888196, 1.0]]\n",
      "GBM Accuracy: [[0.5275070119050255, 0.653288740245262]]\n",
      "GBM AUC: 0.692410157326\n",
      "\n",
      "GLM Precision: [[0.768592690004047, 1.0]]\n",
      "GLM Accuracy: [[0.5127973331312488, 0.6302489780750651]]\n",
      "GLM AUC: 0.655014220747\n"
     ]
    }
   ],
   "source": [
    "# ROC for test set\n",
    "print('GBM Precision: {0}'.format(gbm_perf.precision()))\n",
    "print('GBM Accuracy: {0}'.format(gbm_perf.accuracy()))\n",
    "print('GBM AUC: {0}'.format(gbm_perf.auc()))\n",
    "print\n",
    "print('GLM Precision: {0}'.format(glm_perf.precision()))\n",
    "print('GLM Accuracy: {0}'.format(glm_perf.accuracy()))\n",
    "print('GLM AUC: {0}'.format(glm_perf.auc()))"
   ]
  }
 ],
 "metadata": {
  "kernelspec": {
   "display_name": "Python 2",
   "language": "python",
   "name": "python2"
  },
  "language_info": {
   "codemirror_mode": {
    "name": "ipython",
    "version": 2
   },
   "file_extension": ".py",
   "mimetype": "text/x-python",
   "name": "python",
   "nbconvert_exporter": "python",
   "pygments_lexer": "ipython2",
   "version": "2.7.10"
  }
 },
 "nbformat": 4,
 "nbformat_minor": 0
}
