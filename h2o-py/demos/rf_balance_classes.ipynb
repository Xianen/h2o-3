{
 "cells": [
  {
   "cell_type": "code",
   "execution_count": 1,
   "metadata": {
    "collapsed": true
   },
   "outputs": [],
   "source": [
    "# This is a demo of H2O's GLM function\n",
    "# It imports a data set, parses it, and prints a summary\n",
    "# Then, it runs GLM with a binomial link function\n",
    "import h2o"
   ]
  },
  {
   "cell_type": "code",
   "execution_count": 2,
   "metadata": {
    "collapsed": false
   },
   "outputs": [
    {
     "name": "stdout",
     "output_type": "stream",
     "text": [
      "Warning: Version mismatch. H2O is version 3.7.0.99999, but the python package is version 3.0.0.99999.\n"
     ]
    },
    {
     "data": {
      "text/html": [
       "<div style=\"overflow:auto\"><table style=\"width:50%\"><tr><td>H2O cluster uptime: </td>\n",
       "<td>51 minutes 52 seconds 879 milliseconds </td></tr>\n",
       "<tr><td>H2O cluster version: </td>\n",
       "<td>3.7.0.99999</td></tr>\n",
       "<tr><td>H2O cluster name: </td>\n",
       "<td>wendycwong</td></tr>\n",
       "<tr><td>H2O cluster total nodes: </td>\n",
       "<td>1</td></tr>\n",
       "<tr><td>H2O cluster total memory: </td>\n",
       "<td>3.56 GB</td></tr>\n",
       "<tr><td>H2O cluster total cores: </td>\n",
       "<td>4</td></tr>\n",
       "<tr><td>H2O cluster allowed cores: </td>\n",
       "<td>4</td></tr>\n",
       "<tr><td>H2O cluster healthy: </td>\n",
       "<td>True</td></tr>\n",
       "<tr><td>H2O Connection ip: </td>\n",
       "<td>127.0.0.1</td></tr>\n",
       "<tr><td>H2O Connection port: </td>\n",
       "<td>54321</td></tr></table></div>"
      ],
      "text/plain": [
       "--------------------------  --------------------------------------\n",
       "H2O cluster uptime:         51 minutes 52 seconds 879 milliseconds\n",
       "H2O cluster version:        3.7.0.99999\n",
       "H2O cluster name:           wendycwong\n",
       "H2O cluster total nodes:    1\n",
       "H2O cluster total memory:   3.56 GB\n",
       "H2O cluster total cores:    4\n",
       "H2O cluster allowed cores:  4\n",
       "H2O cluster healthy:        True\n",
       "H2O Connection ip:          127.0.0.1\n",
       "H2O Connection port:        54321\n",
       "--------------------------  --------------------------------------"
      ]
     },
     "metadata": {},
     "output_type": "display_data"
    }
   ],
   "source": [
    "h2o.init()"
   ]
  },
  {
   "cell_type": "code",
   "execution_count": 3,
   "metadata": {
    "collapsed": false
   },
   "outputs": [
    {
     "name": "stdout",
     "output_type": "stream",
     "text": [
      "\n",
      "Parse Progress: [##################################################] 100%\n"
     ]
    }
   ],
   "source": [
    "air = h2o.upload_file(path=h2o.locate(\"smalldata/airlines/AirlinesTrain.csv.zip\"))"
   ]
  },
  {
   "cell_type": "code",
   "execution_count": 4,
   "metadata": {
    "collapsed": true
   },
   "outputs": [],
   "source": [
    "r = air[0].runif()\n",
    "air_train = air[r < 0.8]\n",
    "air_valid = air[r >= 0.8]"
   ]
  },
  {
   "cell_type": "code",
   "execution_count": 5,
   "metadata": {
    "collapsed": true
   },
   "outputs": [],
   "source": [
    "myX = [\"Origin\", \"Dest\", \"Distance\", \"UniqueCarrier\", \"fMonth\", \"fDayofMonth\", \"fDayOfWeek\"]\n",
    "myY = \"IsDepDelayed\""
   ]
  },
  {
   "cell_type": "code",
   "execution_count": 7,
   "metadata": {
    "collapsed": false
   },
   "outputs": [
    {
     "name": "stdout",
     "output_type": "stream",
     "text": [
      "\n",
      "drf Model Build Progress: [##################################################] 100%\n",
      "Model Details\n",
      "=============\n",
      "H2OBinomialModel :  Distributed RF\n",
      "Model Key:  DRF_model_python_1451948539188_644\n",
      "\n",
      "Model Summary:\n",
      "\n"
     ]
    },
    {
     "data": {
      "text/html": [
       "<div style=\"overflow:auto\"><table style=\"width:50%\"><tr><td></td>\n",
       "<td>number_of_trees</td>\n",
       "<td>model_size_in_bytes</td>\n",
       "<td>min_depth</td>\n",
       "<td>max_depth</td>\n",
       "<td>mean_depth</td>\n",
       "<td>min_leaves</td>\n",
       "<td>max_leaves</td>\n",
       "<td>mean_leaves</td></tr>\n",
       "<tr><td></td>\n",
       "<td>10.0</td>\n",
       "<td>316814.0</td>\n",
       "<td>20.0</td>\n",
       "<td>20.0</td>\n",
       "<td>20.0</td>\n",
       "<td>2076.0</td>\n",
       "<td>2556.0</td>\n",
       "<td>2332.0</td></tr></table></div>"
      ],
      "text/plain": [
       "    number_of_trees    model_size_in_bytes    min_depth    max_depth    mean_depth    min_leaves    max_leaves    mean_leaves\n",
       "--  -----------------  ---------------------  -----------  -----------  ------------  ------------  ------------  -------------\n",
       "    10                 316814                 20           20           20            2076          2556          2332"
      ]
     },
     "metadata": {},
     "output_type": "display_data"
    },
    {
     "name": "stdout",
     "output_type": "stream",
     "text": [
      "\n",
      "\n",
      "ModelMetricsBinomial: drf\n",
      "** Reported on train data. **\n",
      "\n",
      "MSE: 0.267162902665\n",
      "R^2: -0.078034730726\n",
      "LogLoss: 2.44487775913\n",
      "AUC: 0.657386477777\n",
      "Gini: 0.314772955555\n",
      "\n",
      "Confusion Matrix (Act/Pred) for max f1 @ threshold = 0.435625027254:\n",
      "\n"
     ]
    },
    {
     "data": {
      "text/html": [
       "<div style=\"overflow:auto\"><table style=\"width:50%\"><tr><td></td>\n",
       "<td>NO</td>\n",
       "<td>YES</td>\n",
       "<td>Error</td>\n",
       "<td>Rate</td></tr>\n",
       "<tr><td>NO</td>\n",
       "<td>2066.0</td>\n",
       "<td>6710.0</td>\n",
       "<td>0.7646</td>\n",
       "<td> (6710.0/8776.0)</td></tr>\n",
       "<tr><td>YES</td>\n",
       "<td>955.0</td>\n",
       "<td>9627.0</td>\n",
       "<td>0.0902</td>\n",
       "<td> (955.0/10582.0)</td></tr>\n",
       "<tr><td>Total</td>\n",
       "<td>3021.0</td>\n",
       "<td>16337.0</td>\n",
       "<td>0.396</td>\n",
       "<td> (7665.0/19358.0)</td></tr></table></div>"
      ],
      "text/plain": [
       "       NO    YES    Error    Rate\n",
       "-----  ----  -----  -------  ----------------\n",
       "NO     2066  6710   0.7646   (6710.0/8776.0)\n",
       "YES    955   9627   0.0902   (955.0/10582.0)\n",
       "Total  3021  16337  0.396    (7665.0/19358.0)"
      ]
     },
     "metadata": {},
     "output_type": "display_data"
    },
    {
     "name": "stdout",
     "output_type": "stream",
     "text": [
      "\n",
      "Maximum Metrics:\n",
      "\n"
     ]
    },
    {
     "data": {
      "text/html": [
       "<div style=\"overflow:auto\"><table style=\"width:50%\"><tr><td>metric</td>\n",
       "<td>threshold</td>\n",
       "<td>value</td>\n",
       "<td>idx</td></tr>\n",
       "<tr><td>max f1</td>\n",
       "<td>0.435625027254</td>\n",
       "<td>0.715256881756</td>\n",
       "<td>271.0</td></tr>\n",
       "<tr><td>max f2</td>\n",
       "<td>0.0</td>\n",
       "<td>0.857731089712</td>\n",
       "<td>399.0</td></tr>\n",
       "<tr><td>max f0point5</td>\n",
       "<td>0.670570012443</td>\n",
       "<td>0.657435789029</td>\n",
       "<td>164.0</td></tr>\n",
       "<tr><td>max accuracy</td>\n",
       "<td>0.654476547991</td>\n",
       "<td>0.628422357682</td>\n",
       "<td>172.0</td></tr>\n",
       "<tr><td>max precision</td>\n",
       "<td>0.954572011174</td>\n",
       "<td>0.710519580241</td>\n",
       "<td>18.0</td></tr>\n",
       "<tr><td>max absolute_MCC</td>\n",
       "<td>0.670570012443</td>\n",
       "<td>0.243746380371</td>\n",
       "<td>164.0</td></tr>\n",
       "<tr><td>max min_per_class_accuracy</td>\n",
       "<td>0.74852855507</td>\n",
       "<td>0.620393120393</td>\n",
       "<td>123.0</td></tr></table></div>"
      ],
      "text/plain": [
       "metric                      threshold    value     idx\n",
       "--------------------------  -----------  --------  -----\n",
       "max f1                      0.435625     0.715257  271\n",
       "max f2                      0            0.857731  399\n",
       "max f0point5                0.67057      0.657436  164\n",
       "max accuracy                0.654477     0.628422  172\n",
       "max precision               0.954572     0.71052   18\n",
       "max absolute_MCC            0.67057      0.243746  164\n",
       "max min_per_class_accuracy  0.748529     0.620393  123"
      ]
     },
     "metadata": {},
     "output_type": "display_data"
    },
    {
     "name": "stdout",
     "output_type": "stream",
     "text": [
      "\n",
      "ModelMetricsBinomial: drf\n",
      "** Reported on validation data. **\n",
      "\n",
      "MSE: 0.248249377143\n",
      "R^2: -0.00202505242273\n",
      "LogLoss: 0.883196940706\n",
      "AUC: 0.685110260791\n",
      "Gini: 0.370220521581\n",
      "\n",
      "Confusion Matrix (Act/Pred) for max f1 @ threshold = 0.487469726106:\n",
      "\n"
     ]
    },
    {
     "data": {
      "text/html": [
       "<div style=\"overflow:auto\"><table style=\"width:50%\"><tr><td></td>\n",
       "<td>NO</td>\n",
       "<td>YES</td>\n",
       "<td>Error</td>\n",
       "<td>Rate</td></tr>\n",
       "<tr><td>NO</td>\n",
       "<td>592.0</td>\n",
       "<td>1625.0</td>\n",
       "<td>0.733</td>\n",
       "<td> (1625.0/2217.0)</td></tr>\n",
       "<tr><td>YES</td>\n",
       "<td>223.0</td>\n",
       "<td>2459.0</td>\n",
       "<td>0.0831</td>\n",
       "<td> (223.0/2682.0)</td></tr>\n",
       "<tr><td>Total</td>\n",
       "<td>815.0</td>\n",
       "<td>4084.0</td>\n",
       "<td>0.3772</td>\n",
       "<td> (1848.0/4899.0)</td></tr></table></div>"
      ],
      "text/plain": [
       "       NO    YES    Error    Rate\n",
       "-----  ----  -----  -------  ---------------\n",
       "NO     592   1625   0.733    (1625.0/2217.0)\n",
       "YES    223   2459   0.0831   (223.0/2682.0)\n",
       "Total  815   4084   0.3772   (1848.0/4899.0)"
      ]
     },
     "metadata": {},
     "output_type": "display_data"
    },
    {
     "name": "stdout",
     "output_type": "stream",
     "text": [
      "\n",
      "Maximum Metrics:\n",
      "\n"
     ]
    },
    {
     "data": {
      "text/html": [
       "<div style=\"overflow:auto\"><table style=\"width:50%\"><tr><td>metric</td>\n",
       "<td>threshold</td>\n",
       "<td>value</td>\n",
       "<td>idx</td></tr>\n",
       "<tr><td>max f1</td>\n",
       "<td>0.487469726106</td>\n",
       "<td>0.726869642329</td>\n",
       "<td>291.0</td></tr>\n",
       "<tr><td>max f2</td>\n",
       "<td>0.212354849279</td>\n",
       "<td>0.858388358228</td>\n",
       "<td>387.0</td></tr>\n",
       "<tr><td>max f0point5</td>\n",
       "<td>0.718324786815</td>\n",
       "<td>0.67229781379</td>\n",
       "<td>168.0</td></tr>\n",
       "<tr><td>max accuracy</td>\n",
       "<td>0.686925793753</td>\n",
       "<td>0.643804858134</td>\n",
       "<td>187.0</td></tr>\n",
       "<tr><td>max precision</td>\n",
       "<td>0.984611862819</td>\n",
       "<td>0.797872340426</td>\n",
       "<td>7.0</td></tr>\n",
       "<tr><td>max absolute_MCC</td>\n",
       "<td>0.700897769961</td>\n",
       "<td>0.275895794991</td>\n",
       "<td>178.0</td></tr>\n",
       "<tr><td>max min_per_class_accuracy</td>\n",
       "<td>0.728433316532</td>\n",
       "<td>0.635543527289</td>\n",
       "<td>162.0</td></tr></table></div>"
      ],
      "text/plain": [
       "metric                      threshold    value     idx\n",
       "--------------------------  -----------  --------  -----\n",
       "max f1                      0.48747      0.72687   291\n",
       "max f2                      0.212355     0.858388  387\n",
       "max f0point5                0.718325     0.672298  168\n",
       "max accuracy                0.686926     0.643805  187\n",
       "max precision               0.984612     0.797872  7\n",
       "max absolute_MCC            0.700898     0.275896  178\n",
       "max min_per_class_accuracy  0.728433     0.635544  162"
      ]
     },
     "metadata": {},
     "output_type": "display_data"
    },
    {
     "name": "stdout",
     "output_type": "stream",
     "text": [
      "\n",
      "Scoring History:\n",
      "\n"
     ]
    },
    {
     "data": {
      "text/html": [
       "<div style=\"overflow:auto\"><table style=\"width:50%\"><tr><td></td>\n",
       "<td>timestamp</td>\n",
       "<td>duration</td>\n",
       "<td>number_of_trees</td>\n",
       "<td>training_MSE</td>\n",
       "<td>training_logloss</td>\n",
       "<td>training_AUC</td>\n",
       "<td>training_lift</td>\n",
       "<td>training_classification_error</td>\n",
       "<td>validation_MSE</td>\n",
       "<td>validation_logloss</td>\n",
       "<td>validation_AUC</td>\n",
       "<td>validation_lift</td>\n",
       "<td>validation_classification_error</td></tr>\n",
       "<tr><td></td>\n",
       "<td>2016-01-04 15:54:36</td>\n",
       "<td> 0.011 sec</td>\n",
       "<td>0.0</td>\n",
       "<td>nan</td>\n",
       "<td>nan</td>\n",
       "<td>nan</td>\n",
       "<td>nan</td>\n",
       "<td>nan</td>\n",
       "<td>0.452541334966</td>\n",
       "<td>15.6302239779</td>\n",
       "<td>0.5</td>\n",
       "<td>1.0</td>\n",
       "<td>0.452541334966</td></tr>\n",
       "<tr><td></td>\n",
       "<td>2016-01-04 15:54:36</td>\n",
       "<td> 0.076 sec</td>\n",
       "<td>1.0</td>\n",
       "<td>0.327401802221</td>\n",
       "<td>8.05375639996</td>\n",
       "<td>0.602235262104</td>\n",
       "<td>1.23747784438</td>\n",
       "<td>0.447923851566</td>\n",
       "<td>0.341426946707</td>\n",
       "<td>8.51089839136</td>\n",
       "<td>0.575813396381</td>\n",
       "<td>1.0934110609</td>\n",
       "<td>0.452541334966</td></tr>\n",
       "<tr><td></td>\n",
       "<td>2016-01-04 15:54:36</td>\n",
       "<td> 0.148 sec</td>\n",
       "<td>2.0</td>\n",
       "<td>0.319692638321</td>\n",
       "<td>7.16119619383</td>\n",
       "<td>0.606643261048</td>\n",
       "<td>1.422203898</td>\n",
       "<td>0.451930485404</td>\n",
       "<td>0.290326569776</td>\n",
       "<td>4.01792396377</td>\n",
       "<td>0.61721522087</td>\n",
       "<td>1.17778324825</td>\n",
       "<td>0.421514594815</td></tr>\n",
       "<tr><td></td>\n",
       "<td>2016-01-04 15:54:37</td>\n",
       "<td> 0.252 sec</td>\n",
       "<td>3.0</td>\n",
       "<td>0.305137713903</td>\n",
       "<td>6.12529848064</td>\n",
       "<td>0.620106363978</td>\n",
       "<td>1.56083325525</td>\n",
       "<td>0.419114633147</td>\n",
       "<td>0.27120156873</td>\n",
       "<td>2.45527865379</td>\n",
       "<td>0.64094136321</td>\n",
       "<td>1.27798989731</td>\n",
       "<td>0.415595019392</td></tr>\n",
       "<tr><td></td>\n",
       "<td>2016-01-04 15:54:37</td>\n",
       "<td> 0.462 sec</td>\n",
       "<td>4.0</td>\n",
       "<td>0.301893182206</td>\n",
       "<td>5.42630479302</td>\n",
       "<td>0.617505031034</td>\n",
       "<td>1.66022368131</td>\n",
       "<td>0.454241816967</td>\n",
       "<td>0.262852796071</td>\n",
       "<td>1.73701046359</td>\n",
       "<td>0.652352070991</td>\n",
       "<td>1.32089053516</td>\n",
       "<td>0.39314145744</td></tr>\n",
       "<tr><td></td>\n",
       "<td>2016-01-04 15:54:37</td>\n",
       "<td> 0.720 sec</td>\n",
       "<td>5.0</td>\n",
       "<td>0.296115946732</td>\n",
       "<td>4.72062592399</td>\n",
       "<td>0.621402440546</td>\n",
       "<td>1.74068915884</td>\n",
       "<td>0.454214330431</td>\n",
       "<td>0.258312781718</td>\n",
       "<td>1.39839597283</td>\n",
       "<td>0.661770344874</td>\n",
       "<td>1.33465175242</td>\n",
       "<td>0.399265156154</td></tr>\n",
       "<tr><td></td>\n",
       "<td>2016-01-04 15:54:37</td>\n",
       "<td> 0.979 sec</td>\n",
       "<td>6.0</td>\n",
       "<td>0.28862962591</td>\n",
       "<td>4.1756837696</td>\n",
       "<td>0.630210446872</td>\n",
       "<td>1.75531304859</td>\n",
       "<td>0.418654150521</td>\n",
       "<td>0.255441671608</td>\n",
       "<td>1.24303197149</td>\n",
       "<td>0.668517072167</td>\n",
       "<td>1.35948582536</td>\n",
       "<td>0.385588895693</td></tr>\n",
       "<tr><td></td>\n",
       "<td>2016-01-04 15:54:37</td>\n",
       "<td> 1.205 sec</td>\n",
       "<td>7.0</td>\n",
       "<td>0.281718472582</td>\n",
       "<td>3.63222839546</td>\n",
       "<td>0.638661370225</td>\n",
       "<td>1.77855311919</td>\n",
       "<td>0.417056571672</td>\n",
       "<td>0.251699762693</td>\n",
       "<td>1.04610241299</td>\n",
       "<td>0.67700471948</td>\n",
       "<td>1.41978340451</td>\n",
       "<td>0.397836293121</td></tr>\n",
       "<tr><td></td>\n",
       "<td>2016-01-04 15:54:38</td>\n",
       "<td> 1.534 sec</td>\n",
       "<td>8.0</td>\n",
       "<td>0.276071497806</td>\n",
       "<td>3.14193734182</td>\n",
       "<td>0.644734198763</td>\n",
       "<td>1.79402281265</td>\n",
       "<td>0.415263571991</td>\n",
       "<td>0.24999877921</td>\n",
       "<td>0.97039018419</td>\n",
       "<td>0.680819893192</td>\n",
       "<td>1.400783684</td>\n",
       "<td>0.386405388855</td></tr>\n",
       "<tr><td></td>\n",
       "<td>2016-01-04 15:54:38</td>\n",
       "<td> 1.839 sec</td>\n",
       "<td>9.0</td>\n",
       "<td>0.270745705857</td>\n",
       "<td>2.73630553065</td>\n",
       "<td>0.651367052903</td>\n",
       "<td>1.80599008057</td>\n",
       "<td>0.415207109818</td>\n",
       "<td>0.249261126865</td>\n",
       "<td>0.8991269795</td>\n",
       "<td>0.682554842807</td>\n",
       "<td>1.40509378764</td>\n",
       "<td>0.37130026536</td></tr>\n",
       "<tr><td></td>\n",
       "<td>2016-01-04 15:54:39</td>\n",
       "<td> 2.393 sec</td>\n",
       "<td>10.0</td>\n",
       "<td>0.267162902665</td>\n",
       "<td>2.44487775913</td>\n",
       "<td>0.657386477777</td>\n",
       "<td>1.81369851125</td>\n",
       "<td>0.39596032648</td>\n",
       "<td>0.248249377143</td>\n",
       "<td>0.883196940706</td>\n",
       "<td>0.685110260791</td>\n",
       "<td>1.36535376133</td>\n",
       "<td>0.377219840784</td></tr></table></div>"
      ],
      "text/plain": [
       "    timestamp            duration    number_of_trees    training_MSE    training_logloss    training_AUC    training_lift    training_classification_error    validation_MSE    validation_logloss    validation_AUC    validation_lift    validation_classification_error\n",
       "--  -------------------  ----------  -----------------  --------------  ------------------  --------------  ---------------  -------------------------------  ----------------  --------------------  ----------------  -----------------  ---------------------------------\n",
       "    2016-01-04 15:54:36  0.011 sec   0                  nan             nan                 nan             nan              nan                              0.452541          15.6302               0.5               1                  0.452541\n",
       "    2016-01-04 15:54:36  0.076 sec   1                  0.327402        8.05376             0.602235        1.23748          0.447924                         0.341427          8.5109                0.575813          1.09341            0.452541\n",
       "    2016-01-04 15:54:36  0.148 sec   2                  0.319693        7.1612              0.606643        1.4222           0.45193                          0.290327          4.01792               0.617215          1.17778            0.421515\n",
       "    2016-01-04 15:54:37  0.252 sec   3                  0.305138        6.1253              0.620106        1.56083          0.419115                         0.271202          2.45528               0.640941          1.27799            0.415595\n",
       "    2016-01-04 15:54:37  0.462 sec   4                  0.301893        5.4263              0.617505        1.66022          0.454242                         0.262853          1.73701               0.652352          1.32089            0.393141\n",
       "    2016-01-04 15:54:37  0.720 sec   5                  0.296116        4.72063             0.621402        1.74069          0.454214                         0.258313          1.3984                0.66177           1.33465            0.399265\n",
       "    2016-01-04 15:54:37  0.979 sec   6                  0.28863         4.17568             0.63021         1.75531          0.418654                         0.255442          1.24303               0.668517          1.35949            0.385589\n",
       "    2016-01-04 15:54:37  1.205 sec   7                  0.281718        3.63223             0.638661        1.77855          0.417057                         0.2517            1.0461                0.677005          1.41978            0.397836\n",
       "    2016-01-04 15:54:38  1.534 sec   8                  0.276071        3.14194             0.644734        1.79402          0.415264                         0.249999          0.97039               0.68082           1.40078            0.386405\n",
       "    2016-01-04 15:54:38  1.839 sec   9                  0.270746        2.73631             0.651367        1.80599          0.415207                         0.249261          0.899127              0.682555          1.40509            0.3713\n",
       "    2016-01-04 15:54:39  2.393 sec   10                 0.267163        2.44488             0.657386        1.8137           0.39596                          0.248249          0.883197              0.68511           1.36535            0.37722"
      ]
     },
     "metadata": {},
     "output_type": "display_data"
    },
    {
     "name": "stdout",
     "output_type": "stream",
     "text": [
      "\n",
      "Variable Importances:\n",
      "\n"
     ]
    },
    {
     "data": {
      "text/html": [
       "<div style=\"overflow:auto\"><table style=\"width:50%\"><tr><td>variable</td>\n",
       "<td>relative_importance</td>\n",
       "<td>scaled_importance</td>\n",
       "<td>percentage</td></tr>\n",
       "<tr><td>Origin</td>\n",
       "<td>6488.00976562</td>\n",
       "<td>1.0</td>\n",
       "<td>0.297357902569</td></tr>\n",
       "<tr><td>fDayofMonth</td>\n",
       "<td>5968.75195312</td>\n",
       "<td>0.919966548871</td>\n",
       "<td>0.273559323406</td></tr>\n",
       "<tr><td>Dest</td>\n",
       "<td>4411.37255859</td>\n",
       "<td>0.679926929513</td>\n",
       "<td>0.20218164566</td></tr>\n",
       "<tr><td>fDayOfWeek</td>\n",
       "<td>1792.00708008</td>\n",
       "<td>0.276202895004</td>\n",
       "<td>0.0821311135417</td></tr>\n",
       "<tr><td>Distance</td>\n",
       "<td>1576.43994141</td>\n",
       "<td>0.242977430422</td>\n",
       "<td>0.0722512590819</td></tr>\n",
       "<tr><td>UniqueCarrier</td>\n",
       "<td>1448.74365234</td>\n",
       "<td>0.223295541264</td>\n",
       "<td>0.0663986938033</td></tr>\n",
       "<tr><td>fMonth</td>\n",
       "<td>133.53276062</td>\n",
       "<td>0.0205814672671</td>\n",
       "<td>0.00612006193835</td></tr></table></div>"
      ],
      "text/plain": [
       "variable       relative_importance    scaled_importance    percentage\n",
       "-------------  ---------------------  -------------------  ------------\n",
       "Origin         6488.01                1                    0.297358\n",
       "fDayofMonth    5968.75                0.919967             0.273559\n",
       "Dest           4411.37                0.679927             0.202182\n",
       "fDayOfWeek     1792.01                0.276203             0.0821311\n",
       "Distance       1576.44                0.242977             0.0722513\n",
       "UniqueCarrier  1448.74                0.223296             0.0663987\n",
       "fMonth         133.533                0.0205815            0.00612006"
      ]
     },
     "metadata": {},
     "output_type": "display_data"
    }
   ],
   "source": [
    "rf_no_bal = h2o.random_forest(x=air_train[myX], y=air_train[myY], validation_x= air_valid[myX],\n",
    "                              validation_y=air_valid[myY], seed=12, ntrees=10, max_depth=20, balance_classes=False)\n",
    "rf_no_bal.show()"
   ]
  },
  {
   "cell_type": "code",
   "execution_count": 8,
   "metadata": {
    "collapsed": false
   },
   "outputs": [
    {
     "name": "stdout",
     "output_type": "stream",
     "text": [
      "\n",
      "drf Model Build Progress: [##################################################] 100%\n",
      "Model Details\n",
      "=============\n",
      "H2OBinomialModel :  Distributed RF\n",
      "Model Key:  DRF_model_python_1451948539188_689\n",
      "\n",
      "Model Summary:\n",
      "\n"
     ]
    },
    {
     "data": {
      "text/html": [
       "<div style=\"overflow:auto\"><table style=\"width:50%\"><tr><td></td>\n",
       "<td>number_of_trees</td>\n",
       "<td>model_size_in_bytes</td>\n",
       "<td>min_depth</td>\n",
       "<td>max_depth</td>\n",
       "<td>mean_depth</td>\n",
       "<td>min_leaves</td>\n",
       "<td>max_leaves</td>\n",
       "<td>mean_leaves</td></tr>\n",
       "<tr><td></td>\n",
       "<td>10.0</td>\n",
       "<td>320021.0</td>\n",
       "<td>20.0</td>\n",
       "<td>20.0</td>\n",
       "<td>20.0</td>\n",
       "<td>1869.0</td>\n",
       "<td>2836.0</td>\n",
       "<td>2364.4</td></tr></table></div>"
      ],
      "text/plain": [
       "    number_of_trees    model_size_in_bytes    min_depth    max_depth    mean_depth    min_leaves    max_leaves    mean_leaves\n",
       "--  -----------------  ---------------------  -----------  -----------  ------------  ------------  ------------  -------------\n",
       "    10                 320021                 20           20           20            1869          2836          2364.4"
      ]
     },
     "metadata": {},
     "output_type": "display_data"
    },
    {
     "name": "stdout",
     "output_type": "stream",
     "text": [
      "\n",
      "\n",
      "ModelMetricsBinomial: drf\n",
      "** Reported on train data. **\n",
      "\n",
      "MSE: 0.272606522488\n",
      "R^2: -0.0904260923841\n",
      "LogLoss: 2.18428695728\n",
      "AUC: 0.685233939519\n",
      "Gini: 0.370467879038\n",
      "\n",
      "Confusion Matrix (Act/Pred) for max f1 @ threshold = 0.494916718214:\n",
      "\n"
     ]
    },
    {
     "data": {
      "text/html": [
       "<div style=\"overflow:auto\"><table style=\"width:50%\"><tr><td></td>\n",
       "<td>NO</td>\n",
       "<td>YES</td>\n",
       "<td>Error</td>\n",
       "<td>Rate</td></tr>\n",
       "<tr><td>NO</td>\n",
       "<td>3175.0</td>\n",
       "<td>7416.0</td>\n",
       "<td>0.7002</td>\n",
       "<td> (7416.0/10591.0)</td></tr>\n",
       "<tr><td>YES</td>\n",
       "<td>1208.0</td>\n",
       "<td>9382.0</td>\n",
       "<td>0.1141</td>\n",
       "<td> (1208.0/10590.0)</td></tr>\n",
       "<tr><td>Total</td>\n",
       "<td>4383.0</td>\n",
       "<td>16798.0</td>\n",
       "<td>0.4072</td>\n",
       "<td> (8624.0/21181.0)</td></tr></table></div>"
      ],
      "text/plain": [
       "       NO    YES    Error    Rate\n",
       "-----  ----  -----  -------  ----------------\n",
       "NO     3175  7416   0.7002   (7416.0/10591.0)\n",
       "YES    1208  9382   0.1141   (1208.0/10590.0)\n",
       "Total  4383  16798  0.4072   (8624.0/21181.0)"
      ]
     },
     "metadata": {},
     "output_type": "display_data"
    },
    {
     "name": "stdout",
     "output_type": "stream",
     "text": [
      "\n",
      "Maximum Metrics:\n",
      "\n"
     ]
    },
    {
     "data": {
      "text/html": [
       "<div style=\"overflow:auto\"><table style=\"width:50%\"><tr><td>metric</td>\n",
       "<td>threshold</td>\n",
       "<td>value</td>\n",
       "<td>idx</td></tr>\n",
       "<tr><td>max f1</td>\n",
       "<td>0.494916718214</td>\n",
       "<td>0.685117569739</td>\n",
       "<td>243.0</td></tr>\n",
       "<tr><td>max f2</td>\n",
       "<td>0.0</td>\n",
       "<td>0.833320218442</td>\n",
       "<td>399.0</td></tr>\n",
       "<tr><td>max f0point5</td>\n",
       "<td>0.733156834396</td>\n",
       "<td>0.64167820652</td>\n",
       "<td>129.0</td></tr>\n",
       "<tr><td>max accuracy</td>\n",
       "<td>0.733156834396</td>\n",
       "<td>0.641848826779</td>\n",
       "<td>129.0</td></tr>\n",
       "<tr><td>max precision</td>\n",
       "<td>0.930121013357</td>\n",
       "<td>0.722098214286</td>\n",
       "<td>30.0</td></tr>\n",
       "<tr><td>max absolute_MCC</td>\n",
       "<td>0.713051461093</td>\n",
       "<td>0.283857175747</td>\n",
       "<td>139.0</td></tr>\n",
       "<tr><td>max min_per_class_accuracy</td>\n",
       "<td>0.738105824784</td>\n",
       "<td>0.641015956945</td>\n",
       "<td>127.0</td></tr></table></div>"
      ],
      "text/plain": [
       "metric                      threshold    value     idx\n",
       "--------------------------  -----------  --------  -----\n",
       "max f1                      0.494917     0.685118  243\n",
       "max f2                      0            0.83332   399\n",
       "max f0point5                0.733157     0.641678  129\n",
       "max accuracy                0.733157     0.641849  129\n",
       "max precision               0.930121     0.722098  30\n",
       "max absolute_MCC            0.713051     0.283857  139\n",
       "max min_per_class_accuracy  0.738106     0.641016  127"
      ]
     },
     "metadata": {},
     "output_type": "display_data"
    },
    {
     "name": "stdout",
     "output_type": "stream",
     "text": [
      "\n",
      "ModelMetricsBinomial: drf\n",
      "** Reported on validation data. **\n",
      "\n",
      "MSE: 0.254127716656\n",
      "R^2: -0.0257521752313\n",
      "LogLoss: 0.872084716244\n",
      "AUC: 0.687798373157\n",
      "Gini: 0.375596746314\n",
      "\n",
      "Confusion Matrix (Act/Pred) for max f1 @ threshold = 0.577289113228:\n",
      "\n"
     ]
    },
    {
     "data": {
      "text/html": [
       "<div style=\"overflow:auto\"><table style=\"width:50%\"><tr><td></td>\n",
       "<td>NO</td>\n",
       "<td>YES</td>\n",
       "<td>Error</td>\n",
       "<td>Rate</td></tr>\n",
       "<tr><td>NO</td>\n",
       "<td>766.0</td>\n",
       "<td>1451.0</td>\n",
       "<td>0.6545</td>\n",
       "<td> (1451.0/2217.0)</td></tr>\n",
       "<tr><td>YES</td>\n",
       "<td>353.0</td>\n",
       "<td>2329.0</td>\n",
       "<td>0.1316</td>\n",
       "<td> (353.0/2682.0)</td></tr>\n",
       "<tr><td>Total</td>\n",
       "<td>1119.0</td>\n",
       "<td>3780.0</td>\n",
       "<td>0.3682</td>\n",
       "<td> (1804.0/4899.0)</td></tr></table></div>"
      ],
      "text/plain": [
       "       NO    YES    Error    Rate\n",
       "-----  ----  -----  -------  ---------------\n",
       "NO     766   1451   0.6545   (1451.0/2217.0)\n",
       "YES    353   2329   0.1316   (353.0/2682.0)\n",
       "Total  1119  3780   0.3682   (1804.0/4899.0)"
      ]
     },
     "metadata": {},
     "output_type": "display_data"
    },
    {
     "name": "stdout",
     "output_type": "stream",
     "text": [
      "\n",
      "Maximum Metrics:\n",
      "\n"
     ]
    },
    {
     "data": {
      "text/html": [
       "<div style=\"overflow:auto\"><table style=\"width:50%\"><tr><td>metric</td>\n",
       "<td>threshold</td>\n",
       "<td>value</td>\n",
       "<td>idx</td></tr>\n",
       "<tr><td>max f1</td>\n",
       "<td>0.577289113228</td>\n",
       "<td>0.720829464562</td>\n",
       "<td>261.0</td></tr>\n",
       "<tr><td>max f2</td>\n",
       "<td>0.212798484515</td>\n",
       "<td>0.858168300968</td>\n",
       "<td>387.0</td></tr>\n",
       "<tr><td>max f0point5</td>\n",
       "<td>0.737105141126</td>\n",
       "<td>0.675727706761</td>\n",
       "<td>170.0</td></tr>\n",
       "<tr><td>max accuracy</td>\n",
       "<td>0.691481481646</td>\n",
       "<td>0.647070830782</td>\n",
       "<td>198.0</td></tr>\n",
       "<tr><td>max precision</td>\n",
       "<td>0.988380726893</td>\n",
       "<td>0.817073170732</td>\n",
       "<td>5.0</td></tr>\n",
       "<tr><td>max absolute_MCC</td>\n",
       "<td>0.737105141126</td>\n",
       "<td>0.283137576894</td>\n",
       "<td>170.0</td></tr>\n",
       "<tr><td>max min_per_class_accuracy</td>\n",
       "<td>0.742747688203</td>\n",
       "<td>0.638249887235</td>\n",
       "<td>166.0</td></tr></table></div>"
      ],
      "text/plain": [
       "metric                      threshold    value     idx\n",
       "--------------------------  -----------  --------  -----\n",
       "max f1                      0.577289     0.720829  261\n",
       "max f2                      0.212798     0.858168  387\n",
       "max f0point5                0.737105     0.675728  170\n",
       "max accuracy                0.691481     0.647071  198\n",
       "max precision               0.988381     0.817073  5\n",
       "max absolute_MCC            0.737105     0.283138  170\n",
       "max min_per_class_accuracy  0.742748     0.63825   166"
      ]
     },
     "metadata": {},
     "output_type": "display_data"
    },
    {
     "name": "stdout",
     "output_type": "stream",
     "text": [
      "\n",
      "Scoring History:\n",
      "\n"
     ]
    },
    {
     "data": {
      "text/html": [
       "<div style=\"overflow:auto\"><table style=\"width:50%\"><tr><td></td>\n",
       "<td>timestamp</td>\n",
       "<td>duration</td>\n",
       "<td>number_of_trees</td>\n",
       "<td>training_MSE</td>\n",
       "<td>training_logloss</td>\n",
       "<td>training_AUC</td>\n",
       "<td>training_lift</td>\n",
       "<td>training_classification_error</td>\n",
       "<td>validation_MSE</td>\n",
       "<td>validation_logloss</td>\n",
       "<td>validation_AUC</td>\n",
       "<td>validation_lift</td>\n",
       "<td>validation_classification_error</td></tr>\n",
       "<tr><td></td>\n",
       "<td>2016-01-04 15:54:41</td>\n",
       "<td> 0.063 sec</td>\n",
       "<td>0.0</td>\n",
       "<td>nan</td>\n",
       "<td>nan</td>\n",
       "<td>nan</td>\n",
       "<td>nan</td>\n",
       "<td>nan</td>\n",
       "<td>0.452541334966</td>\n",
       "<td>15.6302239779</td>\n",
       "<td>0.5</td>\n",
       "<td>1.0</td>\n",
       "<td>0.452541334966</td></tr>\n",
       "<tr><td></td>\n",
       "<td>2016-01-04 15:54:42</td>\n",
       "<td> 0.242 sec</td>\n",
       "<td>1.0</td>\n",
       "<td>0.334054136117</td>\n",
       "<td>8.29561873821</td>\n",
       "<td>0.621777305893</td>\n",
       "<td>1.24810181283</td>\n",
       "<td>0.403872927478</td>\n",
       "<td>0.335553161342</td>\n",
       "<td>8.43852656591</td>\n",
       "<td>0.592056433289</td>\n",
       "<td>1.11954246951</td>\n",
       "<td>0.452541334966</td></tr>\n",
       "<tr><td></td>\n",
       "<td>2016-01-04 15:54:42</td>\n",
       "<td> 0.374 sec</td>\n",
       "<td>2.0</td>\n",
       "<td>0.329204844721</td>\n",
       "<td>7.4881201923</td>\n",
       "<td>0.623969922693</td>\n",
       "<td>1.43132352756</td>\n",
       "<td>0.410170022722</td>\n",
       "<td>0.296698239981</td>\n",
       "<td>4.23523519994</td>\n",
       "<td>0.618935959236</td>\n",
       "<td>1.1959566702</td>\n",
       "<td>0.452541334966</td></tr>\n",
       "<tr><td></td>\n",
       "<td>2016-01-04 15:54:42</td>\n",
       "<td> 0.580 sec</td>\n",
       "<td>3.0</td>\n",
       "<td>0.322491276019</td>\n",
       "<td>6.45405905992</td>\n",
       "<td>0.628486213636</td>\n",
       "<td>1.57195395368</td>\n",
       "<td>0.419713732108</td>\n",
       "<td>0.284243482777</td>\n",
       "<td>2.56285262364</td>\n",
       "<td>0.635611640375</td>\n",
       "<td>1.27032283158</td>\n",
       "<td>0.452541334966</td></tr>\n",
       "<tr><td></td>\n",
       "<td>2016-01-04 15:54:42</td>\n",
       "<td> 0.761 sec</td>\n",
       "<td>4.0</td>\n",
       "<td>0.312303201114</td>\n",
       "<td>5.6474712674</td>\n",
       "<td>0.638142109165</td>\n",
       "<td>1.67275503821</td>\n",
       "<td>0.41144762434</td>\n",
       "<td>0.272870866516</td>\n",
       "<td>1.85905203012</td>\n",
       "<td>0.657432298115</td>\n",
       "<td>1.34133128078</td>\n",
       "<td>0.418860992039</td></tr>\n",
       "<tr><td></td>\n",
       "<td>2016-01-04 15:54:42</td>\n",
       "<td> 1.037 sec</td>\n",
       "<td>5.0</td>\n",
       "<td>0.305894044728</td>\n",
       "<td>5.01216578603</td>\n",
       "<td>0.644220081017</td>\n",
       "<td>1.71686331521</td>\n",
       "<td>0.416267693589</td>\n",
       "<td>0.267653747573</td>\n",
       "<td>1.50728193056</td>\n",
       "<td>0.667973765194</td>\n",
       "<td>1.38931625147</td>\n",
       "<td>0.423964074301</td></tr>\n",
       "<tr><td></td>\n",
       "<td>2016-01-04 15:54:43</td>\n",
       "<td> 1.327 sec</td>\n",
       "<td>6.0</td>\n",
       "<td>0.296566385968</td>\n",
       "<td>4.19588770948</td>\n",
       "<td>0.654311532692</td>\n",
       "<td>1.75718576035</td>\n",
       "<td>0.410640315416</td>\n",
       "<td>0.262986728055</td>\n",
       "<td>1.25847151611</td>\n",
       "<td>0.67206912755</td>\n",
       "<td>1.39117335383</td>\n",
       "<td>0.403959991835</td></tr>\n",
       "<tr><td></td>\n",
       "<td>2016-01-04 15:54:43</td>\n",
       "<td> 1.606 sec</td>\n",
       "<td>7.0</td>\n",
       "<td>0.287247458564</td>\n",
       "<td>3.48660603544</td>\n",
       "<td>0.664435756941</td>\n",
       "<td>1.7922986245</td>\n",
       "<td>0.408450019448</td>\n",
       "<td>0.259072765677</td>\n",
       "<td>1.09381763644</td>\n",
       "<td>0.67734545309</td>\n",
       "<td>1.41985317617</td>\n",
       "<td>0.396611553378</td></tr>\n",
       "<tr><td></td>\n",
       "<td>2016-01-04 15:54:43</td>\n",
       "<td> 1.906 sec</td>\n",
       "<td>8.0</td>\n",
       "<td>0.281141474909</td>\n",
       "<td>2.92455744939</td>\n",
       "<td>0.67130371652</td>\n",
       "<td>1.80905652337</td>\n",
       "<td>0.402061361457</td>\n",
       "<td>0.257197131212</td>\n",
       "<td>0.978008403817</td>\n",
       "<td>0.679100163909</td>\n",
       "<td>1.41563199105</td>\n",
       "<td>0.396815676669</td></tr>\n",
       "<tr><td></td>\n",
       "<td>2016-01-04 15:54:43</td>\n",
       "<td> 2.186 sec</td>\n",
       "<td>9.0</td>\n",
       "<td>0.277435188058</td>\n",
       "<td>2.55051240494</td>\n",
       "<td>0.676343341539</td>\n",
       "<td>1.81021229918</td>\n",
       "<td>0.41553075279</td>\n",
       "<td>0.254653483145</td>\n",
       "<td>0.887390731654</td>\n",
       "<td>0.684879853562</td>\n",
       "<td>1.46754240043</td>\n",
       "<td>0.376811594203</td></tr>\n",
       "<tr><td></td>\n",
       "<td>2016-01-04 15:54:44</td>\n",
       "<td> 2.477 sec</td>\n",
       "<td>10.0</td>\n",
       "<td>0.272606522488</td>\n",
       "<td>2.18428695728</td>\n",
       "<td>0.685233939519</td>\n",
       "<td>1.81417003042</td>\n",
       "<td>0.40715735801</td>\n",
       "<td>0.254127716656</td>\n",
       "<td>0.872084716244</td>\n",
       "<td>0.687798373157</td>\n",
       "<td>1.4505527043</td>\n",
       "<td>0.368238416003</td></tr></table></div>"
      ],
      "text/plain": [
       "    timestamp            duration    number_of_trees    training_MSE    training_logloss    training_AUC    training_lift    training_classification_error    validation_MSE    validation_logloss    validation_AUC    validation_lift    validation_classification_error\n",
       "--  -------------------  ----------  -----------------  --------------  ------------------  --------------  ---------------  -------------------------------  ----------------  --------------------  ----------------  -----------------  ---------------------------------\n",
       "    2016-01-04 15:54:41  0.063 sec   0                  nan             nan                 nan             nan              nan                              0.452541          15.6302               0.5               1                  0.452541\n",
       "    2016-01-04 15:54:42  0.242 sec   1                  0.334054        8.29562             0.621777        1.2481           0.403873                         0.335553          8.43853               0.592056          1.11954            0.452541\n",
       "    2016-01-04 15:54:42  0.374 sec   2                  0.329205        7.48812             0.62397         1.43132          0.41017                          0.296698          4.23524               0.618936          1.19596            0.452541\n",
       "    2016-01-04 15:54:42  0.580 sec   3                  0.322491        6.45406             0.628486        1.57195          0.419714                         0.284243          2.56285               0.635612          1.27032            0.452541\n",
       "    2016-01-04 15:54:42  0.761 sec   4                  0.312303        5.64747             0.638142        1.67276          0.411448                         0.272871          1.85905               0.657432          1.34133            0.418861\n",
       "    2016-01-04 15:54:42  1.037 sec   5                  0.305894        5.01217             0.64422         1.71686          0.416268                         0.267654          1.50728               0.667974          1.38932            0.423964\n",
       "    2016-01-04 15:54:43  1.327 sec   6                  0.296566        4.19589             0.654312        1.75719          0.41064                          0.262987          1.25847               0.672069          1.39117            0.40396\n",
       "    2016-01-04 15:54:43  1.606 sec   7                  0.287247        3.48661             0.664436        1.7923           0.40845                          0.259073          1.09382               0.677345          1.41985            0.396612\n",
       "    2016-01-04 15:54:43  1.906 sec   8                  0.281141        2.92456             0.671304        1.80906          0.402061                         0.257197          0.978008              0.6791            1.41563            0.396816\n",
       "    2016-01-04 15:54:43  2.186 sec   9                  0.277435        2.55051             0.676343        1.81021          0.415531                         0.254653          0.887391              0.68488           1.46754            0.376812\n",
       "    2016-01-04 15:54:44  2.477 sec   10                 0.272607        2.18429             0.685234        1.81417          0.407157                         0.254128          0.872085              0.687798          1.45055            0.368238"
      ]
     },
     "metadata": {},
     "output_type": "display_data"
    },
    {
     "name": "stdout",
     "output_type": "stream",
     "text": [
      "\n",
      "Variable Importances:\n",
      "\n"
     ]
    },
    {
     "data": {
      "text/html": [
       "<div style=\"overflow:auto\"><table style=\"width:50%\"><tr><td>variable</td>\n",
       "<td>relative_importance</td>\n",
       "<td>scaled_importance</td>\n",
       "<td>percentage</td></tr>\n",
       "<tr><td>fDayofMonth</td>\n",
       "<td>6770.19189453</td>\n",
       "<td>1.0</td>\n",
       "<td>0.284315363885</td></tr>\n",
       "<tr><td>Origin</td>\n",
       "<td>6735.54638672</td>\n",
       "<td>0.994882640204</td>\n",
       "<td>0.282860419872</td></tr>\n",
       "<tr><td>Dest</td>\n",
       "<td>4879.67626953</td>\n",
       "<td>0.720758930552</td>\n",
       "<td>0.204922837613</td></tr>\n",
       "<tr><td>fDayOfWeek</td>\n",
       "<td>1913.60791016</td>\n",
       "<td>0.282651945464</td>\n",
       "<td>0.0803622907274</td></tr>\n",
       "<tr><td>Distance</td>\n",
       "<td>1779.85339355</td>\n",
       "<td>0.262895560611</td>\n",
       "<td>0.0747452469787</td></tr>\n",
       "<tr><td>UniqueCarrier</td>\n",
       "<td>1597.15039062</td>\n",
       "<td>0.235909175915</td>\n",
       "<td>0.067072603194</td></tr>\n",
       "<tr><td>fMonth</td>\n",
       "<td>136.235610962</td>\n",
       "<td>0.0201228581234</td>\n",
       "<td>0.00572123772976</td></tr></table></div>"
      ],
      "text/plain": [
       "variable       relative_importance    scaled_importance    percentage\n",
       "-------------  ---------------------  -------------------  ------------\n",
       "fDayofMonth    6770.19                1                    0.284315\n",
       "Origin         6735.55                0.994883             0.28286\n",
       "Dest           4879.68                0.720759             0.204923\n",
       "fDayOfWeek     1913.61                0.282652             0.0803623\n",
       "Distance       1779.85                0.262896             0.0747452\n",
       "UniqueCarrier  1597.15                0.235909             0.0670726\n",
       "fMonth         136.236                0.0201229            0.00572124"
      ]
     },
     "metadata": {},
     "output_type": "display_data"
    }
   ],
   "source": [
    "rf_bal = h2o.random_forest(x=air_train[myX], y=air_train[myY], validation_x= air_valid[myX],\n",
    "                               validation_y=air_valid[myY], seed=12, ntrees=10, max_depth=20, balance_classes=True)\n",
    "rf_bal.show()"
   ]
  },
  {
   "cell_type": "code",
   "execution_count": 9,
   "metadata": {
    "collapsed": false
   },
   "outputs": [
    {
     "name": "stdout",
     "output_type": "stream",
     "text": [
      "\n",
      "Parse Progress: [##################################################] 100%\n"
     ]
    }
   ],
   "source": [
    "air_test = h2o.import_frame(path=h2o.locate(\"smalldata/airlines/AirlinesTest.csv.zip\"))"
   ]
  },
  {
   "cell_type": "code",
   "execution_count": 10,
   "metadata": {
    "collapsed": true
   },
   "outputs": [],
   "source": [
    "def model(model_object, test):\n",
    "        #predicting on test file\n",
    "        pred = model_object.predict(test)\n",
    "        pred.head()\n",
    "        #Building confusion matrix for test set\n",
    "        perf = model_object.model_performance(test)\n",
    "        perf.show()\n",
    "        print(perf.confusion_matrix())\n",
    "        print(perf.precision())\n",
    "        print(perf.accuracy())\n",
    "        print(perf.auc())"
   ]
  },
  {
   "cell_type": "code",
   "execution_count": 11,
   "metadata": {
    "collapsed": false
   },
   "outputs": [
    {
     "name": "stdout",
     "output_type": "stream",
     "text": [
      "\n",
      "\n",
      "WITHOUT CLASS BALANCING\n",
      "\n",
      "\n",
      "ModelMetricsBinomial: drf\n",
      "** Reported on test data. **\n",
      "\n",
      "MSE: 0.247491185852\n",
      "R^2: 0.000922748614092\n",
      "LogLoss: 0.836101688463\n",
      "AUC: 0.695330399619\n",
      "Gini: 0.390660799238\n",
      "\n",
      "Confusion Matrix (Act/Pred) for max f1 @ threshold = 0.535787901282:\n",
      "\n"
     ]
    },
    {
     "data": {
      "text/html": [
       "<div style=\"overflow:auto\"><table style=\"width:50%\"><tr><td></td>\n",
       "<td>NO</td>\n",
       "<td>YES</td>\n",
       "<td>Error</td>\n",
       "<td>Rate</td></tr>\n",
       "<tr><td>NO</td>\n",
       "<td>378.0</td>\n",
       "<td>839.0</td>\n",
       "<td>0.6894</td>\n",
       "<td> (839.0/1217.0)</td></tr>\n",
       "<tr><td>YES</td>\n",
       "<td>145.0</td>\n",
       "<td>1329.0</td>\n",
       "<td>0.0984</td>\n",
       "<td> (145.0/1474.0)</td></tr>\n",
       "<tr><td>Total</td>\n",
       "<td>523.0</td>\n",
       "<td>2168.0</td>\n",
       "<td>0.3657</td>\n",
       "<td> (984.0/2691.0)</td></tr></table></div>"
      ],
      "text/plain": [
       "       NO    YES    Error    Rate\n",
       "-----  ----  -----  -------  --------------\n",
       "NO     378   839    0.6894   (839.0/1217.0)\n",
       "YES    145   1329   0.0984   (145.0/1474.0)\n",
       "Total  523   2168   0.3657   (984.0/2691.0)"
      ]
     },
     "metadata": {},
     "output_type": "display_data"
    },
    {
     "name": "stdout",
     "output_type": "stream",
     "text": [
      "\n",
      "Maximum Metrics:\n",
      "\n"
     ]
    },
    {
     "data": {
      "text/html": [
       "<div style=\"overflow:auto\"><table style=\"width:50%\"><tr><td>metric</td>\n",
       "<td>threshold</td>\n",
       "<td>value</td>\n",
       "<td>idx</td></tr>\n",
       "<tr><td>max f1</td>\n",
       "<td>0.535787901282</td>\n",
       "<td>0.72981878089</td>\n",
       "<td>272.0</td></tr>\n",
       "<tr><td>max f2</td>\n",
       "<td>0.06721611619</td>\n",
       "<td>0.858374097368</td>\n",
       "<td>398.0</td></tr>\n",
       "<tr><td>max f0point5</td>\n",
       "<td>0.682978350421</td>\n",
       "<td>0.678175092478</td>\n",
       "<td>196.0</td></tr>\n",
       "<tr><td>max accuracy</td>\n",
       "<td>0.63632190939</td>\n",
       "<td>0.656633221851</td>\n",
       "<td>222.0</td></tr>\n",
       "<tr><td>max precision</td>\n",
       "<td>0.98945906423</td>\n",
       "<td>0.873684210526</td>\n",
       "<td>5.0</td></tr>\n",
       "<tr><td>max absolute_MCC</td>\n",
       "<td>0.634314366989</td>\n",
       "<td>0.300838947152</td>\n",
       "<td>223.0</td></tr>\n",
       "<tr><td>max min_per_class_accuracy</td>\n",
       "<td>0.740017928928</td>\n",
       "<td>0.636363636364</td>\n",
       "<td>161.0</td></tr></table></div>"
      ],
      "text/plain": [
       "metric                      threshold    value     idx\n",
       "--------------------------  -----------  --------  -----\n",
       "max f1                      0.535788     0.729819  272\n",
       "max f2                      0.0672161    0.858374  398\n",
       "max f0point5                0.682978     0.678175  196\n",
       "max accuracy                0.636322     0.656633  222\n",
       "max precision               0.989459     0.873684  5\n",
       "max absolute_MCC            0.634314     0.300839  223\n",
       "max min_per_class_accuracy  0.740018     0.636364  161"
      ]
     },
     "metadata": {},
     "output_type": "display_data"
    },
    {
     "name": "stdout",
     "output_type": "stream",
     "text": [
      "\n",
      "Confusion Matrix (Act/Pred) for max f1 @ threshold = 0.535787901282:\n",
      "\n"
     ]
    },
    {
     "data": {
      "text/html": [
       "<div style=\"overflow:auto\"><table style=\"width:50%\"><tr><td></td>\n",
       "<td>NO</td>\n",
       "<td>YES</td>\n",
       "<td>Error</td>\n",
       "<td>Rate</td></tr>\n",
       "<tr><td>NO</td>\n",
       "<td>378.0</td>\n",
       "<td>839.0</td>\n",
       "<td>0.6894</td>\n",
       "<td> (839.0/1217.0)</td></tr>\n",
       "<tr><td>YES</td>\n",
       "<td>145.0</td>\n",
       "<td>1329.0</td>\n",
       "<td>0.0984</td>\n",
       "<td> (145.0/1474.0)</td></tr>\n",
       "<tr><td>Total</td>\n",
       "<td>523.0</td>\n",
       "<td>2168.0</td>\n",
       "<td>0.3657</td>\n",
       "<td> (984.0/2691.0)</td></tr></table></div>"
      ],
      "text/plain": [
       "       NO    YES    Error    Rate\n",
       "-----  ----  -----  -------  --------------\n",
       "NO     378   839    0.6894   (839.0/1217.0)\n",
       "YES    145   1329   0.0984   (145.0/1474.0)\n",
       "Total  523   2168   0.3657   (984.0/2691.0)"
      ]
     },
     "metadata": {},
     "output_type": "display_data"
    },
    {
     "name": "stdout",
     "output_type": "stream",
     "text": [
      "\n",
      "[[0.9894590642303229, 0.8736842105263158]]\n",
      "[[0.63632190939039, 0.6566332218506131]]\n",
      "0.695330399619\n"
     ]
    }
   ],
   "source": [
    "print(\"\\n\\nWITHOUT CLASS BALANCING\\n\")\n",
    "model(rf_no_bal, air_test)"
   ]
  },
  {
   "cell_type": "code",
   "execution_count": 12,
   "metadata": {
    "collapsed": false
   },
   "outputs": [
    {
     "name": "stdout",
     "output_type": "stream",
     "text": [
      "\n",
      "\n",
      "WITH CLASS BALANCING\n",
      "\n",
      "\n",
      "ModelMetricsBinomial: drf\n",
      "** Reported on test data. **\n",
      "\n",
      "MSE: 0.251051231376\n",
      "R^2: -0.0134485126679\n",
      "LogLoss: 0.866609608716\n",
      "AUC: 0.695827930639\n",
      "Gini: 0.391655861278\n",
      "\n",
      "Confusion Matrix (Act/Pred) for max f1 @ threshold = 0.582518483731:\n",
      "\n"
     ]
    },
    {
     "data": {
      "text/html": [
       "<div style=\"overflow:auto\"><table style=\"width:50%\"><tr><td></td>\n",
       "<td>NO</td>\n",
       "<td>YES</td>\n",
       "<td>Error</td>\n",
       "<td>Rate</td></tr>\n",
       "<tr><td>NO</td>\n",
       "<td>426.0</td>\n",
       "<td>791.0</td>\n",
       "<td>0.65</td>\n",
       "<td> (791.0/1217.0)</td></tr>\n",
       "<tr><td>YES</td>\n",
       "<td>168.0</td>\n",
       "<td>1306.0</td>\n",
       "<td>0.114</td>\n",
       "<td> (168.0/1474.0)</td></tr>\n",
       "<tr><td>Total</td>\n",
       "<td>594.0</td>\n",
       "<td>2097.0</td>\n",
       "<td>0.3564</td>\n",
       "<td> (959.0/2691.0)</td></tr></table></div>"
      ],
      "text/plain": [
       "       NO    YES    Error    Rate\n",
       "-----  ----  -----  -------  --------------\n",
       "NO     426   791    0.65     (791.0/1217.0)\n",
       "YES    168   1306   0.114    (168.0/1474.0)\n",
       "Total  594   2097   0.3564   (959.0/2691.0)"
      ]
     },
     "metadata": {},
     "output_type": "display_data"
    },
    {
     "name": "stdout",
     "output_type": "stream",
     "text": [
      "\n",
      "Maximum Metrics:\n",
      "\n"
     ]
    },
    {
     "data": {
      "text/html": [
       "<div style=\"overflow:auto\"><table style=\"width:50%\"><tr><td>metric</td>\n",
       "<td>threshold</td>\n",
       "<td>value</td>\n",
       "<td>idx</td></tr>\n",
       "<tr><td>max f1</td>\n",
       "<td>0.582518483731</td>\n",
       "<td>0.731447773733</td>\n",
       "<td>257.0</td></tr>\n",
       "<tr><td>max f2</td>\n",
       "<td>0.247859724105</td>\n",
       "<td>0.859511853322</td>\n",
       "<td>385.0</td></tr>\n",
       "<tr><td>max f0point5</td>\n",
       "<td>0.739770781677</td>\n",
       "<td>0.687239944521</td>\n",
       "<td>165.0</td></tr>\n",
       "<tr><td>max accuracy</td>\n",
       "<td>0.739770781677</td>\n",
       "<td>0.655890003716</td>\n",
       "<td>165.0</td></tr>\n",
       "<tr><td>max precision</td>\n",
       "<td>0.988258422664</td>\n",
       "<td>0.846153846154</td>\n",
       "<td>5.0</td></tr>\n",
       "<tr><td>max absolute_MCC</td>\n",
       "<td>0.739770781677</td>\n",
       "<td>0.307567137123</td>\n",
       "<td>165.0</td></tr>\n",
       "<tr><td>max min_per_class_accuracy</td>\n",
       "<td>0.74877090885</td>\n",
       "<td>0.649137222679</td>\n",
       "<td>160.0</td></tr></table></div>"
      ],
      "text/plain": [
       "metric                      threshold    value     idx\n",
       "--------------------------  -----------  --------  -----\n",
       "max f1                      0.582518     0.731448  257\n",
       "max f2                      0.24786      0.859512  385\n",
       "max f0point5                0.739771     0.68724   165\n",
       "max accuracy                0.739771     0.65589   165\n",
       "max precision               0.988258     0.846154  5\n",
       "max absolute_MCC            0.739771     0.307567  165\n",
       "max min_per_class_accuracy  0.748771     0.649137  160"
      ]
     },
     "metadata": {},
     "output_type": "display_data"
    },
    {
     "name": "stdout",
     "output_type": "stream",
     "text": [
      "\n",
      "Confusion Matrix (Act/Pred) for max f1 @ threshold = 0.582518483731:\n",
      "\n"
     ]
    },
    {
     "data": {
      "text/html": [
       "<div style=\"overflow:auto\"><table style=\"width:50%\"><tr><td></td>\n",
       "<td>NO</td>\n",
       "<td>YES</td>\n",
       "<td>Error</td>\n",
       "<td>Rate</td></tr>\n",
       "<tr><td>NO</td>\n",
       "<td>426.0</td>\n",
       "<td>791.0</td>\n",
       "<td>0.65</td>\n",
       "<td> (791.0/1217.0)</td></tr>\n",
       "<tr><td>YES</td>\n",
       "<td>168.0</td>\n",
       "<td>1306.0</td>\n",
       "<td>0.114</td>\n",
       "<td> (168.0/1474.0)</td></tr>\n",
       "<tr><td>Total</td>\n",
       "<td>594.0</td>\n",
       "<td>2097.0</td>\n",
       "<td>0.3564</td>\n",
       "<td> (959.0/2691.0)</td></tr></table></div>"
      ],
      "text/plain": [
       "       NO    YES    Error    Rate\n",
       "-----  ----  -----  -------  --------------\n",
       "NO     426   791    0.65     (791.0/1217.0)\n",
       "YES    168   1306   0.114    (168.0/1474.0)\n",
       "Total  594   2097   0.3564   (959.0/2691.0)"
      ]
     },
     "metadata": {},
     "output_type": "display_data"
    },
    {
     "name": "stdout",
     "output_type": "stream",
     "text": [
      "\n",
      "[[0.988258422664267, 0.8461538461538461]]\n",
      "[[0.7397707816774967, 0.6558900037160906]]\n",
      "0.695827930639\n"
     ]
    }
   ],
   "source": [
    "print(\"\\n\\nWITH CLASS BALANCING\\n\")\n",
    "model(rf_bal, air_test)"
   ]
  }
 ],
 "metadata": {
  "kernelspec": {
   "display_name": "Python 2",
   "language": "python",
   "name": "python2"
  },
  "language_info": {
   "codemirror_mode": {
    "name": "ipython",
    "version": 2
   },
   "file_extension": ".py",
   "mimetype": "text/x-python",
   "name": "python",
   "nbconvert_exporter": "python",
   "pygments_lexer": "ipython2",
   "version": "2.7.10"
  }
 },
 "nbformat": 4,
 "nbformat_minor": 0
}
